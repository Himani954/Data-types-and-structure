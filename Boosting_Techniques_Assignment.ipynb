{
  "nbformat": 4,
  "nbformat_minor": 0,
  "metadata": {
    "colab": {
      "provenance": [],
      "authorship_tag": "ABX9TyMys3zwP80T9yh0gMb555zA",
      "include_colab_link": true
    },
    "kernelspec": {
      "name": "python3",
      "display_name": "Python 3"
    },
    "language_info": {
      "name": "python"
    }
  },
  "cells": [
    {
      "cell_type": "markdown",
      "metadata": {
        "id": "view-in-github",
        "colab_type": "text"
      },
      "source": [
        "<a href=\"https://colab.research.google.com/github/Himani954/Data-types-and-structure/blob/main/Boosting_Techniques_Assignment.ipynb\" target=\"_parent\"><img src=\"https://colab.research.google.com/assets/colab-badge.svg\" alt=\"Open In Colab\"/></a>"
      ]
    },
    {
      "cell_type": "markdown",
      "source": [
        "# **Question 1: What is Boosting in Machine Learning? Explain how it improves weak learners.**\n"
      ],
      "metadata": {
        "id": "fNF_SJWS_gIZ"
      }
    },
    {
      "cell_type": "markdown",
      "source": [
        "# **Answer1 :**\n",
        "# Boosting in Machine Learning\n",
        "Boosting is an ensemble learning technique in machine learning that combines multiple weak learners to create a strong predictive model. A weak learner is a model that performs slightly better than random guessing.\n",
        "\n",
        "How Boosting Improves Weak Learners\n",
        "1. Sequential Training : Boosting trains models sequentially. Each new model focuses on the mistakes made by the previous models.\n",
        "2. Weighted Combination : The predictions of these weak learners are combined, often through weighted voting, to produce a final prediction.\n",
        "3. Focus on Errors : By focusing on the errors or residuals of previous models, boosting improves the overall performance of the ensemble.\n",
        "\n",
        "Key Aspects of Boosting\n",
        "- Boosting reduces bias and can lead to improved accuracy by combining the predictions of multiple weak models.\n",
        "- Popular boosting algorithms include AdaBoost, Gradient Boosting, and XGBoost.\n",
        "- Boosting can handle complex data and is flexible with different base learners."
      ],
      "metadata": {
        "id": "uZUCGyAp_t8j"
      }
    },
    {
      "cell_type": "markdown",
      "source": [
        "# **Question 2: What is the difference between AdaBoost and Gradient Boosting in terms of how models are trained?**\n"
      ],
      "metadata": {
        "id": "LNdgAO0GBdAm"
      }
    },
    {
      "cell_type": "markdown",
      "source": [
        "# **Answer2 :**\n",
        "# Difference in Model Training\n",
        "AdaBoost and Gradient Boosting are boosting techniques in machine learning with distinct approaches to training models:\n",
        "\n",
        "1. AdaBoost (Adaptive Boosting) :\n",
        "    - In AdaBoost, the training data points are reweighted after each iteration. Misclassified points get higher weights so that the next model focuses more on these points.\n",
        "2. Gradient Boosting :\n",
        "    - Gradient Boosting trains models to fit the residuals (for regression) or pseudo-residuals (for classification or other loss functions) of the previous ensemble. It uses gradient descent to minimize the loss.\n",
        "\n",
        "Key Differences\n",
        "- Weight Adjustment vs. Residual Fitting : AdaBoost adjusts weights of data points for subsequent models. Gradient Boosting fits new models to the residuals or gradients of the loss.\n",
        "- Approach to Minimizing Loss : Gradient Boosting is more general in minimizing arbitrary loss functions via gradient descent."
      ],
      "metadata": {
        "id": "rcWPbJQoBq26"
      }
    },
    {
      "cell_type": "markdown",
      "source": [
        "# **Question 3: How does regularization help in XGBoost?**"
      ],
      "metadata": {
        "id": "-x7ZvYVEDX8y"
      }
    },
    {
      "cell_type": "markdown",
      "source": [
        "# **Answer3 :**\n",
        "Regularization in XGBoost\n",
        "XGBoost (Extreme Gradient Boosting) is an optimized implementation of gradient boosting that includes several features to prevent overfitting and improve model generalization. Regularization is a key aspect of how XGBoost helps in controlling model complexity and preventing overfitting.\n",
        "\n",
        "How Regularization Helps in XGBoost\n",
        "1. Control Model Complexity : XGBoost includes regularization terms in its objective function to penalize complex models. This helps in preventing overfitting by discouraging overly complex trees.\n",
        "2. Parameters for Regularization : XGBoost provides parameters like gamma, lambda, and alpha for regularization.\n",
        "    - gamma : Minimum loss reduction required to make a further partition on a leaf node. Higher values lead to more conservative models.\n",
        "    - lambda (L2 regularization) : Adds a penalty term for the sum of squares of weights.\n",
        "    - alpha (L1 regularization) : Adds a penalty on the sum of absolute values of weights.\n",
        "3. Preventing Overfitting : By tuning these regularization parameters, you can control the complexity of the model and improve its generalization ability on unseen data.\n"
      ],
      "metadata": {
        "id": "DomHYXm-EGMv"
      }
    },
    {
      "cell_type": "markdown",
      "source": [
        "# **Question 4: Why is CatBoost considered efficient for handling categorical data?**"
      ],
      "metadata": {
        "id": "OvJzxZv5FkWv"
      }
    },
    {
      "cell_type": "markdown",
      "source": [
        "# **Answer 4:**\n",
        "# CatBoost and Categorical Data\n",
        "CatBoost is a gradient boosting library developed by Yandex that is considered efficient for handling categorical data.\n",
        "\n",
        "Why CatBoost is Efficient for Categorical Data\n",
        "1. Native Handling of Categorical Features : CatBoost can handle categorical features natively without needing one-hot encoding or other preprocessing techniques that might lead to high-dimensional data or loss of information.\n",
        "2. Ordered Boosting : CatBoost uses a technique called \"ordered boosting\" which helps in efficiently handling categorical features by considering the order of the categories in a way that reduces overfitting.\n",
        "3. Reducing Overfitting with Categorical Features : CatBoost implements strategies to handle categorical data in a way that reduces the risk of overfitting compared to traditional methods of encoding categorical variables.\n",
        "\n",
        "Advantages for Categorical Data\n",
        "- Ease of Use : CatBoost allows you to directly input categorical features without extensive preprocessing.\n",
        "- Performance : CatBoost's handling of categorical data can lead to good performance in terms of prediction accuracy."
      ],
      "metadata": {
        "id": "8hirBihrFwC2"
      }
    },
    {
      "cell_type": "markdown",
      "source": [
        "# **Question 5: What are some real-world applications where boosting techniques are preferred over bagging methods?**"
      ],
      "metadata": {
        "id": "E1lpCfAvGp0G"
      }
    },
    {
      "cell_type": "markdown",
      "source": [
        "# **Answer5 :**\n",
        "Boosting techniques are preferred over bagging methods in several real-world applications due to their ability to reduce bias and improve accuracy by sequentially correcting errors. Here are some areas where boosting shines:\n",
        "\n",
        "Applications Favoring Boosting\n",
        "- Ad Click Prediction : Boosting techniques like XGBoost are commonly used for tasks like ad click prediction due to their ability to handle complex patterns and improve accuracy.\n",
        "- Fraud Detection : Boosting algorithms like Gradient Boosting are highly effective in fraud detection because they sequentially improve on weak models, learning from previous mistakes to handle complex, imbalanced datasets.\n",
        "- Customer Segmentation and Classification Tasks : Boosting is particularly effective when you need to reduce bias and improve the accuracy of weak learners in tasks like customer segmentation.\n",
        "- Image Classification : Boosting can lead to higher accuracy than bagging when working with weak learners like shallow decision trees in complex tasks ¹ ².\n",
        "\n",
        "Why Choose Boosting?\n",
        "- Reducing Bias : Boosting focuses on reducing bias by sequentially correcting model errors.\n",
        "- Handling Complex Patterns : Boosting is effective on complex datasets where simple models might underperform.\n",
        "- Improving Accuracy : Boosting tends to produce better results for complex, hard-to-predict problems."
      ],
      "metadata": {
        "id": "Cz_3lr2aGzxi"
      }
    },
    {
      "cell_type": "markdown",
      "source": [
        "# **Question 6: Write a Python program to:**\n",
        "# **● Train an AdaBoost Classifier on the Breast Cancer dataset**\n",
        "# **● Print the model accuracy**"
      ],
      "metadata": {
        "id": "kuG2hQjDJWmt"
      }
    },
    {
      "cell_type": "code",
      "source": [
        "from sklearn.datasets import load_breast_cancer\n",
        "from sklearn.ensemble import AdaBoostClassifier\n",
        "from sklearn.model_selection import train_test_split\n",
        "from sklearn.metrics import accuracy_score\n",
        "\n",
        "# Load the Breast Cancer dataset\n",
        "data = load_breast_cancer()\n",
        "X, y = data.data, data.target\n",
        "\n",
        "# Split into training and testing sets\n",
        "X_train, X_test, y_train, y_test = train_test_split(X, y, test_size=0.2, random_state=42)\n",
        "\n",
        "# Initialize AdaBoost classifier\n",
        "model = AdaBoostClassifier(n_estimators=100, random_state=42)\n",
        "\n",
        "# Train the model\n",
        "model.fit(X_train, y_train)\n",
        "\n",
        "# Make predictions\n",
        "y_pred = model.predict(X_test)\n",
        "\n",
        "# Evaluate accuracy\n",
        "accuracy = accuracy_score(y_test, y_pred)\n",
        "print(f\"Model Accuracy: {accuracy:.4f}\")"
      ],
      "metadata": {
        "colab": {
          "base_uri": "https://localhost:8080/"
        },
        "id": "Xfn6TueYJl4m",
        "outputId": "60dd66d4-a6fd-4083-b29f-8634e75b684a"
      },
      "execution_count": null,
      "outputs": [
        {
          "output_type": "stream",
          "name": "stdout",
          "text": [
            "Model Accuracy: 0.9737\n"
          ]
        }
      ]
    },
    {
      "cell_type": "markdown",
      "source": [
        "# **Question 7: Write a Python program to:**\n",
        "# **● Train a Gradient Boosting Regressor on the California Housing dataset**\n",
        "# **● Evaluate performance using R-squared score**"
      ],
      "metadata": {
        "id": "PYq1iqTjKBtA"
      }
    },
    {
      "cell_type": "code",
      "source": [
        "from sklearn.datasets import fetch_california_housing\n",
        "from sklearn.ensemble import GradientBoostingRegressor\n",
        "from sklearn.model_selection import train_test_split\n",
        "from sklearn.metrics import r2_score\n",
        "\n",
        "# Load California Housing dataset\n",
        "data = fetch_california_housing()\n",
        "X, y = data.data, data.target\n",
        "\n",
        "# Split into train and test sets\n",
        "X_train, X_test, y_train, y_test = train_test_split(X, y, test_size=0.2, random_state=42)\n",
        "\n",
        "# Initialize Gradient Boosting Regressor\n",
        "model = GradientBoostingRegressor(n_estimators=200, learning_rate=0.1, max_depth=3, random_state=42)\n",
        "\n",
        "# Train the model\n",
        "model.fit(X_train, y_train)\n",
        "\n",
        "# Predict on test set\n",
        "y_pred = model.predict(X_test)\n",
        "\n",
        "# Evaluate performance using R² score\n",
        "r2 = r2_score(y_test, y_pred)\n",
        "print(f\"R² Score: {r2:.4f}\")"
      ],
      "metadata": {
        "colab": {
          "base_uri": "https://localhost:8080/"
        },
        "id": "YDB50Fm4Kkbz",
        "outputId": "2dfea22b-20bf-4787-f689-58dc57dc20ff"
      },
      "execution_count": null,
      "outputs": [
        {
          "output_type": "stream",
          "name": "stdout",
          "text": [
            "R² Score: 0.8004\n"
          ]
        }
      ]
    },
    {
      "cell_type": "markdown",
      "source": [
        "# **Question 8: Write a Python program to:**\n",
        "# **● Train an XGBoost Classifier on the Breast Cancer dataset**\n",
        "# **● Tune the learning rate using GridSearchCV**\n",
        "# **● Print the best parameters and accuracy**"
      ],
      "metadata": {
        "id": "baw6y66uLC0Y"
      }
    },
    {
      "cell_type": "code",
      "source": [
        "from xgboost import XGBClassifier\n",
        "from sklearn.datasets import load_breast_cancer\n",
        "from sklearn.model_selection import train_test_split, GridSearchCV\n",
        "from sklearn.metrics import accuracy_score\n",
        "\n",
        "# Load Breast Cancer dataset\n",
        "data = load_breast_cancer()\n",
        "X, y = data.data, data.target\n",
        "\n",
        "# Split into train/test sets\n",
        "X_train, X_test, y_train, y_test = train_test_split(X, y, test_size=0.2, random_state=42)\n",
        "\n",
        "# Initialize XGBoost Classifier\n",
        "xgb = XGBClassifier(use_label_encoder=False, eval_metric=\"logloss\", random_state=42)\n",
        "\n",
        "# Define parameter grid for learning_rate\n",
        "param_grid = {\n",
        "    'learning_rate': [0.01, 0.05, 0.1, 0.2, 0.3]\n",
        "}\n",
        "\n",
        "# GridSearchCV\n",
        "grid_search = GridSearchCV(estimator=xgb, param_grid=param_grid, cv=5, scoring='accuracy', n_jobs=-1)\n",
        "grid_search.fit(X_train, y_train)\n",
        "\n",
        "# Get best model\n",
        "best_model = grid_search.best_estimator_\n",
        "\n",
        "# Predict on test set\n",
        "y_pred = best_model.predict(X_test)\n",
        "\n",
        "# Evaluate accuracy\n",
        "accuracy = accuracy_score(y_test, y_pred)\n",
        "\n",
        "# Print results\n",
        "print(f\"Best Parameters: {grid_search.best_params_}\")\n",
        "print(f\"Model Accuracy: {accuracy:.4f}\")"
      ],
      "metadata": {
        "colab": {
          "base_uri": "https://localhost:8080/"
        },
        "id": "mTqkwritLROg",
        "outputId": "a54b9c70-e90c-4140-af4a-faf9edd1abc6"
      },
      "execution_count": null,
      "outputs": [
        {
          "output_type": "stream",
          "name": "stdout",
          "text": [
            "Best Parameters: {'learning_rate': 0.2}\n",
            "Model Accuracy: 0.9561\n"
          ]
        },
        {
          "output_type": "stream",
          "name": "stderr",
          "text": [
            "/usr/local/lib/python3.12/dist-packages/xgboost/training.py:183: UserWarning: [15:52:26] WARNING: /workspace/src/learner.cc:738: \n",
            "Parameters: { \"use_label_encoder\" } are not used.\n",
            "\n",
            "  bst.update(dtrain, iteration=i, fobj=obj)\n"
          ]
        }
      ]
    },
    {
      "cell_type": "markdown",
      "source": [
        "# **Question 9: Write a Python program to:**\n",
        "# **● Train a CatBoost Classifier**\n",
        "# **● Plot the confusion matrix using seaborn**"
      ],
      "metadata": {
        "id": "TIpI2LUsLsme"
      }
    },
    {
      "cell_type": "code",
      "source": [
        "# Import libraries\n",
        "import pandas as pd\n",
        "import seaborn as sns\n",
        "import matplotlib.pyplot as plt\n",
        "from sklearn.model_selection import train_test_split\n",
        "from sklearn.metrics import confusion_matrix, accuracy_score\n",
        "from catboost import CatBoostClassifier\n",
        "\n",
        "# Create a small dataset (example)\n",
        "data = pd.DataFrame({\n",
        "    \"age\": [25, 32, 47, 51, 62, 23, 36, 44, 53, 61],\n",
        "    \"income\": [50000, 60000, 80000, 72000, 91000, 45000, 62000, 70000, 85000, 90000],\n",
        "    \"gender\": [\"M\", \"F\", \"M\", \"M\", \"F\", \"F\", \"M\", \"F\", \"M\", \"F\"],\n",
        "    \"region\": [\"North\", \"South\", \"East\", \"West\", \"East\", \"North\", \"South\", \"West\", \"East\", \"North\"],\n",
        "    \"default\": [0, 1, 0, 1, 0, 0, 1, 1, 1, 0]   # target variable\n",
        "})\n",
        "\n",
        "# Separate features and target\n",
        "X = data.drop(\"default\", axis=1)\n",
        "y = data[\"default\"]\n",
        "\n",
        "# Train-test split\n",
        "X_train, X_test, y_train, y_test = train_test_split(X, y, test_size=0.3, random_state=42)\n",
        "\n",
        "# Identify categorical features\n",
        "cat_features = [\"gender\", \"region\"]\n",
        "\n",
        "# Train CatBoost Classifier\n",
        "model = CatBoostClassifier(verbose=0)  # verbose=0 hides training logs\n",
        "model.fit(X_train, y_train, cat_features=cat_features)\n",
        "\n",
        "# Predictions\n",
        "y_pred = model.predict(X_test)\n",
        "\n",
        "# Accuracy\n",
        "print(\"Accuracy:\", accuracy_score(y_test, y_pred))\n",
        "\n",
        "# Confusion Matrix\n",
        "cm = confusion_matrix(y_test, y_pred)\n",
        "sns.heatmap(cm, annot=True, fmt=\"d\", cmap=\"Blues\", xticklabels=[\"No Default\", \"Default\"], yticklabels=[\"No Default\", \"Default\"])\n",
        "plt.xlabel(\"Predicted\")\n",
        "plt.ylabel(\"Actual\")\n",
        "plt.show()"
      ],
      "metadata": {
        "colab": {
          "base_uri": "https://localhost:8080/",
          "height": 472
        },
        "id": "MBvFOrWtICi4",
        "outputId": "78b552d9-8d24-4de3-a15d-9530d9941980"
      },
      "execution_count": null,
      "outputs": [
        {
          "output_type": "stream",
          "name": "stdout",
          "text": [
            "Accuracy: 0.6666666666666666\n"
          ]
        },
        {
          "output_type": "display_data",
          "data": {
            "text/plain": [
              "<Figure size 640x480 with 2 Axes>"
            ],
            "image/png": "[encoded data removed]"
          },
          "metadata": {}
        }
      ]
    },
    {
      "cell_type": "markdown",
      "source": [
        "# **Question 10: You're working for a FinTech company trying to predict loan default using customer demographics and transaction behavior.**\n",
        "# **The dataset is imbalanced, contains missing values, and has both numeric and categorical features.**\n",
        "# **Describe your step-by-step data science pipeline using boosting techniques:**\n",
        "# **● Data preprocessing & handling missing/categorical values**\n",
        "# **● Choice between AdaBoost, XGBoost, or CatBoost**\n",
        "# **● Hyperparameter tuning strategy**\n",
        "# **● Evaluation metrics you'd choose and why ● How the business would benefit from your model**\n"
      ],
      "metadata": {
        "id": "xq7uuU9lIJs-"
      }
    },
    {
      "cell_type": "markdown",
      "source": [
        "# **Answer10 :**\n",
        "# Data Science Pipeline for Predicting Loan Default Using Boosting\n",
        "● Data Preprocessing & Handling Missing/Categorical Values\n",
        "- Missing Values : Impute missing numeric values with median or mean; for categoricals, impute with mode or create a \"missing\" category.\n",
        "- Categorical Feature: Encode categoricals using technioques like one-hot encoding or label encoding. Boosting libraries like CatBoost handle categoricals natively.\n",
        "\n",
        "● Choice between AdaBoost, XGBoost, or CatBoost\n",
        "- CatBoost or XGBoost : Prefer CatBoost or XGBoost for handling mixed data types and imbalanced datasets. CatBoost handles categorical features well; XGBoost is highly effective with proper encoding.\n",
        "\n",
        "● Hyperparameter Tuning Strategy\n",
        "- Use grid search or random search with cross-validation to tune hyperparameters like learning_rate , max_depth , subsample , and handle class imbalance via scale_pos_weight.\n",
        "\n",
        "● Evaluation Metrics You'd Choose and Why\n",
        "- AUC-ROC : Measures overall performance.\n",
        "- Precision, Recall, F1-score : Important for imbalanced datasets to assess model performance on the minority class (loan defaults).\n",
        "\n",
        "● How the Business Would Benefit from Your Model\n",
        "- Reduced Risk : Accurate loan default prediction reduces lending risks and potential losses.\n",
        "- Better Decision-Making : The model enables smarter lending decisions by assessing risk based on customer demographics and transaction behavior.\n",
        "\n",
        "Summary\n",
        "Using boosting (CatBoost/XGBoost) for loan default prediction handles mixed data types and imbalance. Hyperparameter tuning and evaluation via AUC-ROC and F1-score ensure a robust model benefiting the FinTech company by reducing risk.\n"
      ],
      "metadata": {
        "id": "TCVZJk02Jygx"
      }
    }
  ]
}