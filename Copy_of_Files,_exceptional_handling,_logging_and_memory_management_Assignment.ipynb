{
  "nbformat": 4,
  "nbformat_minor": 0,
  "metadata": {
    "colab": {
      "provenance": [],
      "authorship_tag": "ABX9TyMrdDIzkIrLw6DLnWnqFSXn",
      "include_colab_link": true
    },
    "kernelspec": {
      "name": "python3",
      "display_name": "Python 3"
    },
    "language_info": {
      "name": "python"
    }
  },
  "cells": [
    {
      "cell_type": "markdown",
      "metadata": {
        "id": "view-in-github",
        "colab_type": "text"
      },
      "source": [
        "<a href=\"https://colab.research.google.com/github/Himani954/Data-types-and-structure/blob/main/Copy_of_Files%2C_exceptional_handling%2C_logging_and_memory_management_Assignment.ipynb\" target=\"_parent\"><img src=\"https://colab.research.google.com/assets/colab-badge.svg\" alt=\"Open In Colab\"/></a>"
      ]
    },
    {
      "cell_type": "markdown",
      "source": [
        "# **Files, exceptional handling, logging and memory management Questions**\n"
      ],
      "metadata": {
        "id": "IkFrR7NNv4X-"
      }
    },
    {
      "cell_type": "markdown",
      "source": [
        "# **Q1. What is the difference between interpreted and compiled languages?**\n",
        "\n"
      ],
      "metadata": {
        "id": "438PAEf1wJFL"
      }
    },
    {
      "cell_type": "markdown",
      "source": [
        "# **Ans1.**\n",
        "# Interpreter vs Compiled Languages\n",
        "\n",
        "The primary difference between interpreter and compiled languages lies in how the code is executed by the computer.\n",
        "\n",
        "Compiled Languages\n",
        "- Code is compiled into machine code beforehand, creating an executable file.\n",
        "- The compiler translates the entire code into machine code, which can be executed directly by the computer's processor.\n",
        "- Examples: C, C++, Fortran\n",
        "\n",
        "Interpreter Languages\n",
        "- Code is interpreted line-by-line during execution.\n",
        "- The interpreter translates each line of code into machine code and executes it immediately.\n",
        "- Examples: Python, JavaScript (in a browser), Ruby\n",
        "\n",
        "Key differences:\n",
        "\n",
        "1. Compilation step : Compiled languages require a separate compilation step before execution, while interpreted languages do not.\n",
        "2. Execution speed : Compiled languages are generally faster since the code is already in machine code, while interpreted languages may be slower due to the interpretation step.\n",
        "3. Development flexibility : Interpreted languages often provide more flexibility during development, as changes can be tested immediately without recompilation.\n",
        "4. Error handling : Compiled languages typically catch syntax errors during compilation, while interpreted languages may only catch errors during execution.\n",
        "\n",
        "Hybrid approaches :\n",
        "\n",
        "Some languages, like Java, use a combination of compilation and interpretation. Java code is compiled into bytecode, which is then interpreted by the Java Virtual Machine (JVM). This approach offers a balance between compilation and interpretation.\n",
        "\n",
        "In summary , the choice between compiled and interpreted languages depends on the specific needs of the project, including performance requirements, development speed, and flexibility.\n",
        "\n",
        "\n"
      ],
      "metadata": {
        "id": "ShsanpDjwodA"
      }
    },
    {
      "cell_type": "markdown",
      "source": [
        "# **Q2. What is exception handling in Python?**\n"
      ],
      "metadata": {
        "id": "1gVXPvBDdiDg"
      }
    },
    {
      "cell_type": "markdown",
      "source": [
        "# **Ans2.**\n",
        "# Exception Handling in Python\n",
        "\n",
        "Exception handling is a mechanism in Python that allows you to manage and respond to errors or unexpected events that occur during the execution of your code. It helps prevent your program from crashing and provides a way to handle errors gracefully.\n",
        "\n",
        "Key Concepts\n",
        "- Try : The try block contains the code that might raise an exception.\n",
        "- Except : The except block contains the code that will be executed if an exception is raised in the try block.\n",
        "- Raise : The raise statement is used to throw an exception explicitly.\n",
        "- Finally : The finally block contains code that will be executed regardless of whether an exception was raised or not.\n",
        "\n",
        "Basic Syntax\n"
      ],
      "metadata": {
        "id": "e18ULX52eTIt"
      }
    },
    {
      "cell_type": "code",
      "source": [
        "try:\n",
        "   # Code that might raise an exception\n",
        "except ExceptionType:\n",
        "   # Code to handle the exception\n",
        "finally:\n",
        "   # Code that will be executed regardless of exceptions"
      ],
      "metadata": {
        "id": "YYTi2MhhJAIc"
      },
      "execution_count": null,
      "outputs": []
    },
    {
      "cell_type": "markdown",
      "source": [
        "Example"
      ],
      "metadata": {
        "id": "_DylSntlfLcS"
      }
    },
    {
      "cell_type": "code",
      "source": [
        "def divide_numbers(a, b):\n",
        "    try:\n",
        "        result = a / b\n",
        "        print(\"Result:\", result)\n",
        "    except ZeroDivisionError:\n",
        "        print(\"Error: Division by zero is not allowed.\")\n",
        "    finally:\n",
        "        print(\"Division operation completed.\")\n",
        "\n",
        "#Test the function\n",
        "divide_numbers(10, 2)  # Successful division\n",
        "divide_numbers(10, 0)  # Division by zero"
      ],
      "metadata": {
        "id": "imeV3vqk8gfl"
      },
      "execution_count": null,
      "outputs": []
    },
    {
      "cell_type": "markdown",
      "source": [
        "Benefits\n",
        "1. Error handling : Exception handling allows you to catch and manage errors, preventing your program from crashing.\n",
        "2. Code robustness : By handling exceptions, you can make your code more robust and resilient to unexpected events.\n",
        "3. Improved user experience : Exception handling enables you to provide meaningful error messages and feedback to users, improving their overall experience.\n",
        "\n",
        "Best Practices\n",
        "1. Be specific : Catch specific exceptions instead of general exceptions to handle errors more effectively.\n",
        "2. Keep it concise : Keep the code in the try block minimal to avoid catching unnecessary exceptions.\n",
        "3. Provide meaningful error messages : Use informative error messages to help users understand what went wrong and how to fix it.\n",
        "\n",
        "By using exception handling effectively, you can write more robust and reliable Python code that handles errors and exceptions gracefully.\n",
        "\n"
      ],
      "metadata": {
        "id": "-8gaXXP_fWW_"
      }
    },
    {
      "cell_type": "markdown",
      "source": [
        "# **Q3. What is the purpose of the finally block in exception handling?**\n"
      ],
      "metadata": {
        "id": "3WCpyfRvfv3r"
      }
    },
    {
      "cell_type": "markdown",
      "source": [
        "# **Ans3.**\n",
        "# Purpose of the Finally Block\n",
        "\n",
        "The finally block in exception handling is used to specify code that will be executed regardless of whether an exception was raised or not. Its primary purpose is to:\n",
        "\n",
        "1. Ensure resource cleanup : The finally block is used to release resources, such as closing files, network connections, or database connections, to prevent resource leaks.\n",
        "2. Perform necessary actions : It can be used to perform actions that need to be taken regardless of the outcome, such as logging, cleanup, or releasing locks.\n",
        "\n",
        "Key Characteristics\n",
        "\n",
        "- The finally  block is optional in exception handling.\n",
        "- It is executed after the try and except blocks.\n",
        "- If an exception is not caught by any except block, the finally block will still be executed before the exception is propagated.\n",
        "\n",
        "\n",
        "Example\n"
      ],
      "metadata": {
        "id": "_lDnOs77f4C3"
      }
    },
    {
      "cell_type": "code",
      "source": [
        "def read_file(file_name):\n",
        "    try:\n",
        "        file = open(file_name, 'r')\n",
        "        content = file.read()\n",
        "        print(content)\n",
        "    except FileNotFoundError:\n",
        "        print(\"File not found.\")\n",
        "    finally:\n",
        "        try:\n",
        "            file.close()\n",
        "        except NameError:\n",
        "            pass  # File was never opened\n",
        "\n",
        "# Test the function\n",
        "read_file(\"example.txt\")"
      ],
      "metadata": {
        "id": "jPYpF7Czg4tX"
      },
      "execution_count": null,
      "outputs": []
    },
    {
      "cell_type": "markdown",
      "source": [
        "In this example, the finally block ensures that the file is closed regardless of whether an exception was raised or not.\n",
        "\n",
        "Best Practices\n",
        "\n",
        "1. Use finally for resource cleanup : Use the finally block to release resources and prevent resource leaks.\n",
        "2. Keep finally blocks concise : Keep the code in the finally block minimal and focused on cleanup actions.\n",
        "3. Handle potential exceptions : Be prepared to handle potential exceptions that might occur in the finally block itself.\n",
        "\n",
        "By using the finally block effectively, you can ensure that your code is more robust and reliable, and that resources are properly cleaned up.\n",
        "\n"
      ],
      "metadata": {
        "id": "tdRUgu8dhDps"
      }
    },
    {
      "cell_type": "markdown",
      "source": [
        "# **Q4. What is logging in Python?**\n"
      ],
      "metadata": {
        "id": "d9XMtAQGhanL"
      }
    },
    {
      "cell_type": "markdown",
      "source": [
        "# **Ans4.**\n",
        "#Logging in Python\n",
        "\n",
        "Logging is a mechanism in Python that allows you to record events happening during the execution of your program. It provides a way to track and debug your code, and can be used for various purposes, such as:\n",
        "\n",
        "1. Debugging : Logging can help you identify and diagnose issues in your code.\n",
        "2. Auditing : Logging can be used to track important events, such as user actions or system changes.\n",
        "3. Performance monitoring : Logging can help you monitor the performance of your code and identify bottlenecks.\n",
        "\n",
        "Python's Built-in Logging Module\n",
        "\n",
        "Python has a built-in logging module that provides a flexible and customizable logging system. The module allows you to:\n",
        "\n",
        "- Log messages at different levels (e.g., debug, info, warning, error, critical)\n",
        "- Configure logging handlers to output log messages to various destinations (e.g., console, file, network)\n",
        "*Customize log message formats and content\n",
        "\n",
        "Logging Levels\n",
        "\n",
        "The logging module provides the following logging levels, in order of increasing severity:\n",
        "\n",
        "1. DEBUG : Detailed information for debugging purposes.\n",
        "2. INFO : Informational messages.\n",
        "3. WARNING : Potential issues or unexpected events.\n",
        "4. ERROR : Errors that prevent normal program execution.\n",
        "5. CRITICAL : Critical errors that require immediate attention.\n",
        "\n",
        "Example\n",
        "\n"
      ],
      "metadata": {
        "id": "5TwgGrw1hj3t"
      }
    },
    {
      "cell_type": "code",
      "source": [
        "import logging\n",
        "\n",
        "#Configure logging\n",
        "logging.basicConfig(level=logging.INFO)\n",
        "\n",
        "#Log messages\n",
        "logging.debug(\"This is a debug message.\")\n",
        "logging.info(\"This is an info message.\")\n",
        "logging.warning(\"This is a warning message.\")\n",
        "logging.error(\"This is an error message.\")\n",
        "logging.critical(\"This is a critical message.\")\n"
      ],
      "metadata": {
        "id": "5KL7P5xBjubj"
      },
      "execution_count": null,
      "outputs": []
    },
    {
      "cell_type": "markdown",
      "source": [
        "In this example, the basicConfig function is used to configure the logging level, and log messages are recorded using the various logging functions.\n",
        "\n",
        "Best Practices\n",
        "\n",
        "1. Use logging levels effectively : Use the different logging levels to categorize log messages and control verbosity.\n",
        "2. Configure logging handlers : Use logging handlers to output log messages to suitable destinations.\n",
        "3. Customize log message formats : Use log message formats to include relevant information, such as timestamps and log levels.\n",
        "\n",
        "By using logging effectively, you can improve the maintainability and debuggability of your Python code.\n",
        "\n"
      ],
      "metadata": {
        "id": "Z3_hnzoikk4J"
      }
    },
    {
      "cell_type": "markdown",
      "source": [
        "# **Q5.What is the significance of the __ del__ method in Python**\n"
      ],
      "metadata": {
        "id": "GYpYiEbYkw4_"
      }
    },
    {
      "cell_type": "markdown",
      "source": [
        "# **Ans5.**\n",
        "# Significance of the __ del__ Method\n",
        "\n",
        "The __ del__ method in Python is a special method that is automatically called when an object is about to be destroyed. It is also known as the destructor method. The significance of the __ del__ method includes:\n",
        "\n",
        "1. Resource cleanup : The __ del__ method can be used to release resources, such as closing files, network connections, or database connections, to prevent resource leaks.\n",
        "2. Finalization : It can be used to perform any necessary finalization tasks, such as releasing locks or deleting temporary files.\n",
        "\n",
        "When is __ del__ Called?\n",
        "\n",
        "The __ del__ method is called when:\n",
        "\n",
        "1. Object is garbage collected : When an object is no longer referenced and is garbage collected, its __ del__ method is called.\n",
        "2. Program termination : When the program terminates, the __ del__ method of all remaining objects is called.\n",
        "\n",
        "Example"
      ],
      "metadata": {
        "id": "K4ERq2zWlCva"
      }
    },
    {
      "cell_type": "code",
      "source": [
        "class FileHandler:\n",
        "    def __init__(self, file_name):\n",
        "        self.file = open(file_name, 'w')\n",
        "\n",
        "    def __del__(self):\n",
        "        self.file.close()\n",
        "        print(\"File closed.\")\n",
        "\n",
        "# Create an object\n",
        "file_handler = FileHandler('example.txt')\n",
        "\n",
        "# Delete the object\n",
        "del file_handler"
      ],
      "metadata": {
        "id": "55-8ijiumNZU"
      },
      "execution_count": null,
      "outputs": []
    },
    {
      "cell_type": "markdown",
      "source": [
        "Best Practices\n",
        "\n",
        "1. Use __ del__ for resource cleanup*: Use the __ del__ method to release resources and prevent resource leaks.\n",
        "2. Be cautious with __ del__: The __ del__ method can introduce complexity and performance issues, so use it judiciously.\n",
        "3. Consider using context managers : Context managers can provide a more reliable and efficient way to manage resources.\n",
        "\n",
        "By using the __ del__ method effectively, you can ensure that resources are properly cleaned up and your code is more robust. However, it's essential to be aware of the potential complexities and performance implications."
      ],
      "metadata": {
        "id": "NYU7pcld9W6o"
      }
    },
    {
      "cell_type": "markdown",
      "source": [
        "# **Q6. What is the difference between import and from ... import in Python?**\n"
      ],
      "metadata": {
        "id": "ObEhQ8OHmzAd"
      }
    },
    {
      "cell_type": "markdown",
      "source": [
        "# **Ans6.**\n",
        "#Import vs From...Import in Python\n",
        "\n",
        "In Python, you can import modules using either the import statement or the from...import statement. The difference between the two lies in how you access the imported module's contents.\n",
        "\n",
        "Import Statement\n",
        "- The import statement imports the entire module, and you access its contents using the module name.\n",
        "- You can import multiple modules using a single import statement.\n",
        "\n",
        "Example\n",
        "\n"
      ],
      "metadata": {
        "id": "8UDNhD4xnBW9"
      }
    },
    {
      "cell_type": "code",
      "source": [
        "import math\n",
        "print(math.pi)"
      ],
      "metadata": {
        "id": "Aoh-SQWMn6Sm"
      },
      "execution_count": null,
      "outputs": []
    },
    {
      "cell_type": "markdown",
      "source": [
        "From...Import Statement\n",
        "- The from...import statement imports specific contents (e.g., functions, variables, classes) from a module, and you access them directly without the module name.\n",
        "- You can import multiple contents from a module using a single from...import statement.\n",
        "\n",
        "Example\n",
        "\n"
      ],
      "metadata": {
        "id": "ltEdmtleoBs2"
      }
    },
    {
      "cell_type": "code",
      "source": [
        "from math import pi\n",
        "print(pi)"
      ],
      "metadata": {
        "id": "7l6fJavp-LdQ"
      },
      "execution_count": null,
      "outputs": []
    },
    {
      "cell_type": "markdown",
      "source": [
        "Key differences:\n",
        "\n",
        "1. Accessing module contents : With import , you access module contents using the module name (e.g., math.pi). With from...import , you access them directly (e.g., pi).\n",
        "2. Namespace : import adds the module to the current namespace, while from...import adds the imported contents to the current namespace.\n",
        "3. Importing specific contents : from...import allows you to import specific contents from a module, which can help avoid polluting the namespace.\n",
        "\n",
        "Best Practices\n",
        "\n",
        "1. Use import for modules : Use import when you need to access multiple contents from a module or when the module name is short and clear.\n",
        "2. Use from...import for specific contents: Use from...import when you need to access specific contents from a module and want to avoid typing the module name.\n",
        "3. Avoid from module import * : Avoid using from module import  * as it can pollute the namespace and lead to name conflicts.\n",
        "\n",
        "By choosing the right import statement, you can write more readable and maintainable Python code."
      ],
      "metadata": {
        "id": "30VsSpbEoWh3"
      }
    },
    {
      "cell_type": "markdown",
      "source": [
        "# **Q7. How can you handle multiple exceptions in Python?**\n"
      ],
      "metadata": {
        "id": "iSrPapQ9piQI"
      }
    },
    {
      "cell_type": "markdown",
      "source": [
        "# **Ans7.**\n",
        "# Handling Multiple Exceptions in Python\n",
        "\n",
        "You can handle multiple exceptions in Python using several approaches:\n",
        "\n",
        "1. Multiple Except Blocks\n",
        "You can use multiple except blocks to handle different exceptions.\n"
      ],
      "metadata": {
        "id": "pbc47-P4prSD"
      }
    },
    {
      "cell_type": "code",
      "source": [
        "try:\n",
        "    # Code that might raise an exception\n",
        "except ValueError:\n",
        "    # Handle ValueError\n",
        "    print(\"ValueError occurred\")\n",
        "except TypeError:\n",
        "    # Handle TypeError\n",
        "    print(\"TypeError occurred\")"
      ],
      "metadata": {
        "id": "QWdP-LQoF_Nb"
      },
      "execution_count": null,
      "outputs": []
    },
    {
      "cell_type": "markdown",
      "source": [
        "2. Single Except Block with Multiple Exceptions\n",
        "You can use a single except block to handle multiple exceptions by specifying them in a tuple.\n"
      ],
      "metadata": {
        "id": "Ajamu8Q8qral"
      }
    },
    {
      "cell_type": "code",
      "source": [
        "try:\n",
        "    # Code that might raise an exception\n",
        "except (ValueError, TypeError):\n",
        "    # Handle ValueError or TypeError\n",
        "    print(\"ValueError or TypeError occurred.\")"
      ],
      "metadata": {
        "id": "0xCZHUENHCY4"
      },
      "execution_count": null,
      "outputs": []
    },
    {
      "cell_type": "markdown",
      "source": [
        "3. Catching the Base Exception Class\n",
        "You can catch the base Exception class to handle most exceptions. However, be cautious when using this approach, as it may catch exceptions that you didn't anticipate.\n"
      ],
      "metadata": {
        "id": "H4zvnopWq13s"
      }
    },
    {
      "cell_type": "code",
      "source": [
        "try:\n",
        "    # Code that might raise an exception\n",
        "except Exception as e:\n",
        "    # Handle the exception\n",
        "    print(f\"An error occurred: {e}\")"
      ],
      "metadata": {
        "id": "4wnv8Lf9CR8Q"
      },
      "execution_count": null,
      "outputs": []
    },
    {
      "cell_type": "markdown",
      "source": [
        "Best Practices\n",
        "\n",
        "1. Be specific : Handle specific exceptions whenever possible to provide more informative error messages and better error handling.\n",
        "2. Keep exception handling code concise : Keep the code in the except block minimal and focused on handling the exception.\n",
        "3. Log or report exceptions : Log or report exceptions to track errors and improve your code's reliability.\n",
        "\n",
        "By handling multiple exceptions effectively, you can write more robust and reliable Python code that provides better error handling and feedback.\n",
        "\n"
      ],
      "metadata": {
        "id": "qT8vz-CRrB15"
      }
    },
    {
      "cell_type": "markdown",
      "source": [
        "# **Q8. What is the purpose of the with statement when handling files in Python?**\n"
      ],
      "metadata": {
        "id": "ozeW1WDmuybl"
      }
    },
    {
      "cell_type": "markdown",
      "source": [
        "# **Ans8.**\n",
        "There is no win statement in Python for handling files. However, you might be referring to the with statement, which is used for managing resources such as files.\n",
        "\n",
        "# Purpose of the with Statement\n",
        "\n",
        "The with statement is used to ensure that resources, like files, are properly cleaned up after use. Its primary purpose is to:\n",
        "\n",
        "1. Automatically close files : When you're done with a file, the with statement automatically closes it, even if exceptions occur.\n",
        "2. Ensure resource release : The with statement ensures that resources are released, preventing resource leaks.\n",
        "\n",
        "Example\n"
      ],
      "metadata": {
        "id": "b86RWTvgu8hM"
      }
    },
    {
      "cell_type": "code",
      "source": [
        "with open('example.txt', 'r') as file:\n",
        "    content = file.read()\n",
        "    print(content)"
      ],
      "metadata": {
        "id": "9UCFe0h7-6Ci"
      },
      "execution_count": null,
      "outputs": []
    },
    {
      "cell_type": "markdown",
      "source": [
        "In this example, the with statement opens the file example.txt and assigns it to the variable file. When the block of code within the with statement is exited, the file is automatically closed.\n",
        "\n",
        "Benefits\n",
        "\n",
        "1. Ensures file closure : Files are closed automatically, even if exceptions occur.\n",
        "2. Reduces boilerplate code : You don't need to explicitly close files using file.close( ).\n",
        "3. Improves code readability : The with statement makes your code more concise and readable.\n",
        "\n",
        "By using the with statement, you can write more efficient and reliable code for handling files in Python.\n",
        "\n"
      ],
      "metadata": {
        "id": "GRS-BQhav7nb"
      }
    },
    {
      "cell_type": "markdown",
      "source": [
        "# **Q9.What is the difference between multithreading and multiprocessing?**\n"
      ],
      "metadata": {
        "id": "N5ASZsJZwVBR"
      }
    },
    {
      "cell_type": "markdown",
      "source": [
        "# **Ans9.**\n",
        "# Multithreading vs Multiprocessing\n",
        "\n",
        "Multithreading and multiprocessing are two approaches to achieve concurrency in programming. The key differences between them lie in how they utilize system resources and execute tasks.\n",
        "\n",
        "Multithreading\n",
        "- Multiple threads within a single process : Multithreading involves creating multiple threads within a single process, where each thread shares the same memory space.\n",
        "- Lightweight : Creating threads is relatively lightweight, and threads can communicate with each other easily.\n",
        "- Global Interpreter Lock (GIL) : In Python, the GIL prevents multiple threads from executing Python bytecodes at the same time, which can limit the benefits of multithreading for CPU-bound tasks.\n",
        "\n",
        "Example\n"
      ],
      "metadata": {
        "id": "64LiJagswjir"
      }
    },
    {
      "cell_type": "code",
      "source": [
        "import threading\n",
        "\n",
        "def print_numbers():\n",
        "    for i in range(10):\n",
        "        print(i)\n",
        "\n",
        "def print_letters():\n",
        "    for letter in 'abcdefghij':\n",
        "        print(letter)\n",
        "\n",
        "# Create threads\n",
        "thread1 = threading.Thread(target=print_numbers)\n",
        "thread2 = threading.Thread(target=print_letters)\n",
        "\n",
        "# Start threads\n",
        "thread1.start()\n",
        "thread2.start()\n",
        "\n",
        "# Wait for threads to finish\n",
        "thread1.join()\n",
        "thread2.join()"
      ],
      "metadata": {
        "id": "VunKiOsQ_BvO"
      },
      "execution_count": null,
      "outputs": []
    },
    {
      "cell_type": "markdown",
      "source": [
        "Multiprocessing\n",
        "- Multiple processes : Multiprocessing involves creating multiple processes, each with its own memory space.\n",
        "- Heavyweight : Creating processes is relatively heavyweight, and inter-process communication can be more complex.\n",
        "- No GIL limitation : Since each process has its own Python interpreter, the GIL limitation does not apply to multiprocessing.\n",
        "\n",
        "Example\n"
      ],
      "metadata": {
        "id": "GQmeIY8Pxt73"
      }
    },
    {
      "cell_type": "code",
      "source": [
        "import multiprocessing\n",
        "\n",
        "def print_numbers():\n",
        "    for i in range(10):\n",
        "        print(i)\n",
        "\n",
        "def print_letters():\n",
        "    for letter in 'abcdefghij':\n",
        "        print(letter)\n",
        "\n",
        "# Create processes\n",
        "process1 = multiprocessing.Process(target=print_numbers)\n",
        "process2 = multiprocessing.Process(target=print_letters)\n",
        "\n",
        "# Start processes\n",
        "process1.start()\n",
        "process2.start()\n",
        "\n",
        "# Wait for processes to finish\n",
        "process1.join()\n",
        "process2.join()"
      ],
      "metadata": {
        "id": "cqe7sAXT_KjO"
      },
      "execution_count": null,
      "outputs": []
    },
    {
      "cell_type": "markdown",
      "source": [
        "Key differences:\n",
        "\n",
        "1. Memory space : Multithreading shares memory space, while multiprocessing has separate memory spaces.\n",
        "2.  GIL limitation : Multithreading is limited by the GIL in Python, while multiprocessing is not.\n",
        "3.  Resource usag : Multithreading is generally more lightweight than multiprocessing.\n",
        "\n",
        "Choosing between multithreading and multiprocessing:\n",
        "\n",
        "1. Use multithreading for I/O-bound tasks : Multithreading is suitable for tasks that involve waiting for I/O operations, such as network requests or file access.\n",
        "2. Use multiprocessing for CPU-bound tasks : Multiprocessing is suitable for tasks that require intense CPU processing, such as scientific computing or data processing.\n",
        "\n",
        "By understanding the differences between multithreading and multiprocessing, you can choose the most suitable approach for your specific use case.\n",
        "\n"
      ],
      "metadata": {
        "id": "XGoavfCLyL-I"
      }
    },
    {
      "cell_type": "markdown",
      "source": [
        "# **Q10.What are the advantages of using logging in a program?**\n"
      ],
      "metadata": {
        "id": "cBnN7RW0yi4B"
      }
    },
    {
      "cell_type": "markdown",
      "source": [
        "# **Ans10.**\n",
        "# Advantages of Using Logging\n",
        "\n",
        "Logging provides several benefits when used in a program:\n",
        "\n",
        "1. Debugging : Logging helps identify and diagnose issues in the code by providing detailed information about the program's execution.\n",
        "2. Error tracking : Logging enables you to track errors and exceptions, making it easier to understand what went wrong and where.\n",
        "3. Auditing : Logging can be used to track important events, such as user actions or system changes, for auditing purposes.\n",
        "4. Performance monitoring : Logging can help monitor the performance of your program and identify bottlenecks.\n",
        "5. Improved maintainability : Logging makes it easier to understand the program's behavior and flow, which can improve maintainability.\n",
        "\n",
        "Additional benefits:\n",
        "\n",
        "- Reduced debugging time : Logging can significantly reduce the time spent debugging issues.\n",
        "- Better error handling : Logging enables you to handle errors more effectively by providing detailed information about the error.\n",
        "- Enhanced security : Logging can help detect security issues and provide valuable information for incident response.\n",
        "\n",
        "Best practices:\n",
        "\n",
        "- Log relevant information : Log information that is relevant to the program's execution and errors.\n",
        "- Use log levels : Use different log levels (e.g., debug, info, warning, error, critical) to categorize log messages.\n",
        "- Configure logging : Configure logging to output log messages to suitable destinations (e.g., console, file, network).\n",
        "\n",
        "By using logging effectively, you can write more maintainable, efficient, and reliable code.\n",
        "\n"
      ],
      "metadata": {
        "id": "YQiwUmV7ysw8"
      }
    },
    {
      "cell_type": "markdown",
      "source": [
        "# **Q11. What is memory management in Python?**\n"
      ],
      "metadata": {
        "id": "6GRV0uqYzxFh"
      }
    },
    {
      "cell_type": "markdown",
      "source": [
        "# **Ans11.**\n",
        "# **Memory Management in Python**\n",
        "\n",
        "Memory management in Python refers to the process of managing the memory used by Python programs. Python's memory management is handled by the Python Memory Manager, which is responsible for:\n",
        "\n",
        "1. Memory allocation : Allocating memory for Python objects, such as integers, strings, and lists.\n",
        "2. Memory deallocation : Deallocating memory when Python objects are no longer needed.\n",
        "\n",
        "Key concepts:\n",
        "\n",
        "- Reference counting : Python uses a reference counting mechanism to manage memory. When the reference count of an object reaches zero, the object is garbage collected.\n",
        "- Garbage collection : Python's garbage collector periodically frees memory occupied by objects that are no longer referenced.\n",
        "\n",
        "How Python's memory management works:\n",
        "\n",
        "1. Object creation : When you create a Python object, memory is allocated for it.\n",
        "2. Reference counting : The reference count of the object is incremented when you assign it to a variable or data structure.\n",
        "3. Reference count decrement : The reference count is decremented when you delete a reference to the object or when the reference goes out of scope.\n",
        "4. Garbage collection : When the reference count reaches zero, the object is garbage collected, and its memory is freed.\n",
        "\n",
        "Benefits:\n",
        "\n",
        "- Automatic memory management : Python's memory management is automatic, which reduces the risk of memory leaks and makes programming easier.\n",
        "- Efficient memory use : Python's garbage collector helps ensure efficient memory use by freeing memory occupied by objects that are no longer needed.\n",
        "\n",
        "Best practices:\n",
        "\n",
        "- Use del statement : Use the del statement to delete references to objects that are no longer needed.\n",
        "- Avoid circular references : Avoid creating circular references, which can prevent objects from being garbage collected.\n",
        "\n",
        "By understanding how Python's memory management works, you can write more efficient and reliable code.\n",
        "\n"
      ],
      "metadata": {
        "id": "EG38jjs9z6c0"
      }
    },
    {
      "cell_type": "markdown",
      "source": [
        "# **Q12. What are the basic steps involved in exception handling in Python?**\n"
      ],
      "metadata": {
        "id": "deixDyKu01jx"
      }
    },
    {
      "cell_type": "markdown",
      "source": [
        "# **Ans12.**\n",
        "# Basic Steps in Exception Handling\n",
        "\n",
        "The basic steps involved in exception handling in Python are:\n",
        "\n",
        "1. Try : Wrap the code that might raise an exception in a try block.\n",
        "2. Except : Use an except block to catch and handle the exception.\n",
        "3. Handle the exception : In the except block, write code to handle the exception, such as logging the error or providing a fallback value.\n",
        "\n",
        "Optional steps:\n",
        "\n",
        "- Else : Use an else block to execute code when no exceptions are raised in the try block.\n",
        "- Finally : Use a finally block to execute code regardless of whether an exception was raised or not.\n",
        "\n",
        "Example\n"
      ],
      "metadata": {
        "id": "CYuo4LcC0-kJ"
      }
    },
    {
      "cell_type": "code",
      "source": [
        "try:\n",
        "    # Code that might raise an exception\n",
        "    x = 1 / 0\n",
        "except ZeroDivisionError:\n",
        "    # Handle the exception\n",
        "    print(\"Cannot divide by zero!\")\n",
        "else:\n",
        "    # Execute code when no exceptions are raised\n",
        "    print(\"Division successful!\")\n",
        "finally:\n",
        "    # Execute code regardless of exceptions\n",
        "    print(\"Cleaning up...\")"
      ],
      "metadata": {
        "id": "IlSlu3EK_XKh"
      },
      "execution_count": null,
      "outputs": []
    },
    {
      "cell_type": "markdown",
      "source": [
        "Best practices:\n",
        "\n",
        "- Be specific : Catch specific exceptions instead of catching the general Exception class.\n",
        "- Keep exception handling code concise : Focus on handling the exception and providing useful feedback.\n",
        "- Log or report exceptions : Log or report exceptions to track errors and improve your code's reliability.\n",
        "\n",
        "By following these steps and best practices, you can write robust and reliable code that handles exceptions effectively.\n",
        "\n"
      ],
      "metadata": {
        "id": "t1LlGEde2DMO"
      }
    },
    {
      "cell_type": "markdown",
      "source": [
        "# **Q13. Why is memory management important in Python?**\n"
      ],
      "metadata": {
        "id": "OwLaHGu-2SEs"
      }
    },
    {
      "cell_type": "markdown",
      "source": [
        "# **Ans13.**\n",
        "# Why Memory Management is Important in Python\n",
        "\n",
        "Memory management is crucial in Python because it helps:\n",
        "\n",
        "1. Prevent memory leaks : Memory leaks occur when memory is allocated but not released, causing the program to consume increasing amounts of memory.\n",
        "2. Optimize performance : Efficient memory management helps improve the performance of Python programs by reducing the time spent on memory allocation and garbage collection.\n",
        "3. Ensure reliability : Memory management helps prevent crashes and unexpected behavior caused by memory-related issues.\n",
        "\n",
        "Why is memory management important in Python specifically?\n",
        "\n",
        "- Dynamic typing : Python's dynamic typing means that memory is allocated and deallocated frequently, which can lead to memory-related issues if not managed properly.\n",
        "- Garbage collection : While Python's garbage collector helps manage memory, it's not perfect, and understanding memory management can help you write more efficient code.\n",
        "\n",
        "Best practices:\n",
        "\n",
        "- Use del statement : Use the del statement to delete references to objects that are no longer needed.\n",
        "- Avoid circular references : Avoid creating circular references, which can prevent objects from being garbage collected.\n",
        "- Use weakref module : Use the weakref module to create weak references to objects, which can help prevent memory leaks.\n",
        "\n",
        "By understanding the importance of memory management in Python and following best practices, you can write more efficient, reliable, and scalable code.\n",
        "\n"
      ],
      "metadata": {
        "id": "yfN4vPO72a9d"
      }
    },
    {
      "cell_type": "markdown",
      "source": [
        "# **Q14.What is the role of try and except in exception handling?**\n"
      ],
      "metadata": {
        "id": "OKJO4vU-5BzJ"
      }
    },
    {
      "cell_type": "markdown",
      "source": [
        "# **Ans14.**\n",
        "# Role of Try and Except in Exception Handling\n",
        "\n",
        "The try and except blocks are used in exception handling to:\n",
        "\n",
        "Try Block:\n",
        "\n",
        "- Wrap code that might raise an exception : The try block contains the code that might potentially raise an exception.\n",
        "- Monitor for exceptions : The try block monitors the code for exceptions and passes the exception to the except block if one occurs.\n",
        "\n",
        "Except Block:\n",
        "\n",
        "- Catch and handle exceptions : The except block catches the exception raised in the try block and handles it.\n",
        "- Provide a fallback or error message : The except block can provide a fallback value or an error message to handle the exception.\n",
        "\n",
        "How Try and Except Work Together:\n",
        "\n",
        "1. Try block executes : The code in the try block is executed.\n",
        "2. Exception occurs : If an exception occurs in the try block, the execution is stopped, and the exception is passed to the except block.\n",
        "3. Except block handles the exception : The except block catches the exception and handles it according to the code written in the block.\n",
        "\n",
        "Example"
      ],
      "metadata": {
        "id": "rcwpfctBTQJf"
      }
    },
    {
      "cell_type": "code",
      "source": [
        "try:\n",
        "    x = 1 / 0\n",
        "except ZeroDivisionError:\n",
        "    print(\"Cannot divide by zero!\")"
      ],
      "metadata": {
        "id": "wqtDSnAn_hPt"
      },
      "execution_count": null,
      "outputs": []
    },
    {
      "cell_type": "markdown",
      "source": [
        "In this example, the try block attempts to divide by zero, which raises a ZeroDivisionError. The except block catches the exception and prints an error message.\n",
        "\n",
        "Best practices:\n",
        "\n",
        "- Be specific: Catch specific exceptions instead of catching the general Exception class.\n",
        "- Keep exception handling code concise: Focus on handling the exception and providing useful feedback.\n",
        "\n",
        "By using try and except blocks effectively, you can write robust and reliable code that handles exceptions and provides a better user experience.\n",
        "\n"
      ],
      "metadata": {
        "id": "n-gPXEbEU7hP"
      }
    },
    {
      "cell_type": "markdown",
      "source": [
        "# **Q15. How does Python's garbage collection system work?**\n"
      ],
      "metadata": {
        "id": "LfN4-J00VSBK"
      }
    },
    {
      "cell_type": "markdown",
      "source": [
        "# **Ans15.**\n",
        "# Python's Garbage Collection System\n",
        "\n",
        "Python's garbage collection system is a memory management mechanism that automatically frees memory occupied by objects that are no longer needed. Here's how it works:\n",
        "\n",
        "1. Reference Counting : Python uses a reference counting mechanism to track the number of references to an object. When the reference count reaches zero, the object is garbage collected.\n",
        "2. Garbage Collector : Python's garbage collector periodically runs in the background to identify and free memory occupied by objects that are no longer referenced.\n",
        "\n",
        "How Reference Counting Works:\n",
        "\n",
        "1. Object creation : When an object is created, its reference count is set to 1.\n",
        "2. Reference increment : When a reference to the object is created (e.g., assigning it to a variable), its reference count is incremented.\n",
        "3. Reference decrement: When a reference to the object is deleted (e.g., deleting a variable), its reference count is decremented.\n",
        "4. Garbage collection : When the reference count reaches zero, the object is garbage collected.\n",
        "\n",
        "Generational Garbage Collection :\n",
        "\n",
        "Python's garbage collector uses a generational approach to garbage collection, which divides objects into three generations based on their lifetime:\n",
        "\n",
        "1. Generation 0 : Newly created objects.\n",
        "2. Generation 1 : Objects that survive one garbage collection cycle.\n",
        "3. Generation 2 : Long-lived objects that survive multiple garbage collection cycles.\n",
        "\n",
        "Benefits:\n",
        "\n",
        "- Automatic memory management: Python's garbage collection system eliminates the need for manual memory management.\n",
        "- Reduced memory leaks : The garbage collector helps prevent memory leaks by freeing memory occupied by objects that are no longer referenced.\n",
        "\n",
        "Best practices:\n",
        "\n",
        "- Use del statement : Use the del statement to delete references to objects that are no longer needed.\n",
        "- Avoid circular references : Avoid creating circular references, which can prevent objects from being garbage collected.\n",
        "\n",
        "By understanding how Python's garbage collection system works, you can write more efficient and reliable code.\n",
        "\n"
      ],
      "metadata": {
        "id": "6migqGaKVfKF"
      }
    },
    {
      "cell_type": "markdown",
      "source": [
        "# **Q16. What is the purpose of the else block in exception handling?**\n"
      ],
      "metadata": {
        "id": "UqFW2-hcWmED"
      }
    },
    {
      "cell_type": "markdown",
      "source": [
        "# **Ans16.**\n",
        "# Purpose of the Else Block in Exception Handling\n",
        "\n",
        "The else block in exception handling is used to specify a block of code that should be executed when no exceptions are raised in the try block.\n",
        "\n",
        "When to Use the Else Block:\n",
        "\n",
        "- Code that should run when no exceptions occur : Use the else block to execute code that should run only when no exceptions are raised in the try block.\n",
        "- Separating normal execution from exception handling : The else block helps separate the normal execution path from the exception handling path.\n",
        "\n",
        "Example"
      ],
      "metadata": {
        "id": "Dk3cErfJWtTX"
      }
    },
    {
      "cell_type": "code",
      "source": [
        "try:\n",
        "    x = 1 / 1\n",
        "except ZeroDivisionError:\n",
        "    print(\"Cannot divide by zero!\")\n",
        "else:\n",
        "    print(\"Division successful!\")"
      ],
      "metadata": {
        "id": "BCyA7mLv_ucy"
      },
      "execution_count": null,
      "outputs": []
    },
    {
      "cell_type": "markdown",
      "source": [
        "In this example, the else block is executed because no exception is raised in the try block.\n",
        "\n",
        "Benefits:\n",
        "\n",
        "- Clearer code structure : The else block makes the code structure clearer by separating the normal execution path from the exception handling path.\n",
        "- Improved readability : The else block improves readability by making it clear what code should run when no exceptions occur.\n",
        "\n",
        "Best practices:\n",
        "\n",
        "- Use the else block judiciously : Use the else block only when necessary, and make sure the code in the else block is relevant to the try block.\n",
        "- Keep the else block concise : Keep the code in the else block concise and focused on the normal execution path.\n",
        "\n",
        "By using the else block effectively, you can write more readable and maintainable code.\n",
        "\n"
      ],
      "metadata": {
        "id": "lbXkIhRiXgGT"
      }
    },
    {
      "cell_type": "markdown",
      "source": [
        "# **Q17. What are the common logging levels in Python?**\n"
      ],
      "metadata": {
        "id": "h-88hHFfYJKK"
      }
    },
    {
      "cell_type": "markdown",
      "source": [
        "# **Ans17.**\n",
        "# Common Logging Levels in Python\n",
        "\n",
        "Python's logging module provides several built-in logging levels that can be used to categorize log messages based on their severity or importance. The common logging levels are:\n",
        "\n",
        "1. DEBUG : Detailed information, typically of interest only when diagnosing problems.\n",
        "2. INFO : Confirmation that things are working as expected.\n",
        "3. WARNING : An indication that something unexpected happened, or indicative of some problem in the near future.\n",
        "4. ERROR : Due to a more serious problem, the software has not been able to perform some function.\n",
        "5. CRITICAL : A serious error, indicating that the program itself may be unable to continue running.\n",
        "\n",
        "When to Use Each Level:\n",
        "\n",
        "- DEBUG : Use for detailed debugging information, such as variable values or function calls.\n",
        "- INFO : Use for informational messages, such as confirmation of successful operations.\n",
        "- WARNING : Use for potential issues or unexpected events that don't prevent the program from working.\n",
        "- ERROR : Use for errors that prevent the program from working as expected.\n",
        "- CRITICAL : Use for critical errors that may cause the program to crash or become unstable.\n",
        "\n",
        "Example\n"
      ],
      "metadata": {
        "id": "8Sj6VLiGYOka"
      }
    },
    {
      "cell_type": "code",
      "source": [
        "import logging\n",
        "\n",
        "logging.basicConfig(level=logging.INFO)\n",
        "\n",
        "logging.debug(\"This is a debug message\")\n",
        "logging.info(\"This is an info message\")\n",
        "logging.warning(\"This is a warning message\")\n",
        "logging.error(\"This is an error message\")\n",
        "logging.critical(\"This is a critical message\")"
      ],
      "metadata": {
        "id": "QyJ8A0rX_83M"
      },
      "execution_count": null,
      "outputs": []
    },
    {
      "cell_type": "markdown",
      "source": [
        "In this example, the logging level is set to INFO , so only messages with levels INFO and above will be displayed.\n",
        "\n",
        "Best practices:\n",
        "\n",
        "- Use the correct logging level : Use the logging level that best describes the message.\n",
        "- Configure logging : Configure logging to output log messages to suitable destinations (e.g., console, file, network).\n",
        "\n",
        "By using the correct logging levels, you can write more informative and maintainable code.\n",
        "\n"
      ],
      "metadata": {
        "id": "bD3RBzqEZFF6"
      }
    },
    {
      "cell_type": "markdown",
      "source": [
        "# **Q18. What is the difference between os.fork( ) and multiprocessing in Python?**\n"
      ],
      "metadata": {
        "id": "n2sql__lZXBp"
      }
    },
    {
      "cell_type": "markdown",
      "source": [
        "# **Ans18.**\n",
        "# Difference between os.fork( ) and multiprocessing\n",
        "\n",
        "os.fork( ) and multiprocessing are two different approaches to creating multiple processes in Python. The key differences between them are:\n",
        "\n",
        "os.fork( ) :\n",
        "\n",
        "- Low-level process creation : os.fork( )creates a new process by duplicating the parent process.\n",
        "- Unix-based systems only : os.fork( ) is available only on Unix-based systems, such as Linux and macOS.\n",
        "- Manual process management : You need to manually manage the child process, including handling communication and synchronization.\n",
        "\n",
        "multiprocessing :\n",
        "\n",
        "- High-level process creation : multiprocessing provides a higher-level interface for creating multiple processes.\n",
        "- Cross-platform compatibility : multiprocessing is available on multiple platforms, including Windows, Linux, and macOS.\n",
        "- Built-in process management : multiprocessing provides built-in support for process management, including communication and synchronization.\n",
        "\n",
        "Key differences:\n",
        "\n",
        "1. Platform compatibility : os.fork( ) is Unix-based, while multiprocessing is cross-platform.\n",
        "2. Process management : os.fork( ) requires manual process management, while multiprocessing provides built-in support.\n",
        "3. Ease of use : multiprocessing is generally easier to use than os.fork( ).\n",
        "\n",
        "When to use each:\n",
        "\n",
        "- Use os.fork( ) when: You need fine-grained control over process creation and management, and you're working on a Unix-based system.\n",
        "- Use multiprocessing when : You need to create multiple processes and want a high-level interface with built-in process management, and you need cross-platform compatibility.\n",
        "\n",
        "Example with multiprocessing\n",
        "\n"
      ],
      "metadata": {
        "id": "26LWBuChZf9A"
      }
    },
    {
      "cell_type": "code",
      "source": [
        "import multiprocessing\n",
        "\n",
        "def worker():\n",
        "    print(\"Worker process started\")\n",
        "\n",
        "if __name__ == \"__main__\":\n",
        "    process = []\n",
        "    for i in range(5):\n",
        "        p = multiprocessing.Process(target=worker)\n",
        "        process.append(p)\n",
        "        p.start()\n",
        "\n",
        "    for p in process:\n",
        "        p.join()"
      ],
      "metadata": {
        "id": "478MV9MBAXZc"
      },
      "execution_count": null,
      "outputs": []
    },
    {
      "cell_type": "markdown",
      "source": [
        "In this example, multiprocessing is used to create multiple processes that run the worker function.\n",
        "\n",
        "Best practices:\n",
        "\n",
        "- Use multiprocessing for most use cases : multiprocessing provides a higher-level interface and is generally easier to use.\n",
        "- Use os.fork( ) when necessary: Use os.fork( ) when you need fine-grained control over process creation and management.\n",
        "\n"
      ],
      "metadata": {
        "id": "_aSlLUuIdGqF"
      }
    },
    {
      "cell_type": "markdown",
      "source": [
        "# **Q19. What is the importance of closing a file in Python?**\n"
      ],
      "metadata": {
        "id": "WlKLntMVdkzn"
      }
    },
    {
      "cell_type": "markdown",
      "source": [
        "# **Ans19.**\n",
        "# Importance of Closing a File in Python\n",
        "\n",
        "Closing a file in Python is essential for several reasons:\n",
        "\n",
        "1. Freeing system resources : When a file is opened, system resources such as file descriptors are allocated. Closing the file releases these resources, making them available for other tasks.\n",
        "2. Preventing file corruption : If a file is not properly closed, it may become corrupted, leading to data loss or inconsistencies.\n",
        "3. Allowing other processes to access the file : Closing a file allows other processes to access the file, which is particularly important in multi-process or multi-threaded environments.\n",
        "4. Ensuring data integrity : Closing a file ensures that any buffered data is written to the file, ensuring data integrity.\n",
        "\n",
        "Best practices:\n",
        "\n",
        "- Use the with statement : The with statement automatically closes the file when you're done with it, even if exceptions occur.\n",
        "- Call file.close( ) : If you're not using the with statement, make sure to call file.close( ) to close the file.\n",
        "\n",
        "Example with With statement"
      ],
      "metadata": {
        "id": "3Q4S4qnRd7dq"
      }
    },
    {
      "cell_type": "code",
      "source": [
        "with open(\"example.txt\", \"r\") as file:\n",
        "  content = file.read()"
      ],
      "metadata": {
        "id": "v9yufRj6A9p_"
      },
      "execution_count": null,
      "outputs": []
    },
    {
      "cell_type": "markdown",
      "source": [
        "In this example, the file is automatically closed when the with block is exited.\n",
        "\n",
        "Example with file.close( )\n",
        "file = open(\"example.txt\", \"r\")\n",
        "content = file.read( )\n",
        "file.close( )\n",
        "In this example, the file is closed manually using file.close( ) .\n",
        "\n",
        "By closing files properly, you can ensure that system resources are freed, files are not corrupted, and data integrity is maintained.\n",
        "\n"
      ],
      "metadata": {
        "id": "8bkK6BckfIOb"
      }
    },
    {
      "cell_type": "markdown",
      "source": [
        "# **Q20. What is the difference between file.read( ) and file.readline( ) in Python?**\n"
      ],
      "metadata": {
        "id": "ptWdo2qwiCxC"
      }
    },
    {
      "cell_type": "markdown",
      "source": [
        "# **Ans20.**\n",
        "# Difference between file.read() and file.readline()\n",
        "\n",
        "file.read() and file.readline() are two methods used to read data from a file in Python. The key differences between them are:\n",
        "\n",
        "file.read() :\n",
        "\n",
        "- Reads the entire file : file.read() reads the entire contents of the file into a single string.\n",
        "- Returns a string : The method returns a string containing the entire file contents.\n",
        "\n",
        "file.readline() :\n",
        "\n",
        "- Reads a single line : file.readline() reads a single line from the file, including the newline character at the end.\n",
        "- Returns a string : The method returns a string containing the line read from the file.\n",
        "\n",
        "Key differences:\n",
        "\n",
        "1. Amount of data read : file.read() reads the entire file, while file.readline() reads a single line.\n",
        "2. Use cases : Use file.read() when you need to process the entire file contents, and use file.readline() when you need to process the file line by line.\n",
        "\n",
        "Example with file.read()\n"
      ],
      "metadata": {
        "id": "stU9IvL4iSUK"
      }
    },
    {
      "cell_type": "code",
      "source": [
        "with open(\"example.txt\", \"r\") as file:\n",
        "    content = file.read()\n",
        "    print(content)"
      ],
      "metadata": {
        "id": "CSDyKiziBRn-"
      },
      "execution_count": null,
      "outputs": []
    },
    {
      "cell_type": "markdown",
      "source": [
        "In this example, the entire contents of the file are read into the content variable.\n",
        "\n",
        "Example with file.readline()\n"
      ],
      "metadata": {
        "id": "6kuXfZjDjsg1"
      }
    },
    {
      "cell_type": "code",
      "source": [
        "with open(\"example.txt\", \"r\") as file:\n",
        "    line = file.readline()\n",
        "    while line:\n",
        "        print(line.strip())\n",
        "        line = file.readline()"
      ],
      "metadata": {
        "id": "OX7kjddQBXxt"
      },
      "execution_count": null,
      "outputs": []
    },
    {
      "cell_type": "markdown",
      "source": [
        "In this example, the file is read line by line, and each line is printed to the console.\n",
        "\n",
        "Best practices:\n",
        "\n",
        "- Use file.read() for small files: Use file.read() when working with small files that fit into memory.\n",
        "- Use file.readline() for large files: Use file.readline() when working with large files that don't fit into memory.\n",
        "\n",
        "By choosing the right method, you can efficiently read and process file contents in Python.\n",
        "\n"
      ],
      "metadata": {
        "id": "znFvo_6bkNpy"
      }
    },
    {
      "cell_type": "markdown",
      "source": [
        "# **Q21. What is the logging module in Python used for?**\n"
      ],
      "metadata": {
        "id": "08wxky9EkwES"
      }
    },
    {
      "cell_type": "markdown",
      "source": [
        "# **Ans21.**\n",
        "# Logging Module in Python\n",
        "\n",
        "The logging module in Python is a built-in module that allows you to log events in your program. Logging is useful for:\n",
        "\n",
        "1. Debugging : Logging helps you diagnose issues in your code by providing detailed information about the program's execution.\n",
        "2. Auditing : Logging can be used to track important events, such as user actions or system changes.\n",
        "3. Monitoring : Logging can be used to monitor the performance and health of your application.\n",
        "\n",
        "Key Features:\n",
        "\n",
        "- Log levels : The logging module provides several log levels, including DEBUG, INFO, WARNING, ERROR, and CRITICAL, which allow you to categorize log messages based on their severity.\n",
        "- Log handlers : The logging module provides several log handlers, including console, file, and network handlers, which allow you to output log messages to different destinations.\n",
        "- Log formatting : The logging module allows you to customize the format of log messages, including the timestamp, log level, and message.\n",
        "\n",
        "Example\n"
      ],
      "metadata": {
        "id": "Pg8fN-2dk49C"
      }
    },
    {
      "cell_type": "code",
      "source": [
        "import logging\n",
        "\n",
        "logging.basicConfig(level=logging.INFO)\n",
        "\n",
        "logging.debug(\"This is a debug message\")\n",
        "logging.info(\"This is an info message\")\n",
        "logging.warning(\"This is a warning message\")\n",
        "logging.error(\"This is an error message\")\n",
        "logging.critical(\"This is a critical message\")"
      ],
      "metadata": {
        "id": "yfhKQC3ABgrF"
      },
      "execution_count": null,
      "outputs": []
    },
    {
      "cell_type": "markdown",
      "source": [
        "In this example, the logging module is configured to output log messages with level INFO and above to the console.\n",
        "\n",
        "Best practices:\n",
        "\n",
        "- Use the logging module instead of print statements : The logging module provides more flexibility and control over log messages than print statements.\n",
        "- Configure logging : Configure logging to output log messages to suitable destinations and use suitable log levels.\n",
        "- Use log levels correctly : Use log levels correctly to categorize log messages based on their severity.\n",
        "\n",
        "By using the logging module effectively, you can write more maintainable and debuggable code.\n",
        "\n"
      ],
      "metadata": {
        "id": "BkcqydA5l_dN"
      }
    },
    {
      "cell_type": "markdown",
      "source": [
        "# **Q22. What is the os module in Python used for in file handling?**\n"
      ],
      "metadata": {
        "id": "Mfb4w8uWmMzZ"
      }
    },
    {
      "cell_type": "markdown",
      "source": [
        "# **Ans22.**\n",
        "# OS Module in Python for File Handling\n",
        "\n",
        "The os module in Python provides a way to interact with the operating system and perform various file-related operations. Some common uses of the os module in file handling are:\n",
        "\n",
        "1. Working with directories :\n",
        "    - os.mkdir() : Create a new directory.\n",
        "    - os.rmdir() : Remove an empty directory.\n",
        "    - os.chdir() : Change the current working directory.\n",
        "    - os.getcwd() : Get the current working directory.\n",
        "2. Working with files :\n",
        "    - os.rename() : Rename a file.\n",
        "    - os.remove() : Remove a file.\n",
        "3. Checking file existence  :\n",
        "    - os.path.exists() : Check if a file or directory exists.\n",
        "4. Getting file information :\n",
        "    - os.path.getsize() : Get the size of a file.\n",
        "    - os.path.getmtime() : Get the last modification time of a file.\n",
        "\n",
        "Example\n"
      ],
      "metadata": {
        "id": "VPPozDiRmnvw"
      }
    },
    {
      "cell_type": "code",
      "source": [
        "import os\n",
        "\n",
        "# Create a new directory\n",
        "os.mkdir(\"new_directory\")\n",
        "\n",
        "# Change the current working directory\n",
        "os.chdir(\"new_directory\")\n",
        "\n",
        "# Create a new file\n",
        "with open(\"example.txt\", \"w\") as file:\n",
        "    file.write(\"Hello, world!\")\n",
        "\n",
        "# Get the size of the file\n",
        "file_size = os.path.getsize(\"example.txt\")\n",
        "print(f\"File size: {file_size} bytes\")\n",
        "\n",
        "# Remove the file\n",
        "os.remove(\"example.txt\")\n",
        "\n",
        "# Remove the directory\n",
        "os.chdir(\"..\")\n",
        "os.rmdir(\"new_directory\")"
      ],
      "metadata": {
        "id": "06LHwP-4Bolh"
      },
      "execution_count": null,
      "outputs": []
    },
    {
      "cell_type": "markdown",
      "source": [
        "In this example, the os module is used to create a new directory, change the current working directory, create a new file, get the size of the file, remove the file, and remove the directory.\n",
        "\n",
        "Best practices:\n",
        "\n",
        "- Use the os.path module for path operations: The os.path module provides a way to perform path operations in a platform-independent way.\n",
        "- Use try-except blocks for error handling : Use try-except blocks to handle errors that may occur during file operations.\n",
        "\n",
        "By using the os module effectively, you can perform various file-related operations in a platform-independent way."
      ],
      "metadata": {
        "id": "VrdOIkmgoOsi"
      }
    },
    {
      "cell_type": "markdown",
      "source": [
        "# **Q23. What are the challenges associated with memory management in Python?**\n"
      ],
      "metadata": {
        "id": "By8cAazxoguP"
      }
    },
    {
      "cell_type": "markdown",
      "source": [
        "# **Ans23.**\n",
        "# with Memory Management in Python\n",
        "\n",
        "Python's automatic memory management through garbage collection provides several benefits, but it also introduces some challenges:\n",
        "\n",
        "1. Memory Leaks : Memory leaks can occur when objects are no longer needed but still referenced, preventing the garbage collector from freeing the memory.\n",
        "2. Performance Overhead : Garbage collection can introduce performance overhead, especially for large datasets or real-time applications.\n",
        "3. Memory Fragmentation : Memory fragmentation can occur when small objects are allocated and deallocated frequently, leading to inefficient memory usage.\n",
        "4. Circular References : Circular references between objects can prevent the garbage collector from freeing the memory, leading to memory leaks.\n",
        "5. Global Interpreter Lock (GIL) : The GIL can limit the effectiveness of multithreading in Python, leading to performance issues and increased memory usage.\n",
        "\n",
        "Best Practices:\n",
        "\n",
        "- Use weak references : Use weak references to avoid circular references and allow the garbage collector to free memory.\n",
        "- Avoid global variables : Avoid using global variables, which can lead to memory leaks and performance issues.\n",
        "- Use context managers : Use context managers to ensure that resources, such as files and connections, are properly closed and memory is freed.\n",
        "- Monitor memory usage : Monitor memory usage and optimize code to reduce memory consumption.\n",
        "- Use memory profiling tools : Use memory profiling tools to identify memory leaks and optimize memory usage.\n",
        "\n",
        "Example\n"
      ],
      "metadata": {
        "id": "BdT2hDI3psgW"
      }
    },
    {
      "cell_type": "code",
      "source": [
        "import weakref\n",
        "\n",
        "class Node:\n",
        "    def __init__(self, value):\n",
        "        self.value = value\n",
        "        self.next = None\n",
        "\n",
        "# Create a circular reference\n",
        "node1 = Node(1)\n",
        "node2 = Node(2)\n",
        "node1.next = node2\n",
        "node2.next = node1\n",
        "\n",
        "# Use weak references to avoid circular references\n",
        "node1.next = weakref.ref(node2)\n",
        "node2.next = weakref.ref(node1)"
      ],
      "metadata": {
        "id": "cQlO6qBUBujV"
      },
      "execution_count": null,
      "outputs": []
    },
    {
      "cell_type": "markdown",
      "source": [
        "In this example, weak references are used to avoid circular references between objects, allowing the garbage collector to free memory.\n",
        "\n",
        "By understanding the challenges associated with memory management in Python and following best practices, you can write more efficient and scalable code."
      ],
      "metadata": {
        "id": "M2Q8FORFrNah"
      }
    },
    {
      "cell_type": "markdown",
      "source": [
        "# **Q24.  How do you raise an exception manually in Python?**\n"
      ],
      "metadata": {
        "id": "B5XFma7erRtl"
      }
    },
    {
      "cell_type": "markdown",
      "source": [
        "# **Ans24.**\n",
        "# Raising an Exception Manually in Python\n",
        "\n",
        "You can raise an exception manually in Python using the raise keyword. Here's an example:\n"
      ],
      "metadata": {
        "id": "0Kx40Lkwrawv"
      }
    },
    {
      "cell_type": "code",
      "source": [
        "def divide(a, b):\n",
        "    if b == 0:\n",
        "        raise ValueError(\"Cannot divide by zero!\")\n",
        "    return a / b\n",
        "\n",
        "try:\n",
        "    result = divide(10, 0)\n",
        "except ValueError as e:\n",
        "    print(f\"Error: {e}\")"
      ],
      "metadata": {
        "id": "5WyHbs3uBzwH"
      },
      "execution_count": null,
      "outputs": []
    },
    {
      "cell_type": "markdown",
      "source": [
        "Raising an Exception Manually in Python\n",
        "\n",
        "You can raise an exception manually in Python using the raise keyword. Here's an example:\n",
        "def divide(a, b):\n",
        "    if b == 0:\n",
        "        raise ValueError(\"Cannot divide by zero!\")\n",
        "    return a / b\n",
        "\n",
        "try:\n",
        "    result = divide(10, 0)\n",
        "except ValueError as e:\n",
        "    print(f\"Error: {e}\")\n",
        "In this example, the divide function raises a ValueError` exception when the divisor is zero.\n",
        "\n",
        "Best practices:\n",
        "\n",
        "- Use specific exception types : Use specific exception types, such as ValueError or TypeError, to provide more information about the error.\n",
        "- Provide a meaningful error message : Provide a meaningful error message to help the caller understand the cause of the error.\n",
        "- Document the exceptions : Document the exceptions raised by your functions or methods to help users understand how to handle them.\n",
        "\n",
        "Custom Exceptions\n",
        "\n",
        "You can also define custom exceptions by creating a class that inherits from the Exception class:"
      ],
      "metadata": {
        "id": "ol7nh_jsshNi"
      }
    },
    {
      "cell_type": "code",
      "source": [
        "class InsufficientBalanceError(Exception):\n",
        "    def __init__(self, balance, amount):\n",
        "        message = f\"Insufficient balance: ${balance} (trying to withdraw ${amount})\"\n",
        "        super().__init__(message)\n",
        "\n",
        "def withdraw(balance, amount):\n",
        "    if amount > balance:\n",
        "        raise InsufficientBalanceError(balance, amount)\n",
        "    return balance - amount\n",
        "\n",
        "try:\n",
        "    balance = 100\n",
        "    amount = 200\n",
        "    new_balance = withdraw(balance, amount)\n",
        "except InsufficientBalanceError as e:\n",
        "    print(f\"Error: {e}\")"
      ],
      "metadata": {
        "id": "VFFiVutBB5oq"
      },
      "execution_count": null,
      "outputs": []
    },
    {
      "cell_type": "markdown",
      "source": [
        "In this example, a custom InsufficientBalanceError exception is defined and raised when the account balance is insufficient.\n",
        "\n",
        "By raising exceptions manually, you can provide more control over error handling and improve the robustness of your code."
      ],
      "metadata": {
        "id": "wcsB1SjytOKf"
      }
    },
    {
      "cell_type": "markdown",
      "source": [
        "# **Q25. Why is it important to use multithreading in certain applications?**"
      ],
      "metadata": {
        "id": "Ewtk2dihtV4p"
      }
    },
    {
      "cell_type": "markdown",
      "source": [
        "# **Ans25.**\n",
        "# Importance of Multithreading\n",
        "\n",
        "Multithreading is important in certain applications because it allows for:\n",
        "\n",
        "1. Improved responsiveness : By performing time-consuming tasks in separate threads, the main thread can remain responsive to user input and other events.\n",
        "2. Increased throughput : Multithreading can improve the overall throughput of an application by utilizing multiple CPU cores and performing tasks concurrently.\n",
        "3. Efficient resource utilization : Multithreading can help to reduce idle time and improve resource utilization by performing tasks in parallel.\n",
        "4. Simplified programming : Multithreading can simplify programming by allowing developers to write single-threaded code that can be executed concurrently.\n",
        "\n",
        "Use cases for multithreading:\n",
        "\n",
        "1. GUI applications : Multithreading is often used in GUI applications to perform time-consuming tasks in the background while keeping the GUI responsive.\n",
        "2. Server applications : Multithreading is often used in server applications to handle multiple client requests concurrently.\n",
        "3. Scientific computing : Multithreading can be used in scientific computing to perform computationally intensive tasks in parallel.\n",
        "4. Real-time systems : Multithreading can be used in real-time systems to perform tasks with strict timing constraints.\n",
        "\n",
        "Example\n"
      ],
      "metadata": {
        "id": "zs4VAEQktd56"
      }
    },
    {
      "cell_type": "code",
      "source": [
        "import threading\n",
        "import time\n",
        "\n",
        "def perform_task(task_name):\n",
        "    print(f\"Starting task {task_name}\")\n",
        "    time.sleep(2)\n",
        "    print(f\"Task {task_name} completed\")\n",
        "\n",
        "# Create and start two threads\n",
        "thread1 = threading.Thread(target=perform_task, args=(\"Task 1\",))\n",
        "thread2 = threading.Thread(target=perform_task, args=(\"Task 2\",))\n",
        "\n",
        "thread1.start()\n",
        "thread2.start()\n",
        "\n",
        "# Wait for both threads to complete\n",
        "thread1.join()\n",
        "thread2.join()"
      ],
      "metadata": {
        "id": "l6qZZm-GCAw7"
      },
      "execution_count": null,
      "outputs": []
    },
    {
      "cell_type": "markdown",
      "source": [
        "In this example, two threads are created and started to perform two tasks concurrently.\n",
        "\n",
        "Best practices:\n",
        "\n",
        "- Use synchronization primitives : Use synchronization primitives, such as locks or semaphores, to coordinate access to shared resources.\n",
        "- Avoid shared state : Avoid shared state between threads whenever possible to reduce the need for synchronization.\n",
        "- Use high-level concurrency APIs : Use high-level concurrency APIs, such as concurrent.futures , to simplify multithreading and reduce the risk of errors.\n",
        "\n",
        "By using multithreading effectively, you can improve the performance, responsiveness, and efficiency of your applications."
      ],
      "metadata": {
        "id": "TL9wFqLUu600"
      }
    },
    {
      "cell_type": "markdown",
      "source": [
        "# **Practical Questions**"
      ],
      "metadata": {
        "id": "T5tpzeC4vMOe"
      }
    },
    {
      "cell_type": "markdown",
      "source": [
        "# **Q1. How can you open a file for writing in Python and write a string to it ?**"
      ],
      "metadata": {
        "id": "IQML8Nj7Q5pX"
      }
    },
    {
      "cell_type": "code",
      "source": [
        "# Open the file in write mode ('w')\n",
        "with open(\"example.txt\", \"w\") as file:\n",
        "    # Write a string to the file\n",
        "    file.write(\"Hello, world!\")"
      ],
      "metadata": {
        "id": "oX23gTW3RIsr"
      },
      "execution_count": null,
      "outputs": []
    },
    {
      "cell_type": "markdown",
      "source": [
        "# **Q2. Write a Python program to read the contents of a file and print each line?**\n"
      ],
      "metadata": {
        "id": "Phn-zQbG5ShR"
      }
    },
    {
      "cell_type": "code",
      "source": [
        "print(\"Q2. Write a Python program to read the contents of a file and print each line.\\n\")\n",
        "\n",
        "# Method 1: Basic file reading with line numbers\n",
        "print(\"Method 1: Reading file with line numbers\")\n",
        "try:\n",
        "    with open(\"sample.txt\", \"r\") as file:\n",
        "        line_number = 1\n",
        "        for line in file:\n",
        "            print(f\"{line_number}: {line.strip()}\")\n",
        "            line_number += 1\n",
        "except FileNotFoundError:\n",
        "    print(\"Error: File 'sample.txt' not found!\")\n",
        "print()\n",
        "\n",
        "# Method 2: Using enumerate for automatic line numbering\n",
        "print(\"Method 2: Using enumerate for line numbering\")\n",
        "try:\n",
        "    with open(\"sample.txt\", \"r\") as file:\n",
        "        for line_num, line in enumerate(file, 1):\n",
        "            print(f\"Line {line_num}: {line.rstrip()}\")\n",
        "except FileNotFoundError:\n",
        "    print(\"Error: File 'sample.txt' not found!\")\n",
        "print()\n",
        "\n",
        "# Method 3: Reading all lines at once\n",
        "print(\"Method 3: Reading all lines at once\")\n",
        "try:\n",
        "    with open(\"sample.txt\", \"r\") as file:\n",
        "        lines = file.readlines()\n",
        "        for i, line in enumerate(lines, 1):\n",
        "            print(f\"{i}: {line.strip()}\")\n",
        "except FileNotFoundError:\n",
        "    print(\"Error: File 'sample.txt' not found!\")\n",
        "print()\n",
        "\n",
        "# Method 4: Simple line-by-line reading\n",
        "print(\"Method 4: Simple line-by-line reading\")\n",
        "try:\n",
        "    with open(\"sample.txt\", \"r\") as file:\n",
        "        for line in file:\n",
        "            print(line.rstrip())  # rstrip() removes trailing newline\n",
        "except FileNotFoundError:\n",
        "    print(\"Error: File 'sample.txt' not found!\")\n",
        "print()\n",
        "\n",
        "# Method 5: Function to read any file\n",
        "print(\"Method 5: Reusable function\")\n",
        "def read_and_print_file(filename):\n",
        "    \"\"\"\n",
        "    Function to read a file and print each line with line numbers\n",
        "    \"\"\"\n",
        "    try:\n",
        "        with open(filename, \"r\", encoding=\"utf-8\") as file:\n",
        "            print(f\"Contents of '{filename}':\")\n",
        "            print(\"-\" * 30)\n",
        "            for line_num, line in enumerate(file, 1):\n",
        "                print(f\"{line_num:2d}: {line.rstrip()}\")\n",
        "            print(\"-\" * 30)\n",
        "    except FileNotFoundError:\n",
        "        print(f\"Error: File '{filename}' not found!\")\n",
        "    except PermissionError:\n",
        "        print(f\"Error: Permission denied to read '{filename}'\")\n",
        "    except Exception as e:\n",
        "        print(f\"Error reading file: {e}\")\n",
        "\n",
        "# Test the function\n",
        "read_and_print_file(\"sample.txt\")"
      ],
      "metadata": {
        "colab": {
          "base_uri": "https://localhost:8080/"
        },
        "id": "ZscQllJDLJRH",
        "outputId": "2bd39b74-b2f1-4e9b-87c1-468d26280f03"
      },
      "execution_count": null,
      "outputs": [
        {
          "output_type": "stream",
          "name": "stdout",
          "text": [
            "Q2. Write a Python program to read the contents of a file and print each line.\n",
            "\n",
            "Method 1: Reading file with line numbers\n",
            "Error: File 'sample.txt' not found!\n",
            "\n",
            "Method 2: Using enumerate for line numbering\n",
            "Error: File 'sample.txt' not found!\n",
            "\n",
            "Method 3: Reading all lines at once\n",
            "Error: File 'sample.txt' not found!\n",
            "\n",
            "Method 4: Simple line-by-line reading\n",
            "Error: File 'sample.txt' not found!\n",
            "\n",
            "Method 5: Reusable function\n",
            "Error: File 'sample.txt' not found!\n"
          ]
        }
      ]
    },
    {
      "cell_type": "markdown",
      "source": [
        "# **Q3.How would you handle a case where the file doesn't exist while trying to open it for reading?**\n"
      ],
      "metadata": {
        "id": "I85lcvftLseI"
      }
    },
    {
      "cell_type": "code",
      "source": [
        "import os\n",
        "from pathlib import Path\n",
        "\n",
        "print(\"Q3. How would you handle a case where the file doesn't exist while trying to open it for reading?\\n\")\n",
        "\n",
        "# Method 1: Basic try-except with FileNotFoundError\n",
        "print(\"Method 1: Basic Exception Handling\")\n",
        "try:\n",
        "    with open(\"nonexistent_file.txt\", \"r\") as file:\n",
        "        content = file.read()\n",
        "        print(content)\n",
        "except FileNotFoundError:\n",
        "    print(\"Error: The file does not exist!\")\n",
        "print()\n",
        "\n",
        "# Method 2: Multiple exception handling\n",
        "print(\"Method 2: Comprehensive Exception Handling\")\n",
        "def read_file_safe(filename):\n",
        "    try:\n",
        "        with open(filename, \"r\") as file:\n",
        "            return file.read()\n",
        "    except FileNotFoundError:\n",
        "        return f\"Error: File '{filename}' not found!\"\n",
        "    except PermissionError:\n",
        "        return f\"Error: Permission denied to access '{filename}'\"\n",
        "    except Exception as e:\n",
        "        return f\"Unexpected error: {e}\"\n",
        "\n",
        "result = read_file_safe(\"missing_file.txt\")\n",
        "print(result)\n",
        "print()\n",
        "\n",
        "# Method 3: Check file existence before opening\n",
        "print(\"Method 3: Check File Existence First\")\n",
        "filename = \"test_file.txt\"\n",
        "if os.path.exists(filename):\n",
        "    with open(filename, \"r\") as file:\n",
        "        print(file.read())\n",
        "else:\n",
        "    print(f\"File '{filename}' does not exist!\")\n",
        "print()\n",
        "\n",
        "# Method 4: Using pathlib (modern approach)\n",
        "print(\"Method 4: Using Pathlib\")\n",
        "file_path = Path(\"another_missing_file.txt\")\n",
        "if file_path.exists():\n",
        "    print(file_path.read_text())\n",
        "else:\n",
        "    print(f\"File '{file_path}' does not exist!\")\n",
        "print()\n",
        "\n",
        "# Method 5: Create file if it doesn't exist\n",
        "print(\"Method 5: Create File if Missing\")\n",
        "def read_or_create_file(filename):\n",
        "    try:\n",
        "        with open(filename, \"r\") as file:\n",
        "            return file.read()\n",
        "    except FileNotFoundError:\n",
        "        print(f\"File '{filename}' not found. Creating it...\")\n",
        "        with open(filename, \"w\") as file:\n",
        "            default_content = \"This file was created automatically.\"\n",
        "            file.write(default_content)\n",
        "        return default_content\n",
        "\n",
        "content = read_or_create_file(\"auto_created.txt\")\n",
        "print(f\"File content: {content}\")\n",
        "print()\n",
        "\n",
        "# Method 6: User-friendly function with multiple options\n",
        "print(\"Method 6: Complete File Handler Function\")\n",
        "def handle_file_reading(filename, create_if_missing=False, default_content=\"\"):\n",
        "    \"\"\"\n",
        "    Safely read a file with multiple error handling options\n",
        "    \"\"\"\n",
        "    try:\n",
        "        with open(filename, \"r\") as file:\n",
        "            content = file.read()\n",
        "            print(f\"Successfully read '{filename}':\")\n",
        "            print(content)\n",
        "            return content\n",
        "\n",
        "    except FileNotFoundError:\n",
        "        print(f\"FileNotFoundError: '{filename}' does not exist!\")\n",
        "\n",
        "        if create_if_missing:\n",
        "            print(f\"Creating '{filename}' with default content...\")\n",
        "            with open(filename, \"w\") as file:\n",
        "                file.write(default_content)\n",
        "            print(\"File created successfully!\")\n",
        "            return default_content\n",
        "        else:\n",
        "            print(\"Set create_if_missing=True to auto-create the file.\")\n",
        "            return None\n",
        "\n",
        "    except PermissionError:\n",
        "        print(f\"PermissionError: Cannot access '{filename}' - check permissions!\")\n",
        "        return None\n",
        "\n",
        "    except IsADirectoryError:\n",
        "        print(f\"IsADirectoryError: '{filename}' is a directory, not a file!\")\n",
        "        return None\n",
        "\n",
        "    except Exception as e:\n",
        "        print(f\"Unexpected error occurred: {type(e).__name__}: {e}\")\n",
        "        return None\n",
        "\n",
        "# Test the comprehensive function\n",
        "print(\"Testing with non-existent file:\")\n",
        "handle_file_reading(\"test1.txt\")\n",
        "\n",
        "print(\"\\nTesting with auto-creation:\")\n",
        "handle_file_reading(\"test2.txt\", create_if_missing=True, default_content=\"Hello from auto-created file!\")\n",
        "\n",
        "print(\"\\nTesting reading the created file:\")\n",
        "handle_file_reading(\"test2.txt\")\n"
      ],
      "metadata": {
        "colab": {
          "base_uri": "https://localhost:8080/",
          "height": 593
        },
        "id": "b_HF2oMnLrbd",
        "outputId": "c440c114-7950-437c-da65-dbf8566ce6f1"
      },
      "execution_count": null,
      "outputs": [
        {
          "output_type": "stream",
          "name": "stdout",
          "text": [
            "Q3. How would you handle a case where the file doesn't exist while trying to open it for reading?\n",
            "\n",
            "Method 1: Basic Exception Handling\n",
            "Error: The file does not exist!\n",
            "\n",
            "Method 2: Comprehensive Exception Handling\n",
            "Error: File 'missing_file.txt' not found!\n",
            "\n",
            "Method 3: Check File Existence First\n",
            "File 'test_file.txt' does not exist!\n",
            "\n",
            "Method 4: Using Pathlib\n",
            "File 'another_missing_file.txt' does not exist!\n",
            "\n",
            "Method 5: Create File if Missing\n",
            "File 'auto_created.txt' not found. Creating it...\n",
            "File content: This file was created automatically.\n",
            "\n",
            "Method 6: Complete File Handler Function\n",
            "Testing with non-existent file:\n",
            "FileNotFoundError: 'test1.txt' does not exist!\n",
            "Set create_if_missing=True to auto-create the file.\n",
            "\n",
            "Testing with auto-creation:\n",
            "FileNotFoundError: 'test2.txt' does not exist!\n",
            "Creating 'test2.txt' with default content...\n",
            "File created successfully!\n",
            "\n",
            "Testing reading the created file:\n",
            "Successfully read 'test2.txt':\n",
            "Hello from auto-created file!\n"
          ]
        },
        {
          "output_type": "execute_result",
          "data": {
            "text/plain": [
              "'Hello from auto-created file!'"
            ],
            "application/vnd.google.colaboratory.intrinsic+json": {
              "type": "string"
            }
          },
          "metadata": {},
          "execution_count": 13
        }
      ]
    },
    {
      "cell_type": "markdown",
      "source": [
        "# **Q4. Write a Python script that reads from one file and writes its content to another file?**\n"
      ],
      "metadata": {
        "id": "kPu1t3ZHMGlU"
      }
    },
    {
      "cell_type": "code",
      "source": [
        "import os\n",
        "from pathlib import Path\n",
        "\n",
        "print(\"Q4. Writing a script to copy file content from one file to another\")\n",
        "print(\"=\" * 60)\n",
        "\n",
        "# Method 1: Basic file copy with exception handling\n",
        "print(\"Method 1: Basic File Copy\")\n",
        "\n",
        "def copy_file_basic(source_file, destination_file):\n",
        "    \"\"\"\n",
        "    Basic function to copy content from source to destination file\n",
        "    \"\"\"\n",
        "    try:\n",
        "        # Read from source file\n",
        "        with open(source_file, 'r') as source:\n",
        "            content = source.read()\n",
        "\n",
        "        # Write to destination file\n",
        "        with open(destination_file, 'w') as destination:\n",
        "            destination.write(content)\n",
        "\n",
        "        print(f\"Successfully copied content from '{source_file}' to '{destination_file}'\")\n",
        "        return True\n",
        "\n",
        "    except FileNotFoundError as e:\n",
        "        print(f\"Error: Source file '{source_file}' not found!\")\n",
        "        return False\n",
        "    except PermissionError as e:\n",
        "        print(f\"Error: Permission denied - {e}\")\n",
        "        return False\n",
        "    except Exception as e:\n",
        "        print(f\"Unexpected error: {e}\")\n",
        "        return False\n",
        "# Test basic copy\n",
        "copy_file_basic(\"sample.txt\", \"copy_of_sample.txt\")\n",
        "print()\n",
        "\n",
        "# Method 2: Advanced file copy with encoding and options\n",
        "print(\"Method 2: Advanced File Copy with Options\")\n",
        "\n",
        "def copy_file_advanced(source_file, destination_file, encoding='utf-8',\n",
        "                      append_mode=False, create_backup=False):\n",
        "    \"\"\"\n",
        "    Advanced file copy function with multiple options\n",
        "    \"\"\"\n",
        "    try:\n",
        "        # Create backup if requested\n",
        "        if create_backup and os.path.exists(destination_file):\n",
        "            backup_name = f\"{destination_file}.backup\"\n",
        "            copy_file_basic(destination_file, backup_name)\n",
        "            print(f\"Backup created: {backup_name}\")\n",
        "\n",
        "        # Determine write mode\n",
        "        write_mode = 'a' if append_mode else 'w'\n",
        "\n",
        "        # Copy file content\n",
        "        with open(source_file, 'r', encoding=encoding) as source:\n",
        "            with open(destination_file, write_mode, encoding=encoding) as destination:\n",
        "                content = source.read()\n",
        "                destination.write(content)\n",
        "\n",
        "        print(f\"Advanced copy completed: '{source_file}' → '{destination_file}'\")\n",
        "        print(f\"Mode: {'Append' if append_mode else 'Overwrite'}, Encoding: {encoding}\")\n",
        "        return True\n",
        "\n",
        "    except UnicodeDecodeError as e:\n",
        "        print(f\"Encoding error: {e}\")\n",
        "        return False\n",
        "    except Exception as e:\n",
        "        print(f\"Error during advanced copy: {e}\")\n",
        "        return False\n",
        "\n",
        "# Test advanced copy\n",
        "copy_file_advanced(\"sample.txt\", \"advanced_copy.txt\", create_backup=True)\n",
        "print()\n",
        "\n",
        "# Method 3: Copy with file size and line-by-line processing\n",
        "print(\"Method 3: Line-by-Line Copy with Statistics\")\n",
        "\n",
        "def copy_file_with_stats(source_file, destination_file):\n",
        "    \"\"\"\n",
        "    Copy file line by line and provide statistics\n",
        "    \"\"\"\n",
        "    try:\n",
        "        line_count = 0\n",
        "        char_count = 0\n",
        "\n",
        "        with open(source_file, 'r') as source:\n",
        "            with open(destination_file, 'w') as destination:\n",
        "                for line in source:\n",
        "                    destination.write(line)\n",
        "                    line_count += 1\n",
        "                    char_count += len(line)\n",
        "\n",
        "        print(f\"File copy completed with statistics:\")\n",
        "        print(f\"  Source: {source_file}\")\n",
        "        print(f\"  Destination: {destination_file}\")\n",
        "        print(f\"  Lines copied: {line_count}\")\n",
        "        print(f\"  Characters copied: {char_count}\")\n",
        "        return True\n",
        "\n",
        "    except Exception as e:\n",
        "        print(f\"Error during statistical copy: {e}\")\n",
        "        return False\n",
        "\n",
        "# Test statistical copy\n",
        "copy_file_with_stats(\"sample.txt\", \"stats_copy.txt\")\n",
        "print()\n",
        "\n",
        "# Method 4: Binary file copy (for any file type)\n",
        "print(\"Method 4: Binary File Copy (Universal)\")\n",
        "\n",
        "def copy_file_binary(source_file, destination_file, chunk_size=1024):\n",
        "    \"\"\"\n",
        "    Copy any type of file using binary mode\n",
        "    \"\"\"\n",
        "    try:\n",
        "        with open(source_file, 'rb') as source:\n",
        "            with open(destination_file, 'wb') as destination:\n",
        "                while True:\n",
        "                    chunk = source.read(chunk_size)\n",
        "                    if not chunk:\n",
        "                        break\n",
        "                    destination.write(chunk)\n",
        "\n",
        "        # Get file sizes\n",
        "        source_size = os.path.getsize(source_file)\n",
        "        dest_size = os.path.getsize(destination_file)\n",
        "\n",
        "        print(f\"Binary copy completed:\")\n",
        "        print(f\"  Source size: {source_size} bytes\")\n",
        "        print(f\"  Destination size: {dest_size} bytes\")\n",
        "        print(f\"  Copy successful: {source_size == dest_size}\")\n",
        "        return True\n",
        "\n",
        "    except Exception as e:\n",
        "        print(f\"Error during binary copy: {e}\")\n",
        "        return False\n",
        "\n",
        "# Test binary copy\n",
        "copy_file_binary(\"sample.txt\", \"binary_copy.txt\")\n",
        "print()\n",
        "\n",
        "# Method 5: Complete file copy utility with validation\n",
        "print(\"Method 5: Complete File Copy Utility\")\n",
        "\n",
        "def file_copy_utility(source_file, destination_file,\n",
        "                     overwrite=True, verify_copy=True):\n",
        "    \"\"\"\n",
        "    Complete file copy utility with validation\n",
        "    \"\"\"\n",
        "    try:\n",
        "        # Check if source exists\n",
        "        if not os.path.exists(source_file):\n",
        "            print(f\"Error: Source file '{source_file}' does not exist!\")\n",
        "            return False\n",
        "\n",
        "        # Check if destination exists and handle overwrite\n",
        "        if os.path.exists(destination_file) and not overwrite:\n",
        "            print(f\"Error: Destination '{destination_file}' exists and overwrite=False\")\n",
        "            return False\n",
        "\n",
        "        # Perform the copy\n",
        "        with open(source_file, 'r') as source:\n",
        "            content = source.read()\n",
        "\n",
        "        with open(destination_file, 'w') as destination:\n",
        "            destination.write(content)\n",
        "\n",
        "        # Verify copy if requested\n",
        "        if verify_copy:\n",
        "            with open(source_file, 'r') as source:\n",
        "                original_content = source.read()\n",
        "            with open(destination_file, 'r') as destination:\n",
        "                copied_content = destination.read()\n",
        "\n",
        "            if original_content == copied_content:\n",
        "                print(f\"✓ File copy verified successful!\")\n",
        "            else:\n",
        "                print(f\"⚠ Warning: Copy verification failed!\")\n",
        "                return False\n",
        "\n",
        "        print(f\"File copy utility completed: '{source_file}' → '{destination_file}'\")\n",
        "        return True\n",
        "\n",
        "    except Exception as e:\n",
        "        print(f\"Error in file copy utility: {e}\")\n",
        "        return False\n",
        "\n",
        "# Test complete utility\n",
        "file_copy_utility(\"sample.txt\", \"utility_copy.txt\")\n",
        "print()\n",
        "\n",
        "# Method 6: Multiple file copy with progress\n",
        "print(\"Method 6: Batch File Copy\")\n",
        "\n",
        "def copy_multiple_files(file_pairs):\n",
        "    \"\"\"\n",
        "    Copy multiple files at once\n",
        "    file_pairs: list of tuples [(source1, dest1), (source2, dest2), ...]\n",
        "    \"\"\"\n",
        "    successful_copies = 0\n",
        "    failed_copies = 0\n",
        "\n",
        "    print(f\"Starting batch copy of {len(file_pairs)} files...\")\n",
        "\n",
        "    for i, (source, destination) in enumerate(file_pairs, 1):\n",
        "        print(f\"[{i}/{len(file_pairs)}] Copying '{source}' → '{destination}'\")\n",
        "\n",
        "        if copy_file_basic(source, destination):\n",
        "            successful_copies += 1\n",
        "        else:\n",
        "            failed_copies += 1\n",
        "\n",
        "    print(f\"\\nBatch copy completed:\")\n",
        "    print(f\"  Successful: {successful_copies}\")\n",
        "    print(f\"  Failed: {failed_copies}\")\n",
        "\n",
        "    return successful_copies, failed_copies\n",
        "\n",
        "# Test batch copy\n",
        "file_pairs = [\n",
        "    (\"sample.txt\", \"batch_copy1.txt\"),\n",
        "    (\"sample.txt\", \"batch_copy2.txt\")\n",
        "]\n",
        "copy_multiple_files(file_pairs)\n",
        "print()\n",
        "# Method 7: Interactive file copy\n",
        "print(\"Method 7: User-Friendly File Copy Function\")\n",
        "\n",
        "def interactive_file_copy():\n",
        "    \"\"\"\n",
        "    Interactive function that prompts for file names\n",
        "    \"\"\"\n",
        "    print(\"Interactive File Copy Tool\")\n",
        "    print(\"-\" * 25)\n",
        "\n",
        "    source = input(\"Enter source file name: \").strip()\n",
        "    if not source:\n",
        "        print(\"No source file specified!\")\n",
        "        return\n",
        "\n",
        "    destination = input(\"Enter destination file name: \").strip()\n",
        "    if not destination:\n",
        "        print(\"No destination file specified!\")\n",
        "        return\n",
        "\n",
        "    # Check if destination exists\n",
        "    if os.path.exists(destination):\n",
        "        overwrite = input(f\"'{destination}' exists. Overwrite? (y/n): \").lower()\n",
        "        if overwrite != 'y':\n",
        "            print(\"Copy cancelled.\")\n",
        "            return\n",
        "\n",
        "    # Perform copy\n",
        "    success = copy_file_basic(source, destination)\n",
        "    if success:\n",
        "        print(\"File copy completed successfully! ✓\")\n",
        "    else:\n",
        "        print(\"File copy failed! ✗\")\n",
        "\n",
        "# Uncomment the next line to test interactive copy\n",
        "# interactive_file_copy()\n",
        "\n",
        "print(\"All file copy methods demonstrated!\")"
      ],
      "metadata": {
        "colab": {
          "base_uri": "https://localhost:8080/"
        },
        "id": "2LmbfqbNMQ4s",
        "outputId": "3b8fb9aa-53f9-4282-e49b-be517d35342f"
      },
      "execution_count": null,
      "outputs": [
        {
          "output_type": "stream",
          "name": "stdout",
          "text": [
            "Q4. Writing a script to copy file content from one file to another\n",
            "============================================================\n",
            "Method 1: Basic File Copy\n",
            "Error: Source file 'sample.txt' not found!\n",
            "\n",
            "Method 2: Advanced File Copy with Options\n",
            "Error during advanced copy: [Errno 2] No such file or directory: 'sample.txt'\n",
            "\n",
            "Method 3: Line-by-Line Copy with Statistics\n",
            "Error during statistical copy: [Errno 2] No such file or directory: 'sample.txt'\n",
            "\n",
            "Method 4: Binary File Copy (Universal)\n",
            "Error during binary copy: [Errno 2] No such file or directory: 'sample.txt'\n",
            "\n",
            "Method 5: Complete File Copy Utility\n",
            "Error: Source file 'sample.txt' does not exist!\n",
            "\n",
            "Method 6: Batch File Copy\n",
            "Starting batch copy of 2 files...\n",
            "[1/2] Copying 'sample.txt' → 'batch_copy1.txt'\n",
            "Error: Source file 'sample.txt' not found!\n",
            "[2/2] Copying 'sample.txt' → 'batch_copy2.txt'\n",
            "Error: Source file 'sample.txt' not found!\n",
            "\n",
            "Batch copy completed:\n",
            "  Successful: 0\n",
            "  Failed: 2\n",
            "\n",
            "Method 7: User-Friendly File Copy Function\n",
            "All file copy methods demonstrated!\n"
          ]
        }
      ]
    },
    {
      "cell_type": "markdown",
      "source": [
        "# **Q5. How would you catch and handle division by zero error in Python?**"
      ],
      "metadata": {
        "id": "f8d8TqKlNUDe"
      }
    },
    {
      "cell_type": "code",
      "source": [
        "# Corrected code for handling division by zero error in Python\n",
        "\n",
        "try:\n",
        "    numerator = 10\n",
        "    denominator = 0\n",
        "    result = numerator / denominator\n",
        "    print(\"Result:\", result)\n",
        "except ZeroDivisionError:\n",
        "    print(\"Error: Division by zero is not allowed.\")"
      ],
      "metadata": {
        "colab": {
          "base_uri": "https://localhost:8080/"
        },
        "id": "dH5ICtOCNX9s",
        "outputId": "504a7d61-612e-4a32-ce27-0a02bf95d68f"
      },
      "execution_count": null,
      "outputs": [
        {
          "output_type": "stream",
          "name": "stdout",
          "text": [
            "Error: Division by zero is not allowed.\n"
          ]
        }
      ]
    },
    {
      "cell_type": "markdown",
      "source": [
        "# **Q6. Write a Python program that logs an error message to a log file when a division by zero exception occurs.**"
      ],
      "metadata": {
        "id": "PCaG-d4ONdqg"
      }
    },
    {
      "cell_type": "code",
      "source": [
        "import logging\n",
        "\n",
        "# Configure logging\n",
        "logging.basicConfig(filename='error_log.log', level=logging.ERROR,\n",
        "                    format='%(asctime)s - %(levelname)s - %(message)s')\n",
        "\n",
        "try:\n",
        "    numerator = 10\n",
        "    denominator = 0\n",
        "    result = numerator / denominator\n",
        "    print(\"Result:\", result)\n",
        "except ZeroDivisionError as e:\n",
        "    logging.error(\"Division by zero error occurred: %s\", e)\n",
        "    print(\"Error: Division by zero is not allowed. Check the log file for details.\")"
      ],
      "metadata": {
        "colab": {
          "base_uri": "https://localhost:8080/"
        },
        "id": "06bvsDzCNi7i",
        "outputId": "c9bf292c-b9ea-44d0-9051-2ee242a4ede5"
      },
      "execution_count": null,
      "outputs": [
        {
          "output_type": "stream",
          "name": "stderr",
          "text": [
            "ERROR:root:Division by zero error occurred: division by zero\n"
          ]
        },
        {
          "output_type": "stream",
          "name": "stdout",
          "text": [
            "Error: Division by zero is not allowed. Check the log file for details.\n"
          ]
        }
      ]
    },
    {
      "cell_type": "markdown",
      "source": [
        "# **Q7. How do you log information at different levels (INFO, ERROR, WARNING) in Python using the logging module**\n"
      ],
      "metadata": {
        "id": "9eSWX_ERNqbT"
      }
    },
    {
      "cell_type": "code",
      "source": [
        "import logging\n",
        "\n",
        "# Configure the logging settings\n",
        "logging.basicConfig(\n",
        "    filename='app.log',  # Log file name\n",
        "    level=logging.DEBUG,  # Set the logging level to DEBUG or higher\n",
        "    format='%(asctime)s - %(levelname)s - %(message)s'  # Log message format\n",
        ")\n",
        "\n",
        "# Logging messages at different levels\n",
        "logging.debug(\"This is a DEBUG message, useful for debugging.\")\n",
        "logging.info(\"This is an INFO message, generally for informational purposes.\")\n",
        "logging.warning(\"This is a WARNING message, indicating a potential issue.\")\n",
        "logging.error(\"This is an ERROR message, indicating that an error has occurred.\")\n",
        "logging.critical(\"This is a CRITICAL message, indicating a severe error.\")"
      ],
      "metadata": {
        "colab": {
          "base_uri": "https://localhost:8080/"
        },
        "id": "BpRikMZYNvRI",
        "outputId": "423a7115-e492-44c5-9442-43d09a13c0fd"
      },
      "execution_count": null,
      "outputs": [
        {
          "output_type": "stream",
          "name": "stderr",
          "text": [
            "WARNING:root:This is a WARNING message, indicating a potential issue.\n",
            "ERROR:root:This is an ERROR message, indicating that an error has occurred.\n",
            "CRITICAL:root:This is a CRITICAL message, indicating a severe error.\n"
          ]
        }
      ]
    },
    {
      "cell_type": "markdown",
      "source": [
        "# **Q8. Write a program to handle a file opening error using exception handling**"
      ],
      "metadata": {
        "id": "A7z8u28EN2ci"
      }
    },
    {
      "cell_type": "code",
      "source": [
        "try:\n",
        "    # Attempt to open a file\n",
        "    file = open(\"non_existent_file.txt\", \"r\")\n",
        "    content = file.read()\n",
        "    print(content)\n",
        "    file.close()\n",
        "except FileNotFoundError as e:\n",
        "    # Handle the file not found error\n",
        "    print(\"Error: The file you are trying to open does not exist.\")\n",
        "    print(f\"Details: {e}\")\n",
        "except Exception as e:\n",
        "    # Handle any other exceptions\n",
        "    print(\"An unexpected error occurred.\")\n",
        "    print(f\"Details: {e}\")"
      ],
      "metadata": {
        "colab": {
          "base_uri": "https://localhost:8080/"
        },
        "id": "qwh-gbF7N7Su",
        "outputId": "00b173ab-44ee-4e36-f42c-252ed39b63a2"
      },
      "execution_count": null,
      "outputs": [
        {
          "output_type": "stream",
          "name": "stdout",
          "text": [
            "Error: The file you are trying to open does not exist.\n",
            "Details: [Errno 2] No such file or directory: 'non_existent_file.txt'\n"
          ]
        }
      ]
    },
    {
      "cell_type": "markdown",
      "source": [
        "# **Q9. How can you read a file line by line and store its content in a list in Python**"
      ],
      "metadata": {
        "id": "JRX9n1hyOAE_"
      }
    },
    {
      "cell_type": "code",
      "source": [
        "# Open the file in read mode\n",
        "try:\n",
        "    with open(\"filename.txt\", \"r\") as file:\n",
        "        # Read all lines and store them in a list\n",
        "        lines = file.readlines()\n",
        "\n",
        "    # Strip newline characters and print the list\n",
        "    lines = [line.strip() for line in lines]\n",
        "    print(lines)\n",
        "except FileNotFoundError:\n",
        "    print(\"Error: The file does not exist.\")\n",
        "except Exception as e:\n",
        "    print(f\"An unexpected error occurred: {e}\")"
      ],
      "metadata": {
        "colab": {
          "base_uri": "https://localhost:8080/"
        },
        "id": "XQhwMmsQOERw",
        "outputId": "7cb38d70-ba62-4f4f-c61b-3bb7b272c485"
      },
      "execution_count": null,
      "outputs": [
        {
          "output_type": "stream",
          "name": "stdout",
          "text": [
            "Error: The file does not exist.\n"
          ]
        }
      ]
    },
    {
      "cell_type": "markdown",
      "source": [
        "# **Q10. How can you append data to an existing file in Python?**"
      ],
      "metadata": {
        "id": "HHScLCZNOKbj"
      }
    },
    {
      "cell_type": "code",
      "source": [
        "# Open the file in append mode\n",
        "try:\n",
        "    with open(\"filename.txt\", \"a\") as file:\n",
        "        # Append data to the file\n",
        "        file.write(\"\\nThis is the new data being appended.\")\n",
        "        print(\"Data appended successfully.\")\n",
        "except FileNotFoundError:\n",
        "    print(\"Error: The file does not exist.\")\n",
        "except Exception as e:\n",
        "    print(f\"An unexpected error occurred: {e}\")"
      ],
      "metadata": {
        "colab": {
          "base_uri": "https://localhost:8080/"
        },
        "id": "QZD31uLNOMpe",
        "outputId": "373dfcca-6e86-443d-df1b-27e5a83096fd"
      },
      "execution_count": null,
      "outputs": [
        {
          "output_type": "stream",
          "name": "stdout",
          "text": [
            "Data appended successfully.\n"
          ]
        }
      ]
    },
    {
      "cell_type": "markdown",
      "source": [
        "# **Q11. Write a Python program that uses a try-except block to handle an error when attempting to access a dictionary key that doesn't exist**"
      ],
      "metadata": {
        "id": "gp1JhzcIORLn"
      }
    },
    {
      "cell_type": "code",
      "source": [
        "# Define a dictionary\n",
        "my_dict = {\"name\": \"Alice\", \"age\": 25}\n",
        "\n",
        "# Try to access a key that might not exist\n",
        "try:\n",
        "    value = my_dict[\"address\"]\n",
        "    print(f\"The value is: {value}\")\n",
        "except KeyError:\n",
        "    print(\"Error: The specified key does not exist in the dictionary.\")"
      ],
      "metadata": {
        "colab": {
          "base_uri": "https://localhost:8080/"
        },
        "id": "tQWfdfcFOVTa",
        "outputId": "69be945d-43ac-4cee-ddeb-2d7a3fbb42d8"
      },
      "execution_count": null,
      "outputs": [
        {
          "output_type": "stream",
          "name": "stdout",
          "text": [
            "Error: The specified key does not exist in the dictionary.\n"
          ]
        }
      ]
    },
    {
      "cell_type": "markdown",
      "source": [
        "# **Q11. Write a program that demonstrates using multiple except blocks to handle different types of exceptions**"
      ],
      "metadata": {
        "id": "htvxcVb0OavX"
      }
    },
    {
      "cell_type": "code",
      "source": [
        "# Demonstrating multiple except blocks to handle different exceptions\n",
        "\n",
        "try:\n",
        "    # Attempting to divide by zero\n",
        "    result = 10 / 0\n",
        "    print(f\"Result: {result}\")\n",
        "\n",
        "    # Attempting to access an invalid index in a list\n",
        "    my_list = [1, 2, 3]\n",
        "    print(my_list[5])\n",
        "\n",
        "    # Attempting to access a non-existent dictionary key\n",
        "    my_dict = {\"name\": \"Alice\", \"age\": 25}\n",
        "    print(my_dict[\"address\"])\n",
        "\n",
        "except ZeroDivisionError:\n",
        "    print(\"Error: Division by zero is not allowed.\")\n",
        "\n",
        "except IndexError:\n",
        "    print(\"Error: List index out of range.\")\n",
        "\n",
        "except KeyError:\n",
        "    print(\"Error: The specified key does not exist in the dictionary.\")\n",
        "\n",
        "except Exception as e:\n",
        "    print(f\"An unexpected error occurred: {e}\")"
      ],
      "metadata": {
        "colab": {
          "base_uri": "https://localhost:8080/"
        },
        "id": "aDiJhlPWOiw2",
        "outputId": "41205a09-9b66-4d6e-db19-b0b28e7d1d8d"
      },
      "execution_count": null,
      "outputs": [
        {
          "output_type": "stream",
          "name": "stdout",
          "text": [
            "Error: Division by zero is not allowed.\n"
          ]
        }
      ]
    },
    {
      "cell_type": "markdown",
      "source": [
        "# **Q12. How would you check if a file exists before attempting to read it in Python**"
      ],
      "metadata": {
        "id": "zsoXTtk1OmWT"
      }
    },
    {
      "cell_type": "code",
      "source": [
        "import os\n",
        "from pathlib import Path\n",
        "\n",
        "file_path = \"example.txt\"\n",
        "\n",
        "# Using os.path.exists()\n",
        "if os.path.exists(file_path):\n",
        "    with open(file_path, 'r') as file:\n",
        "        content = file.read()\n",
        "        print(\"Using os.path.exists():\")\n",
        "        print(content)\n",
        "else:\n",
        "    print(f\"The file '{file_path}' does not exist (checked using os.path.exists()).\")\n",
        "\n",
        "# Using pathlib.Path\n",
        "file_path_obj = Path(file_path)\n",
        "\n",
        "if file_path_obj.exists():\n",
        "    with file_path_obj.open('r') as file:\n",
        "        content = file.read()\n",
        "        print(\"\\nUsing pathlib.Path:\")\n",
        "        print(content)\n",
        "else:\n",
        "    print(f\"The file '{file_path}' does not exist (checked using pathlib.Path).\")"
      ],
      "metadata": {
        "colab": {
          "base_uri": "https://localhost:8080/"
        },
        "id": "YL5GVcnrOq1U",
        "outputId": "830f54da-4f67-4fd7-8e2e-a6e661426709"
      },
      "execution_count": null,
      "outputs": [
        {
          "output_type": "stream",
          "name": "stdout",
          "text": [
            "The file 'example.txt' does not exist (checked using os.path.exists()).\n",
            "The file 'example.txt' does not exist (checked using pathlib.Path).\n"
          ]
        }
      ]
    },
    {
      "cell_type": "markdown",
      "source": [
        "# **Q14. Write a program that uses the logging module to log both informational and error messages.**"
      ],
      "metadata": {
        "id": "RQ0EXISwO1Qh"
      }
    },
    {
      "cell_type": "code",
      "source": [
        "import logging\n",
        "\n",
        "# Configure the logging module\n",
        "logging.basicConfig(\n",
        "    level=logging.DEBUG,\n",
        "    format='%(asctime)s - %(levelname)s - %(message)s',\n",
        "    filename='app.log',\n",
        "    filemode='w'  # Overwrite the log file each time the program runs\n",
        ")\n",
        "\n",
        "# Log informational messages\n",
        "logging.info(\"This is an informational message.\")\n",
        "logging.debug(\"This is a debug message for detailed troubleshooting.\")\n",
        "\n",
        "try:\n",
        "    # Simulate a block of code that may raise an exception\n",
        "    result = 10 / 0  # This will raise a ZeroDivisionError\n",
        "except ZeroDivisionError as e:\n",
        "    # Log the error message\n",
        "    logging.error(\"An error occurred: Division by zero.\", exc_info=True)\n",
        "\n",
        "# Log a warning message\n",
        "logging.warning(\"This is a warning message.\")\n",
        "\n",
        "# Log a critical message\n",
        "logging.critical(\"This is a critical message indicating a severe issue.\")\n"
      ],
      "metadata": {
        "colab": {
          "base_uri": "https://localhost:8080/"
        },
        "id": "yKoAUCMhO5f6",
        "outputId": "8f112c56-63af-4308-b24a-f3fb3a8f544f"
      },
      "execution_count": null,
      "outputs": [
        {
          "output_type": "stream",
          "name": "stderr",
          "text": [
            "ERROR:root:An error occurred: Division by zero.\n",
            "Traceback (most recent call last):\n",
            "  File \"<ipython-input-24-43043b358e8c>\", line 17, in <cell line: 0>\n",
            "    result = 10 / 0  # This will raise a ZeroDivisionError\n",
            "             ~~~^~~\n",
            "ZeroDivisionError: division by zero\n",
            "WARNING:root:This is a warning message.\n",
            "CRITICAL:root:This is a critical message indicating a severe issue.\n"
          ]
        }
      ]
    },
    {
      "cell_type": "markdown",
      "source": [
        "# **Q15. Write a Python program that prints the content of a file and handles the case when the file is empty**"
      ],
      "metadata": {
        "id": "QKMv5EHCPARD"
      }
    },
    {
      "cell_type": "code",
      "source": [
        "def print_file_content(file_path):\n",
        "    try:\n",
        "        # Open the file in read mode\n",
        "        with open(file_path, 'r') as file:\n",
        "            content = file.read()\n",
        "\n",
        "            # Check if the file is empty\n",
        "            if not content:\n",
        "                print(\"The file is empty.\")\n",
        "            else:\n",
        "                print(\"File Content:\")\n",
        "                print(content)\n",
        "    except FileNotFoundError:\n",
        "        print(f\"Error: The file '{file_path}' does not exist.\")\n",
        "    except Exception as e:\n",
        "        print(f\"An unexpected error occurred: {e}\")\n",
        "\n",
        "# Example usage\n",
        "file_path = \"filename.txt\"  # Replace with your file path\n",
        "print_file_content(file_path)"
      ],
      "metadata": {
        "colab": {
          "base_uri": "https://localhost:8080/"
        },
        "id": "YLVBDl-SPENm",
        "outputId": "b83bd829-8bb8-4f89-85f2-b836eb4193f0"
      },
      "execution_count": null,
      "outputs": [
        {
          "output_type": "stream",
          "name": "stdout",
          "text": [
            "File Content:\n",
            "\n",
            "This is the new data being appended.\n"
          ]
        }
      ]
    },
    {
      "cell_type": "markdown",
      "source": [
        "# **Q16. Demonstrate how to use memory profiling to check the memory usage of a small program**"
      ],
      "metadata": {
        "id": "BIwDJ50mPJYJ"
      }
    },
    {
      "cell_type": "code",
      "source": [
        "# Install the memory_profiler package before running this code\n",
        "# pip install memory-profiler\n",
        "\n",
        "from memory_profiler import profile\n",
        "\n",
        "@profile\n",
        "def memory_intensive_function():\n",
        "    # Example of a memory-intensive operation\n",
        "    large_list = [i for i in range(1000000)]  # Creating a large list\n",
        "    return sum(large_list)\n",
        "\n",
        "if __name__ == \"__main__\":\n",
        "    memory_intensive_function()"
      ],
      "metadata": {
        "colab": {
          "base_uri": "https://localhost:8080/",
          "height": 384
        },
        "id": "TBQ2s_yPPNm_",
        "outputId": "621fb54b-7faa-4b3d-86d2-71c72e145852"
      },
      "execution_count": null,
      "outputs": [
        {
          "output_type": "error",
          "ename": "ModuleNotFoundError",
          "evalue": "No module named 'memory_profiler'",
          "traceback": [
            "\u001b[0;31m---------------------------------------------------------------------------\u001b[0m",
            "\u001b[0;31mModuleNotFoundError\u001b[0m                       Traceback (most recent call last)",
            "\u001b[0;32m<ipython-input-26-9ecfcb7cf374>\u001b[0m in \u001b[0;36m<cell line: 0>\u001b[0;34m()\u001b[0m\n\u001b[1;32m      2\u001b[0m \u001b[0;31m# pip install memory-profiler\u001b[0m\u001b[0;34m\u001b[0m\u001b[0;34m\u001b[0m\u001b[0m\n\u001b[1;32m      3\u001b[0m \u001b[0;34m\u001b[0m\u001b[0m\n\u001b[0;32m----> 4\u001b[0;31m \u001b[0;32mfrom\u001b[0m \u001b[0mmemory_profiler\u001b[0m \u001b[0;32mimport\u001b[0m \u001b[0mprofile\u001b[0m\u001b[0;34m\u001b[0m\u001b[0;34m\u001b[0m\u001b[0m\n\u001b[0m\u001b[1;32m      5\u001b[0m \u001b[0;34m\u001b[0m\u001b[0m\n\u001b[1;32m      6\u001b[0m \u001b[0;34m@\u001b[0m\u001b[0mprofile\u001b[0m\u001b[0;34m\u001b[0m\u001b[0;34m\u001b[0m\u001b[0m\n",
            "\u001b[0;31mModuleNotFoundError\u001b[0m: No module named 'memory_profiler'",
            "",
            "\u001b[0;31m---------------------------------------------------------------------------\u001b[0;32m\nNOTE: If your import is failing due to a missing package, you can\nmanually install dependencies using either !pip or !apt.\n\nTo view examples of installing some common dependencies, click the\n\"Open Examples\" button below.\n\u001b[0;31m---------------------------------------------------------------------------\u001b[0m\n"
          ],
          "errorDetails": {
            "actions": [
              {
                "action": "open_url",
                "actionText": "Open Examples",
                "url": "/notebooks/snippets/importing_libraries.ipynb"
              }
            ]
          }
        }
      ]
    },
    {
      "cell_type": "markdown",
      "source": [
        "# **Q17. Write a Python program to create and write a list of numbers to a file, one number per line**"
      ],
      "metadata": {
        "id": "DNpYxON4PZz_"
      }
    },
    {
      "cell_type": "code",
      "source": [
        "# Python program to create and write a list of numbers to a file, one number per line\n",
        "\n",
        "def write_numbers_to_file(file_path, numbers):\n",
        "    try:\n",
        "        # Open the file in write mode\n",
        "        with open(file_path, 'w') as file:\n",
        "            for number in numbers:\n",
        "                file.write(f\"{number}\\n\")  # Write each number followed by a newline\n",
        "        print(f\"Numbers successfully written to {file_path}\")\n",
        "    except Exception as e:\n",
        "        print(f\"An error occurred: {e}\")\n",
        "\n",
        "# Example usage\n",
        "numbers = [1, 2, 3, 4, 5, 6, 7, 8, 9, 10]  # List of numbers\n",
        "file_path = \"numbers.txt\"  # File to write the numbers\n",
        "write_numbers_to_file(file_path, numbers)\n"
      ],
      "metadata": {
        "colab": {
          "base_uri": "https://localhost:8080/"
        },
        "id": "D0IJSN9GPf5W",
        "outputId": "5afb9426-2f74-4e64-946b-83dcddf67c9c"
      },
      "execution_count": null,
      "outputs": [
        {
          "output_type": "stream",
          "name": "stdout",
          "text": [
            "Numbers successfully written to numbers.txt\n"
          ]
        }
      ]
    },
    {
      "cell_type": "markdown",
      "source": [
        "# **Q18. How would you implement a basic logging setup that logs to a file with rotation after 1MB**"
      ],
      "metadata": {
        "id": "eb45c5FiPjpQ"
      }
    },
    {
      "cell_type": "code",
      "source": [
        "import logging\n",
        "from logging.handlers import RotatingFileHandler\n",
        "\n",
        "# Define the logger\n",
        "logger = logging.getLogger(\"MyLogger\")\n",
        "logger.setLevel(logging.DEBUG)  # Set the logging level\n",
        "\n",
        "# Create a RotatingFileHandler\n",
        "handler = RotatingFileHandler(\n",
        "    \"app.log\",  # Log file name\n",
        "    maxBytes=1 * 1024 * 1024,  # 1MB size limit\n",
        "    backupCount=5  # Keep up to 5 backup files\n",
        ")\n",
        "\n",
        "# Define the log format\n",
        "formatter = logging.Formatter(\n",
        "    \"%(asctime)s - %(name)s - %(levelname)s - %(message)s\"\n",
        ")\n",
        "handler.setFormatter(formatter)\n",
        "\n",
        "# Add the handler to the logger\n",
        "logger.addHandler(handler)\n",
        "\n",
        "# Example usage\n",
        "logger.debug(\"This is a debug message\")\n",
        "logger.info(\"This is an info message\")\n",
        "logger.warning(\"This is a warning message\")\n",
        "logger.error(\"This is an error message\")\n",
        "logger.critical(\"This is a critical message\")\n"
      ],
      "metadata": {
        "colab": {
          "base_uri": "https://localhost:8080/"
        },
        "id": "VNMELOQdPtLc",
        "outputId": "165b2fea-e002-4121-c878-1dd0b3b6c452"
      },
      "execution_count": null,
      "outputs": [
        {
          "output_type": "stream",
          "name": "stderr",
          "text": [
            "DEBUG:MyLogger:This is a debug message\n",
            "INFO:MyLogger:This is an info message\n",
            "WARNING:MyLogger:This is a warning message\n",
            "ERROR:MyLogger:This is an error message\n",
            "CRITICAL:MyLogger:This is a critical message\n"
          ]
        }
      ]
    },
    {
      "cell_type": "markdown",
      "source": [
        "# **Q19. Write a program that handles both IndexError and KeyError using a try-except block**"
      ],
      "metadata": {
        "id": "RH1dJHvbPvqj"
      }
    },
    {
      "cell_type": "code",
      "source": [
        "try:\n",
        "    # Code that may raise IndexError\n",
        "    my_list = [1, 2, 3]\n",
        "    print(my_list[5])  # This will raise an IndexError\n",
        "\n",
        "    # Code that may raise KeyError\n",
        "    my_dict = {\"a\": 1, \"b\": 2}\n",
        "    print(my_dict[\"c\"])  # This will raise a KeyError\n",
        "\n",
        "except IndexError as e:\n",
        "    print(f\"IndexError occurred: {e}\")\n",
        "\n",
        "except KeyError as e:\n",
        "    print(f\"KeyError occurred: {e}\")"
      ],
      "metadata": {
        "colab": {
          "base_uri": "https://localhost:8080/"
        },
        "id": "9iNqd4x1PzmW",
        "outputId": "8365c32e-8834-46ab-c945-a525944790eb"
      },
      "execution_count": null,
      "outputs": [
        {
          "output_type": "stream",
          "name": "stdout",
          "text": [
            "IndexError occurred: list index out of range\n"
          ]
        }
      ]
    },
    {
      "cell_type": "markdown",
      "source": [
        "# **Q20. How would you open a file and read its contents using a context manager in Python**"
      ],
      "metadata": {
        "id": "yQe8d_GmP3_5"
      }
    },
    {
      "cell_type": "code",
      "source": [
        "# Open the file using a context manager\n",
        "with open(\"filename.txt\", \"r\") as file:\n",
        "    # Read the contents of the file\n",
        "    contents = file.read()\n",
        "\n",
        "# Print the contents\n",
        "print(contents)"
      ],
      "metadata": {
        "colab": {
          "base_uri": "https://localhost:8080/"
        },
        "id": "tfXl6A9IP7pt",
        "outputId": "7fa0db91-cd40-4e6c-b2b0-344f019558fa"
      },
      "execution_count": null,
      "outputs": [
        {
          "output_type": "stream",
          "name": "stdout",
          "text": [
            "\n",
            "This is the new data being appended.\n"
          ]
        }
      ]
    },
    {
      "cell_type": "markdown",
      "source": [
        "# **Q21. Write a Python program that reads a file and prints the number of occurrences of a specific word**"
      ],
      "metadata": {
        "id": "jawesEsvQBLI"
      }
    },
    {
      "cell_type": "code",
      "source": [
        "# Python program to read a file and count occurrences of a specific word\n",
        "\n",
        "# Define the file name and the word to search for\n",
        "file_name = \"filename.txt\"\n",
        "word_to_search = \"specific_word\"\n",
        "\n",
        "# Initialize a counter\n",
        "word_count = 0\n",
        "\n",
        "# Open the file using a context manager\n",
        "with open(file_name, \"r\") as file:\n",
        "    # Read the file line by line\n",
        "    for line in file:\n",
        "        # Split the line into words\n",
        "        words = line.split()\n",
        "        # Count occurrences of the specific word in the current line\n",
        "        word_count += words.count(word_to_search)\n",
        "\n",
        "# Print the result\n",
        "print(f\"The word '{word_to_search}' occurred {word_count} times in the file.\")\n"
      ],
      "metadata": {
        "colab": {
          "base_uri": "https://localhost:8080/"
        },
        "id": "zBkjvwdtQFF8",
        "outputId": "a83bc8d9-dbb1-4403-cb1e-a6e6efc5c61b"
      },
      "execution_count": null,
      "outputs": [
        {
          "output_type": "stream",
          "name": "stdout",
          "text": [
            "The word 'specific_word' occurred 0 times in the file.\n"
          ]
        }
      ]
    },
    {
      "cell_type": "markdown",
      "source": [
        "# **Q22. How can you check if a file is empty before attempting to read its contents?**\n",
        "\n"
      ],
      "metadata": {
        "id": "_9VlEe96QJbj"
      }
    },
    {
      "cell_type": "code",
      "source": [
        "import os\n",
        "\n",
        "# Specify the file name\n",
        "file_name = \"filename.txt\"\n",
        "\n",
        "# Check if the file is empty\n",
        "if os.path.exists(file_name) and os.path.getsize(file_name) == 0:\n",
        "    print(f\"The file '{file_name}' is empty.\")\n",
        "else:\n",
        "    print(f\"The file '{file_name}' is not empty.\")"
      ],
      "metadata": {
        "colab": {
          "base_uri": "https://localhost:8080/"
        },
        "id": "lx4jomXvQOmD",
        "outputId": "9a7a10f9-548e-41d5-f6d4-bdb08480551e"
      },
      "execution_count": null,
      "outputs": [
        {
          "output_type": "stream",
          "name": "stdout",
          "text": [
            "The file 'filename.txt' is not empty.\n"
          ]
        }
      ]
    },
    {
      "cell_type": "markdown",
      "source": [
        "# **Q23. Write a Python program that writes to a log file when an error occurs during file handling**\n",
        "\n"
      ],
      "metadata": {
        "id": "NuTa75UNQaGC"
      }
    },
    {
      "cell_type": "code",
      "source": [
        "import logging\n",
        "\n",
        "# Configure logging\n",
        "logging.basicConfig(filename='error_log.log', level=logging.ERROR,\n",
        "                    format='%(asctime)s - %(levelname)s - %(message)s')\n",
        "\n",
        "try:\n",
        "    # Attempt to open a file that may not exist\n",
        "    with open('non_existent_file.txt', 'r') as file:\n",
        "        content = file.read()\n",
        "except FileNotFoundError as e:\n",
        "    # Log the error if the file is not found\n",
        "    logging.error(f\"File not found: {e}\")\n",
        "    print(\"An error occurred. Check the log file for details.\")\n",
        "except Exception as e:\n",
        "    # Log any other exceptions\n",
        "    logging.error(f\"An unexpected error occurred: {e}\")\n",
        "    print(\"An unexpected error occurred. Check the log file for details.\")\n"
      ],
      "metadata": {
        "colab": {
          "base_uri": "https://localhost:8080/"
        },
        "id": "IgIhyr1tQfQQ",
        "outputId": "f9250580-1cac-4869-e24c-9ba595130708"
      },
      "execution_count": null,
      "outputs": [
        {
          "output_type": "stream",
          "name": "stderr",
          "text": [
            "ERROR:root:File not found: [Errno 2] No such file or directory: 'non_existent_file.txt'\n"
          ]
        },
        {
          "output_type": "stream",
          "name": "stdout",
          "text": [
            "An error occurred. Check the log file for details.\n"
          ]
        }
      ]
    }
  ]
}