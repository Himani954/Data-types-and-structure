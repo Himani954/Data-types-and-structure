{
  "nbformat": 4,
  "nbformat_minor": 0,
  "metadata": {
    "colab": {
      "provenance": [],
      "authorship_tag": "ABX9TyNZdFsJwKPDbyQPY7uXQbHM",
      "include_colab_link": true
    },
    "kernelspec": {
      "name": "python3",
      "display_name": "Python 3"
    },
    "language_info": {
      "name": "python"
    }
  },
  "cells": [
    {
      "cell_type": "markdown",
      "metadata": {
        "id": "view-in-github",
        "colab_type": "text"
      },
      "source": [
        "<a href=\"https://colab.research.google.com/github/Himani954/Data-types-and-structure/blob/main/Data_Toolkit_Assigment.ipynb\" target=\"_parent\"><img src=\"https://colab.research.google.com/assets/colab-badge.svg\" alt=\"Open In Colab\"/></a>"
      ]
    },
    {
      "cell_type": "markdown",
      "source": [
        "# **Q1.What is NumPy, and why is it widely used in Python?**\n"
      ],
      "metadata": {
        "id": "J9HjJjUcWgwg"
      }
    },
    {
      "cell_type": "markdown",
      "source": [
        "# **Ans1**.\n",
        "# NumPy (Numerical Python)\n",
        "\n",
        "NumPy is a Python library used for numerical computations. It provides powerful tools for working with multi-dimensional arrays and matrices.\n",
        "\n",
        "Why is NumPy widely used?\n",
        "\n",
        "NumPy is widely used because:\n",
        "\n",
        "1. Fast computations : NumPy's vectorized operations are very fast, making it easy to perform computations on large datasets.\n",
        "2. Multi-dimensional arrays : NumPy's multi-dimensional arrays are very useful in scientific computing, data analysis, and machine learning.\n",
        "3. Matrix operations : NumPy provides powerful tools for matrix operations, making it easy to perform linear algebra operations.\n",
        "4. Integration with other libraries : NumPy integrates well with other popular libraries like Pandas, Matplotlib, and Scikit-learn.\n",
        "\n",
        "Use cases:\n",
        "\n",
        "1. Scientific computing : NumPy is used in scientific computing for tasks like physics, engineering, and signal processing.\n",
        "2. Data analysis : NumPy is used in data analysis for tasks like data cleaning, filtering, and visualization.\n",
        "3. Machine learning : NumPy is used in machine learning for tasks like data preprocessing, feature engineering, and model implementation.\n",
        "\n",
        "Benefits:\n",
        "\n",
        "1. Efficient computations : NumPy's vectorized operations are very efficient.\n",
        "2. Easy data manipulation : NumPy's multi-dimensional arrays and matrices can be easily manipulated.\n",
        "3. Integration with other tools : NumPy integrates well with other popular tools and libraries.\n",
        "\n",
        "Example:\n"
      ],
      "metadata": {
        "id": "IZ9TU4OfdtcC"
      }
    },
    {
      "cell_type": "code",
      "source": [
        "import numpy as np\n",
        "\n",
        "# Create a NumPy array\n",
        "arr = np.array([1, 2, 3, 4, 5])\n",
        "# Perform basic operations\n",
        "print(arr.sum())  # Output: 15\n",
        "print(arr.mean())  # Output: 3.0"
      ],
      "metadata": {
        "id": "9QOkA8CTX-YK"
      },
      "execution_count": null,
      "outputs": []
    },
    {
      "cell_type": "markdown",
      "source": [
        "NumPy ki capabilities and speed make it standard tool for numerical computations in Python."
      ],
      "metadata": {
        "id": "E_d5rFOAYUjV"
      }
    },
    {
      "cell_type": "markdown",
      "source": [
        "# **Q2. How does broadcasting work in NumPy?**\n"
      ],
      "metadata": {
        "id": "mELgDvfmYYBr"
      }
    },
    {
      "cell_type": "markdown",
      "source": [
        "# **Ans2.**\n",
        "# Broadcasting in NumPy\n",
        "\n",
        "Broadcasting is a powerful feature in NumPy that allows you to perform operations on arrays with different shapes and sizes. It enables you to perform element-wise operations on arrays by aligning them based on their shapes.\n",
        "\n",
        "How Broadcasting Works\n",
        "\n",
        "Here are the rules for broadcasting:\n",
        "\n",
        "1. Matching dimensions : If two arrays have the same shape, broadcasting is straightforward. The operation is performed element-wise.\n",
        "2. Singleton dimensions : If one array has a singleton dimension (i.e., a dimension of size 1), it can be broadcasted to match the corresponding dimension of the other array.\n",
        "3. Adding singleton dimensions : If one array has fewer dimensions than the other, singleton dimensions are added to the left of the array with fewer dimensions.\n",
        "\n",
        "Example\n"
      ],
      "metadata": {
        "id": "f6_P1ebEeZ9m"
      }
    },
    {
      "cell_type": "code",
      "source": [
        "import numpy as np\n",
        "\n",
        "# Create two arrays\n",
        "arr1 = np.array([[1, 2, 3], [4, 5, 6]])\n",
        "arr2 = np.array([10, 20, 30])\n",
        "\n",
        "# Perform broadcasting\n",
        "result = arr1 + arr2\n",
        "\n",
        "print(result)\n",
        "# Output:\n",
        "# [[11 22 33]\n",
        "# [14 25 36]]"
      ],
      "metadata": {
        "id": "mYYMbjI5aXhw"
      },
      "execution_count": null,
      "outputs": []
    },
    {
      "cell_type": "markdown",
      "source": [
        "In this example, arr2 is broadcasted to match the shape of arr1 . The operation is performed element-wise.\n",
        "\n",
        "Benefits\n",
        "\n",
        "Broadcasting provides several benefits:\n",
        "\n",
        "- Concise code : Broadcasting allows you to write concise and readable code.\n",
        "- Efficient computations : Broadcasting enables NumPy to perform efficient computations by avoiding unnecessary memory allocation.\n",
        "\n",
        "Common Use Cases\n",
        "\n",
        "Broadcasting is commonly used in:\n",
        "\n",
        "- Array operations : Broadcasting is used in array operations like addition, subtraction, multiplication, and division.\n",
        "- Matrix operations : Broadcasting is used in matrix operations like matrix multiplication and matrix addition.\n",
        "\n",
        "By understanding broadcasting, you can take advantage of NumPy's powerful features and write efficient and concise code.\n",
        "\n"
      ],
      "metadata": {
        "id": "22u7DpOWfTPu"
      }
    },
    {
      "cell_type": "markdown",
      "source": [
        "# **Q3. What is a Pandas DataFrame?**\n"
      ],
      "metadata": {
        "id": "yRvYj_DVfvsC"
      }
    },
    {
      "cell_type": "markdown",
      "source": [
        "# **Ans3.**\n",
        "# Pandas DataFrame\n",
        "\n",
        "A Pandas DataFrame is a two-dimensional data structure used to store and manipulate tabular data. It is similar to an Excel spreadsheet or a table in a relational database.\n",
        "\n",
        "Key Features :\n",
        "\n",
        "1. Tabular data : DataFrames store data in a tabular format, with rows and columns.\n",
        "2. Column labels : Each column in a DataFrame has a label, which can be used to access and manipulate the data.\n",
        "3. Row labels : Each row in a DataFrame can have a label, which can be used to access and manipulate the data.\n",
        "4. Data types : DataFrames can store different data types, including numeric, string, and datetime.\n",
        "\n",
        "Benefits:\n",
        "\n",
        "1. Data manipulation : DataFrames provide various methods for data manipulation, such as filtering, sorting, and grouping.\n",
        "2. Data analysis : DataFrames can be used for data analysis, including statistical calculations and data visualization.\n",
        "3. Data merging : DataFrames can be merged and joined with other DataFrames, allowing for complex data analysis.\n",
        "\n",
        "Common Use Cases :\n",
        "\n",
        "1. Data cleaning : DataFrames are often used for data cleaning and preprocessing.\n",
        "2. Data analysis : DataFrames are used for data analysis, including statistical calculations and data visualization.\n",
        "3. Data science : DataFrames are a fundamental data structure in data science, used for data manipulation, analysis, and visualization.\n",
        "\n",
        "Example:\n",
        "\n",
        "\n"
      ],
      "metadata": {
        "id": "qU-sVpvUf7zr"
      }
    },
    {
      "cell_type": "code",
      "source": [
        "import pandas as pd\n",
        "\n",
        "# Create a DataFrame\n",
        "data = {'Name': ['John', 'Anna', 'Peter', 'Linda'],\n",
        "        'Age': [28, 24, 35, 32],\n",
        "        'Country': ['USA', 'UK', 'Australia', 'Germany']}\n",
        "df = pd.DataFrame(data)\n",
        "\n",
        "print(df)"
      ],
      "metadata": {
        "colab": {
          "base_uri": "https://localhost:8080/"
        },
        "id": "ldzhobFkhDMm",
        "outputId": "d1927a58-8068-4221-d239-4ca1918c9172"
      },
      "execution_count": null,
      "outputs": [
        {
          "output_type": "stream",
          "name": "stdout",
          "text": [
            "    Name  Age    Country\n",
            "0   John   28        USA\n",
            "1   Anna   24         UK\n",
            "2  Peter   35  Australia\n",
            "3  Linda   32    Germany\n"
          ]
        }
      ]
    },
    {
      "cell_type": "markdown",
      "source": [
        "In this example, we create a DataFrame with three columns (Name, Age, and Country) and four rows. The DataFrame can be used for data manipulation, analysis, and visualization."
      ],
      "metadata": {
        "id": "whV3z_1bhKXy"
      }
    },
    {
      "cell_type": "markdown",
      "source": [
        "# **Q4. Explain the use of the groupby() method in Pandas?**"
      ],
      "metadata": {
        "id": "k4VagUPOiEdq"
      }
    },
    {
      "cell_type": "markdown",
      "source": [
        "# **Ans4.**\n",
        "# GroupBy Method in Pandas\n",
        "\n",
        "The groupby() method in Pandas is used to group a DataFrame by one or more columns and perform various operations on the grouped data.\n",
        "\n",
        "How GroupBy Works\n",
        "\n",
        "Here's a step-by-step explanation of how groupby() works:\n",
        "\n",
        "1. Split : The DataFrame is split into groups based on the specified column(s).\n",
        "2. Apply : A function is applied to each group, performing the desired operation.\n",
        "3. Combine : The results of the applied function are combined into a new DataFrame.\n",
        "\n",
        "Common Use Cases\n",
        "\n",
        "The groupby() method is commonly used for:\n",
        "\n",
        "1. Aggregation : Calculating aggregate values, such as sum, mean, or count, for each group.\n",
        "2. Filtering : Filtering data based on conditions applied to each group.\n",
        "3. Transformation : Transforming data within each group.\n",
        "\n",
        "Example"
      ],
      "metadata": {
        "id": "LnZvbl4fiL0l"
      }
    },
    {
      "cell_type": "code",
      "source": [
        "import pandas as pd\n",
        "\n",
        "# Create a DataFrame\n",
        "data = {'Category': ['A', 'B', 'A', 'B', 'A', 'B'],\n",
        "        'Value': [10, 20, 30, 40, 50, 60]}\n",
        "df = pd.DataFrame(data)\n",
        "\n",
        "# Group by Category and calculate the sum of Value\n",
        "grouped_df = df.groupby('Category')['Value'].sum()\n",
        "\n",
        "print(grouped_df)"
      ],
      "metadata": {
        "id": "SRBg29lijHHv"
      },
      "execution_count": null,
      "outputs": []
    },
    {
      "cell_type": "code",
      "source": [
        "Output:\n",
        "Category\n",
        "A    90\n",
        "B    120\n",
        "Name: Value, dtype: int64"
      ],
      "metadata": {
        "id": "9XWNszJWjOrn"
      },
      "execution_count": null,
      "outputs": []
    },
    {
      "cell_type": "markdown",
      "source": [
        "In this example, the DataFrame is grouped by the Category column, and the sum of the Value column is calculated for each group.\n",
        "\n",
        "Benefits\n",
        "\n",
        "The groupby() method provides several benefits:\n",
        "\n",
        "- Efficient data analysis : GroupBy allows for efficient data analysis by performing operations on grouped data.\n",
        "- Flexible data manipulation : GroupBy provides flexible data manipulation capabilities, enabling you to perform various operations on grouped data.\n",
        "\n",
        "Common Aggregation Functions\n",
        "\n",
        "Some common aggregation functions used with groupby() include:\n",
        "\n",
        "- sum() : Calculate the sum of values.\n",
        "- mean() : Calculate the mean of values.\n",
        "- count() : Count the number of values.\n",
        "- max() : Calculate the maximum value.\n",
        "- min() : Calculate the minimum value."
      ],
      "metadata": {
        "id": "NbHunfGEjUEr"
      }
    },
    {
      "cell_type": "markdown",
      "source": [
        "# **Q5. Why is Seaborn preferred for statistical visualizations?**\n"
      ],
      "metadata": {
        "id": "aokBZcdXj3iV"
      }
    },
    {
      "cell_type": "markdown",
      "source": [
        "# **Ans5.**\n",
        "# Seaborn for Statistical Visualization\n",
        "\n",
        "Seaborn is preferred for statistical visualization due to its:\n",
        "\n",
        "1. High-level interface : Easy to create complex statistical graphics.\n",
        "2. Attractive visualizations : Modern aesthetic and visually appealing plots.\n",
        "3. Integration with Pandas : Seamless integration with Pandas DataFrames.\n",
        "4. Statistical graphics : Offers a range of statistical graphics, including heatmaps, scatterplots, and bar plots.\n",
        "\n",
        "Benefits\n",
        "\n",
        "Seaborn's benefits include:\n",
        "\n",
        "- Easy to use : High-level interface makes it easy to create complex visualizations.\n",
        "- Customizable : Allows for customization of plots.\n",
        "- Integration with Matplotlib : Builds on top of Matplotlib, providing access to a wide range of visualization tools.\n",
        "\n",
        "Common Use Cases\n",
        "\n",
        "Seaborn is commonly used for:\n",
        "\n",
        "- Exploratory data analysis : Exploring and understanding data distributions.\n",
        "- Statistical modeling : Visualizing results of statistical models.\n",
        "- Data presentation : Presenting data insights with attractive visualizations.\n",
        "\n",
        "Example\n"
      ],
      "metadata": {
        "id": "C01Oy_22kkxV"
      }
    },
    {
      "cell_type": "code",
      "source": [
        "import seaborn as sns\n",
        "import matplotlib.pyplot as plt\n",
        "\n",
        "# Load the tips dataset\n",
        "tips = sns.load_dataset(\"tips\")\n",
        "\n",
        "# Create a scatterplot\n",
        "sns.scatterplot(x=\"total_bill\", y=\"tip\", data=tips)\n",
        "\n",
        "# Show the plot\n",
        "plt.show()"
      ],
      "metadata": {
        "id": "eSTSezBxl-Il"
      },
      "execution_count": null,
      "outputs": []
    },
    {
      "cell_type": "markdown",
      "source": [
        "Seaborn's ease of use, attractive visualizations, and integration with Pandas make it a popular choice for statistical visualization.\n",
        "\n"
      ],
      "metadata": {
        "id": "jv-vTjwPmOd8"
      }
    },
    {
      "cell_type": "markdown",
      "source": [
        "# **Q6.What are the differences between NumPy arrays and Python lists?**\n"
      ],
      "metadata": {
        "id": "2Mj4Gzz4mUdi"
      }
    },
    {
      "cell_type": "markdown",
      "source": [
        "# **Ans6.**\n",
        "# NumPy Arrays vs Python Lists\n",
        "\n",
        "NumPy arrays and Python lists are both data structures used to store and manipulate data. However, they have some key differences:\n",
        "\n",
        "1. Performance\n",
        "\n",
        "- NumPy arrays : NumPy arrays are faster and more efficient than Python lists, especially for large datasets. This is because NumPy arrays are stored in a contiguous block of memory, allowing for faster access and manipulation.\n",
        "- Python lists : Python lists are slower than NumPy arrays because they are dynamic and can store different data types, which requires additional overhead.\n",
        "\n",
        "2. Data Type\n",
        "\n",
        "- NumPy arrays : NumPy arrays are homogeneous, meaning they can only store a single data type. This allows for more efficient storage and manipulation.\n",
        "- Python lists : Python lists are heterogeneous, meaning they can store different data types, including strings, integers, floats, and other lists.\n",
        "\n",
        "3. Memory Usage\n",
        "\n",
        "- NumPy arrays : NumPy arrays use less memory than Python lists, especially for large datasets. This is because NumPy arrays store data in a compact, contiguous block of memory.\n",
        "- Python lists : Python lists use more memory than NumPy arrays because they require additional overhead to store metadata, such as pointers to each element.\n",
        "\n",
        "4. Operations\n",
        "\n",
        "- NumPy arrays : NumPy arrays support vectorized operations, which allow you to perform operations on the entire array at once. This makes it easy to perform element-wise operations, matrix multiplication, and other complex operations.\n",
        "- Python lists : Python lists do not support vectorized operations, and operations are typically performed using loops.\n",
        "\n",
        "5. Dimensionality\n",
        "\n",
        "- NumPy arrays : NumPy arrays can have multiple dimensions, making them suitable for representing matrices and other multi-dimensional data structures.\n",
        "- Python lists : Python lists can also have multiple dimensions, but they are not as efficient as NumPy arrays for representing large, multi-dimensional data structures.\n",
        "\n",
        "When to Use Each\n",
        "\n",
        "- Use NumPy arrays :\n",
        "    - When working with large, numerical datasets.\n",
        "    - When performing complex mathematical operations.\n",
        "    - When memory efficiency is important.\n",
        "- Use Python lists :\n",
        "    - When working with small datasets or datasets with mixed data types.\n",
        "    - When you need to store and manipulate data with a dynamic structure.\n",
        "\n",
        "Example"
      ],
      "metadata": {
        "id": "Cz0HwNZPmuM1"
      }
    },
    {
      "cell_type": "code",
      "source": [
        "import numpy as np\n",
        "\n",
        "# Create a NumPy array\n",
        "arr = np.array([1, 2, 3, 4, 5])\n",
        "\n",
        "# Create a Python list\n",
        "lst = [1, 2, 3, 4, 5]\n",
        "\n",
        "# Perform element-wise operation on NumPy array\n",
        "arr += 2\n",
        "print(arr)  # Output: [3 4 5 6 7]\n",
        "\n",
        "# Perform element-wise operation on Python list\n",
        "lst = [x + 2 for x in lst]\n",
        "print(lst)  # Output: [3, 4, 5, 6, 7]\n"
      ],
      "metadata": {
        "id": "HMBJJGsBnyLA"
      },
      "execution_count": null,
      "outputs": []
    },
    {
      "cell_type": "markdown",
      "source": [
        "In summary, NumPy arrays are ideal for numerical computations and large datasets, while Python lists are suitable for small datasets or datasets with mixed data types."
      ],
      "metadata": {
        "id": "EqCqRtSGoGJa"
      }
    },
    {
      "cell_type": "markdown",
      "source": [
        "# **Q7. What is a heatmap, and when should it be used?**\n"
      ],
      "metadata": {
        "id": "w4lfxrjjoJqe"
      }
    },
    {
      "cell_type": "markdown",
      "source": [
        "# **Ans7.**\n",
        "# Heatmap\n",
        "\n",
        "A heatmap is a graphical representation of data where values are depicted by color. It's a 2D representation of data that uses colors to convey the magnitude of the values.\n",
        "\n",
        "When to Use a Heatmap\n",
        "\n",
        "Heatmaps are useful for:\n",
        "\n",
        "1. Visualizing correlations : Heatmaps can be used to visualize the correlation between different variables.\n",
        "2. Identifying patterns : Heatmaps can help identify patterns or trends in data.\n",
        "3. Comparing data : Heatmaps can be used to compare data across different categories or variables.\n",
        "4. Visualizing density : Heatmaps can be used to visualize the density of data points in a 2D space.\n",
        "\n",
        "Common Use Cases\n",
        "\n",
        "Heatmaps are commonly used in:\n",
        "\n",
        "1. Data analysis : Heatmaps are used to analyze and visualize complex data.\n",
        "2. Machine learning : Heatmaps are used to visualize the performance of machine learning models.\n",
        "3. Business intelligence : Heatmaps are used to visualize business data, such as sales or customer behavior.\n",
        "\n",
        "Example\n"
      ],
      "metadata": {
        "id": "C_OelQqhoTxb"
      }
    },
    {
      "cell_type": "code",
      "source": [
        "import seaborn as sns\n",
        "import matplotlib.pyplot as plt\n",
        "import numpy as np\n",
        "\n",
        "# Create a random 10x10 matrix\n",
        "data = np.random.rand(10, 10)\n",
        "\n",
        "# Create a heatmap\n",
        "sns.heatmap(data, cmap=\"hot\", annot=True)\n",
        "\n",
        "# Show the plot\n",
        "plt.show()"
      ],
      "metadata": {
        "id": "Rirqg9NYtkRs"
      },
      "execution_count": null,
      "outputs": []
    },
    {
      "cell_type": "markdown",
      "source": [
        "In this example, a heatmap is created using Seaborn's heatmap function. The cmap parameter is set to \"hot\" to use a heatmap color scheme, and annot=True is used to display the values on the heatmap.\n",
        "\n",
        "Benefits\n",
        "\n",
        "Heatmaps provide several benefits, including:\n",
        "\n",
        "- Easy to interpret : Heatmaps are easy to interpret, even for complex data.\n",
        "- Visual insight : Heatmaps provide visual insight into the data, making it easier to identify patterns and trends.\n",
        "- Effective communication : Heatmaps are an effective way to communicate complex data insights to others."
      ],
      "metadata": {
        "id": "ML2kPab6uZHC"
      }
    },
    {
      "cell_type": "markdown",
      "source": [
        "# **Q8. What does the term “vectorized operation” mean in NumPy?**"
      ],
      "metadata": {
        "id": "1cAZoR_1usA0"
      }
    },
    {
      "cell_type": "markdown",
      "source": [
        "# **Ans8.**\n",
        "# Vectorized Operations in NumPy\n",
        "\n",
        "Vectorized operations in NumPy refer to the ability to perform operations on entire arrays at once, without the need for loops. This allows for efficient and fast computation on large datasets.\n",
        "\n",
        "How Vectorized Operations Work\n",
        "\n",
        "When you perform a vectorized operation on a NumPy array, the operation is applied element-wise to the entire array. This means that you can perform operations such as addition, subtraction, multiplication, and division on entire arrays with a single line of code.\n",
        "\n",
        "Benefits of Vectorized Operations\n",
        "\n",
        "Vectorized operations provide several benefits, including:\n",
        "\n",
        "- Faster computation : Vectorized operations are much faster than using loops to perform operations on arrays.\n",
        "- More concise code : Vectorized operations allow you to write more concise and readable code.\n",
        "- Improved performance : Vectorized operations can significantly improve the performance of your code, especially when working with large datasets.\n",
        "\n",
        "Example"
      ],
      "metadata": {
        "id": "mpZ2VBnau30x"
      }
    },
    {
      "cell_type": "code",
      "source": [
        "import numpy as np\n",
        "\n",
        "# Create two arrays\n",
        "arr1 = np.array([1, 2, 3, 4, 5])\n",
        "arr2 = np.array([2, 2, 2, 2, 2])\n",
        "\n",
        "# Perform element-wise addition using vectorized operation\n",
        "result = arr1 + arr2\n",
        "\n",
        "print(result)  # Output: [3 4 5 6 7]"
      ],
      "metadata": {
        "id": "Fj1iT-74wXj-"
      },
      "execution_count": null,
      "outputs": []
    },
    {
      "cell_type": "markdown",
      "source": [
        "In this example, the + operator is used to perform element-wise addition on the two arrays. This is a vectorized operation, and it allows us to perform the operation on the entire array at once.\n",
        "\n",
        "Common Vectorized Operations\n",
        "\n",
        "Some common vectorized operations in NumPy include:\n",
        "\n",
        "- Arithmetic operations : + , - , *, /, etc.\n",
        "- Comparison operations : == , != , >, < , etc.\n",
        "- Logical operations : & , | , ~ , etc.\n",
        "- Mathematical functions : np.sin , np.cos , np.exp , etc.\n",
        "\n",
        "By using vectorized operations, you can write more efficient and concise code that takes advantage of NumPy's optimized implementation."
      ],
      "metadata": {
        "id": "6u_qMbSYwmgc"
      }
    },
    {
      "cell_type": "markdown",
      "source": [
        "# **Q9. How does Matplotlib differ from Plotly?**\n"
      ],
      "metadata": {
        "id": "u8bAk_KWg0S5"
      }
    },
    {
      "cell_type": "markdown",
      "source": [
        "# **Ans9.**\n",
        "Matplotlib vs Plotly\n",
        "\n",
        "Matplotlib and Plotly are two popular data visualization libraries in Python. While both libraries can be used to create a wide range of plots, they have some key differences:\n",
        "\n",
        "1. Static vs Interactive Plots\n",
        "\n",
        "- Matplotlib : Matplotlib is primarily used for creating static plots. While it's possible to create interactive plots with Matplotlib, it's not its primary focus.\n",
        "- Plotly : Plotly is designed to create interactive plots. It allows users to hover over data points, zoom in and out, and pan across the plot.\n",
        "\n",
        "2. Customization\n",
        "\n",
        "- Matplotlib : Matplotlib provides a high degree of customization, allowing users to fine-tune every aspect of their plots.\n",
        "- Plotly : Plotly also provides customization options, but it's more focused on creating interactive plots with a modern look and feel.\n",
        "\n",
        "3. Output\n",
        "\n",
        "- Matplotlib : Matplotlib can save plots as static images (e.g., PNG, PDF, EPS).\n",
        "- Plotly : Plotly can save plots as interactive HTML files or export them as static images.\n",
        "\n",
        "4. Integration\n",
        "\n",
        "- Matplotlib : Matplotlib integrates well with other Python data science libraries, such as NumPy and Pandas.\n",
        "- Plotly : Plotly also integrates well with other Python data science libraries and supports a wide range of data formats.\n",
        "\n",
        "When to Use Each\n",
        "\n",
        "- Use Matplotlib :\n",
        "    - When creating static plots for publications or presentations.\n",
        "    - When fine-grained control over plot customization is necessary.\n",
        "- Use Plotly :\n",
        "    - When creating interactive plots for exploratory data analysis or web applications.\n",
        "    - When you want to create modern, visually appealing plots with minimal effort.\n",
        "\n",
        "Example\n"
      ],
      "metadata": {
        "id": "cTR76JwMhC0Y"
      }
    },
    {
      "cell_type": "code",
      "source": [
        "# Matplotlib example\n",
        "import matplotlib.pyplot as plt\n",
        "import numpy as np\n",
        "\n",
        "x = np.linspace(0, 10, 100)\n",
        "y = np.sin(x)\n",
        "\n",
        "plt.plot(x, y)\n",
        "plt.show()\n",
        "\n",
        "# Plotly example\n",
        "import plotly.graph_objs as go\n",
        "import numpy as np\n",
        "\n",
        "x = np.linspace(0, 10, 100)\n",
        "y = np.sin(x)\n",
        "\n",
        "fig = go.Figure(data=[go.Scatter(x=x, y=y)])\n",
        "fig.show()"
      ],
      "metadata": {
        "id": "wARoExVui4og"
      },
      "execution_count": null,
      "outputs": []
    },
    {
      "cell_type": "markdown",
      "source": [
        "In summary, Matplotlib is ideal for creating static plots with fine-grained control, while Plotly is better suited for creating interactive plots with a modern look and feel."
      ],
      "metadata": {
        "id": "LbQ4ZzNTjMJm"
      }
    },
    {
      "cell_type": "markdown",
      "source": [
        "# **Q10. What is the significance of hierarchical indexing in Pandas?**"
      ],
      "metadata": {
        "id": "VM3AKARnjRuk"
      }
    },
    {
      "cell_type": "markdown",
      "source": [
        "# **Ans10.**\n",
        "# Hierachical Indexing in Pandas\n",
        "Hierarchical indexing, also known as MultiIndexing, is a feature in Pandas that allows you to have multiple levels of indexing on a DataFrame or Series. This enables you to store and manipulate data with complex structures, such as data with multiple categories or dimensions.\n",
        "\n",
        "Significance of Hierarchical Indexing\n",
        "\n",
        "The significance of hierarchical indexing includes:\n",
        "\n",
        "1. Handling complex data structures : Hierarchical indexing allows you to handle data with multiple levels of categorization or grouping.\n",
        "2. Efficient data selection : With hierarchical indexing, you can select data based on specific levels of the index, making it easier to analyze and manipulate data.\n",
        "3. Data aggregation : Hierarchical indexing enables you to perform aggregation operations on data at different levels of granularity.\n",
        "4. Data reshaping : Hierarchical indexing makes it easier to reshape data from long format to wide format or vice versa.\n",
        "\n",
        "Benefits\n",
        "\n",
        "The benefits of hierarchical indexing include:\n",
        "\n",
        "- Improved data organization : Hierarchical indexing helps to organize data in a more structured and meaningful way.\n",
        "- Faster data analysis : With hierarchical indexing, you can perform data analysis and aggregation operations more efficiently.\n",
        "- Enhanced data manipulation : Hierarchical indexing enables you to manipulate data at different levels of granularity.\n",
        "\n",
        "Example"
      ],
      "metadata": {
        "id": "ZIwX1ZExjZsA"
      }
    },
    {
      "cell_type": "code",
      "source": [
        "import pandas as pd\n",
        "\n",
        "# Create a MultiIndex DataFrame\n",
        "data = {'Value': [10, 20, 30, 40, 50, 60]}\n",
        "index = pd.MultiIndex.from_tuples([('A', 1), ('A', 2), ('B', 1), ('B', 2), ('C', 1), ('C', 2)], names=['Category', 'Subcategory'])\n",
        "df = pd.DataFrame(data, index=index)\n",
        "\n",
        "print(df)"
      ],
      "metadata": {
        "colab": {
          "base_uri": "https://localhost:8080/"
        },
        "id": "v7zARRapkf3W",
        "outputId": "59d50124-f400-4194-d634-ab1a20c4006f"
      },
      "execution_count": null,
      "outputs": [
        {
          "output_type": "stream",
          "name": "stdout",
          "text": [
            "                      Value\n",
            "Category Subcategory       \n",
            "A        1               10\n",
            "         2               20\n",
            "B        1               30\n",
            "         2               40\n",
            "C        1               50\n",
            "         2               60\n"
          ]
        }
      ]
    },
    {
      "cell_type": "markdown",
      "source": [
        "In this example, the DataFrame has a MultiIndex with two levels: \"Category\" and \"Subcategory\". This allows you to select and manipulate data based on these levels.\n",
        "\n",
        "Common Use Cases\n",
        "\n",
        "Hierarchical indexing is commonly used in:\n",
        "\n",
        "- Data analysis : Hierarchical indexing is useful for analyzing data with multiple levels of categorization.\n",
        "- Data science : Hierarchical indexing is used in data science applications, such as data mining and machine learning.\n",
        "- Business intelligence : Hierarchical indexing can be used to analyze business data, such as sales or customer behavior, at different levels of granularity."
      ],
      "metadata": {
        "id": "X5eF7bFCk8Pk"
      }
    },
    {
      "cell_type": "markdown",
      "source": [
        "# **Q11. What is the role of Seaborn’s pairplot() function?**"
      ],
      "metadata": {
        "id": "Kxa9lNTClHqu"
      }
    },
    {
      "cell_type": "markdown",
      "source": [
        "# **Ans11.**\n",
        "Seaborn's pairplot() Function\n",
        "\n",
        "The pairplot() function in Seaborn is used to create a matrix of pairwise scatterplots and histograms for a dataset. It's a powerful tool for visualizing relationships between multiple variables in a dataset.\n",
        "\n",
        "Role of pairplot()\n",
        "\n",
        "The pairplot() function serves several purposes:\n",
        "\n",
        "1. Visualizing relationships : It helps to visualize the relationships between different variables in a dataset.\n",
        "2. Identifying patterns : It can help identify patterns, such as correlations, outliers, and clusters, in the data.\n",
        "3. Exploring data : It's a useful tool for exploratory data analysis, allowing you to quickly visualize the relationships between multiple variables.\n",
        "\n",
        "Benefits\n",
        "\n",
        "The benefits of using pairplot() include:\n",
        "\n",
        "- Easy to use : The pairplot() function is easy to use and requires minimal code.\n",
        "- Informative visualizations : It creates informative visualizations that can help you understand the relationships between variables in your dataset.\n",
        "- Customizable : The pairplot() function is customizable, allowing you to adjust the appearance of the plot to suit your needs.\n",
        "\n",
        "Example"
      ],
      "metadata": {
        "id": "Zb4pp4TklaPw"
      }
    },
    {
      "cell_type": "code",
      "source": [
        "import seaborn as sns\n",
        "import matplotlib.pyplot as plt\n",
        "\n",
        "# Load the iris dataset\n",
        "iris = sns.load_dataset(\"iris\")\n",
        "\n",
        "# Create a pairplot\n",
        "sns.pairplot(iris, hue=\"species\")\n",
        "\n",
        "# Show the plot\n",
        "plt.show()"
      ],
      "metadata": {
        "id": "zaApC61TmsDr"
      },
      "execution_count": null,
      "outputs": []
    },
    {
      "cell_type": "markdown",
      "source": [
        "In this example, the pairplot() function is used to create a matrix of pairwise scatterplots and histograms for the iris dataset. The hue parameter is used to color the points according to the species of iris.\n",
        "\n",
        "Common Use Cases\n",
        "\n",
        "The pairplot() function is commonly used in:\n",
        "\n",
        "- Exploratory data analysis : It's a useful tool for exploratory data analysis, allowing you to quickly visualize the relationships between multiple variables.\n",
        "- Data visualization : It's a powerful tool for data visualization, helping to identify patterns and relationships in the data.\n",
        "- Statistical analysis : It's often used in statistical analysis to visualize the relationships between variables and identify potential correlations."
      ],
      "metadata": {
        "id": "IXjonhQOm2ed"
      }
    },
    {
      "cell_type": "markdown",
      "source": [
        "# **Q12. What is the purpose of the describe() function in Pandas?**"
      ],
      "metadata": {
        "id": "S6PwaPfHnI2C"
      }
    },
    {
      "cell_type": "markdown",
      "source": [
        "# **Ans12.**\n",
        "# Pandas' describe() Function\n",
        "\n",
        "The describe() function in Pandas is used to generate descriptive statistics for a DataFrame or Series. It provides a summary of the central tendency, dispersion, and shape of the data.\n",
        "\n",
        "Purpose\n",
        "\n",
        "The purpose of the describe() function is to:\n",
        "\n",
        "1. Summarize data : It summarizes the data by providing various statistical measures.\n",
        "2. Understand data distribution : It helps to understand the distribution of the data, including the mean, median, mode, and standard deviation.\n",
        "3. Identify outliers : It can help identify outliers and skewness in the data.\n",
        "\n",
        "Statistics Provided\n",
        "\n",
        "The describe() function provides the following statistics:\n",
        "\n",
        "- count : The number of non-null values.\n",
        "- mean : The mean of the values.\n",
        "- std : The standard deviation of the values.\n",
        "- min : The minimum value.\n",
        "- 25% : The 25th percentile (Q1).\n",
        "- 50% : The 50th percentile (median).\n",
        "- 75% : The 75th percentile (Q3).\n",
        "- max : The maximum value.\n",
        "\n",
        "Example"
      ],
      "metadata": {
        "id": "uUN8nSmXnZ1m"
      }
    },
    {
      "cell_type": "code",
      "source": [
        "import pandas as pd\n",
        "\n",
        "# Create a DataFrame\n",
        "data = {'A': [1, 2, 3, 4, 5], 'B': [2, 4, 6, 8, 10]}\n",
        "df = pd.DataFrame(data)\n",
        "\n",
        "# Use describe() to generate descriptive statistics\n",
        "print(df.describe())"
      ],
      "metadata": {
        "colab": {
          "base_uri": "https://localhost:8080/"
        },
        "id": "o-2LC4IWoZpz",
        "outputId": "36400ed5-1aa6-461d-cbab-6649196c5065"
      },
      "execution_count": null,
      "outputs": [
        {
          "output_type": "stream",
          "name": "stdout",
          "text": [
            "              A          B\n",
            "count  5.000000   5.000000\n",
            "mean   3.000000   6.000000\n",
            "std    1.581139   3.162278\n",
            "min    1.000000   2.000000\n",
            "25%    2.000000   4.000000\n",
            "50%    3.000000   6.000000\n",
            "75%    4.000000   8.000000\n",
            "max    5.000000  10.000000\n"
          ]
        }
      ]
    },
    {
      "cell_type": "markdown",
      "source": [
        "In this example, the describe() function is used to generate descriptive statistics for the DataFrame df.\n",
        "\n",
        "Common Use Cases\n",
        "\n",
        "The describe() function is commonly used in:\n",
        "\n",
        "- Data exploration : It's a useful tool for exploratory data analysis, providing a quick summary of the data.\n",
        "- Data analysis : It's often used in data analysis to understand the distribution of the data and identify potential issues.\n",
        "- Data science : It's a valuable tool in data science, helping to understand the characteristics of the data and inform further analysis."
      ],
      "metadata": {
        "id": "B7OQisgsojJP"
      }
    },
    {
      "cell_type": "markdown",
      "source": [
        "# **Q13. Why is handling missing data important in Pandas?**"
      ],
      "metadata": {
        "id": "mzzAcek4ozfF"
      }
    },
    {
      "cell_type": "markdown",
      "source": [
        "# **Ans13.**\n",
        "# Handling Missing Data in Pandas\n",
        "\n",
        "Handling missing data is crucial in Pandas because missing values can significantly impact the accuracy and reliability of data analysis and modeling. Missing data can lead to:\n",
        "\n",
        "1. Biased results : Missing data can introduce bias into analysis results, leading to incorrect conclusions.\n",
        "2. Inaccurate models : Models built on datasets with missing values can be inaccurate or unreliable.\n",
        "3. Data quality issues : Missing data can indicate data quality issues, such as errors in data collection or processing.\n",
        "\n",
        "Why Handling Missing Data is Important\n",
        "\n",
        "Handling missing data is important because it:\n",
        "\n",
        "1. Ensures data accuracy : By handling missing data, you can ensure that your analysis results are accurate and reliable.\n",
        "2. Improves model performance : Handling missing data can improve the performance of machine learning models.\n",
        "3. Enhances data quality : Handling missing data can help identify and address data quality issues.\n",
        "\n",
        "Pandas Tools for Handling Missing Data\n",
        "\n",
        "Pandas provides several tools for handling missing data, including:\n",
        "\n",
        "- isnull() : Identifies missing values.\n",
        "- dropna() : Drops rows or columns with missing values.\n",
        "- fillna() : Fills missing values with specified values.\n",
        "\n",
        "Best Practices\n",
        "\n",
        "Best practices for handling missing data include:\n",
        "\n",
        "- Identify missing data : Use isnull() to identify missing values.\n",
        "- Understand the cause : Understand the cause of missing data to determine the best approach.\n",
        "- Choose a strategy : Choose a strategy for handling missing data, such as dropping or filling values.\n",
        "\n",
        "Example"
      ],
      "metadata": {
        "id": "Iiy4LG9dpA4n"
      }
    },
    {
      "cell_type": "code",
      "source": [
        "import pandas as pd\n",
        "import numpy as np\n",
        "\n",
        "# Create a DataFrame with missing values\n",
        "data = {'A': [1, 2, np.nan, 4, 5], 'B': [2, np.nan, 6, 8, 10]}\n",
        "df = pd.DataFrame(data)\n",
        "\n",
        "# Identify missing values\n",
        "print(df.isnull())\n",
        "\n",
        "# Drop rows with missing values\n",
        "df_dropped = df.dropna()\n",
        "print(df_dropped)\n",
        "\n",
        "# Fill missing values\n",
        "df_filled = df.fillna(df.mean())\n",
        "print(df_filled)"
      ],
      "metadata": {
        "id": "8idT1R2FqUkf"
      },
      "execution_count": null,
      "outputs": []
    },
    {
      "cell_type": "markdown",
      "source": [
        "In this example, we create a DataFrame with missing values and demonstrate how to identify, drop, and fill missing values using Pandas tools."
      ],
      "metadata": {
        "id": "wg3d9dVOqhLC"
      }
    },
    {
      "cell_type": "markdown",
      "source": [
        "# **Q14. What are the benefits of using Plotly for data visualization?**"
      ],
      "metadata": {
        "id": "QhReg2fdqlYc"
      }
    },
    {
      "cell_type": "markdown",
      "source": [
        "# **Ans14.**\n",
        "# Handling Missing Data in Pandas\n",
        "\n",
        "Handling missing data is crucial in Pandas because missing values can significantly impact the accuracy and reliability of data analysis and modeling. Missing data can lead to:\n",
        "\n",
        "1. Biased results : Missing data can introduce bias into analysis results, leading to incorrect conclusions.\n",
        "2. Inaccurate models : Models built on datasets with missing values can be inaccurate or unreliable.\n",
        "3. Data quality issues : Missing data can indicate data quality issues, such as errors in data collection or processing.\n",
        "\n",
        "Why Handling Missing Data is Important\n",
        "\n",
        "Handling missing data is important because it:\n",
        "\n",
        "1. Ensures data accuracy : By handling missing data, you can ensure that your analysis results are accurate and reliable.\n",
        "2. Improves model performance : Handling missing data can improve the performance of machine learning models.\n",
        "3. Enhances data quality : Handling missing data can help identify and address data quality issues.\n",
        "\n",
        "Pandas Tools for Handling Missing Data\n",
        "\n",
        "Pandas provides several tools for handling missing data, including:\n",
        "\n",
        "- isnull() : Identifies missing values.\n",
        "- dropna(): Drops rows or columns with missing values.\n",
        "- fillna() : Fills missing values with specified values.\n",
        "\n",
        "Best Practices\n",
        "\n",
        "Best practices for handling missing data include:\n",
        "\n",
        "- Identify missing data : Use isnull()to identify missing values.\n",
        "- Understand the cause : Understand the cause of missing data to determine the best approach.\n",
        "- Choose a strategy : Choose a strategy for handling missing data, such as dropping or filling values.\n",
        "\n",
        "Example"
      ],
      "metadata": {
        "id": "6g0_bOrSquQk"
      }
    },
    {
      "cell_type": "code",
      "source": [
        "import pandas as pd\n",
        "import numpy as np\n",
        "\n",
        "# Create a DataFrame with missing values\n",
        "data = {'A': [1, 2, np.nan, 4, 5], 'B': [2, np.nan, 6, 8, 10]}\n",
        "df = pd.DataFrame(data)\n",
        "\n",
        "# Identify missing values\n",
        "print(df.isnull())\n",
        "\n",
        "# Drop rows with missing values\n",
        "df_dropped = df.dropna()\n",
        "print(df_dropped)\n",
        "\n",
        "# Fill missing values\n",
        "df_filled = df.fillna(df.mean())\n",
        "print(df_filled)"
      ],
      "metadata": {
        "id": "Ui9G3dlarllp"
      },
      "execution_count": null,
      "outputs": []
    },
    {
      "cell_type": "markdown",
      "source": [
        "In this example, we create a DataFrame with missing values and demonstrate how to identify, drop, and fill missing values using Pandas tools."
      ],
      "metadata": {
        "id": "dsj0lXw1rzTy"
      }
    },
    {
      "cell_type": "markdown",
      "source": [
        "# **Q15. How does NumPy handle multidimensional arrays?**"
      ],
      "metadata": {
        "id": "nnYi2Pevr27V"
      }
    },
    {
      "cell_type": "markdown",
      "source": [
        "# **Ans15.**\n",
        "# NumPy's Multidimensional Arrays\n",
        "\n",
        "NumPy is designed to efficiently handle multidimensional arrays, which are essential for various scientific and numerical computations. Here's how NumPy handles multidimensional arrays:\n",
        "\n",
        "Key Features\n",
        "\n",
        "1. N-Dimensional Arrays : NumPy supports arrays with any number of dimensions, allowing you to represent complex data structures.\n",
        "2. Array Indexing : NumPy provides flexible array indexing, enabling you to access and manipulate specific elements or subsets of elements in multidimensional arrays.\n",
        "3. Array Slicing : NumPy's array slicing feature allows you to extract subsets of arrays, making it easier to work with large datasets.\n",
        "4. Array Reshaping : NumPy's reshape function enables you to change the shape of an array without modifying its data, which is useful for adapting arrays to different computational requirements.\n",
        "\n",
        "Benefits\n",
        "\n",
        "1. Efficient Computation : NumPy's multidimensional arrays enable efficient computation on large datasets, making it suitable for various scientific and numerical applications.\n",
        "2. Flexible Data Representation : NumPy's support for multidimensional arrays allows you to represent complex data structures, such as matrices, tensors, and images.\n",
        "3. Easy Data Manipulation : NumPy's array indexing, slicing, and reshaping features make it easy to manipulate and transform multidimensional arrays.\n",
        "\n",
        "Example\n"
      ],
      "metadata": {
        "id": "7dqtdXkwr-o1"
      }
    },
    {
      "cell_type": "code",
      "source": [
        "import numpy as np\n",
        "\n",
        "# Create a 2D array\n",
        "arr = np.array([[1, 2, 3], [4, 5, 6]])\n",
        "\n",
        "# Access a specific element\n",
        "print(arr[0, 1])  # Output: 2\n",
        "\n",
        "# Slice the array\n",
        "print(arr[:, 1:])  # Output: [[2 3]\n",
        "                   #          [5 6]]\n",
        "\n",
        "# Reshape the array\n",
        "arr_reshaped = arr.reshape(3, 2)\n",
        "print(arr_reshaped)  # Output: [[1 2]\n",
        "                     #          [3 4]\n",
        "                     #          [5 6]]"
      ],
      "metadata": {
        "id": "mRTXQSG4s_bC"
      },
      "execution_count": null,
      "outputs": []
    },
    {
      "cell_type": "markdown",
      "source": [
        "In this example, we create a 2D array and demonstrate how to access specific elements, slice the array, and reshape it using NumPy's features.\n",
        "\n",
        "Common Use Cases\n",
        "\n",
        "NumPy's multidimensional arrays are commonly used in:\n",
        "\n",
        "- Scientific Computing : NumPy's arrays are essential for scientific computing applications, such as linear algebra, numerical analysis, and signal processing.\n",
        "- Machine Learning : NumPy's arrays are used extensively in machine learning libraries, such as scikit-learn and TensorFlow, for representing and manipulating data.\n",
        "- Image and Signal Processing : NumPy's arrays are used to represent and manipulate images and signals in various applications, such as image processing, computer vision, and audio processing."
      ],
      "metadata": {
        "id": "1qR6cg1ltM5T"
      }
    },
    {
      "cell_type": "markdown",
      "source": [
        "# **Q16.What is the role of Bokeh in data visualization?**\n"
      ],
      "metadata": {
        "id": "LVMBSVtlthOD"
      }
    },
    {
      "cell_type": "markdown",
      "source": [
        "# **Ans16.**\n",
        "Bokeh's Role in Data Visualization\n",
        "\n",
        "Bokeh is a powerful data visualization library in Python that provides a high-level interface for creating interactive plots, dashboards, and data applications. Its role in data visualization includes:\n",
        "\n",
        "1. Interactive Visualizations : Bokeh enables the creation of interactive visualizations, allowing users to hover over data points, zoom in and out, and pan across plots.\n",
        "2. Web-Based Visualizations : Bokeh plots can be easily embedded in web applications, making it a great tool for sharing and collaborating on data insights.\n",
        "3. Customizable : Bokeh offers a wide range of customization options, enabling users to tailor their visualizations to their specific needs.\n",
        "4. Support for Various Plot Types : Bokeh supports a variety of plot types, including line plots, scatter plots, bar charts, and more.\n",
        "\n",
        "Benefits\n",
        "\n",
        "The benefits of using Bokeh for data visualization include:\n",
        "\n",
        "- Improved Exploration : Bokeh's interactive visualizations enable users to explore data in more detail, which can lead to new insights and discoveries.\n",
        "- Enhanced Engagement : Bokeh's interactive plots can be more engaging and interactive than static visualizations, making them more effective for communicating complex data insights.\n",
        "- Easy Sharing : Bokeh plots can be easily shared and embedded in web applications, making it simple to collaborate on data insights.\n",
        "\n",
        "Common Use Cases\n",
        "\n",
        "Bokeh is commonly used in:\n",
        "\n",
        "- Data Exploration : Bokeh is a great tool for exploratory data analysis, allowing users to quickly visualize and explore their data.\n",
        "- Data Sharing : Bokeh's web-based visualizations make it easy to share data insights with others, either through interactive dashboards or embedded plots.\n",
        "- Business Intelligence : Bokeh is often used in business intelligence applications to create interactive dashboards and reports that provide insights into business data.\n",
        "\n",
        "Example"
      ],
      "metadata": {
        "id": "xbqOZhpXtz55"
      }
    },
    {
      "cell_type": "code",
      "source": [
        "from bokeh.plotting import figure, show\n",
        "import numpy as np\n",
        "\n",
        "# Create a simple line plot\n",
        "x = np.linspace(0, 10, 100)\n",
        "y = np.sin(x)\n",
        "\n",
        "p = figure(title=\"Simple Line Plot\", x_axis_label='x', y_axis_label='sin(x)')\n",
        "p.line(x, y, legend_label=\"sin(x)\", line_width=2)\n",
        "\n",
        "show(p)"
      ],
      "metadata": {
        "id": "x9a-pRVFvobC"
      },
      "execution_count": null,
      "outputs": []
    },
    {
      "cell_type": "markdown",
      "source": [
        "In this example, we create a simple line plot using Bokeh's figure and line functions and display it using the show function."
      ],
      "metadata": {
        "id": "6SniijqjvvgV"
      }
    },
    {
      "cell_type": "markdown",
      "source": [
        "# **Q17. Explain the difference between apply() and map() in Pandas?**"
      ],
      "metadata": {
        "id": "nevMNsdpn2iN"
      }
    },
    {
      "cell_type": "markdown",
      "source": [
        "# **Ans17.**\n",
        "# Apply() vs Map() in Pandas\n",
        "\n",
        "apply() and map() are two important functions in Pandas that can be used to transform data. While they share some similarities, there are key differences between them:\n",
        "\n",
        "Apply()\n",
        "\n",
        "- apply() is a versatile function that can be used to apply a custom function to a DataFrame or Series.\n",
        "- It can operate on rows or columns, depending on the axis parameter.\n",
        "- apply() can return a DataFrame, Series, or even a scalar value, depending on the function being applied.\n",
        "\n",
        "Map()\n",
        "\n",
        "- map() is primarily used to map values in a Series to new values based on a dictionary or a function.\n",
        "- It's typically used for element-wise operations on a Series.\n",
        "- map() returns a new Series with the mapped values.\n",
        "\n",
        "Key Differences\n",
        "\n",
        "1. Operation Scope : apply() can operate on entire rows or columns, while map() operates element-wise on a Series.\n",
        "2. Functionality : apply() is more flexible and can handle complex operations, while map() is designed for simple value mapping.\n",
        "3. Return Type : apply() can return various types of objects, while map() typically returns a Series.\n",
        "\n",
        "Example"
      ],
      "metadata": {
        "id": "PcF1wpvAoDYY"
      }
    },
    {
      "cell_type": "code",
      "source": [
        "import pandas as pd\n",
        "\n",
        "# Create a sample DataFrame\n",
        "df = pd.DataFrame({'A': [1, 2, 3, 4, 5]})\n",
        "\n",
        "# Using apply()\n",
        "df['double'] = df['A'].apply(lambda x: x * 2)\n",
        "print(df)\n",
        "\n",
        "# Using map()\n",
        "mapping = {1: 'one', 2: 'two', 3: 'three', 4: 'four', 5: 'five'}\n",
        "df['mapped'] = df['A'].map(mapping)\n",
        "print(df)"
      ],
      "metadata": {
        "id": "V-9QPcYPpUvt"
      },
      "execution_count": null,
      "outputs": []
    },
    {
      "cell_type": "markdown",
      "source": [
        "In this example, we demonstrate the use of apply() to double the values in a column and map() to map values to their string representations.\n",
        "\n",
        "When to Use Each\n",
        "\n",
        "- Use apply() when you need to perform complex operations on rows or columns.\n",
        "- Use map() when you need to map values in a Series to new values based on a dictionary or a function."
      ],
      "metadata": {
        "id": "ft26iUgZpeze"
      }
    },
    {
      "cell_type": "markdown",
      "source": [
        "# **Q18. What are some advanced features of NumPy?**"
      ],
      "metadata": {
        "id": "vO007aswppRC"
      }
    },
    {
      "cell_type": "markdown",
      "source": [
        "# **Ans18.**\n",
        "# Advanced Features of NumPy\n",
        "\n",
        "NumPy offers several advanced features that make it a powerful library for numerical computing. Some of these features include:\n",
        "\n",
        "1. Vectorized Operations : NumPy's vectorized operations enable you to perform operations on entire arrays at once, making it faster and more efficient.\n",
        "2. Broadcasting : NumPy's broadcasting feature allows you to perform operations on arrays with different shapes and sizes, making it easier to write concise and efficient code.\n",
        "3. Linear Algebra Operations : NumPy provides an extensive range of linear algebra operations, including matrix multiplication, eigenvalue decomposition, and singular value decomposition.\n",
        "4. Random Number Generation : NumPy offers a variety of random number generators, making it easy to generate random numbers for simulations and modeling.\n",
        "5. Data Type Manipulation : NumPy allows you to manipulate data types, including creating custom data types and converting between different data types.\n",
        "\n",
        "Advanced Array Operations\n",
        "\n",
        "Some advanced array operations in NumPy include:\n",
        "\n",
        "- Array Indexing and Slicing : NumPy's array indexing and slicing features allow you to access and manipulate specific elements or subsets of elements in arrays.\n",
        "- Array Reshaping and Transposition : NumPy's reshape and transpose functions enable you to change the shape and structure of arrays.\n",
        "- Array Concatenation and Splitting : NumPy's concatenate and split functions allow you to combine and split arrays.\n",
        "\n",
        "Example"
      ],
      "metadata": {
        "id": "BvD-JCcPp2Tt"
      }
    },
    {
      "cell_type": "code",
      "source": [
        "import numpy as np\n",
        "\n",
        "# Create two arrays\n",
        "arr1 = np.array([[1, 2], [3, 4]])\n",
        "arr2 = np.array([[5, 6], [7, 8]])\n",
        "\n",
        "# Perform matrix multiplication\n",
        "result = np.matmul(arr1, arr2)\n",
        "print(result)\n",
        "\n",
        "# Generate random numbers\n",
        "random_numbers = np.random.rand(3, 3)\n",
        "print(random_numbers)\n",
        "\n",
        "# Reshape an array\n",
        "arr = np.array([1, 2, 3, 4, 5, 6])\n",
        "arr_reshaped = arr.reshape(2, 3)\n",
        "print(arr_reshaped)"
      ],
      "metadata": {
        "id": "U4906bfQqpLF"
      },
      "execution_count": null,
      "outputs": []
    },
    {
      "cell_type": "markdown",
      "source": [
        "In this example, we demonstrate the use of NumPy's advanced features, including matrix multiplication, random number generation, and array reshaping.\n",
        "\n",
        "Common Use Cases\n",
        "\n",
        "NumPy's advanced features are commonly used in:\n",
        "\n",
        "- Scientific Computing : NumPy's advanced features are essential for scientific computing applications, such as linear algebra, numerical analysis, and signal processing.\n",
        "- Machine Learning : NumPy's advanced features are used extensively in machine learning libraries, such as scikit-learn and TensorFlow, for numerical computations and data manipulation.\n",
        "- Data Analysis : NumPy's advanced features are useful for data analysis tasks, such as data cleaning, filtering, and transformation."
      ],
      "metadata": {
        "id": "6rSj40yqq6TP"
      }
    },
    {
      "cell_type": "markdown",
      "source": [
        "# **Q19. How does Pandas simplify time series analysis?**"
      ],
      "metadata": {
        "id": "ukWc2eddrIJg"
      }
    },
    {
      "cell_type": "markdown",
      "source": [
        "# **ANS19.**\n",
        "# Pandas and Time Series Analysis\n",
        "\n",
        "Pandas is a powerful library for data manipulation and analysis in Python, and it provides extensive support for time series analysis. Here's how Pandas simplifies time series analysis:\n",
        "\n",
        "Key Features\n",
        "\n",
        "1. DateTimeIndex : Pandas' DateTimeIndex allows you to easily work with time series data, providing features like date-based indexing, resampling, and rolling window calculations.\n",
        "2. Resampling : Pandas' resampling feature enables you to change the frequency of time series data, making it easy to convert between different time intervals.\n",
        "3. Rolling Window Calculations : Pandas' rolling window calculations allow you to perform calculations on a moving window of data, which is useful for calculating moving averages, standard deviations, and other metrics.\n",
        "4. Time Shifting : Pandas' time shifting feature enables you to shift time series data by a specified amount, making it easy to align data from different sources.\n",
        "\n",
        "Benefits\n",
        "\n",
        "1. Efficient Data Manipulation : Pandas provides efficient data structures and operations for working with time series data, making it easy to manipulate and analyze large datasets.\n",
        "2. Flexible Resampling : Pandas' resampling feature provides flexible options for changing the frequency of time series data, making it easy to adapt to different analysis requirements.\n",
        "3. Easy Data Alignment : Pandas' time shifting feature makes it easy to align data from different sources, which is essential for many time series analysis tasks.\n",
        "\n",
        "Example"
      ],
      "metadata": {
        "id": "tIPMuymcrZo0"
      }
    },
    {
      "cell_type": "code",
      "source": [
        "import pandas as pd\n",
        "import numpy as np\n",
        "# Create a sample time series\n",
        "date_range = pd.date_range(start='2022-01-01', end='2022-01-31', freq='D')\n",
        "values = np.random.rand(len(date_range))\n",
        "series = pd.Series(values, index=date_range)\n",
        "\n",
        "# Resample the time series to weekly frequency\n",
        "weekly_series = series.resample('W').mean()\n",
        "print(weekly_series)\n",
        "\n",
        "# Calculate the moving average\n",
        "moving_average = series.rolling(window=7).mean()\n",
        "print(moving_average)"
      ],
      "metadata": {
        "id": "g2nd3eV-sPb9"
      },
      "execution_count": null,
      "outputs": []
    },
    {
      "cell_type": "markdown",
      "source": [
        "In this example, we demonstrate the use of Pandas for time series analysis, including resampling and rolling window calculations.\n",
        "\n",
        "Common Use Cases\n",
        "\n",
        "Pandas is commonly used for time series analysis in:\n",
        "\n",
        "- Financial Analysis : Pandas is widely used in finance for analyzing stock prices, trading volumes, and other financial metrics.\n",
        "- Weather Forecasting : Pandas is used in weather forecasting to analyze and predict temperature, precipitation, and other weather patterns.\n",
        "- IoT Data Analysis : Pandas is used in IoT data analysis to process and analyze sensor data from devices.\n",
        "\n",
        "By providing efficient data structures and operations, Pandas simplifies time series analysis and enables data analysts and scientists to focus on extracting insights from their data."
      ],
      "metadata": {
        "id": "ErzM3_3tskOv"
      }
    },
    {
      "cell_type": "markdown",
      "source": [
        "# **Q20. What is the role of a pivot table in Pandas?**"
      ],
      "metadata": {
        "id": "gPG0ppYXsuJK"
      }
    },
    {
      "cell_type": "markdown",
      "source": [
        "# **Ans20.**\n",
        "# Pivot Tables in Pandas\n",
        "\n",
        "A pivot table is a powerful data summarization tool in Pandas that allows you to rotate and aggregate data from a DataFrame. The role of a pivot table in Pandas includes:\n",
        "\n",
        "1. Data Summarization : Pivot tables enable you to summarize large datasets by aggregating values based on specific columns.\n",
        "2. Data Rotation : Pivot tables allow you to rotate data from rows to columns or vice versa, making it easier to analyze and visualize data.\n",
        "3. Data Aggregation : Pivot tables provide various aggregation functions, such as sum, mean, and count, to calculate summary statistics.\n",
        "\n",
        "Benefits\n",
        "\n",
        "The benefits of using pivot tables in Pandas include:\n",
        "\n",
        "- Easy Data Analysis : Pivot tables make it easy to analyze and summarize large datasets, providing insights into trends and patterns.\n",
        "- Flexible Data Rotation : Pivot tables allow you to rotate data in various ways, making it easier to visualize and analyze data from different perspectives.\n",
        "- Customizable Aggregation : Pivot tables provide customizable aggregation functions, enabling you to calculate summary statistics that meet your specific needs.\n",
        "\n",
        "Example"
      ],
      "metadata": {
        "id": "4dWTtfJ7s0w4"
      }
    },
    {
      "cell_type": "code",
      "source": [
        "import pandas as pd\n",
        "\n",
        "# Create a sample DataFrame\n",
        "data = {\n",
        "    'Category': ['A', 'B', 'A', 'B', 'A', 'B'],\n",
        "    'Subcategory': ['X', 'X', 'Y', 'Y', 'X', 'Y'],\n",
        "    'Value': [10, 20, 30, 40, 50, 60]\n",
        "}\n",
        "df = pd.DataFrame(data)\n",
        "\n",
        "# Create a pivot table\n",
        "pivot_table = pd.pivot_table(df, values='Value', index='Category', columns='Subcategory', aggfunc='sum')\n",
        "print(pivot_table)"
      ],
      "metadata": {
        "id": "UGcgQaS4tefl"
      },
      "execution_count": null,
      "outputs": []
    },
    {
      "cell_type": "markdown",
      "source": [
        "In this example, we demonstrate the use of a pivot table to summarize a DataFrame by aggregating values based on specific columns.\n",
        "\n",
        "Common Use Cases\n",
        "\n",
        "Pivot tables are commonly used in:\n",
        "\n",
        "- Data Analysis : Pivot tables are widely used in data analysis to summarize and visualize large datasets.\n",
        "- Business Intelligence : Pivot tables are used in business intelligence to analyze sales, customer behavior, and other business metrics.\n",
        "- Data Science : Pivot tables are used in data science to explore and visualize complex datasets.\n",
        "\n",
        "By providing a flexible and powerful way to summarize and analyze data, pivot tables are an essential tool in Pandas for data analysis and visualization."
      ],
      "metadata": {
        "id": "_Ldvg9R0tsPW"
      }
    },
    {
      "cell_type": "markdown",
      "source": [
        "# **Q21. Why is NumPy’s array slicing faster than Python’s list slicing?**"
      ],
      "metadata": {
        "id": "tLdih1c1t2LS"
      }
    },
    {
      "cell_type": "markdown",
      "source": [
        "Ans21.\n",
        "# NumPy Arrays vs Python Lists: Slicing Performance\n",
        "\n",
        "NumPy arrays and Python lists are both data structures that support slicing, but they differ significantly in terms of performance. Here's why NumPy array slicing is generally faster than Python list slicing:\n",
        "\n",
        "Key Differences\n",
        "\n",
        "1. Memory Layout : NumPy arrays store data in a contiguous block of memory, which allows for efficient access and manipulation of elements. Python lists, on the other hand, store elements as separate objects, which can lead to slower performance.\n",
        "2. Data Type : NumPy arrays are homogeneous, meaning all elements have the same data type. This homogeneity enables NumPy to optimize operations and reduce overhead. Python lists, being heterogeneous, require more overhead to handle different data types.\n",
        "3. Vectorized Operations : NumPy arrays support vectorized operations, which allow operations to be performed on entire arrays at once. This leads to significant performance gains compared to Python lists, which require iterating over individual elements.\n",
        "\n",
        "Why NumPy Array Slicing is Faster\n",
        "\n",
        "1. Less Overhead : NumPy array slicing has less overhead compared to Python list slicing, thanks to its optimized memory layout and homogeneous data type.\n",
        "2. Faster Memory Access : NumPy's contiguous memory layout enables faster memory access, which contributes to improved slicing performance.\n",
        "3. Optimized Implementation : NumPy's slicing implementation is highly optimized, making it faster than Python's list slicing implementation.\n",
        "\n",
        "Example"
      ],
      "metadata": {
        "id": "HSbjl1E0uByT"
      }
    },
    {
      "cell_type": "code",
      "source": [
        "import numpy as np\n",
        "import time\n",
        "\n",
        "# Create a large NumPy array and Python list\n",
        "arr = np.random.rand(1000000)\n",
        "lst = list(arr)\n",
        "\n",
        "# Measure slicing time for NumPy array\n",
        "start_time = time.time()\n",
        "arr_slice = arr[:500000]\n",
        "end_time = time.time()\n",
        "print(f\"NumPy array slicing time: {end_time - start_time} seconds\")\n",
        "\n",
        "# Measure slicing time for Python list\n",
        "start_time = time.time()\n",
        "lst_slice = lst[:500000]\n",
        "end_time = time.time()\n",
        "print(f\"Python list slicing time: {end_time - start_time} seconds\")"
      ],
      "metadata": {
        "id": "3B0cp4cKurlN"
      },
      "execution_count": null,
      "outputs": []
    },
    {
      "cell_type": "markdown",
      "source": [
        "In this example, we demonstrate the performance difference between NumPy array slicing and Python list slicing.\n",
        "\n",
        "Conclusion\n",
        "\n",
        "NumPy array slicing is generally faster than Python list slicing due to its optimized memory layout, homogeneous data type, and vectorized operations. This makes NumPy arrays a popular choice for numerical computations and data analysis."
      ],
      "metadata": {
        "id": "pmwnK11gu0Ni"
      }
    },
    {
      "cell_type": "markdown",
      "source": [
        "# **Q22. What are some common use cases for Seaborn?**"
      ],
      "metadata": {
        "id": "GBu3Bon6u5-T"
      }
    },
    {
      "cell_type": "markdown",
      "source": [
        "# **Ans22.**\n",
        "# Common Use Cases for Seaborn\n",
        "\n",
        "Seaborn is a powerful data visualization library built on top of Matplotlib. It provides a high-level interface for creating informative and attractive statistical graphics. Here are some common use cases for Seaborn:\n",
        "\n",
        "1. Exploratory Data Analysis : Seaborn is widely used for exploratory data analysis, enabling users to visualize and understand the distribution of data, relationships between variables, and patterns.\n",
        "2. Visualizing Distributions : Seaborn provides various tools for visualizing distributions, such as histograms, boxplots, and violin plots, making it easy to understand the characteristics of data.\n",
        "3. Plotting Categorical Data : Seaborn offers several tools for plotting categorical data, including bar plots, count plots, and boxplots, which help users visualize and compare categorical variables.\n",
        "4. Creating Heatmaps : Seaborn's heatmap function enables users to create informative and visually appealing heatmaps, which are useful for visualizing correlation matrices, confusion matrices, and other matrix-like data.\n",
        "5. Visualizing Regression Models : Seaborn provides tools for visualizing regression models, including scatterplots with regression lines, residual plots, and more, making it easy to understand the relationships between variables.\n",
        "\n",
        "Benefits\n",
        "\n",
        "The benefits of using Seaborn include:\n",
        "\n",
        "- High-Level Interface : Seaborn provides a high-level interface for creating statistical graphics, making it easy to create complex visualizations with minimal code.\n",
        "- Attractive Visualizations : Seaborn's visualizations are highly customizable and visually appealing, making them suitable for presentations, reports, and publications.\n",
        "- Integration with Matplotlib : Seaborn is built on top of Matplotlib, allowing users to leverage the strengths of both libraries.\n",
        "\n",
        "Example\n"
      ],
      "metadata": {
        "id": "pxTmz51FvA76"
      }
    },
    {
      "cell_type": "code",
      "source": [
        "import seaborn as sns\n",
        "import matplotlib.pyplot as plt\n",
        "\n",
        "# Load the tips dataset\n",
        "tips = sns.load_dataset(\"tips\")\n",
        "\n",
        "# Create a scatterplot\n",
        "plt.figure(figsize=(8, 6))\n",
        "sns.scatterplot(x=\"total_bill\", y=\"tip\", data=tips)\n",
        "plt.title(\"Total Bill vs Tip\")\n",
        "plt.show()"
      ],
      "metadata": {
        "id": "UoL7DLF7vtlV"
      },
      "execution_count": null,
      "outputs": []
    },
    {
      "cell_type": "markdown",
      "source": [
        "In this example, we demonstrate the use of Seaborn to create a scatterplot of the tips dataset.\n",
        "\n",
        "Common Applications\n",
        "\n",
        "Seaborn is commonly used in:\n",
        "\n",
        "- Data Analysis : Seaborn is widely used in data analysis to visualize and understand complex data.\n",
        "- Data Science : Seaborn is a popular choice in data science for creating informative and attractive visualizations.\n",
        "- Research : Seaborn is used in research to create high-quality visualizations for publications and presentations.\n",
        "\n",
        "By providing a high-level interface for creating statistical graphics, Seaborn makes it easy to visualize and understand complex data."
      ],
      "metadata": {
        "id": "1bGxXBDmv0JJ"
      }
    },
    {
      "cell_type": "markdown",
      "source": [
        "# **Practical**"
      ],
      "metadata": {
        "id": "-NZxvcbsv-eI"
      }
    },
    {
      "cell_type": "markdown",
      "source": [
        "# **Q1. How do you create a 2D NumPy array and calculate the sum of each row?**"
      ],
      "metadata": {
        "id": "3OevjIWHwDL8"
      }
    },
    {
      "cell_type": "code",
      "source": [
        "import numpy as np\n",
        "\n",
        "arr = np.array([[1, 2, 3], [4, 5, 6], [7, 8, 9]])\n",
        "row_sums = np.sum(arr, axis=1)\n",
        "print(\"2D Array:\\n\", arr)\n",
        "print(\"Sum of each row:\", row_sums)"
      ],
      "metadata": {
        "colab": {
          "base_uri": "https://localhost:8080/"
        },
        "id": "AwSMIebXwO9Y",
        "outputId": "ac895b02-df62-4c6b-a9b9-d73b603bfd68"
      },
      "execution_count": null,
      "outputs": [
        {
          "output_type": "stream",
          "name": "stdout",
          "text": [
            "2D Array:\n",
            " [[1 2 3]\n",
            " [4 5 6]\n",
            " [7 8 9]]\n",
            "Sum of each row: [ 6 15 24]\n"
          ]
        }
      ]
    },
    {
      "cell_type": "markdown",
      "source": [
        "# **Q2. Write a Pandas script to find the mean of a specific column in a DataFrame?**"
      ],
      "metadata": {
        "id": "GyEaIAuQxs8i"
      }
    },
    {
      "cell_type": "code",
      "source": [
        "import pandas as pd\n",
        "\n",
        "# Create a sample DataFrame\n",
        "data = {\n",
        "    'Name': ['Suhani', 'chetna', 'Shewta', 'Priya'],\n",
        "    'Age':   [21, 22, 33, 28],\n",
        "    'Score': [85, 92, 78, 95]\n",
        "}\n",
        "df = pd.DataFrame(data)\n",
        "\n",
        "# Calculate the mean of the 'Score' column\n",
        "mean_score = df['Score'].mean()\n",
        "print(\"Mean of the 'Score' column:\", mean_score)\n"
      ],
      "metadata": {
        "colab": {
          "base_uri": "https://localhost:8080/"
        },
        "id": "hVg2Vt_jx3Gk",
        "outputId": "85ba7ddb-75b0-4133-dc15-3456e077eef2"
      },
      "execution_count": null,
      "outputs": [
        {
          "output_type": "stream",
          "name": "stdout",
          "text": [
            "Mean of the 'Score' column: 87.5\n"
          ]
        }
      ]
    },
    {
      "cell_type": "markdown",
      "source": [
        "# **Q3. Create a scatter plot using Matplotlib?**"
      ],
      "metadata": {
        "id": "3-F4oYbd0Jn2"
      }
    },
    {
      "cell_type": "code",
      "source": [
        "import matplotlib.pyplot as plt\n",
        "\n",
        "# Sample data\n",
        "x = [10, 20, 30, 40, 50]\n",
        "y = [5, 15, 25, 35, 45]\n",
        "\n",
        "# Create a scatter plot\n",
        "plt.scatter(x, y, color= 'blue', marker='o', label='Data Points')\n",
        "\n",
        "# Add labels and title\n",
        "plt.xlabel('X-axis')\n",
        "plt.ylabel('Y-axis')\n",
        "plt.title('Scatter Plot')\n",
        "\n",
        "# Show the plot\n",
        "plt.show()"
      ],
      "metadata": {
        "colab": {
          "base_uri": "https://localhost:8080/",
          "height": 472
        },
        "id": "oY5kL1dn0Q5e",
        "outputId": "de31462b-53e2-4306-aa1d-50578a967dbd"
      },
      "execution_count": null,
      "outputs": [
        {
          "output_type": "display_data",
          "data": {
            "text/plain": [
              "<Figure size 640x480 with 1 Axes>"
            ],
            "image/png": "[encoded data removed]"
          },
          "metadata": {}
        }
      ]
    },
    {
      "cell_type": "markdown",
      "source": [
        "# **Q4. How do you calculate the correlation matrix using Seaborn and visualize it with a heatmap?**"
      ],
      "metadata": {
        "id": "b2Ms83wB1VGT"
      }
    },
    {
      "cell_type": "code",
      "source": [
        "import pandas as pd\n",
        "import seaborn as sns\n",
        "import matplotlib.pyplot as plt\n",
        "\n",
        "# Sample data\n",
        "data = {\n",
        "    'Math': [85, 90, 78, 92, 88],\n",
        "    'Science': [92, 88, 95, 89, 91],\n",
        "    'English': [78, 85, 90, 88, 84]\n",
        "}\n",
        "\n",
        "# Create DataFrame\n",
        "df = pd.DataFrame(data)\n",
        "\n",
        "# Calculate correlation matrix\n",
        "correlation_matrix = df.corr()\n",
        "\n",
        "# Plot heatmap\n",
        "sns.heatmap(correlation_matrix, annot=True, cmap='coolwarm', fmt=\".2f\")\n",
        "plt.title(\"Correlation Matrix Heatmap\")\n",
        "plt.show()"
      ],
      "metadata": {
        "colab": {
          "base_uri": "https://localhost:8080/",
          "height": 452
        },
        "id": "ksnwB1AA1dyV",
        "outputId": "0418a101-bf28-4d1e-b1dc-f7c85a3ab1e4"
      },
      "execution_count": null,
      "outputs": [
        {
          "output_type": "display_data",
          "data": {
            "text/plain": [
              "<Figure size 640x480 with 2 Axes>"
            ],
            "image/png": "[encoded data removed]"
          },
          "metadata": {}
        }
      ]
    },
    {
      "cell_type": "markdown",
      "source": [
        "# **Q5. Generate a bar plot using Plotly?**"
      ],
      "metadata": {
        "id": "GmhXSGve3Erl"
      }
    },
    {
      "cell_type": "code",
      "source": [
        "import plotly.express as px\n",
        "\n",
        "# Sample data\n",
        "data = {\n",
        "    'Fruits': ['Apples', 'Oranges', 'Bananas', 'Grapes'],\n",
        "    'Quantity': [10, 15, 7, 12]\n",
        "}\n",
        "\n",
        "# Create DataFrame\n",
        "import pandas as pd\n",
        "df = pd.DataFrame(data)\n",
        "\n",
        "# Generate bar plot\n",
        "fig = px.bar(df, x='Fruits', y='Quantity', title='Fruit Quantities', color='Fruits')\n",
        "\n",
        "# Show plot\n",
        "fig.show()"
      ],
      "metadata": {
        "colab": {
          "base_uri": "https://localhost:8080/",
          "height": 542
        },
        "id": "9vedPisL3IkQ",
        "outputId": "a7e3267a-d920-4132-9f57-27249fadd50d"
      },
      "execution_count": null,
      "outputs": [
        {
          "output_type": "display_data",
          "data": {
            "text/html": [
              "<html>\n",
              "<head><meta charset=\"utf-8\" /></head>\n",
              "<body>\n",
              "    <div>            <script src=\"https://cdnjs.cloudflare.com/ajax/libs/mathjax/2.7.5/MathJax.js?config=TeX-AMS-MML_SVG\"></script><script type=\"text/javascript\">if (window.MathJax && window.MathJax.Hub && window.MathJax.Hub.Config) {window.MathJax.Hub.Config({SVG: {font: \"STIX-Web\"}});}</script>                <script type=\"text/javascript\">window.PlotlyConfig = {MathJaxConfig: 'local'};</script>\n",
              "        <script charset=\"utf-8\" src=\"https://cdn.plot.ly/plotly-2.35.2.min.js\"></script>                <div id=\"be03c3b3-7581-4a80-acfa-ccf9ec976f90\" class=\"plotly-graph-div\" style=\"height:525px; width:100%;\"></div>            <script type=\"text/javascript\">                                    window.PLOTLYENV=window.PLOTLYENV || {};                                    if (document.getElementById(\"be03c3b3-7581-4a80-acfa-ccf9ec976f90\")) {                    Plotly.newPlot(                        \"be03c3b3-7581-4a80-acfa-ccf9ec976f90\",                        [{\"alignmentgroup\":\"True\",\"hovertemplate\":\"Fruits=%{x}\\u003cbr\\u003eQuantity=%{y}\\u003cextra\\u003e\\u003c\\u002fextra\\u003e\",\"legendgroup\":\"Apples\",\"marker\":{\"color\":\"#636efa\",\"pattern\":{\"shape\":\"\"}},\"name\":\"Apples\",\"offsetgroup\":\"Apples\",\"orientation\":\"v\",\"showlegend\":true,\"textposition\":\"auto\",\"x\":[\"Apples\"],\"xaxis\":\"x\",\"y\":[10],\"yaxis\":\"y\",\"type\":\"bar\"},{\"alignmentgroup\":\"True\",\"hovertemplate\":\"Fruits=%{x}\\u003cbr\\u003eQuantity=%{y}\\u003cextra\\u003e\\u003c\\u002fextra\\u003e\",\"legendgroup\":\"Oranges\",\"marker\":{\"color\":\"#EF553B\",\"pattern\":{\"shape\":\"\"}},\"name\":\"Oranges\",\"offsetgroup\":\"Oranges\",\"orientation\":\"v\",\"showlegend\":true,\"textposition\":\"auto\",\"x\":[\"Oranges\"],\"xaxis\":\"x\",\"y\":[15],\"yaxis\":\"y\",\"type\":\"bar\"},{\"alignmentgroup\":\"True\",\"hovertemplate\":\"Fruits=%{x}\\u003cbr\\u003eQuantity=%{y}\\u003cextra\\u003e\\u003c\\u002fextra\\u003e\",\"legendgroup\":\"Bananas\",\"marker\":{\"color\":\"#00cc96\",\"pattern\":{\"shape\":\"\"}},\"name\":\"Bananas\",\"offsetgroup\":\"Bananas\",\"orientation\":\"v\",\"showlegend\":true,\"textposition\":\"auto\",\"x\":[\"Bananas\"],\"xaxis\":\"x\",\"y\":[7],\"yaxis\":\"y\",\"type\":\"bar\"},{\"alignmentgroup\":\"True\",\"hovertemplate\":\"Fruits=%{x}\\u003cbr\\u003eQuantity=%{y}\\u003cextra\\u003e\\u003c\\u002fextra\\u003e\",\"legendgroup\":\"Grapes\",\"marker\":{\"color\":\"#ab63fa\",\"pattern\":{\"shape\":\"\"}},\"name\":\"Grapes\",\"offsetgroup\":\"Grapes\",\"orientation\":\"v\",\"showlegend\":true,\"textposition\":\"auto\",\"x\":[\"Grapes\"],\"xaxis\":\"x\",\"y\":[12],\"yaxis\":\"y\",\"type\":\"bar\"}],                        {\"template\":{\"data\":{\"histogram2dcontour\":[{\"type\":\"histogram2dcontour\",\"colorbar\":{\"outlinewidth\":0,\"ticks\":\"\"},\"colorscale\":[[0.0,\"#0d0887\"],[0.1111111111111111,\"#46039f\"],[0.2222222222222222,\"#7201a8\"],[0.3333333333333333,\"#9c179e\"],[0.4444444444444444,\"#bd3786\"],[0.5555555555555556,\"#d8576b\"],[0.6666666666666666,\"#ed7953\"],[0.7777777777777778,\"#fb9f3a\"],[0.8888888888888888,\"#fdca26\"],[1.0,\"#f0f921\"]]}],\"choropleth\":[{\"type\":\"choropleth\",\"colorbar\":{\"outlinewidth\":0,\"ticks\":\"\"}}],\"histogram2d\":[{\"type\":\"histogram2d\",\"colorbar\":{\"outlinewidth\":0,\"ticks\":\"\"},\"colorscale\":[[0.0,\"#0d0887\"],[0.1111111111111111,\"#46039f\"],[0.2222222222222222,\"#7201a8\"],[0.3333333333333333,\"#9c179e\"],[0.4444444444444444,\"#bd3786\"],[0.5555555555555556,\"#d8576b\"],[0.6666666666666666,\"#ed7953\"],[0.7777777777777778,\"#fb9f3a\"],[0.8888888888888888,\"#fdca26\"],[1.0,\"#f0f921\"]]}],\"heatmap\":[{\"type\":\"heatmap\",\"colorbar\":{\"outlinewidth\":0,\"ticks\":\"\"},\"colorscale\":[[0.0,\"#0d0887\"],[0.1111111111111111,\"#46039f\"],[0.2222222222222222,\"#7201a8\"],[0.3333333333333333,\"#9c179e\"],[0.4444444444444444,\"#bd3786\"],[0.5555555555555556,\"#d8576b\"],[0.6666666666666666,\"#ed7953\"],[0.7777777777777778,\"#fb9f3a\"],[0.8888888888888888,\"#fdca26\"],[1.0,\"#f0f921\"]]}],\"heatmapgl\":[{\"type\":\"heatmapgl\",\"colorbar\":{\"outlinewidth\":0,\"ticks\":\"\"},\"colorscale\":[[0.0,\"#0d0887\"],[0.1111111111111111,\"#46039f\"],[0.2222222222222222,\"#7201a8\"],[0.3333333333333333,\"#9c179e\"],[0.4444444444444444,\"#bd3786\"],[0.5555555555555556,\"#d8576b\"],[0.6666666666666666,\"#ed7953\"],[0.7777777777777778,\"#fb9f3a\"],[0.8888888888888888,\"#fdca26\"],[1.0,\"#f0f921\"]]}],\"contourcarpet\":[{\"type\":\"contourcarpet\",\"colorbar\":{\"outlinewidth\":0,\"ticks\":\"\"}}],\"contour\":[{\"type\":\"contour\",\"colorbar\":{\"outlinewidth\":0,\"ticks\":\"\"},\"colorscale\":[[0.0,\"#0d0887\"],[0.1111111111111111,\"#46039f\"],[0.2222222222222222,\"#7201a8\"],[0.3333333333333333,\"#9c179e\"],[0.4444444444444444,\"#bd3786\"],[0.5555555555555556,\"#d8576b\"],[0.6666666666666666,\"#ed7953\"],[0.7777777777777778,\"#fb9f3a\"],[0.8888888888888888,\"#fdca26\"],[1.0,\"#f0f921\"]]}],\"surface\":[{\"type\":\"surface\",\"colorbar\":{\"outlinewidth\":0,\"ticks\":\"\"},\"colorscale\":[[0.0,\"#0d0887\"],[0.1111111111111111,\"#46039f\"],[0.2222222222222222,\"#7201a8\"],[0.3333333333333333,\"#9c179e\"],[0.4444444444444444,\"#bd3786\"],[0.5555555555555556,\"#d8576b\"],[0.6666666666666666,\"#ed7953\"],[0.7777777777777778,\"#fb9f3a\"],[0.8888888888888888,\"#fdca26\"],[1.0,\"#f0f921\"]]}],\"mesh3d\":[{\"type\":\"mesh3d\",\"colorbar\":{\"outlinewidth\":0,\"ticks\":\"\"}}],\"scatter\":[{\"fillpattern\":{\"fillmode\":\"overlay\",\"size\":10,\"solidity\":0.2},\"type\":\"scatter\"}],\"parcoords\":[{\"type\":\"parcoords\",\"line\":{\"colorbar\":{\"outlinewidth\":0,\"ticks\":\"\"}}}],\"scatterpolargl\":[{\"type\":\"scatterpolargl\",\"marker\":{\"colorbar\":{\"outlinewidth\":0,\"ticks\":\"\"}}}],\"bar\":[{\"error_x\":{\"color\":\"#2a3f5f\"},\"error_y\":{\"color\":\"#2a3f5f\"},\"marker\":{\"line\":{\"color\":\"#E5ECF6\",\"width\":0.5},\"pattern\":{\"fillmode\":\"overlay\",\"size\":10,\"solidity\":0.2}},\"type\":\"bar\"}],\"scattergeo\":[{\"type\":\"scattergeo\",\"marker\":{\"colorbar\":{\"outlinewidth\":0,\"ticks\":\"\"}}}],\"scatterpolar\":[{\"type\":\"scatterpolar\",\"marker\":{\"colorbar\":{\"outlinewidth\":0,\"ticks\":\"\"}}}],\"histogram\":[{\"marker\":{\"pattern\":{\"fillmode\":\"overlay\",\"size\":10,\"solidity\":0.2}},\"type\":\"histogram\"}],\"scattergl\":[{\"type\":\"scattergl\",\"marker\":{\"colorbar\":{\"outlinewidth\":0,\"ticks\":\"\"}}}],\"scatter3d\":[{\"type\":\"scatter3d\",\"line\":{\"colorbar\":{\"outlinewidth\":0,\"ticks\":\"\"}},\"marker\":{\"colorbar\":{\"outlinewidth\":0,\"ticks\":\"\"}}}],\"scattermapbox\":[{\"type\":\"scattermapbox\",\"marker\":{\"colorbar\":{\"outlinewidth\":0,\"ticks\":\"\"}}}],\"scatterternary\":[{\"type\":\"scatterternary\",\"marker\":{\"colorbar\":{\"outlinewidth\":0,\"ticks\":\"\"}}}],\"scattercarpet\":[{\"type\":\"scattercarpet\",\"marker\":{\"colorbar\":{\"outlinewidth\":0,\"ticks\":\"\"}}}],\"carpet\":[{\"aaxis\":{\"endlinecolor\":\"#2a3f5f\",\"gridcolor\":\"white\",\"linecolor\":\"white\",\"minorgridcolor\":\"white\",\"startlinecolor\":\"#2a3f5f\"},\"baxis\":{\"endlinecolor\":\"#2a3f5f\",\"gridcolor\":\"white\",\"linecolor\":\"white\",\"minorgridcolor\":\"white\",\"startlinecolor\":\"#2a3f5f\"},\"type\":\"carpet\"}],\"table\":[{\"cells\":{\"fill\":{\"color\":\"#EBF0F8\"},\"line\":{\"color\":\"white\"}},\"header\":{\"fill\":{\"color\":\"#C8D4E3\"},\"line\":{\"color\":\"white\"}},\"type\":\"table\"}],\"barpolar\":[{\"marker\":{\"line\":{\"color\":\"#E5ECF6\",\"width\":0.5},\"pattern\":{\"fillmode\":\"overlay\",\"size\":10,\"solidity\":0.2}},\"type\":\"barpolar\"}],\"pie\":[{\"automargin\":true,\"type\":\"pie\"}]},\"layout\":{\"autotypenumbers\":\"strict\",\"colorway\":[\"#636efa\",\"#EF553B\",\"#00cc96\",\"#ab63fa\",\"#FFA15A\",\"#19d3f3\",\"#FF6692\",\"#B6E880\",\"#FF97FF\",\"#FECB52\"],\"font\":{\"color\":\"#2a3f5f\"},\"hovermode\":\"closest\",\"hoverlabel\":{\"align\":\"left\"},\"paper_bgcolor\":\"white\",\"plot_bgcolor\":\"#E5ECF6\",\"polar\":{\"bgcolor\":\"#E5ECF6\",\"angularaxis\":{\"gridcolor\":\"white\",\"linecolor\":\"white\",\"ticks\":\"\"},\"radialaxis\":{\"gridcolor\":\"white\",\"linecolor\":\"white\",\"ticks\":\"\"}},\"ternary\":{\"bgcolor\":\"#E5ECF6\",\"aaxis\":{\"gridcolor\":\"white\",\"linecolor\":\"white\",\"ticks\":\"\"},\"baxis\":{\"gridcolor\":\"white\",\"linecolor\":\"white\",\"ticks\":\"\"},\"caxis\":{\"gridcolor\":\"white\",\"linecolor\":\"white\",\"ticks\":\"\"}},\"coloraxis\":{\"colorbar\":{\"outlinewidth\":0,\"ticks\":\"\"}},\"colorscale\":{\"sequential\":[[0.0,\"#0d0887\"],[0.1111111111111111,\"#46039f\"],[0.2222222222222222,\"#7201a8\"],[0.3333333333333333,\"#9c179e\"],[0.4444444444444444,\"#bd3786\"],[0.5555555555555556,\"#d8576b\"],[0.6666666666666666,\"#ed7953\"],[0.7777777777777778,\"#fb9f3a\"],[0.8888888888888888,\"#fdca26\"],[1.0,\"#f0f921\"]],\"sequentialminus\":[[0.0,\"#0d0887\"],[0.1111111111111111,\"#46039f\"],[0.2222222222222222,\"#7201a8\"],[0.3333333333333333,\"#9c179e\"],[0.4444444444444444,\"#bd3786\"],[0.5555555555555556,\"#d8576b\"],[0.6666666666666666,\"#ed7953\"],[0.7777777777777778,\"#fb9f3a\"],[0.8888888888888888,\"#fdca26\"],[1.0,\"#f0f921\"]],\"diverging\":[[0,\"#8e0152\"],[0.1,\"#c51b7d\"],[0.2,\"#de77ae\"],[0.3,\"#f1b6da\"],[0.4,\"#fde0ef\"],[0.5,\"#f7f7f7\"],[0.6,\"#e6f5d0\"],[0.7,\"#b8e186\"],[0.8,\"#7fbc41\"],[0.9,\"#4d9221\"],[1,\"#276419\"]]},\"xaxis\":{\"gridcolor\":\"white\",\"linecolor\":\"white\",\"ticks\":\"\",\"title\":{\"standoff\":15},\"zerolinecolor\":\"white\",\"automargin\":true,\"zerolinewidth\":2},\"yaxis\":{\"gridcolor\":\"white\",\"linecolor\":\"white\",\"ticks\":\"\",\"title\":{\"standoff\":15},\"zerolinecolor\":\"white\",\"automargin\":true,\"zerolinewidth\":2},\"scene\":{\"xaxis\":{\"backgroundcolor\":\"#E5ECF6\",\"gridcolor\":\"white\",\"linecolor\":\"white\",\"showbackground\":true,\"ticks\":\"\",\"zerolinecolor\":\"white\",\"gridwidth\":2},\"yaxis\":{\"backgroundcolor\":\"#E5ECF6\",\"gridcolor\":\"white\",\"linecolor\":\"white\",\"showbackground\":true,\"ticks\":\"\",\"zerolinecolor\":\"white\",\"gridwidth\":2},\"zaxis\":{\"backgroundcolor\":\"#E5ECF6\",\"gridcolor\":\"white\",\"linecolor\":\"white\",\"showbackground\":true,\"ticks\":\"\",\"zerolinecolor\":\"white\",\"gridwidth\":2}},\"shapedefaults\":{\"line\":{\"color\":\"#2a3f5f\"}},\"annotationdefaults\":{\"arrowcolor\":\"#2a3f5f\",\"arrowhead\":0,\"arrowwidth\":1},\"geo\":{\"bgcolor\":\"white\",\"landcolor\":\"#E5ECF6\",\"subunitcolor\":\"white\",\"showland\":true,\"showlakes\":true,\"lakecolor\":\"white\"},\"title\":{\"x\":0.05},\"mapbox\":{\"style\":\"light\"}}},\"xaxis\":{\"anchor\":\"y\",\"domain\":[0.0,1.0],\"title\":{\"text\":\"Fruits\"},\"categoryorder\":\"array\",\"categoryarray\":[\"Apples\",\"Oranges\",\"Bananas\",\"Grapes\"]},\"yaxis\":{\"anchor\":\"x\",\"domain\":[0.0,1.0],\"title\":{\"text\":\"Quantity\"}},\"legend\":{\"title\":{\"text\":\"Fruits\"},\"tracegroupgap\":0},\"title\":{\"text\":\"Fruit Quantities\"},\"barmode\":\"relative\"},                        {\"responsive\": true}                    ).then(function(){\n",
              "                            \n",
              "var gd = document.getElementById('be03c3b3-7581-4a80-acfa-ccf9ec976f90');\n",
              "var x = new MutationObserver(function (mutations, observer) {{\n",
              "        var display = window.getComputedStyle(gd).display;\n",
              "        if (!display || display === 'none') {{\n",
              "            console.log([gd, 'removed!']);\n",
              "            Plotly.purge(gd);\n",
              "            observer.disconnect();\n",
              "        }}\n",
              "}});\n",
              "\n",
              "// Listen for the removal of the full notebook cells\n",
              "var notebookContainer = gd.closest('#notebook-container');\n",
              "if (notebookContainer) {{\n",
              "    x.observe(notebookContainer, {childList: true});\n",
              "}}\n",
              "\n",
              "// Listen for the clearing of the current output cell\n",
              "var outputEl = gd.closest('.output');\n",
              "if (outputEl) {{\n",
              "    x.observe(outputEl, {childList: true});\n",
              "}}\n",
              "\n",
              "                        })                };                            </script>        </div>\n",
              "</body>\n",
              "</html>"
            ]
          },
          "metadata": {}
        }
      ]
    },
    {
      "cell_type": "markdown",
      "source": [
        "# **Q6. Create a DataFrame and add a new column based on an existing column?**"
      ],
      "metadata": {
        "id": "rwMO0M-K3tWk"
      }
    },
    {
      "cell_type": "code",
      "source": [
        "import pandas as pd\n",
        "\n",
        "# Create initial DataFrame\n",
        "data = {\n",
        "    'Name': ['Himani', 'Suhani', 'Chetna'],\n",
        "    'Score': [85, 42, 73]\n",
        "}\n",
        "\n",
        "df = pd.DataFrame(data)\n",
        "\n",
        "# Add a new column 'Result' based on 'Score'\n",
        "df['Result'] = df['Score'].apply(lambda x: 'Pass' if x >= 50 else 'Fail')\n",
        "\n",
        "# Display the DataFrame\n",
        "print(df)"
      ],
      "metadata": {
        "colab": {
          "base_uri": "https://localhost:8080/"
        },
        "id": "neylG6RL33Gz",
        "outputId": "d8b8f43b-430b-492b-d77e-5897896f203c"
      },
      "execution_count": null,
      "outputs": [
        {
          "output_type": "stream",
          "name": "stdout",
          "text": [
            "     Name  Score Result\n",
            "0  Himani     85   Pass\n",
            "1  Suhani     42   Fail\n",
            "2  Chetna     73   Pass\n"
          ]
        }
      ]
    },
    {
      "cell_type": "markdown",
      "source": [
        "# **Q7.Write a program to perform element-wise multiplication of two NumPy arrays?**"
      ],
      "metadata": {
        "id": "21THIuJX4NVA"
      }
    },
    {
      "cell_type": "code",
      "source": [
        "import numpy as np\n",
        "\n",
        "# Create two NumPy arrays\n",
        "a = np.array([1, 2, 3])\n",
        "b = np.array([4, 5, 6])\n",
        "\n",
        "# Perform element-wise multiplication\n",
        "result = a * b\n",
        "\n",
        "# Display the result\n",
        "print(\"Array A:\", a)\n",
        "print(\"Array B:\", b)\n",
        "print(\"Element-wise multiplication:\", result)"
      ],
      "metadata": {
        "colab": {
          "base_uri": "https://localhost:8080/"
        },
        "id": "NN8O4iQM4VQl",
        "outputId": "eb0de7ff-64d1-4370-cd8c-6bdf4548b1ca"
      },
      "execution_count": null,
      "outputs": [
        {
          "output_type": "stream",
          "name": "stdout",
          "text": [
            "Array A: [1 2 3]\n",
            "Array B: [4 5 6]\n",
            "Element-wise multiplication: [ 4 10 18]\n"
          ]
        }
      ]
    },
    {
      "cell_type": "markdown",
      "source": [
        "# **Q8.Create a line plot with multiple lines using Matplotlib?**"
      ],
      "metadata": {
        "id": "23ZMkh1A4hv3"
      }
    },
    {
      "cell_type": "code",
      "source": [
        "import matplotlib.pyplot as plt\n",
        "\n",
        "# Sample data\n",
        "x = [1, 2, 3, 4, 5]\n",
        "y1 = [10, 20, 25, 30, 40]\n",
        "y2 = [5, 15, 20, 25, 35]\n",
        "\n",
        "# Create line plot with multiple lines\n",
        "plt.plot(x, y1, label='Line 1', color='blue', marker='o')\n",
        "plt.plot(x, y2, label='Line 2', color='green', marker='s')\n",
        "\n",
        "# Add labels, title, legend, and grid\n",
        "plt.xlabel('X-axis')\n",
        "plt.ylabel('Y-axis')\n",
        "plt.title('Multiple Line Plot')\n",
        "plt.legend()\n",
        "plt.grid(True)\n",
        "\n",
        "# Show the plot\n",
        "plt.show()"
      ],
      "metadata": {
        "colab": {
          "base_uri": "https://localhost:8080/",
          "height": 472
        },
        "id": "8V9IcOTM4orX",
        "outputId": "e6527db5-f2f2-47c9-d407-21633a52e45a"
      },
      "execution_count": null,
      "outputs": [
        {
          "output_type": "display_data",
          "data": {
            "text/plain": [
              "<Figure size 640x480 with 1 Axes>"
            ],
            "image/png": "[encoded data removed]"
          },
          "metadata": {}
        }
      ]
    },
    {
      "cell_type": "markdown",
      "source": [
        "# **Q9. Generate a Pandas DataFrame and filter rows where a column value is greater than a threshold?**"
      ],
      "metadata": {
        "id": "hJq3ayKV5CQM"
      }
    },
    {
      "cell_type": "code",
      "source": [
        "import pandas as pd\n",
        "\n",
        "# Create a sample DataFrame\n",
        "data = {\n",
        "    'Name': ['om', 'Rajesh', 'Shewta', 'Himani'],\n",
        "    'Age': [21, 35, 32, 20]\n",
        "}\n",
        "\n",
        "df = pd.DataFrame(data)\n",
        "\n",
        "# Filter rows where Age > 21\n",
        "filtered_df = df[df['Age'] > 21]\n",
        "\n",
        "# Display the filtered DataFrame\n",
        "print(filtered_df)"
      ],
      "metadata": {
        "colab": {
          "base_uri": "https://localhost:8080/"
        },
        "id": "wGnTWg575JwI",
        "outputId": "265ea785-c017-4a7a-95f6-8dc77aa7bb8e"
      },
      "execution_count": null,
      "outputs": [
        {
          "output_type": "stream",
          "name": "stdout",
          "text": [
            "     Name  Age\n",
            "1  Rajesh   35\n",
            "2  Shewta   32\n"
          ]
        }
      ]
    },
    {
      "cell_type": "markdown",
      "source": [
        "# **Q10. Create a histogram using Seaborn to visualize a distribution?**"
      ],
      "metadata": {
        "id": "tLnd_8sz57Qy"
      }
    },
    {
      "cell_type": "code",
      "source": [
        "import seaborn as sns\n",
        "import matplotlib.pyplot as plt\n",
        "\n",
        "# Sample data\n",
        "data = [23, 25, 29, 32, 35, 35, 36, 37, 38, 40, 42, 45, 46, 48, 50]\n",
        "\n",
        "# Create histogram\n",
        "sns.histplot(data, bins=8, kde=True, color='skyblue')\n",
        "\n",
        "# Add labels and title\n",
        "plt.xlabel('Value')\n",
        "plt.ylabel('Frequency')\n",
        "plt.title('Distribution Histogram')\n",
        "\n",
        "# Show the plot\n",
        "plt.show()"
      ],
      "metadata": {
        "colab": {
          "base_uri": "https://localhost:8080/",
          "height": 472
        },
        "id": "z1O1hUBx6E-q",
        "outputId": "fa3ef6a3-682b-4c9d-9332-91b55d7af272"
      },
      "execution_count": null,
      "outputs": [
        {
          "output_type": "display_data",
          "data": {
            "text/plain": [
              "<Figure size 640x480 with 1 Axes>"
            ],
            "image/png": "[encoded data removed]"
          },
          "metadata": {}
        }
      ]
    },
    {
      "cell_type": "markdown",
      "source": [
        "# **Q11.Perform matrix multiplication using NumPy?**"
      ],
      "metadata": {
        "id": "EGvImE1E6N3d"
      }
    },
    {
      "cell_type": "code",
      "source": [
        "import numpy as np\n",
        "\n",
        "# Define two matrices\n",
        "A = np.array([[1, 2],\n",
        "              [3, 4]])\n",
        "\n",
        "B = np.array([[5, 6],\n",
        "              [7, 8]])\n",
        "\n",
        "# Perform matrix multiplication\n",
        "result = np.dot(A, B)\n",
        "# Alternatively, you can also use: result = A @ B\n",
        "\n",
        "# Display the result\n",
        "print(\"Matrix A:\\n\", A)\n",
        "print(\"Matrix B:\\n\", B)\n",
        "print(\"Matrix Multiplication Result:\\n\", result)"
      ],
      "metadata": {
        "colab": {
          "base_uri": "https://localhost:8080/"
        },
        "id": "Tg7Fba4Z6VEb",
        "outputId": "cc2b90e1-cd11-475c-cb2c-c37f2984d149"
      },
      "execution_count": null,
      "outputs": [
        {
          "output_type": "stream",
          "name": "stdout",
          "text": [
            "Matrix A:\n",
            " [[1 2]\n",
            " [3 4]]\n",
            "Matrix B:\n",
            " [[5 6]\n",
            " [7 8]]\n",
            "Matrix Multiplication Result:\n",
            " [[19 22]\n",
            " [43 50]]\n"
          ]
        }
      ]
    },
    {
      "cell_type": "markdown",
      "source": [
        "# **Q12.Use Pandas to load a CSV file and display its first 5 rows?**"
      ],
      "metadata": {
        "id": "maJNL8Vu6eIJ"
      }
    },
    {
      "cell_type": "code",
      "source": [
        "import pandas as pd\n",
        "\n",
        "# Step 1: Create and save the CSV file\n",
        "data = {'Name': ['Alice', 'Bob'], 'Age': [25, 30]}\n",
        "df = pd.DataFrame(data)\n",
        "df.to_csv('my_data.csv', index=False)\n",
        "\n",
        "# Step 2: Now load the saved file\n",
        "df_loaded = pd.read_csv('my_data.csv')\n",
        "\n",
        "# Step 3: Display the first 5 rows\n",
        "print(df_loaded.head())"
      ],
      "metadata": {
        "colab": {
          "base_uri": "https://localhost:8080/"
        },
        "id": "YUrEMThBGWqA",
        "outputId": "7e4f5b1e-2bc7-4404-9017-1e18cb032ffe"
      },
      "execution_count": null,
      "outputs": [
        {
          "output_type": "stream",
          "name": "stdout",
          "text": [
            "    Name  Age\n",
            "0  Alice   25\n",
            "1    Bob   30\n"
          ]
        }
      ]
    },
    {
      "cell_type": "markdown",
      "source": [
        "# **Q13.Create a 3D scatter plot using Plotly.**"
      ],
      "metadata": {
        "id": "AHEWlBQ07xpN"
      }
    },
    {
      "cell_type": "code",
      "source": [
        "import plotly.express as px\n",
        "import pandas as pd\n",
        "\n",
        "# Sample data\n",
        "df = pd.DataFrame({\n",
        "    'X': [1, 2, 3, 4, 5],\n",
        "    'Y': [10, 11, 12, 13, 14],\n",
        "    'Z': [5, 6, 7, 8, 9],\n",
        "    'Label': ['A', 'B', 'C', 'D', 'E']\n",
        "})\n",
        "\n",
        "# Create 3D scatter plot\n",
        "fig = px.scatter_3d(df, x='X', y='Y', z='Z', color='Label', size_max=10)\n",
        "\n",
        "# Show the plot\n",
        "fig.show()"
      ],
      "metadata": {
        "colab": {
          "base_uri": "https://localhost:8080/",
          "height": 542
        },
        "id": "C-Bup3At79Y0",
        "outputId": "e9764fdd-847b-43c5-e134-56fa5aaa1e3b"
      },
      "execution_count": null,
      "outputs": [
        {
          "output_type": "display_data",
          "data": {
            "text/html": [
              "<html>\n",
              "<head><meta charset=\"utf-8\" /></head>\n",
              "<body>\n",
              "    <div>            <script src=\"https://cdnjs.cloudflare.com/ajax/libs/mathjax/2.7.5/MathJax.js?config=TeX-AMS-MML_SVG\"></script><script type=\"text/javascript\">if (window.MathJax && window.MathJax.Hub && window.MathJax.Hub.Config) {window.MathJax.Hub.Config({SVG: {font: \"STIX-Web\"}});}</script>                <script type=\"text/javascript\">window.PlotlyConfig = {MathJaxConfig: 'local'};</script>\n",
              "        <script charset=\"utf-8\" src=\"https://cdn.plot.ly/plotly-2.35.2.min.js\"></script>                <div id=\"8853f361-aca0-486b-99c6-ea74059bfa7e\" class=\"plotly-graph-div\" style=\"height:525px; width:100%;\"></div>            <script type=\"text/javascript\">                                    window.PLOTLYENV=window.PLOTLYENV || {};                                    if (document.getElementById(\"8853f361-aca0-486b-99c6-ea74059bfa7e\")) {                    Plotly.newPlot(                        \"8853f361-aca0-486b-99c6-ea74059bfa7e\",                        [{\"hovertemplate\":\"Label=A\\u003cbr\\u003eX=%{x}\\u003cbr\\u003eY=%{y}\\u003cbr\\u003eZ=%{z}\\u003cextra\\u003e\\u003c\\u002fextra\\u003e\",\"legendgroup\":\"A\",\"marker\":{\"color\":\"#636efa\",\"symbol\":\"circle\"},\"mode\":\"markers\",\"name\":\"A\",\"scene\":\"scene\",\"showlegend\":true,\"x\":[1],\"y\":[10],\"z\":[5],\"type\":\"scatter3d\"},{\"hovertemplate\":\"Label=B\\u003cbr\\u003eX=%{x}\\u003cbr\\u003eY=%{y}\\u003cbr\\u003eZ=%{z}\\u003cextra\\u003e\\u003c\\u002fextra\\u003e\",\"legendgroup\":\"B\",\"marker\":{\"color\":\"#EF553B\",\"symbol\":\"circle\"},\"mode\":\"markers\",\"name\":\"B\",\"scene\":\"scene\",\"showlegend\":true,\"x\":[2],\"y\":[11],\"z\":[6],\"type\":\"scatter3d\"},{\"hovertemplate\":\"Label=C\\u003cbr\\u003eX=%{x}\\u003cbr\\u003eY=%{y}\\u003cbr\\u003eZ=%{z}\\u003cextra\\u003e\\u003c\\u002fextra\\u003e\",\"legendgroup\":\"C\",\"marker\":{\"color\":\"#00cc96\",\"symbol\":\"circle\"},\"mode\":\"markers\",\"name\":\"C\",\"scene\":\"scene\",\"showlegend\":true,\"x\":[3],\"y\":[12],\"z\":[7],\"type\":\"scatter3d\"},{\"hovertemplate\":\"Label=D\\u003cbr\\u003eX=%{x}\\u003cbr\\u003eY=%{y}\\u003cbr\\u003eZ=%{z}\\u003cextra\\u003e\\u003c\\u002fextra\\u003e\",\"legendgroup\":\"D\",\"marker\":{\"color\":\"#ab63fa\",\"symbol\":\"circle\"},\"mode\":\"markers\",\"name\":\"D\",\"scene\":\"scene\",\"showlegend\":true,\"x\":[4],\"y\":[13],\"z\":[8],\"type\":\"scatter3d\"},{\"hovertemplate\":\"Label=E\\u003cbr\\u003eX=%{x}\\u003cbr\\u003eY=%{y}\\u003cbr\\u003eZ=%{z}\\u003cextra\\u003e\\u003c\\u002fextra\\u003e\",\"legendgroup\":\"E\",\"marker\":{\"color\":\"#FFA15A\",\"symbol\":\"circle\"},\"mode\":\"markers\",\"name\":\"E\",\"scene\":\"scene\",\"showlegend\":true,\"x\":[5],\"y\":[14],\"z\":[9],\"type\":\"scatter3d\"}],                        {\"template\":{\"data\":{\"histogram2dcontour\":[{\"type\":\"histogram2dcontour\",\"colorbar\":{\"outlinewidth\":0,\"ticks\":\"\"},\"colorscale\":[[0.0,\"#0d0887\"],[0.1111111111111111,\"#46039f\"],[0.2222222222222222,\"#7201a8\"],[0.3333333333333333,\"#9c179e\"],[0.4444444444444444,\"#bd3786\"],[0.5555555555555556,\"#d8576b\"],[0.6666666666666666,\"#ed7953\"],[0.7777777777777778,\"#fb9f3a\"],[0.8888888888888888,\"#fdca26\"],[1.0,\"#f0f921\"]]}],\"choropleth\":[{\"type\":\"choropleth\",\"colorbar\":{\"outlinewidth\":0,\"ticks\":\"\"}}],\"histogram2d\":[{\"type\":\"histogram2d\",\"colorbar\":{\"outlinewidth\":0,\"ticks\":\"\"},\"colorscale\":[[0.0,\"#0d0887\"],[0.1111111111111111,\"#46039f\"],[0.2222222222222222,\"#7201a8\"],[0.3333333333333333,\"#9c179e\"],[0.4444444444444444,\"#bd3786\"],[0.5555555555555556,\"#d8576b\"],[0.6666666666666666,\"#ed7953\"],[0.7777777777777778,\"#fb9f3a\"],[0.8888888888888888,\"#fdca26\"],[1.0,\"#f0f921\"]]}],\"heatmap\":[{\"type\":\"heatmap\",\"colorbar\":{\"outlinewidth\":0,\"ticks\":\"\"},\"colorscale\":[[0.0,\"#0d0887\"],[0.1111111111111111,\"#46039f\"],[0.2222222222222222,\"#7201a8\"],[0.3333333333333333,\"#9c179e\"],[0.4444444444444444,\"#bd3786\"],[0.5555555555555556,\"#d8576b\"],[0.6666666666666666,\"#ed7953\"],[0.7777777777777778,\"#fb9f3a\"],[0.8888888888888888,\"#fdca26\"],[1.0,\"#f0f921\"]]}],\"heatmapgl\":[{\"type\":\"heatmapgl\",\"colorbar\":{\"outlinewidth\":0,\"ticks\":\"\"},\"colorscale\":[[0.0,\"#0d0887\"],[0.1111111111111111,\"#46039f\"],[0.2222222222222222,\"#7201a8\"],[0.3333333333333333,\"#9c179e\"],[0.4444444444444444,\"#bd3786\"],[0.5555555555555556,\"#d8576b\"],[0.6666666666666666,\"#ed7953\"],[0.7777777777777778,\"#fb9f3a\"],[0.8888888888888888,\"#fdca26\"],[1.0,\"#f0f921\"]]}],\"contourcarpet\":[{\"type\":\"contourcarpet\",\"colorbar\":{\"outlinewidth\":0,\"ticks\":\"\"}}],\"contour\":[{\"type\":\"contour\",\"colorbar\":{\"outlinewidth\":0,\"ticks\":\"\"},\"colorscale\":[[0.0,\"#0d0887\"],[0.1111111111111111,\"#46039f\"],[0.2222222222222222,\"#7201a8\"],[0.3333333333333333,\"#9c179e\"],[0.4444444444444444,\"#bd3786\"],[0.5555555555555556,\"#d8576b\"],[0.6666666666666666,\"#ed7953\"],[0.7777777777777778,\"#fb9f3a\"],[0.8888888888888888,\"#fdca26\"],[1.0,\"#f0f921\"]]}],\"surface\":[{\"type\":\"surface\",\"colorbar\":{\"outlinewidth\":0,\"ticks\":\"\"},\"colorscale\":[[0.0,\"#0d0887\"],[0.1111111111111111,\"#46039f\"],[0.2222222222222222,\"#7201a8\"],[0.3333333333333333,\"#9c179e\"],[0.4444444444444444,\"#bd3786\"],[0.5555555555555556,\"#d8576b\"],[0.6666666666666666,\"#ed7953\"],[0.7777777777777778,\"#fb9f3a\"],[0.8888888888888888,\"#fdca26\"],[1.0,\"#f0f921\"]]}],\"mesh3d\":[{\"type\":\"mesh3d\",\"colorbar\":{\"outlinewidth\":0,\"ticks\":\"\"}}],\"scatter\":[{\"fillpattern\":{\"fillmode\":\"overlay\",\"size\":10,\"solidity\":0.2},\"type\":\"scatter\"}],\"parcoords\":[{\"type\":\"parcoords\",\"line\":{\"colorbar\":{\"outlinewidth\":0,\"ticks\":\"\"}}}],\"scatterpolargl\":[{\"type\":\"scatterpolargl\",\"marker\":{\"colorbar\":{\"outlinewidth\":0,\"ticks\":\"\"}}}],\"bar\":[{\"error_x\":{\"color\":\"#2a3f5f\"},\"error_y\":{\"color\":\"#2a3f5f\"},\"marker\":{\"line\":{\"color\":\"#E5ECF6\",\"width\":0.5},\"pattern\":{\"fillmode\":\"overlay\",\"size\":10,\"solidity\":0.2}},\"type\":\"bar\"}],\"scattergeo\":[{\"type\":\"scattergeo\",\"marker\":{\"colorbar\":{\"outlinewidth\":0,\"ticks\":\"\"}}}],\"scatterpolar\":[{\"type\":\"scatterpolar\",\"marker\":{\"colorbar\":{\"outlinewidth\":0,\"ticks\":\"\"}}}],\"histogram\":[{\"marker\":{\"pattern\":{\"fillmode\":\"overlay\",\"size\":10,\"solidity\":0.2}},\"type\":\"histogram\"}],\"scattergl\":[{\"type\":\"scattergl\",\"marker\":{\"colorbar\":{\"outlinewidth\":0,\"ticks\":\"\"}}}],\"scatter3d\":[{\"type\":\"scatter3d\",\"line\":{\"colorbar\":{\"outlinewidth\":0,\"ticks\":\"\"}},\"marker\":{\"colorbar\":{\"outlinewidth\":0,\"ticks\":\"\"}}}],\"scattermapbox\":[{\"type\":\"scattermapbox\",\"marker\":{\"colorbar\":{\"outlinewidth\":0,\"ticks\":\"\"}}}],\"scatterternary\":[{\"type\":\"scatterternary\",\"marker\":{\"colorbar\":{\"outlinewidth\":0,\"ticks\":\"\"}}}],\"scattercarpet\":[{\"type\":\"scattercarpet\",\"marker\":{\"colorbar\":{\"outlinewidth\":0,\"ticks\":\"\"}}}],\"carpet\":[{\"aaxis\":{\"endlinecolor\":\"#2a3f5f\",\"gridcolor\":\"white\",\"linecolor\":\"white\",\"minorgridcolor\":\"white\",\"startlinecolor\":\"#2a3f5f\"},\"baxis\":{\"endlinecolor\":\"#2a3f5f\",\"gridcolor\":\"white\",\"linecolor\":\"white\",\"minorgridcolor\":\"white\",\"startlinecolor\":\"#2a3f5f\"},\"type\":\"carpet\"}],\"table\":[{\"cells\":{\"fill\":{\"color\":\"#EBF0F8\"},\"line\":{\"color\":\"white\"}},\"header\":{\"fill\":{\"color\":\"#C8D4E3\"},\"line\":{\"color\":\"white\"}},\"type\":\"table\"}],\"barpolar\":[{\"marker\":{\"line\":{\"color\":\"#E5ECF6\",\"width\":0.5},\"pattern\":{\"fillmode\":\"overlay\",\"size\":10,\"solidity\":0.2}},\"type\":\"barpolar\"}],\"pie\":[{\"automargin\":true,\"type\":\"pie\"}]},\"layout\":{\"autotypenumbers\":\"strict\",\"colorway\":[\"#636efa\",\"#EF553B\",\"#00cc96\",\"#ab63fa\",\"#FFA15A\",\"#19d3f3\",\"#FF6692\",\"#B6E880\",\"#FF97FF\",\"#FECB52\"],\"font\":{\"color\":\"#2a3f5f\"},\"hovermode\":\"closest\",\"hoverlabel\":{\"align\":\"left\"},\"paper_bgcolor\":\"white\",\"plot_bgcolor\":\"#E5ECF6\",\"polar\":{\"bgcolor\":\"#E5ECF6\",\"angularaxis\":{\"gridcolor\":\"white\",\"linecolor\":\"white\",\"ticks\":\"\"},\"radialaxis\":{\"gridcolor\":\"white\",\"linecolor\":\"white\",\"ticks\":\"\"}},\"ternary\":{\"bgcolor\":\"#E5ECF6\",\"aaxis\":{\"gridcolor\":\"white\",\"linecolor\":\"white\",\"ticks\":\"\"},\"baxis\":{\"gridcolor\":\"white\",\"linecolor\":\"white\",\"ticks\":\"\"},\"caxis\":{\"gridcolor\":\"white\",\"linecolor\":\"white\",\"ticks\":\"\"}},\"coloraxis\":{\"colorbar\":{\"outlinewidth\":0,\"ticks\":\"\"}},\"colorscale\":{\"sequential\":[[0.0,\"#0d0887\"],[0.1111111111111111,\"#46039f\"],[0.2222222222222222,\"#7201a8\"],[0.3333333333333333,\"#9c179e\"],[0.4444444444444444,\"#bd3786\"],[0.5555555555555556,\"#d8576b\"],[0.6666666666666666,\"#ed7953\"],[0.7777777777777778,\"#fb9f3a\"],[0.8888888888888888,\"#fdca26\"],[1.0,\"#f0f921\"]],\"sequentialminus\":[[0.0,\"#0d0887\"],[0.1111111111111111,\"#46039f\"],[0.2222222222222222,\"#7201a8\"],[0.3333333333333333,\"#9c179e\"],[0.4444444444444444,\"#bd3786\"],[0.5555555555555556,\"#d8576b\"],[0.6666666666666666,\"#ed7953\"],[0.7777777777777778,\"#fb9f3a\"],[0.8888888888888888,\"#fdca26\"],[1.0,\"#f0f921\"]],\"diverging\":[[0,\"#8e0152\"],[0.1,\"#c51b7d\"],[0.2,\"#de77ae\"],[0.3,\"#f1b6da\"],[0.4,\"#fde0ef\"],[0.5,\"#f7f7f7\"],[0.6,\"#e6f5d0\"],[0.7,\"#b8e186\"],[0.8,\"#7fbc41\"],[0.9,\"#4d9221\"],[1,\"#276419\"]]},\"xaxis\":{\"gridcolor\":\"white\",\"linecolor\":\"white\",\"ticks\":\"\",\"title\":{\"standoff\":15},\"zerolinecolor\":\"white\",\"automargin\":true,\"zerolinewidth\":2},\"yaxis\":{\"gridcolor\":\"white\",\"linecolor\":\"white\",\"ticks\":\"\",\"title\":{\"standoff\":15},\"zerolinecolor\":\"white\",\"automargin\":true,\"zerolinewidth\":2},\"scene\":{\"xaxis\":{\"backgroundcolor\":\"#E5ECF6\",\"gridcolor\":\"white\",\"linecolor\":\"white\",\"showbackground\":true,\"ticks\":\"\",\"zerolinecolor\":\"white\",\"gridwidth\":2},\"yaxis\":{\"backgroundcolor\":\"#E5ECF6\",\"gridcolor\":\"white\",\"linecolor\":\"white\",\"showbackground\":true,\"ticks\":\"\",\"zerolinecolor\":\"white\",\"gridwidth\":2},\"zaxis\":{\"backgroundcolor\":\"#E5ECF6\",\"gridcolor\":\"white\",\"linecolor\":\"white\",\"showbackground\":true,\"ticks\":\"\",\"zerolinecolor\":\"white\",\"gridwidth\":2}},\"shapedefaults\":{\"line\":{\"color\":\"#2a3f5f\"}},\"annotationdefaults\":{\"arrowcolor\":\"#2a3f5f\",\"arrowhead\":0,\"arrowwidth\":1},\"geo\":{\"bgcolor\":\"white\",\"landcolor\":\"#E5ECF6\",\"subunitcolor\":\"white\",\"showland\":true,\"showlakes\":true,\"lakecolor\":\"white\"},\"title\":{\"x\":0.05},\"mapbox\":{\"style\":\"light\"}}},\"scene\":{\"domain\":{\"x\":[0.0,1.0],\"y\":[0.0,1.0]},\"xaxis\":{\"title\":{\"text\":\"X\"}},\"yaxis\":{\"title\":{\"text\":\"Y\"}},\"zaxis\":{\"title\":{\"text\":\"Z\"}}},\"legend\":{\"title\":{\"text\":\"Label\"},\"tracegroupgap\":0},\"margin\":{\"t\":60}},                        {\"responsive\": true}                    ).then(function(){\n",
              "                            \n",
              "var gd = document.getElementById('8853f361-aca0-486b-99c6-ea74059bfa7e');\n",
              "var x = new MutationObserver(function (mutations, observer) {{\n",
              "        var display = window.getComputedStyle(gd).display;\n",
              "        if (!display || display === 'none') {{\n",
              "            console.log([gd, 'removed!']);\n",
              "            Plotly.purge(gd);\n",
              "            observer.disconnect();\n",
              "        }}\n",
              "}});\n",
              "\n",
              "// Listen for the removal of the full notebook cells\n",
              "var notebookContainer = gd.closest('#notebook-container');\n",
              "if (notebookContainer) {{\n",
              "    x.observe(notebookContainer, {childList: true});\n",
              "}}\n",
              "\n",
              "// Listen for the clearing of the current output cell\n",
              "var outputEl = gd.closest('.output');\n",
              "if (outputEl) {{\n",
              "    x.observe(outputEl, {childList: true});\n",
              "}}\n",
              "\n",
              "                        })                };                            </script>        </div>\n",
              "</body>\n",
              "</html>"
            ]
          },
          "metadata": {}
        }
      ]
    }
  ]
}