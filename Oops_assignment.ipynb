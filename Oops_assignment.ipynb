{
  "nbformat": 4,
  "nbformat_minor": 0,
  "metadata": {
    "colab": {
      "provenance": [],
      "authorship_tag": "ABX9TyPlWFcaWJ2QvOwVY3+iPllT",
      "include_colab_link": true
    },
    "kernelspec": {
      "name": "python3",
      "display_name": "Python 3"
    },
    "language_info": {
      "name": "python"
    }
  },
  "cells": [
    {
      "cell_type": "markdown",
      "metadata": {
        "id": "view-in-github",
        "colab_type": "text"
      },
      "source": [
        "<a href=\"https://colab.research.google.com/github/Himani954/Data-types-and-structure/blob/main/Oops_assignment.ipynb\" target=\"_parent\"><img src=\"https://colab.research.google.com/assets/colab-badge.svg\" alt=\"Open In Colab\"/></a>"
      ]
    },
    {
      "cell_type": "markdown",
      "source": [
        "# **Q1**. **What** **is** **Object**-**Oriented** **Programming** (**OOP**)?\n"
      ],
      "metadata": {
        "id": "7TnOGlnJIake"
      }
    },
    {
      "cell_type": "markdown",
      "source": [
        "# **Ans1.**\n",
        "\n",
        "Object-oriented Programming (OOP) is a programming paradigm that organizes software design around objects rather than logic. In OOP, objects are instances of classes, which can be thought of as blueprints or templates for creating objects."
      ],
      "metadata": {
        "id": "45dxKMAgLVTr"
      }
    },
    {
      "cell_type": "markdown",
      "source": [
        "# **Q2**. **What** **is** **a** **class** **in** **OOP** ?\n"
      ],
      "metadata": {
        "id": "-0k41EdtOiNk"
      }
    },
    {
      "cell_type": "markdown",
      "source": [
        "# **Ans2.**\n",
        "In Object-Oriented Programming (OOP), a class is a blueprint or template that defines the properties and behaviors of an object. It's essentinally a design pattern or a templates that defines the characteristics of an object.\n",
        "\n",
        "Key aspects of a class:\n",
        "\n",
        "1. Properties (Attributes): A class defines the properties or attributes of an object, which are the data members of the class.\n",
        "\n",
        "2. Behaviors (Methods): A class defines the behaviors or methods of an object, which are the action that can be performed on or by the object.\n",
        "\n",
        "3. Encapsulation: A class encapulates its properties and behaviors, hiding the implementation details from  the outside world.\n",
        "\n",
        "4. Instantiation: A class can be instantiated to create multiple objects, each with its own set of attributes and behaviors.\n",
        "\n",
        "Think of a class like a blueprint for a car:\n",
        "\n",
        "* The class defines the properties of a car, such as its color, make, model, and year.\n",
        "\n",
        "* The class defines the behaviors of a car, such as accelerating, braking, and steering.\n",
        "\n",
        "* You can create multiple car objects from the same class, each with its own unique characteristics.\n",
        "\n",
        "Benefits of classes:\n",
        "\n",
        "1. Modularity: Classes promte modularity by organizing code into self-contained units.\n",
        "\n",
        "2. Reusability: Classes can be reused to create multiple objects, reducing code duplication.\n",
        "\n",
        "3. Easier maintenance: Classes make it easier to modify or extend code by modifying the class definition.\n",
        "\n",
        "In summary, a class is a fundamental concept in OOP that defines the properties and behaviors of an object, allowing for modular, resuable, and maintainable code.\n",
        "\n"
      ],
      "metadata": {
        "id": "Kfv1fI4GQEaI"
      }
    },
    {
      "cell_type": "markdown",
      "source": [
        "# **3. What is an object in OOP?**\n"
      ],
      "metadata": {
        "id": "y7AlT-aRGiKA"
      }
    },
    {
      "cell_type": "markdown",
      "source": [
        "# **Ans3.**\n",
        "In Object-Oriented programming (OOP), an object is an object is an instance of a class. It represented a real-world entity, concept, or idea and has its own set of attributes (data) and methods (functions that operate on that data).\n",
        "\n",
        "An object typically has:\n",
        "\n",
        "1. Properties(Attributes): Data that describe the object, such as its characteristics or state.\n",
        "\n",
        "2. Methods (Behaviors): Functions that operate on the object's properties, allowing it to perform action or interact with other objects.\n",
        "\n",
        "3. Instance of a Class: An object is created by instantiating a class, which serves as a blueprint or template for the object.\n",
        "\n",
        "Objects are the building blocks of OOP, and they enable developers to create modular, reusable, and maintainable code. By defining objects and their interactions, developers can model complex systems and solve real-world problems."
      ],
      "metadata": {
        "id": "XEVFSrvmGu1m"
      }
    },
    {
      "cell_type": "markdown",
      "source": [
        "# **Q4. What is the difference between abstraction and encapsulation?**\n"
      ],
      "metadata": {
        "id": "thadjfCerbQS"
      }
    },
    {
      "cell_type": "markdown",
      "source": [
        "# **Ans4.**\n",
        "Abstraction and encapsulation are two fundamental concepts in Object-Oriented Programming (OOP) that help in designing and implementing robust, modular, and maintainable software systems. While they are related, they serve different purpose:\n",
        "\n",
        "Abstraction\n",
        "\n",
        "Abstraction is the concept of hiding the complex implementation details and showing only the necessary features or functionalities of an object or system. It focuses on what an object does rather than how it does it. Abstraction helps in reducing complexity by exposing only the relevant information to the outside world.\n",
        "\n",
        "Example:\n",
        "* A car's driving interface (streeing wheel, acceleartor, brakes) abstracts the complex mechanisms of how the car actually moves. You don't need to know the intricacies of the engine or transmission to drive the car.\n",
        "\n",
        "Encapsulation\n",
        "\n",
        "Encapsulation is the concept of bundling the data (attributes) and methods (that operate on the data) into a single unit, called a class or object. It also involves restricting access to some of the object's components, which is typically achieved using access modifiers like private, protected from unauthorized access and modification.\n",
        "\n",
        "Example:\n",
        "* A bank account object encapsulates the account balance (data) and provides methods like deposite() and withdraw() to interact with the balance. The balnace itself is not directly accessible from outside the object, ensuring data  integrity and security.\n",
        "\n",
        "Key differences\n",
        "\n",
        "1. Purpose:\n",
        "* Abstraction focuses on hiding complexity and exposing only the relevant information.\n",
        "* Encapsulation focuses on bundling data and methods and controlling access to the data.\n",
        "\n",
        "2.Focus:\n",
        "* Abstraction is about the interface or the \"what (what the object does).\n",
        "* Encapsulation is about the implementation or the \"how\" (how the object works internally).\n",
        "\n",
        "3.Example:\n",
        "* Abstraction: A remote control abstracts the details of how it communicates with the TV and the shows only the buttons to perform actions\n",
        "\n",
        "* Encapsulation : the remote control encapsulates the buttons and the logic to send singnals to the TV, proctecting the internal circuitry from direct access.\n",
        "\n",
        "In summary,abstraction is about simplifying complexity by showing only the essential features, while encapsulation is about bundling data and methods and controlling access to protect the internal state of an object.Both concepts work together to create robust and maintainable software systems."
      ],
      "metadata": {
        "id": "7NbXmi2ArsBS"
      }
    },
    {
      "cell_type": "markdown",
      "source": [
        "# **Q5. What are dunder methods in Python?**\n"
      ],
      "metadata": {
        "id": "fg0yyAe6OKCe"
      }
    },
    {
      "cell_type": "markdown",
      "source": [
        "# **Ans5.**\n",
        "In Python, \"dunder\" is a colloquial term for \"double underscore,\" which refers to special methods in Python classes that are surrounded by double underscores (i.e., __method__). These methods are not meant to be called directly but are instead used by Python for specific purposes, such as operator overloading, attribute access, or object representation.\n",
        "\n",
        "Key Features of Dunder Methods\n",
        "1. Special Behavior : Dunder methods allow you to define custom behavior for your objects when used with operators, built-in functions, or specific syntax.\n",
        "2. Automatically Called : Python calls these methods automatically under certain conditions. For example, `__init__` is called when an object is instantiated.\n",
        "3. Operator Overloading : Many dunder methods enable operator overloading, allowing you to define how operators like `+`, `-`, `*`, etc., work with your custom objects.\n",
        "\n",
        "Common Dunder Methods\n",
        "Here are some commonly used dunder methods:\n",
        "\n",
        "1. `__init__`: Initializes an object when it's created.\n",
        "```\n",
        "class Person:\n",
        "    def __init__(self, name):\n",
        "        self.name = name\n",
        "```\n",
        "2. `__str__` and `__repr__`: Define string representations of an object.\n",
        "```\n",
        "class Person:\n",
        "    def __init__(self, name):\n",
        "        self.name = name\n",
        "      \n",
        "    def __str__(self):\n",
        "        return f\"Person: {self.name}\"\n",
        "```\n",
        "\n",
        "3. `__add__`: Defines behavior for the `+` operator.\n",
        "```\n",
        "class Vector:\n",
        "    def __init__(self, x, y):\n",
        "        self.x = x\n",
        "        self.y = y\n",
        "      \n",
        "    def __add__(self, other):\n",
        "        return Vector(self.x + other.x, self.y + other.y)\n",
        "```\n",
        "\n",
        "4. `__eq__`: Defines behavior for the `==` operator.\n",
        "```\n",
        "class Person:\n",
        "    def __init__(self, name):\n",
        "        self.name = name\n",
        "      \n",
        "    def __eq__(self, other):\n",
        "        return self.name == other.name\n",
        "```\n",
        "\n",
        "5. `__len__`: Defines behavior for the `len()` function.\n",
        "```\n",
        "class Book:\n",
        "    def __init__(self, pages):\n",
        "        self.pages = pages\n",
        "      \n",
        "    def __len__(self):\n",
        "        return self.pages\n",
        "```\n",
        "\n",
        "Why Use Dunder Methods?\n",
        "- Custom Behavior : They allow you to define how your objects behave in different contexts, making your code more intuitive and Pythonic.\n",
        "- Consistency : By implementing standard dunder methods, your objects can behave like built-in types, improving usability.\n",
        "\n",
        "Dunder methods are a powerful feature in Python that enable you to create more expressive and flexible classes.\n",
        "\n",
        "\n"
      ],
      "metadata": {
        "id": "asJIc4WTOUUw"
      }
    },
    {
      "cell_type": "markdown",
      "source": [
        "# **Q6. Explain the concept of inheritance in OOP.**\n"
      ],
      "metadata": {
        "id": "2LdKJk0xPtqn"
      }
    },
    {
      "cell_type": "markdown",
      "source": [
        "# **Ans6.**\n",
        "Inheritance is a fundamental concept in Object-Oriented Programming (OOP) that allows one class to inherit the properties, methods, and behavior of another class.\n",
        "\n",
        "The inheriting class, known as the subclass or derived class, known as the subclass or derived class, can reuse the code and functionality of the parent class, known as the superclass or base class.\n",
        "\n",
        "Key Points of Inheritance in OOP:\n",
        "\n",
        "1. Code Reusability : Inherit properties and methods from a parent class.\n",
        "2. Parent-Child Relationship : Child class inherits from a parent class.\n",
        "3. Specialization : Child classes can add or override properties and methods.\n",
        "4. Hierarchical Organization : Organizes code in a logical structure.\n",
        "5. Easier Maintenance : Changes to the parent class apply to child classes.\n",
        "\n"
      ],
      "metadata": {
        "id": "TWNRoTxHQV06"
      }
    },
    {
      "cell_type": "code",
      "source": [
        "# Parent class\n",
        "class Animal:\n",
        "    def __init__(self, name):\n",
        "        self.name = name\n",
        "\n",
        "    def sound(self):\n",
        "        print(\"The animal makes a sound.\")\n",
        "\n",
        "# Child class\n",
        "class Dog(Animal):\n",
        "    def __init__(self, name, breed):\n",
        "        super().__init__(name)\n",
        "        self.breed = breed\n",
        "\n",
        "    def sound(self):\n",
        "        print(\"The dog barks.\")\n",
        "\n",
        "my_dog = Dog(\"Max\", \"Golden Retriever\")\n",
        "print(my_dog.name)  # Output: Max\n",
        "my_dog.sound()  # Output: The dog barks.\n",
        "\n"
      ],
      "metadata": {
        "id": "TP-FkTS3UlD6"
      },
      "execution_count": null,
      "outputs": []
    },
    {
      "cell_type": "markdown",
      "source": [
        "Why Use Inheritance?\n",
        "\n",
        "1. Code Reusability : Avoid duplicating code by inheriting common properties and methods.\n",
        "2. Easier Maintenance : Changes to the parent class automatically apply to child classes.\n",
        "3. Hierarchical Organization : Organizes code in a logical and structured way.\n",
        "\n"
      ],
      "metadata": {
        "id": "lbEz5jZ9Umwt"
      }
    },
    {
      "cell_type": "markdown",
      "source": [
        "# **Q7. What is polymorphism in OOP?**\n"
      ],
      "metadata": {
        "id": "UiwZLF9wvZ4v"
      }
    },
    {
      "cell_type": "markdown",
      "source": [
        "# **Ans7.**\n",
        "\n",
        "# Polymorphism in OOP:\n",
        "Polymorphism is the ability of an object to take on mutiple forms, depending on the context in which it is used. This allows object of a common superclass, enabling more flexibility and generic code.\n",
        "\n",
        "Key Aspects:\n",
        "\n",
        "1. Method overriding: A subclass provides a specific implementation of a method already defined in its superclass.\n",
        "\n",
        "2. Method overloading: Multiple methods with the same name but different parameters.\n",
        "\n",
        "3. Operator Overloading: Defining custom behavior for operators like +, -, *, etc.\n",
        "\n",
        "Benefits:\n",
        "\n",
        "1. Increased Flexibility: Write generic code that works with different object types.\n",
        "\n",
        "2. Easier Maintenance: Changes to code are more manageable and scalable.\n",
        "\n",
        "3. More Intuitive: Objects behave naturally, depending on their context.\n",
        "\n",
        "Example: A shape calss with subclasses like circle, rectangle, and triangle, each overriding a calculateArea() method to provide their specific implementation."
      ],
      "metadata": {
        "id": "78tnY3arvkrr"
      }
    },
    {
      "cell_type": "markdown",
      "source": [
        "# **Q8. How is encapsulation achieved in Python?**\n"
      ],
      "metadata": {
        "id": "lpw3nQ-f0c1O"
      }
    },
    {
      "cell_type": "markdown",
      "source": [
        "# **Ans8.**\n",
        "# Encapulation in python:\n",
        "\n",
        "Encapsulation in Python is achived through:\n",
        "1. Access Modifiers: Python uses single underscore(______) and double underscore(________) to indicate intended access levels.\n",
        "* Public: No underscore prefix (e.g., attribute).\n",
        "* Protected: Single underscrore prefix (e.g.,_attribute).\n",
        "*Private: Double underscroce prefix (e.g.,_attribute).\n",
        "\n",
        "2. Properties: Using @property decorates to control access to attributes.\n",
        "\n",
        "Example:"
      ],
      "metadata": {
        "id": "sTpJDWtk0xcs"
      }
    },
    {
      "cell_type": "code",
      "source": [
        "class BankAccount:\n",
        "    def __init__(self):\n",
        "       self.__balance = 0.0\n",
        "\n",
        "    @property\n",
        "    def balance(self):\n",
        "      return self.__balance\n",
        "\n",
        "    @balance.setter\n",
        "    def balance(self, amount):\n",
        "      if amount >= 0:\n",
        "        self.__balance = amount\n",
        "      else:\n",
        "           raise ValueError(\"Invalid amount\")\n",
        "\n",
        "\n",
        "account = BankAccount()\n",
        "account.balance = 100\n",
        "print(account.balance) # Output: 100"
      ],
      "metadata": {
        "id": "iEuQE5k1CzPh"
      },
      "execution_count": null,
      "outputs": []
    },
    {
      "cell_type": "markdown",
      "source": [
        "In this example, the__balance attribute is private, and access is controlled through the balance property. The @balance.setter decorator ensures that the balance is vaildated before being set."
      ],
      "metadata": {
        "id": "-mwSbuppDwgn"
      }
    },
    {
      "cell_type": "markdown",
      "source": [
        "# **Q9. What is a constructor in Python?**\n"
      ],
      "metadata": {
        "id": "sLqZXTwlEekq"
      }
    },
    {
      "cell_type": "markdown",
      "source": [
        "# Ans9.\n",
        "## Constructor in Python:\n",
        "A constructor in Python is a special method in a class that is automatically called when an object of that class is instantiated (created). It is used to intialize the attributes of the class.\n",
        "\n",
        "Key point:\n",
        "1. Name: The constructor method is named__init__.\n",
        "2. Purpose: Intializes object attributes and sets up the object's state.\n",
        "3.CalledAutomatically:The___init___method is called when an object is created.\n",
        "\n",
        "Example:"
      ],
      "metadata": {
        "id": "x3tvrptiEvFe"
      }
    },
    {
      "cell_type": "code",
      "source": [
        "class Person:\n",
        "  def __init__(self, name, age):\n",
        "    self.name = name\n",
        "    self.age = age\n",
        "\n",
        "person1 = Person(\"Alice\", 30)\n",
        "print(Person.name) #output: Alice\n",
        "print(Person.age) #output: 30"
      ],
      "metadata": {
        "id": "s8ZIcac_H1NV"
      },
      "execution_count": null,
      "outputs": []
    },
    {
      "cell_type": "markdown",
      "source": [
        "In this example, the__init___method intializes the name and age attributes of the Person class when an object is created."
      ],
      "metadata": {
        "id": "nHz4NbRuISU-"
      }
    },
    {
      "cell_type": "markdown",
      "source": [
        "# **Q10. What are class and static methods in Python?**\n"
      ],
      "metadata": {
        "id": "fAixUY6dIu6M"
      }
    },
    {
      "cell_type": "markdown",
      "source": [
        "# **Ans10.**\n",
        "# Class and Statics Methods in Python:\n",
        "1. Class Methods:\n",
        "- Decorated with @classmethod.\n",
        "- Bound to the class rather than an instance.\n",
        "- Can access or modify class state.\n",
        "- First parameter is the class itself, typically named cls.\n",
        "\n",
        "2. Statics Methods:\n",
        "\n",
        "- Decorated with @staticmethod.\n",
        "- Not bound to the class or instance.\n",
        "- Can't access or modify class or instance state.\n",
        "- Used for utility functions that belong to the class.\n",
        "\n",
        "Example:\n",
        "\n"
      ],
      "metadata": {
        "id": "rNSyqKkaI4Zy"
      }
    },
    {
      "cell_type": "code",
      "source": [
        "class MyClass:\n",
        "  count = 0\n",
        "\n",
        "  def __init__(self):\n",
        "     MyClass.count += 1\n",
        "\n",
        "  @classmethod\n",
        "  def get_count(cls):\n",
        "    return cls.count\n",
        "\n",
        "  @staticmethod\n",
        "  def is_valid(value):\n",
        "    return isinstance(value, int)\n",
        "\n",
        "obj1 = MyClass()\n",
        "obj2 = MyClass()\n",
        "\n",
        "print(MyClass.get_count()) #output: 2\n",
        "print(MyClass.is_valid(10)) #output: True"
      ],
      "metadata": {
        "id": "MERlHPTm5UxB"
      },
      "execution_count": null,
      "outputs": []
    },
    {
      "cell_type": "markdown",
      "source": [
        "In this example, get_count is a class method that accesses the class-level count attribute, while is_valid is a static method that provides a utility function without accessing class or instance state."
      ],
      "metadata": {
        "id": "9rJRFzsp6brL"
      }
    },
    {
      "cell_type": "markdown",
      "source": [
        "# **Q11. What is method overloading in Python?**\n"
      ],
      "metadata": {
        "id": "-6ipdxgj7UCi"
      }
    },
    {
      "cell_type": "markdown",
      "source": [
        "# **Ans11.**\n",
        "# Method Overloading in Python:\n",
        "Python doesn't support traditional method overloading like some other languages (e.g., Java or C++). However, you can achieve similar behavior using:\n",
        "\n",
        "1. Default Argument Values: Assign default values to parameters to make them optional.\n",
        "\n",
        "2. Variable Arguments: Use * args or ** kwargs to accept a varible number of arguments.\n",
        "\n",
        "3.Single Dispatch: Use the @singledispatch decorator from the functools module to define a single function that can handle different types of arguments.\n",
        "\n",
        "Example using Default Argument Values:"
      ],
      "metadata": {
        "id": "v5CG-sCH7icC"
      }
    },
    {
      "cell_type": "code",
      "source": [
        "def greet(name, message=\"Hello\"):\n",
        "  print(f\"{message}, {name}!\")\n",
        "\n",
        "  greet(\"Alice\") #output: Hello, Alice!\n",
        "  greet(\"Bob\", \"Hi\") #output: Hi, Bob!"
      ],
      "metadata": {
        "id": "6o6Psn4N-b0T"
      },
      "execution_count": null,
      "outputs": []
    },
    {
      "cell_type": "markdown",
      "source": [
        "Example Using Variable Arguments:"
      ],
      "metadata": {
        "id": "XzusyHpC-36t"
      }
    },
    {
      "cell_type": "code",
      "source": [
        "def sum_numbers(*numbers):\n",
        "  return sum(numbers)\n",
        "\n",
        "print(sum_numbers(1, 2, 3)) #output: 6\n",
        "print(sum_numbers(4, 5)) #output: 9"
      ],
      "metadata": {
        "id": "rhLWLD9P_EZ0"
      },
      "execution_count": null,
      "outputs": []
    },
    {
      "cell_type": "markdown",
      "source": [
        "While Python doesn't have built-in method overlaoding, these approaches allow you to achieve similar flexibility in your code."
      ],
      "metadata": {
        "id": "B3VajqX-_kA1"
      }
    },
    {
      "cell_type": "markdown",
      "source": [
        "# **12. What is method overriding in OOP?**\n"
      ],
      "metadata": {
        "id": "IXLnAUZg_6sZ"
      }
    },
    {
      "cell_type": "markdown",
      "source": [
        "# **Ans12.**\n",
        "\n",
        "# Method Overriding in OOP:\n",
        "\n",
        "Method Overriding is a feature in object-oriented programming(OOP) where a subclass provides a specific implementation of a method that is already defined in its superclass. The subclass method has the same name, return type, and parameter list as the superclass method, but it can have a different implementation.\n",
        "\n",
        "Key Point:\n",
        "\n",
        "1. Polymorphism: Method overriding allows for polymorphic behavior, where objects of differently to the same method call.\n",
        "\n",
        "2. Customization: Subclasses can customize the behavior of methods inherited from their superclasses.\n",
        "\n",
        "3. Inheritance: Method overriding is closely related to inheritance, as it allows subclasses to build upon the behavior defined in their superclasses.\n",
        "\n",
        "Example:\n"
      ],
      "metadata": {
        "id": "FGLHHDFbAFsi"
      }
    },
    {
      "cell_type": "code",
      "source": [
        "class Animal:\n",
        "  def sound(self):\n",
        "    print(\"The animal makes a sound.\")\n",
        "\n",
        "class Dog(Animal):\n",
        "  def sound(self):\n",
        "    print(\"The dog barks.\")\n",
        "\n",
        "class cat(Animal):\n",
        "  def sound(self):\n",
        "    print(\"The cat meows.\")\n",
        "\n",
        "dog = Dog()\n",
        "cat = cat()\n",
        "\n",
        "dog.sound() #output: The dog barks.\n",
        "cat.sound() #output: The cat meows."
      ],
      "metadata": {
        "id": "EonHB_q_Kr-h"
      },
      "execution_count": null,
      "outputs": []
    },
    {
      "cell_type": "markdown",
      "source": [
        "In this example, the Dog and cat classes override the sound method of the Animal class to provide their specifics implemenlations. This allows for polymorphic behavior when working with objects of different classes."
      ],
      "metadata": {
        "id": "hff_CpW_LzWM"
      }
    },
    {
      "cell_type": "markdown",
      "source": [
        "# **13. What is a property decorator in Python?**\n"
      ],
      "metadata": {
        "id": "kN4D9DwgMh3J"
      }
    },
    {
      "cell_type": "markdown",
      "source": [
        "# **Ans13.**\n",
        "\n",
        "# Python decorators:\n",
        "\n",
        "A Python decorator is a special type of function that can modify or extend the behavior of another function without changing its source code. Decorators are often used to add functionality, logging, authentication, or caching to existing functions.\n",
        "\n",
        "Key Points:\n",
        "\n",
        "1. function Wrapping: Decorators wrap around a function, allowing you to execute code before or after the original function is called.\n",
        "\n",
        "2. Reusable Code: Decorates promote code reuse by enabling you to apply the same functionality to multiple functions.\n",
        "\n",
        "3. Syntax: Decorators are defined using the @ symbol followed by the decorator name.\n",
        "\n",
        "Example:"
      ],
      "metadata": {
        "id": "-G7NiEv6Mo1g"
      }
    },
    {
      "cell_type": "code",
      "source": [
        "def my_decorator(func):\n",
        "  def wrapper():\n",
        "    print(\"Something is happening before the function is called.\")\n",
        "    func()\n",
        "    print(\"Something is happening after the function is called.\")\n",
        "  return wrapper\n",
        "\n",
        "@my_decorator\n",
        "def say_hello():\n",
        "  print(\"Hello!\")\n",
        "\n",
        "say_hello()"
      ],
      "metadata": {
        "id": "4d91sFkePdFk"
      },
      "execution_count": null,
      "outputs": []
    },
    {
      "cell_type": "markdown",
      "source": [
        "In this example, the my_decorator function is a decorator that adds logging functionality to the say_hello function. When say_hello is called, it will execute the code defined in the decorator.\n",
        "\n",
        "Common Use Cases:\n",
        "\n",
        "1. Logging: Decorators can be used to log function calls, inputs, or outputs.\n",
        "\n",
        "2. Authentication: Decorators can be used to check if a user is authenticated before  allowing them to access a function.\n",
        "3. Caching: Decorates can be used to cache the results of expensive function calls.\n",
        "\n",
        "Decorators are a powerful tool in Python for modifying and extending the behavior of functions!"
      ],
      "metadata": {
        "id": "AHMtMdlwQEII"
      }
    },
    {
      "cell_type": "markdown",
      "source": [
        "# **Q14. Why is polymorphism important in OOP?**\n"
      ],
      "metadata": {
        "id": "mAhD2m4wcuYE"
      }
    },
    {
      "cell_type": "markdown",
      "source": [
        "# **Ans14.**\n",
        "# Polymorphism Importance in OOP:\n",
        "Polymorphism is essential in OOP because it:\n",
        "1. Enables Generic Code: Write code that works with different data types, reducing duplication.\n",
        "2. Increase Flexibility: Objects of different classes can be treated as objects of a common superclas.\n",
        "3. Improves Code Reusability: Reduces the need for specific code for each class.\n",
        "4. Supports Easier Maintenance: Changes to code are more manageable and scalable.\n",
        "\n",
        "Benefits:\n",
        "1. More Intuitive Code: Objects behave naturally, depending on their context.\n",
        "2. Easier Extensibilty: Adding new classes or functionality is simpler.\n",
        "3. Better Scalability: Polymorphic code can handle a wide range of data types and scenariors.\n",
        "\n",
        "By utilizing polymorphism, developers can create more flexible, maintainable, and efficient software systems."
      ],
      "metadata": {
        "id": "WvuKXzNcc6NY"
      }
    },
    {
      "cell_type": "markdown",
      "source": [
        "# **Q15. What is an abstract class in Python?**\n"
      ],
      "metadata": {
        "id": "a7giOTu8gP8v"
      }
    },
    {
      "cell_type": "markdown",
      "source": [
        "# **Ans15.**\n",
        "# Abstract Class in Python:\n",
        "An abstract class in Python is a class that cannont be inherited by other classes. It provides a blueprint for other classes to follow and can include both abstract methods (methods declared but not defined) and concreate methods (fully defined methods).\n",
        "\n",
        "Key Pionts:\n",
        "\n",
        "1. Cannot be Instantiated: You can't create an object directly from an abstract class:\n",
        "2. Abstract Methods: These are methods declared in the abstract class but must be implemented by any subclass.\n",
        "3. Concreate Methods: These are fully defined methods in the abstract class that can be used by subclasses.\n",
        "\n",
        "Example:"
      ],
      "metadata": {
        "id": "eXkUDyTjggA6"
      }
    },
    {
      "cell_type": "code",
      "source": [
        "from abc import ABC, abstractmethod\n",
        "\n",
        "class Shape(ABC):\n",
        "  @abstractmethod\n",
        "  def area(self):\n",
        "    pass\n",
        "\n",
        "  def display(self):\n",
        "    print(\"This is a shape.\")\n",
        "\n",
        "\n",
        "class cricle(Shape):\n",
        "  def __init__(self, radius):\n",
        "     self.radius = radius\n",
        "\n",
        "  def area(self):\n",
        "    return 3.14 * self.radius ** 2\n",
        "\n",
        "circle = cricle(5)\n",
        "print(circle.area())\n",
        "cricle.display()"
      ],
      "metadata": {
        "id": "zy7gyusmSZvW"
      },
      "execution_count": null,
      "outputs": []
    },
    {
      "cell_type": "markdown",
      "source": [
        "In this example, Shape is an abstract class with an abstract method area and  display. The Circle class inherits from Shape and provide an implementation for the area method.\n",
        "\n",
        "Use Cases:\n",
        "1. Defining Interfaces: Abstract classes can define a common interface for a group of related classes.\n",
        "2. Provide Shared Implementation: Abstract classes can provide shared implementation that subclasses can build upon.\n",
        "\n",
        "Abstract classes are useful for creating a hierarchy of classes where some methods are shared, and others need to be implemented specifically by subclasses."
      ],
      "metadata": {
        "id": "R_ubmv1VTjsb"
      }
    },
    {
      "cell_type": "markdown",
      "source": [
        "# **Q16. What are the advantages of OOP?**\n"
      ],
      "metadata": {
        "id": "1rqRA7wkYT7y"
      }
    },
    {
      "cell_type": "markdown",
      "source": [
        "# **Ans16.**\n",
        "# Advantages of Object-Oriented Programming(OOP):\n",
        "\n",
        "1. Modularity : OOP allows for breaking down a program into smaller, independent modules (classes) that are easier to manage and maintain.\n",
        "2. Reusability : Classes can be reused in multiple programs, reducing code duplication and improving development efficiency.\n",
        "3. Encapsulation : OOP enables encapsulation of data and behavior, making it harder for other parts of the program to access or modify them directly, which improves code security and reduces bugs.\n",
        "4. Inheritance : Inheritance allows for creating a hierarchy of classes, where subclasses inherit properties and behavior from parent classes, promoting code reuse and facilitating the creation of specialized classes.\n",
        "5. Polymorphism : OOP supports polymorphism, which enables objects of different classes to be treated as objects of a common superclass, making code more flexible and generic.\n",
        "6. Easier Maintenance : OOP promotes better code organization, making it easier to modify, update, or extend existing code without affecting other parts of the program.\n",
        "7. Improved Readability : OOP encourages the use of meaningful class and method names, making code more readable and self-explanatory.\n",
        "\n",
        "Benefits:\n",
        "\n",
        "1. Faster Development : OOP enables developers to create complex systems more efficiently.\n",
        "2. Better Scalability : OOP promotes code that is more modular, flexible, and scalable.\n",
        "3. Improved Code Quality : OOP encourages good coding practices, such as encapsulation, inheritance, and polymorphism, which lead to more robust and maintainable code.\n",
        "\n",
        "By leveraging the advantages of OOP, developers can create more efficient, scalable, and maintainable software systems.\n",
        "\n",
        "\n"
      ],
      "metadata": {
        "id": "dwbVUwk9YiIR"
      }
    },
    {
      "cell_type": "markdown",
      "source": [
        "# **Q17.What is the difference between a class variable and an instance variable?**\n"
      ],
      "metadata": {
        "id": "hIPjb36GaUhM"
      }
    },
    {
      "cell_type": "markdown",
      "source": [
        "# **Ans17.**\n",
        "# Class Variable vs Instance Variable:\n",
        "\n",
        "1. Class Variable:\n",
        "    - Shared by all instances of a class.\n",
        "    - Defined at the class level.\n",
        "    - Accessed using the class name or instance.\n",
        "    - Changes affect all instances.\n",
        "\n",
        "2. Instance Variable:\n",
        "    - Unique to each instance of a class.\n",
        "    - Defined at the instance level.\n",
        "    - Accessed using the instance.\n",
        "    - Changes affect only the specific instance.\n",
        "\n",
        "Example"
      ],
      "metadata": {
        "id": "NP_b2dQFanYf"
      }
    },
    {
      "cell_type": "code",
      "source": [
        "class Car:\n",
        "    wheels = 4  # Class variable\n",
        "\n",
        "    def __init__(self, color):\n",
        "        self.color = color  # Instance variable\n",
        "\n",
        "car1 = Car(\"Red\")\n",
        "car2 = Car(\"Blue\")\n",
        "\n",
        "print(car1.wheels)  # Output: 4\n",
        "print(car2.wheels)  # Output: 4\n",
        "print(car1.color)   # Output: Red\n",
        "print(car2.color)   # Output: Blue\n",
        "\n",
        "Car.wheels = 6  # Changing class variable\n",
        "print(car1.wheels)  # Output: 6\n",
        "print(car2.wheels)  # Output: 6\n",
        "\n",
        "car1.color = \"Green\"  # Changing instance variable\n",
        "print(car1.color)   # Output: Green\n",
        "print(car2.color)   # Output: Blue\n",
        "\n",
        "\n"
      ],
      "metadata": {
        "id": "jAWSGYrqbbEi"
      },
      "execution_count": null,
      "outputs": []
    },
    {
      "cell_type": "markdown",
      "source": [
        "In this example, wheels is a class variable shared by all instances, while color is an instance variable unique to each instance.\n",
        "\n"
      ],
      "metadata": {
        "id": "Yb0sfAWrbxmM"
      }
    },
    {
      "cell_type": "markdown",
      "source": [
        "# **Q18. What is multiple inheritance in Python?**\n"
      ],
      "metadata": {
        "id": "oPgGspnjc3Pm"
      }
    },
    {
      "cell_type": "markdown",
      "source": [
        "# **Ans18.**\n",
        "# Multiple Inheritance in Python:\n",
        "\n",
        "Multiple inheritance in Python is a feature that allows a class to inherit properties and behavior from more than one superclass or parent class. This enables the subclass to combine the attributes and methods of multiple classes.\n",
        "\n",
        "Example:\n"
      ],
      "metadata": {
        "id": "GGwEc0BtdCCw"
      }
    },
    {
      "cell_type": "code",
      "source": [
        "class Animal:\n",
        "    def eat(self):\n",
        "        print(\"Eating\")\n",
        "\n",
        "class Mammal:\n",
        "    def sleep(self):\n",
        "        print(\"Sleeping\")\n",
        "\n",
        "class Dog(Animal, Mammal):\n",
        "    def bark(self):\n",
        "        print(\"Barking\")\n",
        "\n",
        "my_dog = Dog()\n",
        "my_dog.eat()   # Output: Eating\n",
        "my_dog.sleep() # Output: Sleeping\n",
        "my_dog.bark()  # Output: Barking\n"
      ],
      "metadata": {
        "id": "z-2t31G8dxQk"
      },
      "execution_count": null,
      "outputs": []
    },
    {
      "cell_type": "markdown",
      "source": [
        "In this example, the Dog class inherits from both Animal and Mammal classes, allowing it to access their methods.\n",
        "\n",
        "Benefits:\n",
        "\n",
        "1. Code Reusability : Multiple inheritance promotes code reuse by allowing classes to inherit behavior from multiple sources.\n",
        "2. Flexibility : It enables developers to create complex classes that combine the attributes and methods of multiple classes.\n",
        "\n",
        "Considerations:\n",
        "\n",
        "1. Method Resolution Order (MRO): Python uses MRO to resolve conflicts when multiple classes define the same method. Understanding MRO is essential when working with multiple inheritance.\n",
        "2. Diamond Problem : Multiple inheritance can lead to the diamond problem, where a class inherits conflicting methods from multiple sources. Python's MRO helps mitigate this issue.\n",
        "\n",
        "By leveraging multiple inheritance, developers can create more complex and flexible class hierarchies in Python.\n",
        "\n"
      ],
      "metadata": {
        "id": "1nYOBF-od0yx"
      }
    },
    {
      "cell_type": "markdown",
      "source": [
        "# **Q19.Explain the purpose of ‘’ ____str ____ ’ and ‘ ____repr ____ ’ ‘ methods in Python?**\n"
      ],
      "metadata": {
        "id": "p9cDLYGEeUl5"
      }
    },
    {
      "cell_type": "markdown",
      "source": [
        "# **Ans19.**\n",
        "# __ str __ and __ repr __ Methods in Python:\n",
        "\n",
        "1. __ str __ :\n",
        "    - Returns a human-readable string representation of an object.\n",
        "    - Used for display purposes, such as printing.\n",
        "    - Should return a string that is easy to understand.\n",
        "\n",
        "2. __ repr__ :\n",
        "    - Returns a string that represents the object in a way that could be used to recreate it.\n",
        "    - Used for debugging, logging, and representation purposes.\n",
        "    - Ideally, should return a string that is a valid Python expression.\n",
        "\n",
        "Example:\n"
      ],
      "metadata": {
        "id": "DxziCXIhe3PB"
      }
    },
    {
      "cell_type": "code",
      "source": [
        "class Person:\n",
        "    def __init__(self, name, age):\n",
        "        self.name = name\n",
        "        self.age = age\n",
        "\n",
        "    def __str__(self):\n",
        "        return f\"{self.name}, {self.age} years old\"\n",
        "\n",
        "    def __repr__(self):\n",
        "        return f\"Person(name='{self.name}', age={self.age})\"\n",
        "\n",
        "person = Person(\"John\", 30)\n",
        "print(str(person))  # Output: John, 30 years old\n",
        "print(repr(person))  # Output: Person(name='John', age=30)\n",
        "\n"
      ],
      "metadata": {
        "id": "T-zJdtFzgoB-"
      },
      "execution_count": null,
      "outputs": []
    },
    {
      "cell_type": "markdown",
      "source": [
        "Purpose:\n",
        "\n",
        "1. *`__str__`*: Provides a user-friendly representation of an object.\n",
        "2. *`__repr__`*: Provides a more formal representation of an object, often used for debugging and logging.\n",
        "\n",
        "By implementing these methods, you can control how your objects are represented as strings, making your code more readable and maintainable.\n",
        "\n"
      ],
      "metadata": {
        "id": "PzTAiJmMg5A_"
      }
    },
    {
      "cell_type": "markdown",
      "source": [
        "# **Q20. What is the significance of the ‘super()’ function in Python?**\n"
      ],
      "metadata": {
        "id": "mT2oisX7hF_l"
      }
    },
    {
      "cell_type": "markdown",
      "source": [
        "# **Ans20.**\n",
        "# super( ) Function in Python:\n",
        "\n",
        "The super( ) function in Python is used to access methods and properties of a parent class (also known as a superclass) from a child class. It allows you to:\n",
        "\n",
        "1. Call parent class methods : Override methods in the child class while still calling the parent class method.\n",
        "2. Access parent class properties : Use properties defined in the parent class.\n",
        "\n",
        "Example:"
      ],
      "metadata": {
        "id": "2m5UViBPhT40"
      }
    },
    {
      "cell_type": "code",
      "source": [
        "class Animal:\n",
        "    def __init__(self, name):\n",
        "        self.name = name\n",
        "\n",
        "    def sound(self):\n",
        "        print(\"The animal makes a sound.\")\n",
        "\n",
        "class Dog(Animal):\n",
        "    def __init__(self, name, breed):\n",
        "        super().__init__(name)  # Calling parent class constructor\n",
        "        self.breed = breed\n",
        "\n",
        "    def sound(self):\n",
        "        super().sound()  # Calling parent class method\n",
        "        print(\"The dog barks.\")\n",
        "\n",
        "my_dog = Dog(\"Rex\", \"Golden Retriever\")\n",
        "print(my_dog.name)  # Output: Rex\n",
        "my_dog.sound()\n",
        "# Output:\n",
        "# The animal makes a sound.\n",
        "# The dog barks.\n"
      ],
      "metadata": {
        "id": "lgsBUkMWivlN"
      },
      "execution_count": null,
      "outputs": []
    },
    {
      "cell_type": "markdown",
      "source": [
        "Significance:\n",
        "\n",
        "1. Code Reusability : super( ) promotes code reuse by allowing child classes to build upon parent class functionality.\n",
        "2. Method Overriding : super( ) enables method overriding, where child classes can provide custom implementations while still calling the parent class method.\n",
        "3. Improved Readability : By using super( ) , you can avoid hardcoding parent class names, making your code more readable and maintainable.\n",
        "\n",
        "By using super( ) , you can create more flexible and maintainable class hierarchies in Python.\n",
        "\n"
      ],
      "metadata": {
        "id": "IlXMNNyfjGW9"
      }
    },
    {
      "cell_type": "markdown",
      "source": [
        "# **Q21. What is the significance of the __ del __ method in Python?**\n"
      ],
      "metadata": {
        "id": "kzSL_Qtijyr6"
      }
    },
    {
      "cell_type": "markdown",
      "source": [
        "# **Ans21.**\n",
        "# __ del __ Method in Python:\n",
        "\n",
        "The __del __ method in Python is a special method that is called when an object is about to be destroyed or garbage collected. It is used to:\n",
        "\n",
        "1. Release resources : Close files, network connections, or other resources that the object has acquired.\n",
        "2. Cleanup : Perform any necessary cleanup actions before the object is destroyed.\n",
        "\n",
        "Example:\n"
      ],
      "metadata": {
        "id": "rCtOR-iHkCL9"
      }
    },
    {
      "cell_type": "code",
      "source": [
        "class FileHandler:\n",
        "    def __init__(self, filename):\n",
        "        self.filename = filename\n",
        "        self.file = open(filename, 'w')\n",
        "\n",
        "    def __del__(self):\n",
        "        self.file.close()\n",
        "        print(f\"File {self.filename} closed.\")\n",
        "\n",
        "# Usage\n",
        "file_handler = FileHandler(\"example.txt\")\n",
        "# When file_handler goes out of scope or is deleted, __del__ will be called\n",
        "\n",
        "\n"
      ],
      "metadata": {
        "id": "b16Cb_-Qk5Op"
      },
      "execution_count": null,
      "outputs": []
    },
    {
      "cell_type": "markdown",
      "source": [
        "Significance:\n",
        "\n",
        "1. Resource Management: __ del__  helps manage resources by ensuring they are released when no longer needed.\n",
        "2. Memory Management : Although Python's garbage collector handles memory management, __ del__ can be used to perform additional cleanup actions.\n",
        "\n",
        "Important Notes:\n",
        "\n",
        "1. Unpredictable timing : The timing of __ del__  calls can be unpredictable due to Python's garbage collection mechanism.\n",
        "2. Not guaranteed to be called : __ del__ may not be called in all situations, such as when the program crashes or is terminated abruptly.\n",
        "\n",
        "By using __ del__ , you can ensure that resources are properly released and cleanup actions are performed when objects are destroyed. However, it's essential to use this method judiciously and consider alternative approaches, such as using context managers.\n",
        "\n"
      ],
      "metadata": {
        "id": "t6xUu2vjlSg0"
      }
    },
    {
      "cell_type": "markdown",
      "source": [
        "# **Q22. What is the difference between @staticmethod and @classmethod in Python?**\n"
      ],
      "metadata": {
        "id": "cKwNjykNl8n5"
      }
    },
    {
      "cell_type": "markdown",
      "source": [
        "# **Ans22.**\n",
        "# @staticmethod vs @classmethod in Python:\n",
        "\n",
        "1. @staticmethod :\n",
        "    - A method that belongs to a class rather than an instance.\n",
        "    - Doesn't have access to the class or instance ( self  or  cls ).\n",
        "    - Used for utility methods that don't depend on the class or instance state.\n",
        "\n",
        "2. @classmethod :\n",
        "    - A method that belongs to a class rather than an instance.\n",
        "    - Has access to the class ( cls ) but not the instance ( self ).\n",
        "    - Used for methods that need to access or modify class state.\n",
        "\n",
        "Key Differences :\n",
        "\n",
        "1. Access to Class/Instance : @staticmethod has no access, while @classmethod has access to the class.\n",
        "2. Use Cases : @staticmethod for utility methods, @classmethod for class-level operations or alternative constructors.\n",
        "\n",
        "Example:"
      ],
      "metadata": {
        "id": "bQYCJLJImJFq"
      }
    },
    {
      "cell_type": "code",
      "source": [
        "class Example:\n",
        "    count = 0\n",
        "\n",
        "    def __init__(self):\n",
        "        Example.count += 1\n",
        "\n",
        "    @staticmethod\n",
        "    def utility_method():\n",
        "        return \"This is a utility method.\"\n",
        "\n",
        "    @classmethod\n",
        "    def get_count(cls):\n",
        "        return cls.count\n",
        "\n",
        "print(Example.utility_method())  # Output: This is a utility method.\n",
        "print(Example.get_count())  # Output: 0\n",
        "\n",
        "example = Example()\n",
        "print(Example.get_count())  # Output: 1\n"
      ],
      "metadata": {
        "id": "FJthwqVIniyX"
      },
      "execution_count": null,
      "outputs": []
    },
    {
      "cell_type": "markdown",
      "source": [
        "When to Use:\n",
        "\n",
        "1. @staticmethod : When you need a utility method that doesn't depend on the class or instance state.\n",
        "2. @classmethod : When you need to access or modify class state, or create alternative constructors.\n",
        "\n",
        "By understanding the differences between @staticmethod and @classmethod , you can write more effective and organized code in Python.\n",
        "\n"
      ],
      "metadata": {
        "id": "3UDOEw1hoCjy"
      }
    },
    {
      "cell_type": "markdown",
      "source": [
        "# **23. How does polymorphism work in Python with inheritance?**\n"
      ],
      "metadata": {
        "id": "fI_fB0AuoQrv"
      }
    },
    {
      "cell_type": "markdown",
      "source": [
        "# **Ans23.**\n",
        "# Polymorphism with Inheritance in Python:\n",
        "\n",
        "Polymorphism in Python allows objects of different classes to be treated as objects of a common superclass. With inheritance, polymorphism enables you to:\n",
        "\n",
        "1. Override methods : A subclass can provide a specific implementation of a method that is already defined in its superclass.\n",
        "2. Use superclass references : You can use a superclass reference to refer to objects of its subclasses.\n",
        "\n",
        "Example:\n"
      ],
      "metadata": {
        "id": "yVpVTC9loZV5"
      }
    },
    {
      "cell_type": "code",
      "source": [
        "class Shape:\n",
        "    def area(self):\n",
        "        pass\n",
        "\n",
        "class Circle(Shape):\n",
        "    def __init__(self, radius):\n",
        "        self.radius = radius\n",
        "\n",
        "    def area(self):\n",
        "        return 3.14 * self.radius ** 2\n",
        "\n",
        "class Rectangle(Shape):\n",
        "    def __init__(self, width, height):\n",
        "        self.width = width\n",
        "        self.height = height\n",
        "\n",
        "    def area(self):\n",
        "        return self.width * self.height\n",
        "\n",
        "shapes = [Circle(5), Rectangle(4, 5)]\n",
        "for shape in shapes:\n",
        "    print(shape.area())\n"
      ],
      "metadata": {
        "id": "a7r57S1qo-vB"
      },
      "execution_count": null,
      "outputs": []
    },
    {
      "cell_type": "markdown",
      "source": [
        "How it works:\n",
        "\n",
        "1. Method overriding : Circle  and Rectangle  classes override the area method of the Shape class.\n",
        "2. Polymorphic behavior : The shapes list contains objects of different classes (Circle and Rectangle ), but they can be treated as Shape objects.\n",
        "3. Dynamic method dispatch : When shape.area( )  is called, Python dynamically determines which area method to call based on the actual object type.\n",
        "\n",
        "Benefits:\n",
        "\n",
        "1. Increased flexibility : Polymorphism allows you to write more generic code that can work with different classes.\n",
        "2. Easier maintenance : You can add new subclasses without modifying existing code.\n",
        "\n",
        "By leveraging polymorphism with inheritance, you can create more flexible and maintainable software systems in Python.\n",
        "\n"
      ],
      "metadata": {
        "id": "qoq6gRekpKp2"
      }
    },
    {
      "cell_type": "markdown",
      "source": [
        "# **Q24.What is method chaining in Python OOP?**\n"
      ],
      "metadata": {
        "id": "0ZMf8QgkqCzs"
      }
    },
    {
      "cell_type": "markdown",
      "source": [
        "# **Ans24.**\n",
        "# Method Chaining in Python OOP:\n",
        "\n",
        "Method chaining is a technique in Python where multiple methods are called on the same object in a single line of code. Each method returns the object itself ( self ), allowing the next method to be called on the same object.\n",
        "\n",
        "Example:"
      ],
      "metadata": {
        "id": "4URG4Le8qPx-"
      }
    },
    {
      "cell_type": "code",
      "source": [
        "class Person:\n",
        "    def __init__(self, name):\n",
        "        self.name = name\n",
        "\n",
        "    def set_age(self, age):\n",
        "        self.age = age\n",
        "        return self\n",
        "\n",
        "    def set_city(self, city):\n",
        "        self.city = city\n",
        "        return self\n",
        "\n",
        "    def display_info(self):\n",
        "        print(f\"Name: {self.name}, Age: {self.age}, City: {self.city}\")\n",
        "\n",
        "person = Person(\"John\")\n",
        "person.set_age(30).set_city(\"New York\").display_info()\n"
      ],
      "metadata": {
        "id": "NwvdHUnCq4ee"
      },
      "execution_count": null,
      "outputs": []
    },
    {
      "cell_type": "markdown",
      "source": [
        "How it works:\n",
        "\n",
        "1. set_age   and  set_city  methods return self : Each method returns the\n",
        " Person  object itself, allowing the next method to be called.\n",
        "2. Method chaining : Multiple methods are called on the same object in a single line of code.\n",
        "\n",
        "Benefits:\n",
        "\n",
        "1. Improved readability : Method chaining can make code more concise and readable.\n",
        "2.  Easier object configuration : You can configure an object's properties in a single line of code.\n",
        "\n",
        "Use cases:\n",
        "\n",
        "1. Builder pattern : Method chaining is often used in the builder pattern to create complex objects step-by-step.\n",
        "2. Configuring objects : Method chaining can be used to configure an object's properties in a concise and readable way.\n",
        "\n",
        "By using method chaining, you can write more concise and readable code in Python.\n",
        "\n"
      ],
      "metadata": {
        "id": "ut3mm4T2rAAn"
      }
    },
    {
      "cell_type": "markdown",
      "source": [
        "# **Q25. What is the purpose of the __call __ method in Python?**"
      ],
      "metadata": {
        "id": "UKurS9TmrkW7"
      }
    },
    {
      "cell_type": "markdown",
      "source": [
        "# **Ans25.**\n",
        "# __call __  Method in Python:\n",
        "\n",
        "The __ call __ method in Python is a special method that allows an instance of a class to be called as a function. This method is invoked when an object is used as a callable.\n",
        "\n",
        "Example:\n"
      ],
      "metadata": {
        "id": "ZE6Vac1nruy6"
      }
    },
    {
      "cell_type": "code",
      "source": [
        "class Counter:\n",
        "    def __init__(self):\n",
        "        self.count = 0\n",
        "\n",
        "    def __call__(self):\n",
        "        self.count += 1\n",
        "        return self.count\n",
        "\n",
        "counter = Counter()\n",
        "print(counter())  # Output: 1\n",
        "print(counter())  # Output: 2\n",
        "print(counter())  # Output: 3\n"
      ],
      "metadata": {
        "id": "LMxWgNWjsgTE"
      },
      "execution_count": null,
      "outputs": []
    },
    {
      "cell_type": "markdown",
      "source": [
        "Purpose:\n",
        "\n",
        "1. Callable objects : The __ call__ method enables instances of a class to be used as callable objects, making them behave like functions.\n",
        "2. Stateful functions : By using __call __ , you can create stateful functions that maintain their state between calls.\n",
        "\n",
        " Use cases:\n",
        "\n",
        "1. Function objects : When you need an object that behaves like a function but also has state or additional methods.\n",
        "2. Decorators : __ call__  is often used in decorator classes to wrap functions or methods.\n",
        "\n",
        "By implementing the __ call__  method, you can create objects that can be used as callables, providing more flexibility in your code.\n",
        "\n"
      ],
      "metadata": {
        "id": "w0WRT9Qqslgw"
      }
    },
    {
      "cell_type": "markdown",
      "source": [
        "# **Practical Questions**"
      ],
      "metadata": {
        "id": "Fr_y-q5_tGB_"
      }
    },
    {
      "cell_type": "markdown",
      "source": [
        "# **Q1. Create a parent class Animal with a method speak() that prints a generic message. Create a child class Dog that overrides the speak() method to print \"Bark!\".**\n"
      ],
      "metadata": {
        "id": "92rpXpoUtRws"
      }
    },
    {
      "cell_type": "code",
      "source": [
        "#parent class\n",
        "class Animal:\n",
        "    def speak(self):\n",
        "        print(\"The animal makes a sound.\")\n",
        "# Child class\n",
        "class Dog(Animal):\n",
        "    def speak(self): # overriding the speak method\n",
        "        print(\"Barks!\")\n",
        "\n",
        "# Creating an object of Dog class\n",
        "d = Dog()\n",
        "d.speak() # Output: Bark!\n",
        "\n"
      ],
      "metadata": {
        "colab": {
          "base_uri": "https://localhost:8080/"
        },
        "id": "p36euYLBJmHx",
        "outputId": "f73bdabb-e5e2-40c0-82cc-cbfa93e7a3cc"
      },
      "execution_count": null,
      "outputs": [
        {
          "output_type": "stream",
          "name": "stdout",
          "text": [
            "Barks!\n"
          ]
        }
      ]
    },
    {
      "cell_type": "markdown",
      "source": [
        "# **Q2. Write a program to create an abstract class Shape with a method area(). Derive classes Circle and Rectangle from it and implement the area() method in both.**\n"
      ],
      "metadata": {
        "id": "LsnWj19mNaLD"
      }
    },
    {
      "cell_type": "code",
      "source": [
        "from abc import ABC, abstractmethod\n",
        "import math\n",
        "\n",
        "# Abstract base class\n",
        "class Shape(ABC):\n",
        "\n",
        "    @abstractmethod\n",
        "    def area(self):\n",
        "        pass\n",
        "\n",
        "# Dervie classes: Circle\n",
        "class Circle(Shape):\n",
        "    def __init__(self, radius):\n",
        "      self.radius = radius\n",
        "\n",
        "    def area(self):\n",
        "        return math.pi * self.radius * self.radius\n",
        "\n",
        "# Dervie classes: Rectangle\n",
        "class Rectangle(Shape):\n",
        "    def __init__(self, length, width):\n",
        "        self.length = length\n",
        "        self.width = width\n",
        "\n",
        "    def area(self):\n",
        "        return self.length * self.width\n",
        "\n",
        "# Creating objects of Circle and Rectangle\n",
        "circle = Circle(5)\n",
        "rectangle = Rectangle(4, 6)\n",
        "\n",
        "# Calculating and printing the area\n",
        "print(f\"Area of circle:{circle.area()}\") # Output: 78.5398...\n",
        "print(f\"Area of Rectangle:{rectangle.area()}\") # Output: 24\n",
        "\n"
      ],
      "metadata": {
        "colab": {
          "base_uri": "https://localhost:8080/"
        },
        "id": "UUytABg-NkZ-",
        "outputId": "b2f01e7b-4ca5-4cdf-8744-2076a043da18"
      },
      "execution_count": null,
      "outputs": [
        {
          "output_type": "stream",
          "name": "stdout",
          "text": [
            "Area of circle:78.53981633974483\n",
            "Area of Rectangle:24\n"
          ]
        }
      ]
    },
    {
      "cell_type": "markdown",
      "source": [
        "# **Q3. Implement a multi-level inheritance scenario where a class Vehicle has an attribute type. Derive a class Car and further derive a class ElectricCar that adds a battery attribute.**\n"
      ],
      "metadata": {
        "id": "4l7-B7G2Vgry"
      }
    },
    {
      "cell_type": "code",
      "source": [
        "# Base class\n",
        "class Vehicle:\n",
        "    def __init__(self, vehicle_type):\n",
        "        self.type = vehicle_type\n",
        "\n",
        "# Derived class from Vehicle\n",
        "class Car(Vehicle):\n",
        "    def __init__(self, vehicle_type, brand):\n",
        "        super().__init__(vehicle_type)\n",
        "        self.brand = brand\n",
        "\n",
        "# Further derived class from Car\n",
        "class ElectricCar(Car):\n",
        "    def __init__(self, vehicle_type, brand, battery_capacity):\n",
        "        super().__init__(vehicle_type, brand)\n",
        "        self.battery_capacity = battery_capacity\n",
        "\n",
        "    def display_info(self):\n",
        "        print(f\"Type: {self.type}\")\n",
        "        print(f\"Brand: {self.brand}\")\n",
        "        print(f\"Battery Capacity: {self.battery_capacity} kWh\")\n",
        "\n",
        "# Example usage\n",
        "ecar = ElectricCar(\"Electric\", \"Tesla\", 75)\n",
        "ecar.display_info()\n"
      ],
      "metadata": {
        "colab": {
          "base_uri": "https://localhost:8080/"
        },
        "id": "IOzxccmpbtqh",
        "outputId": "38c0bf89-83b3-4596-be0c-3d724c25bb3e"
      },
      "execution_count": null,
      "outputs": [
        {
          "output_type": "stream",
          "name": "stdout",
          "text": [
            "Type: Electric\n",
            "Brand: Tesla\n",
            "Battery Capacity: 75 kWh\n"
          ]
        }
      ]
    },
    {
      "cell_type": "markdown",
      "source": [
        "# **Q4. Demonstrate polymorphism by creating a base class Bird with a method fly(). Create two derived classes Sparrow and Penguin that override the fly() method.**\n",
        "\n",
        "\n"
      ],
      "metadata": {
        "id": "jxI_c98qcIHj"
      }
    },
    {
      "cell_type": "code",
      "source": [
        "# Base Class Bird\n",
        "class Bird:\n",
        "    def fly(self):\n",
        "        print(\"This Bird can fly\")\n",
        "\n",
        "# Derived class sparrow\n",
        "class sparrow(Bird):\n",
        "    def fly(self):\n",
        "        print(\" The sparrow can flies high in the sky\")\n",
        "\n",
        "# Derived class penguin\n",
        "class penguin(Bird):\n",
        "    def fly(self):\n",
        "        print(\"The penguin can't fly,they swim instead.\")\n",
        "\n",
        "# Creating objects of sparrow and penguin\n",
        "sparrow = sparrow()\n",
        "penguin = penguin()\n",
        "\n",
        "# Calling the fly() method on both objects\n",
        "sparrow.fly() # Output: The sparrow can flies high in the sky\n",
        "penguin.fly() # Output: The penguin can't fly,they swim instead.\n",
        "\n",
        "\n",
        "\n",
        "\n"
      ],
      "metadata": {
        "id": "npxrmxTQcewG",
        "colab": {
          "base_uri": "https://localhost:8080/"
        },
        "outputId": "104e80fe-dcbb-4f08-9e76-838ee7e412b3"
      },
      "execution_count": null,
      "outputs": [
        {
          "output_type": "stream",
          "name": "stdout",
          "text": [
            " The sparrow can flies high in the sky\n",
            "The penguin can't fly,they swim instead.\n"
          ]
        }
      ]
    },
    {
      "cell_type": "markdown",
      "source": [
        "# **Q5. Write a program to demonstrate encapsulation by creating a class BankAccount with private attributes balance and methods to deposit, withdraw, and check balance.**\n"
      ],
      "metadata": {
        "id": "u9Le9sEBvpZZ"
      }
    },
    {
      "cell_type": "code",
      "source": [
        "class BankAccount:\n",
        "   def __init__(self,initial_balance):\n",
        "       self.__balance = initial_balance # private attribute\n",
        "\n",
        "   def deposit(self, amount):\n",
        "      if amount > 0:\n",
        "        self.__balance += amount\n",
        "        print(f\"Deposited: ${amount}\")\n",
        "      else:\n",
        "         print({\"Deposite amount must be positive\"})\n",
        "\n",
        "   def withdraw(self, amount):\n",
        "        if 0 < amount <= self.__balance:\n",
        "            self.__balance -= amount\n",
        "            print(f\"Withdrew: ${amount}\")\n",
        "        else:\n",
        "            print(\"Invalid withdrawal amount or insufficient balance.\")\n",
        "\n",
        "   def check_balance(self):\n",
        "        print(f\"Current Balance: ${self.__balance}\")\n",
        "\n",
        "# Creating an object of BankAccount\n",
        "account = BankAccount(1000) # Initial balance is $1000\n",
        "\n",
        "# Checking balance\n",
        "account.check_balance() # Output: Current Balance: $1000\n",
        "\n",
        "# Depositing money\n",
        "account.deposit(500) # Output: Deposited: $500\n",
        "account.check_balance() # Output: Current Balance: $1500\n",
        "\n",
        "# Withdrawing money\n",
        "account.withdraw(200) # Output: Withdrew: ${200}\n",
        "account.check_balance() # Output: Current Balance: $1300\n",
        "\n",
        "# Trying to withdraw an invalid amount\n",
        "account.withdraw(2000) # Output: Invaild withdrawal amount or insufficient balanc"
      ],
      "metadata": {
        "colab": {
          "base_uri": "https://localhost:8080/"
        },
        "id": "LyT_4WtUv1cX",
        "outputId": "f768aa94-492c-4a42-cc45-c39033077505"
      },
      "execution_count": null,
      "outputs": [
        {
          "output_type": "stream",
          "name": "stdout",
          "text": [
            "Current Balance: $1000\n",
            "Deposited: $500\n",
            "Current Balance: $1500\n",
            "Withdrew: $200\n",
            "Current Balance: $1300\n",
            "Invalid withdrawal amount or insufficient balance.\n"
          ]
        }
      ]
    },
    {
      "cell_type": "markdown",
      "source": [
        "# **Q6. Demonstrate runtime polymorphism using a method play( ) in a base class Instrument. Derive classes Guitar and Piano that implement their own version of play( ).**\n"
      ],
      "metadata": {
        "id": "QMGOK5W92gP6"
      }
    },
    {
      "cell_type": "code",
      "source": [
        "# Base class Instrument\n",
        "class Instrument:\n",
        "  def play(self):\n",
        "    print(\"This instrument is being played.\")\n",
        "\n",
        "\n",
        "# Derived class Guitar\n",
        "class Guitar(Instrument):\n",
        "  def play(self):\n",
        "    print(\"The guitar is strumming.\")\n",
        "\n",
        "# Derived class Piano\n",
        "class piano(Instrument):\n",
        "   def play(self):\n",
        "    print(\"The piano is being played.\")\n",
        "\n",
        "\n",
        "# Creating objects of Guitar and Piano\n",
        "guitar = Guitar()\n",
        "piano = piano()\n",
        "\n",
        "# Calling the play() method on both objects\n",
        "guitar.play() # Output: The guitar is strumming.\n",
        "piano.play() # Output: The paino is being played.\n"
      ],
      "metadata": {
        "colab": {
          "base_uri": "https://localhost:8080/"
        },
        "id": "PFeRJ9CG20P5",
        "outputId": "3d3c0217-1122-4afe-c50a-2a9dd6a17fdb"
      },
      "execution_count": null,
      "outputs": [
        {
          "output_type": "stream",
          "name": "stdout",
          "text": [
            "The guitar is strumming.\n",
            "The piano is being played.\n"
          ]
        }
      ]
    },
    {
      "cell_type": "markdown",
      "source": [
        "# **Q7. Create a class MathOperations with a class method add_numbers() to add two numbers and a static method subtract_numbers() to subtract two numbers.**\n"
      ],
      "metadata": {
        "id": "2U2DW30G6pKe"
      }
    },
    {
      "cell_type": "code",
      "source": [
        "class MathOperations:\n",
        "  @classmethod\n",
        "  def add_numbers(cls, a, b):\n",
        "    return a + b # Adds two numbers\n",
        "\n",
        "  @staticmethod\n",
        "  def subtract_numbers(a, b):\n",
        "    return a - b # Subtracts second number from first number\n",
        "\n",
        "# Using the class method to add numbers\n",
        "sum_result = MathOperations.add_numbers(10, 5)\n",
        "print(f\"Sum: {sum_result}\") # Output: Sum: 15\n",
        "\n",
        "# Using the static method to subtract numbers\n",
        "difference = MathOperations.subtract_numbers(10, 5)\n",
        "print(f\"Difference: {difference}\") # Output: Difference: 5"
      ],
      "metadata": {
        "id": "Mpv-7dVW6355",
        "colab": {
          "base_uri": "https://localhost:8080/"
        },
        "outputId": "f78644c7-e21a-4160-85f4-ab2be5da95fb"
      },
      "execution_count": null,
      "outputs": [
        {
          "output_type": "stream",
          "name": "stdout",
          "text": [
            "Sum: 15\n",
            "Difference: 5\n"
          ]
        }
      ]
    },
    {
      "cell_type": "markdown",
      "source": [
        "# **Q8. Implement a class Person with a class method to count the total number of persons created.**"
      ],
      "metadata": {
        "id": "wHEwRWWlSM_p"
      }
    },
    {
      "cell_type": "code",
      "source": [
        "from os import name\n",
        "class Person:\n",
        "   #Class Varible to keep track of the total number of person\n",
        "   total_persons = 0\n",
        "\n",
        "   def __init__(self, name, age):\n",
        "      self.name = name\n",
        "      self.age = age\n",
        "      Person.total_persons += 1\n",
        "\n",
        "   @classmethod\n",
        "   def get_total_persons(cls):\n",
        "       return cls.total_persons\n",
        "\n",
        "# Creating instance of Person\n",
        "person1 = Person(\"Shewta\", 30)\n",
        "person2 = Person(\"chetna\", 25)\n",
        "person3 = Person(\"suhani\", 35)\n",
        "\n",
        "# Using the class method to get the total number of persons created\n",
        "total = Person.get_total_persons()\n",
        "print(f\"Total persons created: {total}\") # Output: Total number of persons: 3"
      ],
      "metadata": {
        "colab": {
          "base_uri": "https://localhost:8080/"
        },
        "id": "oI0IH1h0SVEN",
        "outputId": "9e3d4df2-5cfa-4121-9fdd-c27d227b3dda"
      },
      "execution_count": null,
      "outputs": [
        {
          "output_type": "stream",
          "name": "stdout",
          "text": [
            "Total persons created: 3\n"
          ]
        }
      ]
    },
    {
      "cell_type": "markdown",
      "source": [
        "# **Q9. Write a class Fraction with attributes numerator and denominator. Override the str method to display the fraction as \"numerator/denominator\".**\n"
      ],
      "metadata": {
        "id": "D4hUBdXIUqLA"
      }
    },
    {
      "cell_type": "code",
      "source": [
        "class Fraction:\n",
        "    def __init__(self, numerator, denominator):\n",
        "         self.numerator = numerator\n",
        "         self.denominator = denominator\n",
        "\n",
        "    def __str__(self):\n",
        "      return f\"{self.numerator}/{self.denominator}\"\n",
        "\n",
        "# Creating an instance of Fraction\n",
        "fraction = Fraction(3, 4)\n",
        "\n",
        "# Printing the fraction object\n",
        "print(fraction) #Output: 3/4"
      ],
      "metadata": {
        "colab": {
          "base_uri": "https://localhost:8080/"
        },
        "id": "yvvmq3ZGU2IX",
        "outputId": "dc7153c1-8a9f-4613-9470-452d4ae3a3cc"
      },
      "execution_count": null,
      "outputs": [
        {
          "output_type": "stream",
          "name": "stdout",
          "text": [
            "3/4\n"
          ]
        }
      ]
    },
    {
      "cell_type": "markdown",
      "source": [
        "# **Q10. Demonstrate operator overloading by creating a class Vector and overriding the add method to add two vectors.**\n"
      ],
      "metadata": {
        "id": "8s3N51JkWgu5"
      }
    },
    {
      "cell_type": "code",
      "source": [
        "class Vector:\n",
        "   def __init__(self, x, y):\n",
        "      self.x = x\n",
        "      self.y = y\n",
        "\n",
        "  #Overriding the '+' operator\n",
        "   def __add__(self, other):\n",
        "       if isinstance(other, Vector):\n",
        "           # Adding corresponding components of two vectors\n",
        "           return Vector(self.x + other.x, self.y + other.y)\n",
        "       return NotImplemented\n",
        "\n",
        "  # To make it easy to print the vector (override_str_method)\n",
        "   def __str__(self):\n",
        "       return f\"({self.x}, {self.y})\"\n",
        "\n",
        "# Creating two vectors objects\n",
        "vector1 = Vector(2, 3)\n",
        "vector2 = Vector(4, 5)\n",
        "\n",
        "# Adding two vectors using the overloaded '+' operator\n",
        "vector3 = vector1 + vector2\n",
        "\n",
        "#Printing the result\n",
        "print(f\"vector1 + vector2 = {vector3}\")\n"
      ],
      "metadata": {
        "colab": {
          "base_uri": "https://localhost:8080/"
        },
        "id": "2Tra0ZD7W5oE",
        "outputId": "2b45ec40-9dab-45fc-fe57-5f48c9c78452"
      },
      "execution_count": null,
      "outputs": [
        {
          "output_type": "stream",
          "name": "stdout",
          "text": [
            "vector1 + vector2 = (6, 8)\n"
          ]
        }
      ]
    },
    {
      "cell_type": "markdown",
      "source": [
        "# **Q11. Create a class Person with attributes name and age. Add a method greet() that prints \"Hello, my name is {name} and I am {age} years old.\"**\n"
      ],
      "metadata": {
        "id": "90kJqXM1azJr"
      }
    },
    {
      "cell_type": "code",
      "source": [
        "class Person:\n",
        "   def __init__(self, name, age):\n",
        "      self.name = name\n",
        "      self.age = age\n",
        "\n",
        "   def greet(self):\n",
        "      print(f\"Hello, my name is {self.name} and I am {self.age} year old\")\n",
        "\n",
        "\n",
        "# Creating an instance of Person\n",
        "person1 = Person(\"Himani\", 20)\n",
        "\n",
        "\n",
        "# Calling the greet methid\n",
        "person1.greet()"
      ],
      "metadata": {
        "colab": {
          "base_uri": "https://localhost:8080/"
        },
        "id": "dVqRZqt8bAyL",
        "outputId": "7c3e3a19-bd4f-42dd-fb91-33aab29b67fb"
      },
      "execution_count": null,
      "outputs": [
        {
          "output_type": "stream",
          "name": "stdout",
          "text": [
            "Hello, my name is Himani and I am 20 year old\n"
          ]
        }
      ]
    },
    {
      "cell_type": "markdown",
      "source": [
        "# **Q12. Implement a class Student with attributes name and grades. Create a method average_grade() to compute the average of the grades.**\n"
      ],
      "metadata": {
        "id": "ykLHBnJBdbMF"
      }
    },
    {
      "cell_type": "code",
      "source": [
        "class Student:\n",
        "    def __init__(self, name, grades):\n",
        "        self.name = name\n",
        "        self.grades = grades\n",
        "\n",
        "    def average_grade(self,):\n",
        "        if len(self.grades) == 0:\n",
        "           return 0 # Return 0 if no grades are available\n",
        "        return sum(self.grades) / len(self.grades)\n",
        "\n",
        "# Creating an instance of student\n",
        "student1 = Student(\"Shewta\",[85, 90, 78, 92])\n",
        "\n",
        "# Calling the method to compute average grade\n",
        "average = student1.average_grade()\n",
        "print(f\"{student1.name} 's average grade is: {average:.2f}\")\n",
        "\n"
      ],
      "metadata": {
        "colab": {
          "base_uri": "https://localhost:8080/"
        },
        "id": "gG6joOcbdpjY",
        "outputId": "ff1abdc7-e28b-4799-cf52-0ffc884635f9"
      },
      "execution_count": null,
      "outputs": [
        {
          "output_type": "stream",
          "name": "stdout",
          "text": [
            "Shewta 's average grade is: 86.25\n"
          ]
        }
      ]
    },
    {
      "cell_type": "markdown",
      "source": [
        "# **Q13. Create a class Rectangle with methods set_dimensions() to set the dimensions and area() to calculate the area**\n"
      ],
      "metadata": {
        "id": "cN-64SQiiJhR"
      }
    },
    {
      "cell_type": "code",
      "source": [
        "class Rectangle:\n",
        "    def __init__(self):\n",
        "       self.length = 0\n",
        "       self.width  = 0\n",
        "\n",
        "    # Methods to set the dimensions of the rectangle\n",
        "    def set_dimensions(self, length, width):\n",
        "        self.length = length\n",
        "        self.width = width\n",
        "\n",
        "    # Method to calculate the area of the rectangle\n",
        "    def area(self):\n",
        "        return self.length * self.width\n",
        "\n",
        "# Creating an instance of Rectangle\n",
        "rect = Rectangle()\n",
        "\n",
        "# Setting the dimensions of the rectangle\n",
        "rect.set_dimensions(5, 3)\n",
        "\n",
        "# Calculating the area of the rectangle\n",
        "area = rect.area()\n",
        "print(f\"The area of the rectangle is: {area}\")"
      ],
      "metadata": {
        "colab": {
          "base_uri": "https://localhost:8080/"
        },
        "id": "v1bI6ZTeiRlQ",
        "outputId": "9190d5ae-7936-4fbf-9207-3c0ab4379505"
      },
      "execution_count": null,
      "outputs": [
        {
          "output_type": "stream",
          "name": "stdout",
          "text": [
            "The area of the rectangle is: 15\n"
          ]
        }
      ]
    },
    {
      "cell_type": "markdown",
      "source": [
        "# **Q14. Create a class Employee with a method calculate_salary() that computes the salary based on hours worked and hourly rate. Create a derived class Manager that adds a bonus to the salary.**\n",
        "\n"
      ],
      "metadata": {
        "id": "e_E2Ye3ujySI"
      }
    },
    {
      "cell_type": "code",
      "source": [
        "class Employee:\n",
        "    def __init__(self, name, hours_worked, hourly_rate):\n",
        "        self.name = name\n",
        "        self.hours_worked = hours_worked\n",
        "        self.hourly_rate = hourly_rate\n",
        "\n",
        "    def calculate_salary(self):\n",
        "        # Calculates salary based on hours worked and hourly rate\n",
        "        return self.hours_worked * self.hourly_rate\n",
        "\n",
        "# Derived class Manager\n",
        "class Manager(Employee):\n",
        "    def __init__(self, name, hours_worked, hourly_rate, bonus):\n",
        "        super().__init__(name, hours_worked, hourly_rate)\n",
        "        self.bonus = bonus\n",
        "\n",
        "    def calculate_salary(self):\n",
        "        # Call the base class method to get the salary and add the bonus\n",
        "        salary = super().calculate_salary()\n",
        "        return salary + self.bonus\n",
        "\n",
        "# Creating an instance of Employee\n",
        "employee = Employee(\"Shewta\", 40, 20)\n",
        "\n",
        "# Creating an instance of Manager\n",
        "manager = Manager(\"Om\", 40, 25, 500)\n",
        "\n",
        "# Calculate salary employees and Manager\n",
        "employee_salary = employee.calculate_salary()\n",
        "manager_salary = manager.calculate_salary()\n",
        "\n",
        "print(f\"{employee.name}'s salary: ${employee_salary}\")\n",
        "print(f\"{manager.name}'s salary (with bonus): ${manager_salary}\")\n"
      ],
      "metadata": {
        "colab": {
          "base_uri": "https://localhost:8080/"
        },
        "id": "aRLBRlaKj6Am",
        "outputId": "9fd1b6b1-8c22-4cb2-ee6f-a2b421e9d51b"
      },
      "execution_count": null,
      "outputs": [
        {
          "output_type": "stream",
          "name": "stdout",
          "text": [
            "Shewta's salary: $800\n",
            "Om's salary (with bonus): $1500\n"
          ]
        }
      ]
    },
    {
      "cell_type": "markdown",
      "source": [
        "# **Q15. Create a class Product with attributes name, price, and quantity. Implement a method total_price() that calculates the total price of the product.**\n"
      ],
      "metadata": {
        "id": "l-vVegbSoLNp"
      }
    },
    {
      "cell_type": "code",
      "source": [
        "class Product:\n",
        "    def __init__(self, name, price, quantity):\n",
        "        self.name = name\n",
        "        self.price = price\n",
        "        self.quantity = quantity\n",
        "\n",
        "    def total_price(self):\n",
        "        # Calculates the total price by multiplying price and quantity\n",
        "        return self.price * self.quantity\n",
        "\n",
        "# Creating an instance of product\n",
        "product1 = Product(\"Laptop\", 1000, 3)\n",
        "\n",
        "# Calling the total_price() method to calculate the total price\n",
        "total = product1.total_price()\n",
        "\n",
        "print(f\"Total price for {product1.name} is: ${total}\")"
      ],
      "metadata": {
        "colab": {
          "base_uri": "https://localhost:8080/"
        },
        "id": "6jM8rP8IoS9Q",
        "outputId": "6b4930c5-a0ae-494d-f1b7-d37401297019"
      },
      "execution_count": null,
      "outputs": [
        {
          "output_type": "stream",
          "name": "stdout",
          "text": [
            "Total price for Laptop is: $3000\n"
          ]
        }
      ]
    },
    {
      "cell_type": "markdown",
      "source": [
        "# **Q16. Create a class Animal with an abstract method sound(). Create two derived classes Cow and Sheep that implement the sound() method.**\n"
      ],
      "metadata": {
        "id": "HV0DkPVWrtnj"
      }
    },
    {
      "cell_type": "code",
      "source": [
        "from abc import ABC, abstractmethod\n",
        "\n",
        "# Abstract class Animal\n",
        "class Animal(ABC):\n",
        "   @abstractmethod\n",
        "   def sound(self):\n",
        "    pass # This is an abstract method that must be overridden by subclasses\n",
        "\n",
        "# Derived class Cow\n",
        "class Cow(Animal):\n",
        "  def sound(self):\n",
        "    print(\"The cow is making a moo sound.\")\n",
        "\n",
        "# Derived class Sheep\n",
        "class Sheep(Animal):\n",
        "  def sound(self):\n",
        "    print(\"The sheep is making a baa sound.\")\n",
        "\n",
        "# Creating instances of Cow and Sheep\n",
        "cow = Cow()\n",
        "sheep = Sheep()\n",
        "\n",
        "# Calling the sound() method on each object\n",
        "cow.sound()\n",
        "sheep.sound()"
      ],
      "metadata": {
        "colab": {
          "base_uri": "https://localhost:8080/"
        },
        "id": "uZ6tOdHjr1xW",
        "outputId": "de0738b1-0929-4fc1-b63a-08e1acae148a"
      },
      "execution_count": null,
      "outputs": [
        {
          "output_type": "stream",
          "name": "stdout",
          "text": [
            "The cow is making a moo sound.\n",
            "The sheep is making a baa sound.\n"
          ]
        }
      ]
    },
    {
      "cell_type": "markdown",
      "source": [
        "# **Q17. Create a class Book with attributes title, author, and year_published. Add a method get_book_info() that returns a formatted string with the book's details.**\n"
      ],
      "metadata": {
        "id": "kLBF9lErunsN"
      }
    },
    {
      "cell_type": "code",
      "source": [
        "class Book:\n",
        "    def __init__(self, title, author, year_published):\n",
        "        self.title = title\n",
        "        self.author = author\n",
        "        self.year_published = year_published\n",
        "\n",
        "    def get_book_info(self):\n",
        "        # Returns a formatted string with the book's details\n",
        "        return f\"'{self.title}' by {self.author}, published in {self.year_published}\"\n",
        "\n",
        "# Creating an instance of Book\n",
        "book1 = Book(\"1984\", \"George Orwell\", 1949)\n",
        "\n",
        "# Getting and printing the book's information\n",
        "book_info = book1.get_book_info()\n",
        "print(book_info)\n"
      ],
      "metadata": {
        "colab": {
          "base_uri": "https://localhost:8080/"
        },
        "id": "0xO0_buxuxyW",
        "outputId": "4a3d78b7-cdf2-4585-ca05-f790d9479386"
      },
      "execution_count": null,
      "outputs": [
        {
          "output_type": "stream",
          "name": "stdout",
          "text": [
            "'1984' by George Orwell, published in 1949\n"
          ]
        }
      ]
    },
    {
      "cell_type": "markdown",
      "source": [
        "# **Q18. Create a class House with attributes address and price. Create a derived class Mansion that adds an attribute number_of_rooms.**\n"
      ],
      "metadata": {
        "id": "PqC--B7Iv8OH"
      }
    },
    {
      "cell_type": "code",
      "source": [
        "# Base class House\n",
        "class House:\n",
        "    def __init__(self, address, price):\n",
        "        self.address = address\n",
        "        self.price = price\n",
        "\n",
        "    def get_info(self):\n",
        "        return f\"House at {self.address} costs ${self.price}\"\n",
        "\n",
        "# Derived class Mansion\n",
        "class Mansion(House):\n",
        "    def __init__(self, address, price, number_of_rooms):\n",
        "        # Initialize the base class (House) constructor\n",
        "        super().__init__(address, price)\n",
        "        self.number_of_rooms = number_of_rooms\n",
        "\n",
        "    def get_info(self):\n",
        "        # Get the base class info and add number of rooms to the details\n",
        "        base_info = super().get_info()\n",
        "        return f\"{base_info} and has {self.number_of_rooms} rooms.\"\n",
        "\n",
        "# Creating instances of House and Mansion\n",
        "house = House(\"123 Main St\", 250000)\n",
        "mansion = Mansion(\"456 Luxury Ave\", 5000000, 10)\n",
        "\n",
        "# Getting and printing the information for both House and Mansion\n",
        "print(house.get_info())\n",
        "print(mansion.get_info())\n"
      ],
      "metadata": {
        "colab": {
          "base_uri": "https://localhost:8080/"
        },
        "id": "lJU1uBgKwZ0j",
        "outputId": "a4e86824-ea17-4392-d1b1-c92c307e0cba"
      },
      "execution_count": null,
      "outputs": [
        {
          "output_type": "stream",
          "name": "stdout",
          "text": [
            "House at 123 Main St costs $250000\n",
            "House at 456 Luxury Ave costs $5000000 and has 10 rooms.\n"
          ]
        }
      ]
    }
  ]
}