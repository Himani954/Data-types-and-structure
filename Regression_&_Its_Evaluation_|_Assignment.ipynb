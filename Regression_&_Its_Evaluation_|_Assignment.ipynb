{
  "nbformat": 4,
  "nbformat_minor": 0,
  "metadata": {
    "colab": {
      "provenance": [],
      "authorship_tag": "ABX9TyPK7REBiR2Smcqh0HuXmfnL",
      "include_colab_link": true
    },
    "kernelspec": {
      "name": "python3",
      "display_name": "Python 3"
    },
    "language_info": {
      "name": "python"
    }
  },
  "cells": [
    {
      "cell_type": "markdown",
      "metadata": {
        "id": "view-in-github",
        "colab_type": "text"
      },
      "source": [
        "<a href=\"https://colab.research.google.com/github/Himani954/Data-types-and-structure/blob/main/Regression_%26_Its_Evaluation_%7C_Assignment.ipynb\" target=\"_parent\"><img src=\"https://colab.research.google.com/assets/colab-badge.svg\" alt=\"Open In Colab\"/></a>"
      ]
    },
    {
      "cell_type": "markdown",
      "source": [
        "# **Question 1: What is Simple Linear Regression?**"
      ],
      "metadata": {
        "id": "vKNsCKfQbQ5a"
      }
    },
    {
      "cell_type": "markdown",
      "source": [
        "# **Answer 1:**\n",
        "Simple Linear Regression is a statistical technique that models the relationship between one dependent variable (target) and one independent variable (predictor) using a straight line. It helps in predicting the value of the dependent variable based on the given input.\n",
        "The formula is:\n",
        "\n",
        "𝑌\n",
        "=\n",
        "𝑎\n",
        "+\n",
        "𝑏\n",
        "𝑋\n",
        "Y=a+bX\n",
        "\n",
        "where:\n",
        "\n",
        "𝑌\n",
        "Y is the predicted value (dependent variable)\n",
        "\n",
        "𝑋\n",
        "X is the independent variable\n",
        "\n",
        "𝑎\n",
        "a is the intercept\n",
        "\n",
        "𝑏\n",
        "b is the slope of the line\n",
        "\n"
      ],
      "metadata": {
        "id": "vH2EfDwrbYbh"
      }
    },
    {
      "cell_type": "markdown",
      "source": [
        "# **Question 2: What are the key assumptions of Simple Linear Regression?**"
      ],
      "metadata": {
        "id": "Y4qgZbSbb1rh"
      }
    },
    {
      "cell_type": "markdown",
      "source": [
        "# **Answer2:**\n",
        "# The key assumptions of Simple Linear Regression are:\n",
        "\n",
        "Linearity – The relationship between X and Y is linear.\n",
        "\n",
        "Independence – Observations are independent of each other.\n",
        "\n",
        "Homoscedasticity – The variance of errors is constant across values of X.\n",
        "\n",
        "Normality – The residuals (errors) are normally distributed.\n",
        "\n",
        "No Multicollinearity – Since it's simple linear regression, only one independent variable is used, so multicollinearity is not an issue here."
      ],
      "metadata": {
        "id": "jNa6PYonb-9N"
      }
    },
    {
      "cell_type": "markdown",
      "source": [
        "## **Question 3: What is heteroscedasticity, and why is it important to address in regression models?**\n"
      ],
      "metadata": {
        "id": "qZXqMnYzcUlI"
      }
    },
    {
      "cell_type": "markdown",
      "source": [
        "# **Answer3:**\n",
        "Heteroscedasticity is a condition in regression analysis where the variance of the residuals (errors) is not constant across all levels of the independent variable. This violates one of the key assumptions of ordinary least squares (OLS) regression, which assumes homoscedasticity (constant variance of errors).\n",
        "\n",
        "When heteroscedasticity is present, the spread of the residuals increases or decreases with the independent variable, leading to inefficient and biased estimates of the regression coefficients.\n",
        "\n",
        "Importance of addressing heteroscedasticity:\n",
        "\n",
        "It leads to biased estimates of standard errors, which affects the reliability of confidence intervals and hypothesis tests.\n",
        "\n",
        "It reduces the efficiency of the regression model, making predictions less accurate.\n",
        "\n",
        "It can result in invalid conclusions due to distorted test statistics.\n",
        "\n",
        "Methods to detect heteroscedasticity:\n",
        "\n",
        "Visual inspection of residual plots.\n",
        "\n",
        "Breusch-Pagan test.\n",
        "\n",
        "White test.\n",
        "\n",
        "Methods to correct heteroscedasticity:\n",
        "\n",
        "Applying transformations to the dependent variable (e.g., log, square root).\n",
        "\n",
        "Using weighted least squares (WLS).\n",
        "\n",
        "Employing robust standard errors.\n",
        "\n"
      ],
      "metadata": {
        "id": "fsQMR0q7claB"
      }
    },
    {
      "cell_type": "markdown",
      "source": [
        "# **Question 4: What is Multiple Linear Regression?**"
      ],
      "metadata": {
        "id": "kr09-2dJc3CI"
      }
    },
    {
      "cell_type": "markdown",
      "source": [
        "# **Answer4:**\n",
        "Multiple Linear Regression (MLR) is a statistical technique used to model the relationship between one dependent variable and two or more independent variables. It extends simple linear regression by allowing for more than one predictor variable to influence the outcome.\n",
        "\n",
        "The general form of the multiple linear regression equation is:\n",
        "\n",
        "𝑌\n",
        "=\n",
        "𝑎\n",
        "+\n",
        "𝑏\n",
        "1\n",
        "𝑋\n",
        "1\n",
        "+\n",
        "𝑏\n",
        "2\n",
        "𝑋\n",
        "2\n",
        "+\n",
        "⋯\n",
        "+\n",
        "𝑏\n",
        "𝑛\n",
        "𝑋\n",
        "𝑛\n",
        "+\n",
        "𝜖\n",
        "Y=a+b\n",
        "1\n",
        "​\n",
        " X\n",
        "1\n",
        "​\n",
        " +b\n",
        "2\n",
        "​\n",
        " X\n",
        "2\n",
        "​\n",
        " +⋯+b\n",
        "n\n",
        "​\n",
        " X\n",
        "n\n",
        "​\n",
        " +ϵ\n",
        "\n",
        "Where:\n",
        "\n",
        "𝑌\n",
        "Y is the dependent variable (response).\n",
        "\n",
        "𝑎\n",
        "a is the intercept.\n",
        "\n",
        "𝑏\n",
        "1\n",
        ",\n",
        "𝑏\n",
        "2\n",
        ",\n",
        "…\n",
        ",\n",
        "𝑏\n",
        "𝑛\n",
        "b\n",
        "1\n",
        "​\n",
        " ,b\n",
        "2\n",
        "​\n",
        " ,…,b\n",
        "n\n",
        "​\n",
        "  are the coefficients of the independent variables\n",
        "𝑋\n",
        "1\n",
        ",\n",
        "𝑋\n",
        "2\n",
        ",\n",
        "…\n",
        ",\n",
        "𝑋\n",
        "𝑛\n",
        "X\n",
        "1\n",
        "​\n",
        " ,X\n",
        "2\n",
        "​\n",
        " ,…,X\n",
        "n\n",
        "​\n",
        " .\n",
        "\n",
        "𝜖\n",
        "ϵ is the error term.\n",
        "\n",
        "Key features of Multiple Linear Regression:\n",
        "\n",
        "It helps in understanding how several factors jointly affect the outcome.\n",
        "\n",
        "Each coefficient represents the change in the dependent variable for a one-unit change in the corresponding independent variable, holding all other variables constant.\n",
        "\n",
        "Applications:\n",
        "\n",
        "Forecasting sales based on multiple factors (e.g., price, advertising, season).\n",
        "\n",
        "Predicting a student’s academic performance based on study hours, attendance, and previous scores.\n",
        "\n",
        "Estimating real estate prices using factors like size, location, and number of bedrooms.\n",
        "\n",
        "Assumptions:\n",
        "\n",
        "Linearity between the dependent and independent variables.\n",
        "\n",
        "Independence of observations.\n",
        "\n",
        "Homoscedasticity (constant variance of residuals).\n",
        "\n",
        "Normal distribution of residuals.\n",
        "\n",
        "No multicollinearity among independent variables.\n",
        "\n"
      ],
      "metadata": {
        "id": "qOwnk8ZHc_4p"
      }
    },
    {
      "cell_type": "markdown",
      "source": [
        "\n",
        "# **Question 5: What is polynomial regression, and how does it differ from linear regression?**\n"
      ],
      "metadata": {
        "id": "9eV2bds7dZoc"
      }
    },
    {
      "cell_type": "markdown",
      "source": [
        "# **Ans5.**\n",
        "\n",
        "# **Polynomial Regression**\n",
        "Polynomial regression is a type of regression analysis that models the relationship between the independent variable(s) and the dependent variable using a polynomial equation. The polynomial equation can be of any degree, such as quadratic, cubic, or higher.\n",
        "\n",
        "Difference from Linear Regression\n",
        "The main difference between polynomial regression and linear regression is:\n",
        "\n",
        "- Relationship : Linear regression assumes a linear relationship between the independent variable(s) and the dependent variable, whereas polynomial regression allows for non-linear relationships by including polynomial terms.\n",
        "- Equation : Linear regression uses a linear equation (y = β0 + β1x + ε), whereas polynomial regression uses a polynomial equation (y = β0 + β1x + β2x^2 + … + βnx^n + ε).\n",
        "\n",
        "When to Use Polynomial Regression\n",
        "Polynomial regression is useful when:\n",
        "\n",
        "- Non-Linear Relationships : The relationship between the independent variable(s) and the dependent variable is non-linear.\n",
        "- Curvature : The relationship exhibits curvature, such as a U-shaped or inverted U-shaped relationship.\n",
        "\n",
        "Advantages and Disadvantages\n",
        "The advantages of polynomial regression include:\n",
        "\n",
        "- Flexibility : Polynomial regression can model complex non-linear relationships.\n",
        "- Goodness of Fit : Polynomial regression can provide a better fit to the data than linear regression.\n",
        "\n",
        "The disadvantages of polynomial regression include:\n",
        "\n",
        "- Overfitting : Polynomial regression can result in overfitting, especially when the degree of the polynomial is high.\n",
        "- Interpretability : Polynomial regression models can be more difficult to interpret than linear regression models.\n",
        "\n",
        "By understanding the differences between polynomial regression and linear regression, researchers can choose the most appropriate type of regression analysis for their research question.\n"
      ],
      "metadata": {
        "id": "tgCMCOFleyYv"
      }
    },
    {
      "cell_type": "markdown",
      "source": [
        "# **Question 6: Implement a Python program to fit a Simple Linear Regression model to the following sample data:**\n",
        "\n",
        "# **● X = [1, 2, 3, 4, 5]**\n",
        "\n",
        "# **● Y = [2.1, 4.3, 6.1, 7.9, 10.2]**\n",
        "\n"
      ],
      "metadata": {
        "id": "QSj1qPSogzP7"
      }
    },
    {
      "cell_type": "code",
      "source": [
        "import numpy as np\n",
        "import matplotlib.pyplot as plt\n",
        "from sklearn.linear_model import LinearRegression\n",
        "\n",
        "# Sample data\n",
        "X = np.array([[1], [2], [3], [4], [5]])\n",
        "Y = np.array([2.1, 4.3, 6.1, 7.9, 10.2])\n",
        "\n",
        "# Create and fit the model\n",
        "model = LinearRegression()\n",
        "model.fit(X, Y)\n",
        "\n",
        "# Predict Y values\n",
        "Y_pred = model.predict(X)\n",
        "\n",
        "# Print model parameters\n",
        "print(\"Intercept (a):\", model.intercept_)\n",
        "print(\"Slope (b):\", model.coef_[0])\n",
        "\n",
        "# Plot the data points and regression line\n",
        "plt.scatter(X, Y, color='blue', label='Actual Data')\n",
        "plt.plot(X, Y_pred, color='red', label='Regression Line')\n",
        "plt.title(\"Simple Linear Regression\")\n",
        "plt.xlabel(\"X\")\n",
        "plt.ylabel(\"Y\")\n",
        "plt.legend()\n",
        "plt.grid(True)\n",
        "plt.show()"
      ],
      "metadata": {
        "colab": {
          "base_uri": "https://localhost:8080/",
          "height": 507
        },
        "id": "6qp_fOO6hsuI",
        "outputId": "2b032115-6f7c-4e8b-e98f-9ca3a9270379"
      },
      "execution_count": null,
      "outputs": [
        {
          "output_type": "stream",
          "name": "stdout",
          "text": [
            "Intercept (a): 0.17999999999999794\n",
            "Slope (b): 1.9800000000000004\n"
          ]
        },
        {
          "output_type": "display_data",
          "data": {
            "text/plain": [
              "<Figure size 640x480 with 1 Axes>"
            ],
            "image/png": "[encoded data removed]"
          },
          "metadata": {}
        }
      ]
    },
    {
      "cell_type": "markdown",
      "source": [
        "# **Question 7: Fit a Multiple Linear Regression model on this sample data:**\n",
        "\n",
        "# **● Area = [1200, 1500, 1800, 2000]**\n",
        "\n",
        "# **● Rooms = [2, 3, 3, 4]**\n",
        "\n",
        "# **● Price = [250000, 300000, 320000, 370000]**\n"
      ],
      "metadata": {
        "id": "FJxBUUkxh2IJ"
      }
    },
    {
      "cell_type": "code",
      "source": [
        "import numpy as np\n",
        "from sklearn.linear_model import LinearRegression\n",
        "\n",
        "# Sample data\n",
        "area = [1200, 1500, 1800, 2000]\n",
        "rooms = [2, 3, 3, 4]\n",
        "price = [250000, 300000, 320000, 370000]\n",
        "\n",
        "# Combine area and rooms into a 2D feature matrix\n",
        "X = np.array(list(zip(area, rooms)))  # shape (4,2)\n",
        "y = np.array(price)                   # target variable\n",
        "\n",
        "# Create and train the model\n",
        "model = LinearRegression()\n",
        "model.fit(X, y)\n",
        "\n",
        "# Output the coefficients and intercept\n",
        "print(\"Intercept:\", model.intercept_)\n",
        "print(\"Coefficients:\", model.coef_)\n",
        "\n",
        "# Predict prices based on the trained model\n",
        "predicted_price = model.predict(X)\n",
        "print(\"Predicted Prices:\", predicted_price)"
      ],
      "metadata": {
        "colab": {
          "base_uri": "https://localhost:8080/"
        },
        "id": "CiItgYvxifv2",
        "outputId": "a2f750aa-7862-471c-bdeb-104874344df2"
      },
      "execution_count": null,
      "outputs": [
        {
          "output_type": "stream",
          "name": "stdout",
          "text": [
            "Intercept: 103157.89473684214\n",
            "Coefficients: [   63.15789474 34736.84210526]\n",
            "Predicted Prices: [248421.05263158 302105.26315789 321052.63157895 368421.05263158]\n"
          ]
        }
      ]
    },
    {
      "cell_type": "markdown",
      "source": [
        "# **Question 8: Implement polynomial regression on the following data:**\n",
        "\n",
        "# **● X = [1, 2, 3, 4, 5]**\n",
        "\n",
        "# **● Y = [2.2, 4.8, 7.5, 11.2, 14.7]**\n"
      ],
      "metadata": {
        "id": "RGEClHfZilDq"
      }
    },
    {
      "cell_type": "code",
      "source": [
        "import numpy as np\n",
        "import matplotlib.pyplot as plt\n",
        "from sklearn.preprocessing import PolynomialFeatures\n",
        "from sklearn.linear_model import LinearRegression\n",
        "\n",
        "# Input data\n",
        "X = np.array([1, 2, 3, 4, 5]).reshape(-1, 1)\n",
        "Y = np.array([2.2, 4.8, 7.5, 11.2, 14.7])\n",
        "\n",
        "# Transform input data to include polynomial features (degree 2)\n",
        "poly = PolynomialFeatures(degree=2)\n",
        "X_poly = poly.fit_transform(X)\n",
        "\n",
        "# Fit the regression model\n",
        "model = LinearRegression()\n",
        "model.fit(X_poly, Y)\n",
        "\n",
        "# Predict values\n",
        "Y_pred = model.predict(X_poly)\n",
        "\n",
        "# Print model coefficients\n",
        "print(\"Intercept:\", model.intercept_)\n",
        "print(\"Coefficients:\", model.coef_)\n",
        "\n",
        "# Plot the data and the polynomial regression curve\n",
        "plt.scatter(X, Y, color='blue', label='Actual Data')\n",
        "plt.plot(X, Y_pred, color='red', label='Polynomial Curve (Degree 2)')\n",
        "plt.title(\"Polynomial Regression (Degree 2)\")\n",
        "plt.xlabel(\"X\")\n",
        "plt.ylabel(\"Y\")\n",
        "plt.legend()\n",
        "plt.grid(True)\n",
        "plt.show()"
      ],
      "metadata": {
        "colab": {
          "base_uri": "https://localhost:8080/",
          "height": 507
        },
        "id": "v-m01fSQjHJJ",
        "outputId": "bee0610b-8dcc-4654-e22f-84111bc59e1b"
      },
      "execution_count": null,
      "outputs": [
        {
          "output_type": "stream",
          "name": "stdout",
          "text": [
            "Intercept: 0.06000000000000938\n",
            "Coefficients: [0.   1.94 0.2 ]\n"
          ]
        },
        {
          "output_type": "display_data",
          "data": {
            "text/plain": [
              "<Figure size 640x480 with 1 Axes>"
            ],
            "image/png": "[encoded data removed]"
          },
          "metadata": {}
        }
      ]
    },
    {
      "cell_type": "markdown",
      "source": [
        "# **Question 9: Create a residuals plot for a regression model trained on this data:**\n",
        "# **● X = [10, 20, 30, 40, 50]**\n",
        "# **● Y = [15, 35, 40, 50, 65]**\n"
      ],
      "metadata": {
        "id": "IYfGpjiQjNqS"
      }
    },
    {
      "cell_type": "code",
      "source": [
        "import numpy as np\n",
        "import matplotlib.pyplot as plt\n",
        "from sklearn.linear_model import LinearRegression\n",
        "\n",
        "# Input data\n",
        "X = np.array([10, 20, 30, 40, 50]).reshape(-1, 1)\n",
        "Y = np.array([15, 35, 40, 50, 65])\n",
        "\n",
        "# Fit the linear regression model\n",
        "model = LinearRegression()\n",
        "model.fit(X, Y)\n",
        "\n",
        "# Predict values\n",
        "Y_pred = model.predict(X)\n",
        "\n",
        "# Calculate residuals\n",
        "residuals = Y - Y_pred\n",
        "\n",
        "# Plot residuals\n",
        "plt.scatter(X, residuals, color='purple')\n",
        "plt.axhline(y=0, color='black', linestyle='--')\n",
        "plt.title(\"Residuals Plot\")\n",
        "plt.xlabel(\"X\")\n",
        "plt.ylabel(\"Residuals\")\n",
        "plt.grid(True)\n",
        "plt.show()"
      ],
      "metadata": {
        "colab": {
          "base_uri": "https://localhost:8080/",
          "height": 472
        },
        "id": "47xwsi_kjg0I",
        "outputId": "7b0e47a1-27f8-4faf-aa83-b2cfd94322d3"
      },
      "execution_count": null,
      "outputs": [
        {
          "output_type": "display_data",
          "data": {
            "text/plain": [
              "<Figure size 640x480 with 1 Axes>"
            ],
            "image/png": "[encoded data removed]"
          },
          "metadata": {}
        }
      ]
    },
    {
      "cell_type": "markdown",
      "source": [
        "# **Question 10: Imagine you are a data scientist working for a real estate company. You need to predict house prices using features like area, number of rooms, and location. However, you detect heteroscedasticity and multicollinearity in your regression model. Explain the steps you would take to address these issues and ensure a robust model.**\n",
        "\n",
        "\n",
        "\n"
      ],
      "metadata": {
        "id": "GkbJtgPnkGUy"
      }
    },
    {
      "cell_type": "markdown",
      "source": [
        "\n",
        "\n",
        "# **Answer10:**\n",
        "\n",
        "As a data scientist developing a regression model to predict house prices, detecting heteroscedasticity and multicollinearity can negatively affect the accuracy and reliability of the model. To ensure robustness, the following steps would be taken:\n",
        "\n",
        "1. Addressing Heteroscedasticity:\n",
        "\n",
        "Heteroscedasticity refers to non-constant variance of residuals, which violates a key assumption of linear regression.\n",
        "\n",
        "Steps to handle heteroscedasticity:\n",
        "\n",
        "Apply a transformation to the dependent variable (e.g., log, square root) to stabilize the variance.\n",
        "\n",
        "Use Weighted Least Squares (WLS) instead of Ordinary Least Squares to give less weight to high-variance observations.\n",
        "\n",
        "Add missing variables or interaction terms, if applicable, to capture patterns in variance.\n",
        "\n",
        "Use robust standard errors to get reliable confidence intervals and p-values despite heteroscedasticity.\n",
        "\n",
        "2. Addressing Multicollinearity:\n",
        "\n",
        "Multicollinearity occurs when two or more independent variables are highly correlated, leading to unreliable coefficient estimates.\n",
        "\n",
        "Steps to handle multicollinearity:\n",
        "\n",
        "Calculate the Variance Inflation Factor (VIF) to identify which variables are causing multicollinearity.\n",
        "\n",
        "Remove or combine correlated predictors. For example, if both area and number of rooms are strongly correlated, consider using only one or creating a new feature.\n",
        "\n",
        "Apply Principal Component Analysis (PCA) or other dimensionality reduction techniques to combine correlated variables into uncorrelated components.\n",
        "\n",
        "Use regularization techniques such as Ridge Regression or Lasso Regression to penalize and reduce coefficient values, which helps manage multicollinearity.\n",
        "\n",
        "Conclusion:\n",
        "\n",
        "By transforming the target variable, using robust modeling techniques, and reducing feature correlation, the model can be made more accurate, interpretable, and reliable for predicting house prices. These steps ensure that the final regression model adheres to assumptions and generalizes well to unseen data.\n",
        "\n"
      ],
      "metadata": {
        "id": "F-xJogIqkbhJ"
      }
    }
  ]
}