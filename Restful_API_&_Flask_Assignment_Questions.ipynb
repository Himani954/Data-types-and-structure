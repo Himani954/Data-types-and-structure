{
  "nbformat": 4,
  "nbformat_minor": 0,
  "metadata": {
    "colab": {
      "provenance": [],
      "authorship_tag": "ABX9TyM+GaT6ITIQ46RCv63VV1Nl",
      "include_colab_link": true
    },
    "kernelspec": {
      "name": "python3",
      "display_name": "Python 3"
    },
    "language_info": {
      "name": "python"
    }
  },
  "cells": [
    {
      "cell_type": "markdown",
      "metadata": {
        "id": "view-in-github",
        "colab_type": "text"
      },
      "source": [
        "<a href=\"https://colab.research.google.com/github/Himani954/Data-types-and-structure/blob/main/Restful_API_%26_Flask_Assignment_Questions.ipynb\" target=\"_parent\"><img src=\"https://colab.research.google.com/assets/colab-badge.svg\" alt=\"Open In Colab\"/></a>"
      ]
    },
    {
      "cell_type": "markdown",
      "source": [
        "# **Q1. What is a RESTful API?**"
      ],
      "metadata": {
        "id": "Xau1o9OKS7Fm"
      }
    },
    {
      "cell_type": "markdown",
      "source": [
        "# **Ans1.**\n",
        "A RESTful API (Application Programming Interface) is an architectural style for designing networked applications. It's based on the idea of resources, which are identified by URIs, and can be manipulated using a fixed set of operations.\n",
        "\n",
        "Key Characteristics\n",
        "\n",
        "1. Resource-Based : Everything in REST is a resource (e.g., users, products, orders).\n",
        "2. Client-Server Architecture : The client and server are separate, with the client making requests to the server to access or modify resources.\n",
        "3. Stateless : The server doesn't maintain any information about the client state between requests.\n",
        "4. Cacheable : Responses from the server can be cached by the client to reduce the number of requests.\n",
        "5. Uniform Interface : A uniform interface is used to communicate between client and server, which includes HTTP methods (GET, POST, PUT, DELETE), URI syntax, and standard HTTP status codes.\n",
        "\n",
        "HTTP Methods\n",
        "\n",
        "1. GET : Retrieve a resource\n",
        "2. POST : Create a new resource\n",
        "3. PUT : Update an existing resource\n",
        "4. DELETE : Delete a resource\n",
        "\n",
        "Benefits\n",
        "\n",
        "1. Scalability : RESTful APIs are designed to scale horizontally, making it easy to handle increased traffic.\n",
        "2. Flexibility : RESTful APIs can be used with various programming languages and frameworks.\n",
        "3. Easy to Implement : RESTful APIs are relatively simple to implement, especially when using existing HTTP infrastructure.\n",
        "\n",
        "Common Use Cases\n",
        "\n",
        "1. Web Services : RESTful APIs are widely used for web services, such as social media platforms, online banking, and e-commerce websites.\n",
        "2. Microservices Architecture : RESTful APIs are often used in microservices architecture to enable communication between different services.\n",
        "3. Mobile App Development : RESTful APIs are used to provide data to mobile apps, enabling them to interact with backend services.\n",
        "\n",
        "Example\n",
        "\n",
        "A simple example of a RESTful API would be a user management system that allows clients to:\n",
        "\n",
        "- Retrieve a list of users (GET /users)\n",
        "- Create a new user (POST /users)\n",
        "- Update an existing user (PUT /users/{userId})\n",
        "- Delete a user (DELETE /users/{userId})\n",
        "By following the principles of REST, developers can create scalable, flexible, and maintainable APIs that are easy to use and integrate with various applications.\n",
        "\n"
      ],
      "metadata": {
        "id": "IyLUdtNDTk-N"
      }
    },
    {
      "cell_type": "markdown",
      "source": [
        "# **Q2. Explain the concept of API specification?**"
      ],
      "metadata": {
        "id": "wb_IrlpkVVKS"
      }
    },
    {
      "cell_type": "markdown",
      "source": [
        "# **Ans2.**\n",
        "# API Specification\n",
        "\n",
        "An API specification is a detailed description of an API's functionality, structure, and usage. It outlines the API's endpoints, methods, parameters, response formats, and other essential details. The specification serves as a contract between the API provider and consumers, ensuring that both parties understand how to interact with the API.\n",
        "\n",
        "Key Components\n",
        "\n",
        "1. Endpoints : URLs that define the API's resources and operations.\n",
        "2. Methods : HTTP methods (e.g., GET, POST, PUT, DELETE) that can be used with each endpoint.\n",
        "3. Parameters : Input parameters, such as query parameters, path parameters, or request body parameters.\n",
        "4. Response Formats : The format of the response data, such as JSON or XML.\n",
        "5. Error Handling : Description of error codes, messages, and formats.\n",
        "\n",
        "Benefits\n",
        "\n",
        "1. Clear Documentation : API specifications provide clear and concise documentation, making it easier for developers to understand and use the API.\n",
        "2. Consistency : API specifications promote consistency in API design, ensuring that APIs are intuitive and easy to use.\n",
        "3. Interoperability : API specifications enable interoperability between different systems and technologies.\n",
        "4. Testing and Validation : API specifications can be used to generate test cases and validate API implementations.\n",
        "\n",
        "API Specification Formats\n",
        "\n",
        "1. OpenAPI (Swagger) : A widely-used format for describing RESTful APIs.\n",
        "2. RAML (RESTful API Modeling Language)  : Another popular format for describing RESTful APIs.\n",
        "3. API Blueprint : A format for describing APIs using a simple, Markdown-like syntax.\n",
        "\n",
        "Best Practices\n",
        "\n",
        "1. Keep it Up-to-Date : Ensure that the API specification is updated whenever changes are made to the API.\n",
        "2. Use Standardized Formats : Use standardized formats, such as OpenAPI or RAML, to describe your API.\n",
        "3. Provide Examples : Include examples of API requests and responses to illustrate usage.\n",
        "4. Document Error Handling : Clearly document error handling mechanisms, including error codes and messages.\n",
        "\n",
        "By creating a well-defined API specification, developers can ensure that their API is easy to use, understand, and integrate with, ultimately improving the overall developer experience.\n"
      ],
      "metadata": {
        "id": "6V1Xnmt5VeZe"
      }
    },
    {
      "cell_type": "markdown",
      "source": [
        "# **Q3.What is Flask, and why is it popular for building APIs?**"
      ],
      "metadata": {
        "id": "2ow-G_cbXpRf"
      }
    },
    {
      "cell_type": "markdown",
      "source": [
        "# **Ans3.**\n",
        "# What is Flask\n",
        "\n",
        "Flask is a micro web framework for Python that allows developers to build web applications and APIs quickly and efficiently. It's designed to be lightweight, flexible, and modular.\n",
        "\n",
        "# Why is Flask Popular for Building APIs\n",
        "\n",
        "1. Easy to Learn : Flask is easy to learn, especially for developers already familiar with Python.\n",
        "2. Fast Development : Flask allows for fast development, making it ideal for prototyping and building small to medium-sized applications.\n",
        "3. Flexible and Modular : Flask's modular design makes it easy to extend and customize.\n",
        "4. Large Community : Flask has a large and active community, providing extensive documentation and support.\n",
        "\n",
        "Flask is well-suited for building RESTful APIs, prototyping, and small to medium-sized applications due to its lightweight and flexible nature."
      ],
      "metadata": {
        "id": "zWz9qT4jX85z"
      }
    },
    {
      "cell_type": "markdown",
      "source": [
        "# **Q4. What is routing in Flask?**"
      ],
      "metadata": {
        "id": "X-FwlCvRZNYD"
      }
    },
    {
      "cell_type": "markdown",
      "source": [
        "# **Ans4.**\n",
        "# Routing in Flask\n",
        "\n",
        "Routing in Flask is the process of mapping URLs to specific application endpoints. It allows developers to define routes for their application, which are then used to handle HTTP requests.\n",
        "\n",
        "Key Aspects\n",
        "\n",
        "1. URL Mapping : Flask routes map URLs to specific functions or methods in the application.\n",
        "2. HTTP Methods : Routes can be defined for specific HTTP methods, such as GET, POST, PUT, and DELETE.\n",
        "3. Route Parameters : Routes can include parameters, which are passed to the associated function or method.\n",
        "\n",
        "How Routing Works\n",
        "\n",
        "1. Defining Routes : Developers define routes using the @app.route() decorator, specifying the URL and HTTP methods.\n",
        "2. Handling Requests : When a request is made to a route, Flask calls the associated function or method to handle the request.\n",
        "3. Returning Responses : The function or method returns a response, which is then sent back to the client.\n",
        "\n",
        "Benefits\n",
        "\n",
        "1. Clean URLs : Routing allows for clean and readable URLs, making it easier for users to navigate the application.\n",
        "2. Organized Code : Routing helps keep code organized by mapping URLs to specific functions or methods.\n",
        "3. Flexibility : Routing provides flexibility in handling different HTTP methods and route parameters.\n",
        "\n",
        "By using routing in Flask, developers can create robust and scalable web applications with clean and readable URLs."
      ],
      "metadata": {
        "id": "gKvz7ixTZV4I"
      }
    },
    {
      "cell_type": "markdown",
      "source": [
        "# **Q5. How do you create a simple Flask application?**"
      ],
      "metadata": {
        "id": "1hKkSIAwagyJ"
      }
    },
    {
      "cell_type": "markdown",
      "source": [
        "# **Ans5.**\n",
        "# Creating a Simple Flask Application\n",
        "\n",
        "To create a simple Flask application, follow these steps:\n",
        "\n",
        "1. Install Flask : First, install Flask using pip: pip install flask\n",
        "2. Create a New File : Create a new Python file, e.g., app.py\n",
        "3. Import Flask : Import Flask in the file: from flask import Flask\n",
        "4. Create a Flask App : Create a new Flask app : app = Flask (__ name__)\n",
        "5. Define a Route : Define a route for the app: @app.route( ' / ' )\n",
        "6. Define a Function : Define a function to handle the route: def home( ): return Hello, World!\n",
        "7. Run the App : Run the app: if __ name__ == __ main__ : app.run( )"
      ],
      "metadata": {
        "id": "kOXxxA1Sa1hj"
      }
    },
    {
      "cell_type": "code",
      "source": [
        "from flask import Flask\n",
        "\n",
        "app = Flask(__name__)\n",
        "\n",
        "@app.route('/')\n",
        "def home():\n",
        "    return 'Hello, World!'\n",
        "\n",
        "if __name__ == '__main__':\n",
        "    app.run()"
      ],
      "metadata": {
        "id": "NkNRArxTc1b-"
      },
      "execution_count": null,
      "outputs": []
    },
    {
      "cell_type": "markdown",
      "source": [
        "Run the Application\n",
        "\n",
        "1. Save the file: Save the app.py file.\n",
        "2. Run the app: Run the app using python app.py .\n",
        "3. Open a Browser: Open a browser and navigate to http://localhost:5000/ to see the \"Hello, World!\" message.\n",
        "\n",
        "This creates a simple Flask application with a single route."
      ],
      "metadata": {
        "id": "i3CSnxiUdBbc"
      }
    },
    {
      "cell_type": "markdown",
      "source": [
        "# **Q6.What are HTTP methods used in RESTful APIs?**"
      ],
      "metadata": {
        "id": "i2BRl7mldJ09"
      }
    },
    {
      "cell_type": "markdown",
      "source": [
        "# **Ans6.**\n",
        "# HTTP Methods Used in RESTful APIs\n",
        "\n",
        "The main HTTP methods used in RESTful APIs are:\n",
        "\n",
        "1. GET : Retrieve a resource\n",
        "2. POST : Create a new resource\n",
        "3. PUT : Update an existing resource\n",
        "4. DELETE : Delete a resource\n",
        "\n",
        "These methods allow for basic CRUD (Create, Read, Update, Delete) operations on resources. Some APIs may also use additional methods like:\n",
        "\n",
        "- PATCH : Partially update an existing resource\n",
        "\n",
        "Each method has its own specific use case and is used to interact with resources in a RESTful API."
      ],
      "metadata": {
        "id": "pFCD6VA_dqU1"
      }
    },
    {
      "cell_type": "markdown",
      "source": [
        "# **Q7. What is the purpose of the @app.route() decorator in Flask?**"
      ],
      "metadata": {
        "id": "9P5a9k4AeRu0"
      }
    },
    {
      "cell_type": "markdown",
      "source": [
        "# **Ans7.**\n",
        "# Purpose of the @app.route() Decorator\n",
        "\n",
        "The @app.route() decorator in Flask is used to associate a specific URL with a particular function in the application. It maps URLs to application endpoints, allowing the application to handle HTTP requests to those URLs.\n",
        "\n",
        "Key Functions\n",
        "\n",
        "1. URL Mapping : Maps URLs to specific functions or methods in the application.\n",
        "2. HTTP Method Handling : Allows specification of HTTP methods (e.g., GET, POST, PUT, DELETE) for each route.\n",
        "3. Route Parameters : Supports route parameters, enabling dynamic URL handling.\n",
        "\n",
        "By using the @app.route() decorator, developers can define routes for their Flask application, making it possible to handle different URLs and HTTP requests."
      ],
      "metadata": {
        "id": "AQ1-sWorecfr"
      }
    },
    {
      "cell_type": "markdown",
      "source": [
        "# **Q8.What is the difference between GET and POST HTTP methods?**"
      ],
      "metadata": {
        "id": "iaJ_ZvZSfSmF"
      }
    },
    {
      "cell_type": "markdown",
      "source": [
        "# **Ans8.**\n",
        "# Difference Between GET and POST HTTP Methods\n",
        "\n",
        "The main differences between GET and POST HTTP methods are:\n",
        "\n",
        "GET\n",
        "\n",
        "1. Retrieve Data : Used to retrieve data from a server.\n",
        "2. Data in URL : Data is sent in the URL as query parameters.\n",
        "3. Cached : Responses can be cached by browsers.\n",
        "4. Idempotent : Multiple identical requests have the same effect as a single request.\n",
        "\n",
        "POST\n",
        "\n",
        "1. Send Data : Used to send data to a server to create or update a resource.\n",
        "2. Data in Body : Data is sent in the request body.\n",
        "3. Not Cached : Responses are not cached by browsers.\n",
        "4. Non-Idempotent : Multiple identical requests can have different effects.\n",
        "\n",
        "When to use each:\n",
        "\n",
        "- Use GET for retrieving data, such as fetching user information or searching.\n",
        "- Use POST for sending data, such as creating a new user account or submitting a form."
      ],
      "metadata": {
        "id": "rx1XZ0UFfol9"
      }
    },
    {
      "cell_type": "markdown",
      "source": [
        "# **Q9. How do you handle errors in Flask APIs?**"
      ],
      "metadata": {
        "id": "A2OK3VRbg8AB"
      }
    },
    {
      "cell_type": "markdown",
      "source": [
        "# **Ans9.**\n",
        "# Handling Errors in Flask APIs\n",
        "\n",
        "Flask provides several ways to handle errors in APIs:\n",
        "\n",
        "1. Error Handlers : Use the @app.errorhandler() decorator to define custom error handlers for specific error codes.\n",
        "2. Try-Except Blocks : Use try-except blocks to catch and handle exceptions within route functions.\n",
        "3. Abort Function : Use the abort() function to raise an HTTP exception with a specific status code.\n",
        "\n",
        "Best Practices\n",
        "\n",
        "1. Return Meaningful Error Messages : Return error messages that provide context and help clients understand the issue.\n",
        "2. Use Standard HTTP Status Codes : Use standard HTTP status codes to indicate the type of error.\n",
        "3. Log Errors : Log errors to track issues and improve debugging.\n",
        "\n",
        "By implementing error handling mechanisms, developers can create more robust and user-friendly Flask APIs."
      ],
      "metadata": {
        "id": "9b82MFo3hI9g"
      }
    },
    {
      "cell_type": "markdown",
      "source": [
        "# **Q10.How do you connect Flask to a SQL database?**"
      ],
      "metadata": {
        "id": "jDxYPZCYjAXA"
      }
    },
    {
      "cell_type": "markdown",
      "source": [
        "# Ans10.\n",
        "# Connecting Flask to a SQL Database\n",
        "\n",
        "To connect Flask to a SQL database, you can use an ORM (Object-Relational Mapping) tool or a database driver. Some popular options include:\n",
        "\n",
        "1. Flask-SQLAlchemy : An ORM tool that provides a high-level interface for interacting with databases.\n",
        "2. Flask-MySQLdb : A database driver for MySQL databases.\n",
        "3. psycopg2 : A database driver for PostgreSQL databases.\n",
        "\n",
        "Steps to Connect\n",
        "\n",
        "1. Install the Library : Install the chosen library using pip.\n",
        "2. Configure the Database URI : Configure the database URI in the Flask application.\n",
        "3. Create Models : Define database models using the ORM tool or execute raw SQL queries using the database driver.\n",
        "4. Interact with the Database : Use the ORM tool or database driver to interact with the database.\n",
        "\n",
        "By connecting Flask to a SQL database, developers can build robust and data-driven web applications.\n"
      ],
      "metadata": {
        "id": "-LGKmB13jRS_"
      }
    },
    {
      "cell_type": "markdown",
      "source": [
        "# **Q11. What is the role of Flask-SQLAlchemy?**"
      ],
      "metadata": {
        "id": "YQzBHYPLj7bg"
      }
    },
    {
      "cell_type": "markdown",
      "source": [
        "# **Ans11.**\n",
        "# Flask-SQLAlchemy\n",
        "\n",
        "Flask-SQLAlchemy is an extension for Flask that adds support for SQLAlchemy, a popular Object-Relational Mapping (ORM) tool for Python. It simplifies database interactions by providing a high-level interface for working with databases.\n",
        "\n",
        "Key Roles\n",
        "\n",
        "1. Database Abstraction : Provides a layer of abstraction between the application code and the database, making it easier to switch between different database systems.\n",
        "2. ORM Functionality : Allows developers to define database models as Python classes, making it easier to interact with the database using Python code.\n",
        "3. Querying and CRUD Operations : Supports querying and performing CRUD (Create, Read, Update, Delete) operations on database models.\n",
        "\n",
        "Benefits\n",
        "\n",
        "1. Simplified Database Interactions : Simplifies database interactions by providing a high-level interface.\n",
        "2. Improved Productivity : Improves productivity by reducing the amount of boilerplate code required for database interactions.\n",
        "3. Database Portability : Provides database portability, making it easier to switch between different database systems.\n",
        "\n",
        "By using Flask-SQLAlchemy, developers can build robust and scalable web applications with a focus on Python code rather than raw SQL queries."
      ],
      "metadata": {
        "id": "mZGVj0AMxIj6"
      }
    },
    {
      "cell_type": "markdown",
      "source": [
        "# **Q12. What are Flask blueprints, and how are they useful?**"
      ],
      "metadata": {
        "id": "RdtbvqSkyNUp"
      }
    },
    {
      "cell_type": "markdown",
      "source": [
        "# **Ans12.**\n",
        "# Flask Blueprints\n",
        "\n",
        "Flask Blueprints are a way to organize and structure Flask applications into smaller, reusable components. They provide a means to group related routes, templates, and other application functionality into a single unit.\n",
        "\n",
        "Key Benefits\n",
        "\n",
        "1. Modularity : Blueprints promote modularity by allowing developers to break down large applications into smaller, more manageable pieces.\n",
        "2. Reusability : Blueprints can be reused across multiple applications, reducing code duplication and improving maintainability.\n",
        "3. Organization : Blueprints help organize application code by grouping related functionality together.\n",
        "\n",
        "Use Cases\n",
        "\n",
        "1. Large Applications : Blueprints are particularly useful for large applications with multiple features and routes.\n",
        "2. Reusable Components : Blueprints can be used to create reusable components, such as authentication or API modules.\n",
        "3. Team Development : Blueprints can help teams work on different parts of an application independently.\n",
        "\n",
        "By using Flask Blueprints, developers can build more maintainable, scalable, and organized applications."
      ],
      "metadata": {
        "id": "rph_fIcDyWf4"
      }
    },
    {
      "cell_type": "markdown",
      "source": [
        "# **Q13.What is the purpose of Flask's request object?**"
      ],
      "metadata": {
        "id": "AIU77w7_zIIZ"
      }
    },
    {
      "cell_type": "markdown",
      "source": [
        "# **Ans13.**\n",
        "# Flask's Request Object\n",
        "\n",
        "The request object in Flask provides access to the HTTP request data sent by the client. Its purpose is to allow developers to:\n",
        "\n",
        "1. Access Request Data : Retrieve data from the request, such as form data, query parameters, and headers.\n",
        "2. Handle Different HTTP Methods : Handle different HTTP methods, such as GET, POST, PUT, and DELETE.\n",
        "3. Get Request Metadata : Access metadata about the request, such as the URL, method, and client IP address.\n",
        "\n",
        "Common Use Cases\n",
        "\n",
        "1. Form Data Handling : Access form data sent in the request body.\n",
        "2. Query Parameter Handling : Access query parameters sent in the URL.\n",
        "3. Header Access : Access headers sent in the request.\n",
        "\n",
        "By using the request object, developers can handle HTTP requests and interact with client data in Flask applications.\n"
      ],
      "metadata": {
        "id": "rpwTn_fuzSeG"
      }
    },
    {
      "cell_type": "markdown",
      "source": [
        "# **Q14. How do you create a RESTful API endpoint using Flask?**"
      ],
      "metadata": {
        "id": "kH1m8eyy0HF4"
      }
    },
    {
      "cell_type": "markdown",
      "source": [
        "# **Ans14.**\n",
        "# Creating a RESTful API Endpoint with Flask\n",
        "\n",
        "To create a RESTful API endpoint with Flask, follow these steps:\n",
        "\n",
        "1. Define a Route : Use the @app.route() decorator to define a route for the API endpoint.\n",
        "2. Specify the HTTP Method : Specify the HTTP method(s) that the endpoint will handle (e.g., GET, POST, PUT, DELETE).\n",
        "3. Handle Request Data : Use the request object to access request data, such as JSON payloads or query parameters.\n",
        "4. Return a Response : Return a response to the client, typically in JSON format.\n",
        "\n",
        "Example"
      ],
      "metadata": {
        "id": "cco9tj6J0SiK"
      }
    },
    {
      "cell_type": "code",
      "source": [
        "from flask import Flask, jsonify, request\n",
        "\n",
        "app = Flask(__name__)\n",
        "\n",
        "# Sample in-memory data store\n",
        "data = {\"1\": {\"name\": \"John\", \"age\": 30}}\n",
        "\n",
        "# GET endpoint\n",
        "@app.route('/users/<user_id>', methods=['GET'])\n",
        "def get_user(user_id):\n",
        "    if user_id in data:\n",
        "        return jsonify(data[user_id])\n",
        "    else:\n",
        "        return jsonify({\"error\": \"User not found\"}), 404\n",
        "\n",
        "# POST endpoint\n",
        "@app.route('/users', methods=['POST'])\n",
        "def create_user():\n",
        "    new_user = request.get_json()\n",
        "    data[len(data) + 1] = new_user\n",
        "    return jsonify(new_user), 201\n",
        "\n",
        "if __name__ == '__main__':\n",
        "    app.run(debug=True)"
      ],
      "metadata": {
        "id": "5WrVsCBy1Lcn"
      },
      "execution_count": null,
      "outputs": []
    },
    {
      "cell_type": "markdown",
      "source": [
        "# **Q15. What is the purpose of Flask's jsonify() function?**"
      ],
      "metadata": {
        "id": "HKj1YxIM1g51"
      }
    },
    {
      "cell_type": "markdown",
      "source": [
        "# **Ans15.**\n",
        "# Flask's jsonify() Function\n",
        "\n",
        "The jsonify() function in Flask is used to generate a JSON response. Its purpose is to:\n",
        "\n",
        "1. Convert Data to JSON : Convert Python data structures, such as dictionaries and lists, to JSON format.\n",
        "2. Set Content-Type Header : Set the Content-Type header of the response to application/json, indicating that the response body contains JSON data.\n",
        "\n",
        "Benefits\n",
        "\n",
        "1. Easy JSON Response Creation : Simplifies the process of creating JSON responses by automatically converting data to JSON and setting the correct content type.\n",
        "2. Consistent JSON Responses : Ensures consistent JSON responses throughout the application.\n",
        "\n",
        "By using jsonify(), developers can easily create JSON responses in Flask applications, making it suitable for building RESTful APIs."
      ],
      "metadata": {
        "id": "Iiov0FWg1vKm"
      }
    },
    {
      "cell_type": "markdown",
      "source": [
        "# **Q16. Explain Flask’s url_for() function?**"
      ],
      "metadata": {
        "id": "OHQFblGn2gbp"
      }
    },
    {
      "cell_type": "markdown",
      "source": [
        "# **Ans16.**\n",
        "# Flask's url_for() Function\n",
        "\n",
        "The url_for() function in Flask is used to generate URLs for routes in an application. Its purpose is to:\n",
        "\n",
        "1. Dynamic URL Generation : Dynamically generate URLs based on route names and parameters.\n",
        "2. Avoid Hardcoded URLs : Avoid hardcoding URLs in templates and application code, making it easier to maintain and refactor routes.\n",
        "\n",
        "Benefits\n",
        "\n",
        "1. Flexibility : Allows for flexible URL routing and makes it easier to change route structures without breaking links.\n",
        "2. Reusability : Enables reuse of route names and parameters across the application.\n",
        "\n",
        "Common Use Cases\n",
        "\n",
        "1. Generating Links in Templates : Use url_for() in templates to generate links to routes.\n",
        "2. Redirecting to Routes : Use url_for() with the redirect() function to redirect users to specific routes.\n",
        "\n",
        "By using url_for(), developers can create more maintainable and flexible Flask applications."
      ],
      "metadata": {
        "id": "ZrflkuMW2pvk"
      }
    },
    {
      "cell_type": "markdown",
      "source": [
        "# **Q17.How does Flask handle static files (CSS, JavaScript, etc.)?**"
      ],
      "metadata": {
        "id": "ddXk4R-U3gKV"
      }
    },
    {
      "cell_type": "markdown",
      "source": [
        "# **Ans17.**\n",
        "# Flask's Handling of Static Files\n",
        "\n",
        "Flask handles static files, such as CSS, JavaScript, and images, by serving them directly from a designated directory.\n",
        "\n",
        "Key Aspects\n",
        "\n",
        "1. Static Folder : Flask looks for static files in a directory named static within the application directory.\n",
        "2. url_for() Function : Use the url_for() function with the static endpoint to generate URLs for static files in templates.\n",
        "3. Automatic Serving : Flask automatically serves static files from the static directory.\n",
        "\n",
        "Best Practices\n",
        "\n",
        "1. Organize Static Files : Organize static files into subdirectories within the static directory (e.g., css, js, img ).\n",
        "2. Use url_for() : Use url_for() to generate URLs for static files in templates, ensuring flexibility and maintainability.\n",
        "\n",
        "By following these practices, developers can efficiently manage and serve static files in Flask applications."
      ],
      "metadata": {
        "id": "INexY8mL3n8h"
      }
    },
    {
      "cell_type": "markdown",
      "source": [
        "# **Q18. What is an API specification, and how does it help in building a Flask API?**"
      ],
      "metadata": {
        "id": "EJQxHugy4vWx"
      }
    },
    {
      "cell_type": "markdown",
      "source": [
        "# **Ans18.**\n",
        "# API Specification\n",
        "\n",
        "An API specification is a detailed description of an API's endpoints, methods, parameters, and responses. It serves as a contract between the API provider and consumers, outlining how to interact with the API.\n",
        "\n",
        "Benefits in Building a Flask API\n",
        "\n",
        "1. Clear Documentation : Provides clear documentation for developers, making it easier to understand and use the API.\n",
        "2. Consistency : Ensures consistency in API design and implementation.\n",
        "3. Testing and Validation : Facilitates testing and validation of the API against the specification.\n",
        "\n",
        "Common API Specification Formats\n",
        "\n",
        "1. OpenAPI (Swagger) : A widely-used format for describing RESTful APIs.\n",
        "2. API Blueprint : Another popular format for documenting APIs.\n",
        "\n",
        "By using an API specification, developers can build more maintainable, scalable, and well-documented Flask APIs.\n"
      ],
      "metadata": {
        "id": "O1Msori645AB"
      }
    },
    {
      "cell_type": "markdown",
      "source": [
        "# **Q19.What are HTTP status codes, and why are they important in a Flask API?**"
      ],
      "metadata": {
        "id": "z5ZQrL8Q5yeU"
      }
    },
    {
      "cell_type": "markdown",
      "source": [
        "# **Ans19.**\n",
        "# HTTP Status Codes\n",
        "\n",
        "HTTP status codes are three-digit numbers that indicate the result of an HTTP request. They help clients understand the outcome of their requests and handle responses accordingly.\n",
        "\n",
        "Importance in a Flask API\n",
        "\n",
        "1. Indicate Request Outcome : Status codes inform clients whether their requests were successful or not.\n",
        "2. Error Handling : Status codes help clients handle errors and exceptions, such as 404 Not Found or 500 Internal Server Error.\n",
        "3. Standardization : Status codes follow a standard convention, making it easier for clients to understand and handle responses.\n",
        "\n",
        "Common HTTP Status Codes\n",
        "\n",
        "1. 200 OK : Request was successful.\n",
        "2. 404 Not Found : Requested resource was not found.\n",
        "3. 500 Internal Server Error : Server encountered an error.\n",
        "\n",
        "By using HTTP status codes correctly, developers can build more robust and user-friendly Flask APIs that provide clear feedback to clients.\n"
      ],
      "metadata": {
        "id": "QR8ALxvx57J-"
      }
    },
    {
      "cell_type": "markdown",
      "source": [
        "# **Q20. How do you handle POST requests in Flask?**"
      ],
      "metadata": {
        "id": "7r3tqxRQ6tUN"
      }
    },
    {
      "cell_type": "markdown",
      "source": [
        "# **Ans20.**\n",
        "# Handling POST Requests in Flask\n",
        "\n",
        "To handle POST requests in Flask, follow these steps:\n",
        "\n",
        "1. Define a Route : Use the @app.route() decorator to define a route for the POST request.\n",
        "2. Specify the POST Method : Specify the methods=['POST'] parameter in the @app.route() decorator to indicate that the route handles POST requests.\n",
        "3. Access Request Data : Use the request object to access the data sent in the POST request.\n",
        "\n",
        "Example"
      ],
      "metadata": {
        "id": "0DBFbySL62Oj"
      }
    },
    {
      "cell_type": "code",
      "source": [
        "from flask import Flask, request, jsonify\n",
        "\n",
        "app = Flask(__name__)\n",
        "\n",
        "@app.route('/submit', methods=['POST'])\n",
        "def handle_post_request():\n",
        "    data = request.get_json()\n",
        "    # Process the data\n",
        "    return jsonify({'message': 'Data received successfully'}), 201\n",
        "\n",
        "if __name__ == '__main__':\n",
        "    app.run(debug=True)"
      ],
      "metadata": {
        "id": "KL2AnCOq7iCz"
      },
      "execution_count": null,
      "outputs": []
    },
    {
      "cell_type": "markdown",
      "source": [
        "In this example, the /submit route handles POST requests and returns a JSON response with a success message.\n",
        "\n",
        "Accessing Form Data\n",
        "\n",
        "If the POST request contains form data, you can access it using request.form .\n",
        "data = request.form['key']\n",
        "\n",
        "By handling POST requests correctly, developers can build Flask APIs that accept and process data sent by clients."
      ],
      "metadata": {
        "id": "HFBz_jri7ocd"
      }
    },
    {
      "cell_type": "markdown",
      "source": [
        "# **Q21.How would you secure a Flask API?**"
      ],
      "metadata": {
        "id": "ro8Z_F2c7-zT"
      }
    },
    {
      "cell_type": "markdown",
      "source": [
        "# **Ans21.**\n",
        "# Securing a Flask API\n",
        "\n",
        "To secure a Flask API, consider the following measures:\n",
        "\n",
        "1. Authentication : Implement authentication mechanisms, such as JSON Web Tokens (JWT) or OAuth, to verify the identity of clients.\n",
        "2. Authorization : Use authorization techniques, such as role-based access control (RBAC) or attribute-based access control (ABAC), to restrict access to sensitive resources.\n",
        "3. Input Validation : Validate user input to prevent SQL injection and cross-site scripting (XSS) attacks.\n",
        "4. HTTPS : Use HTTPS to encrypt data in transit and protect against eavesdropping and tampering.\n",
        "5. Rate Limiting : Implement rate limiting to prevent brute-force attacks and denial-of-service (DoS) attacks.\n",
        "6. Error Handling : Handle errors securely to prevent information disclosure.\n",
        "7. Regular Updates : Regularly update dependencies and frameworks to ensure you have the latest security patches.\n",
        "\n",
        "Additional Measures\n",
        "\n",
        "1. Use a Web Application Firewall (WAF): A WAF can help protect against common web attacks.\n",
        "2. Monitor API Activity : Monitor API activity to detect and respond to potential security incidents.\n",
        "3. Use Secure Password Storage : Use secure password storage mechanisms, such as bcrypt or Argon2, to protect user passwords.\n",
        "\n",
        "By implementing these security measures, developers can build more secure Flask APIs that protect sensitive data and prevent unauthorized access."
      ],
      "metadata": {
        "id": "jqpWvOWj8NCD"
      }
    },
    {
      "cell_type": "markdown",
      "source": [
        "# **Q22. What is the significance of the Flask-RESTful extension?**"
      ],
      "metadata": {
        "id": "Us9DY7es9Akr"
      }
    },
    {
      "cell_type": "markdown",
      "source": [
        "# **Ans22.**\n",
        "# Flask-Restful Extension\n",
        "\n",
        "Flask-Restful is a Flask extension that simplifies building RESTful APIs. Its significance lies in:\n",
        "\n",
        "1. Simplified API Development : Provides a simple and intuitive way to build RESTful APIs.\n",
        "2. Resource-Based Approach : Encourages a resource-based approach to API design.\n",
        "3. Automatic Request Parsing : Automatically parses request data and provides it to the API endpoint.\n",
        "4. Response Handling : Simplifies response handling and provides a consistent way to return responses.\n",
        "\n",
        "Benefits\n",
        "\n",
        "1. Faster Development : Speeds up API development by providing a set of tools and features.\n",
        "2. Consistent API Structure : Encourages a consistent API structure and design.\n",
        "3. Less Boilerplate Code : Reduces the amount of boilerplate code needed to build RESTful APIs.\n",
        "\n",
        "By using Flask-Restful, developers can build more maintainable, scalable, and well-structured RESTful APIs with Flask."
      ],
      "metadata": {
        "id": "ULMS7hR49M69"
      }
    },
    {
      "cell_type": "markdown",
      "source": [
        "# **Q23. What is the role of Flask’s session object?**"
      ],
      "metadata": {
        "id": "EjZSp7kz-Fnt"
      }
    },
    {
      "cell_type": "markdown",
      "source": [
        "# **Ans23.**\n",
        "# Flask's Session Object\n",
        "\n",
        "The session object in Flask is used to store data across multiple requests from the same client. Its role is to:\n",
        "\n",
        "1. Store User Data : Store user-specific data, such as login information or preferences.\n",
        "2. Maintain State : Maintain state between requests, allowing the application to remember user interactions.\n",
        "3. Secure Data Storage : Store data securely using a secret key to prevent tampering.\n",
        "\n",
        "Use Cases\n",
        "\n",
        "1. User Authentication : Store user login information to authenticate users across requests.\n",
        "2. Shopping Carts : Store shopping cart contents to persist user selections.\n",
        "3. User Preferences : Store user preferences, such as language or layout settings.\n",
        "\n",
        "By using the session object, developers can build more interactive and user-friendly Flask applications that remember user interactions."
      ],
      "metadata": {
        "id": "nfALq8Vk-Nm3"
      }
    },
    {
      "cell_type": "markdown",
      "source": [
        "# **Practical**"
      ],
      "metadata": {
        "id": "YttdY3Y1_Ej-"
      }
    },
    {
      "cell_type": "markdown",
      "source": [
        "# **Q1.How do you create a basic Flask application?**"
      ],
      "metadata": {
        "id": "XUwlUvLQ_TUw"
      }
    },
    {
      "cell_type": "code",
      "source": [
        "from flask import Flask\n",
        "app = Flask(__name__)\n",
        "\n",
        "@app.route('/')\n",
        "def home():\n",
        "    return \"Hello, Flask!\"\n",
        "\n",
        "if __name__ == '__main__':\n",
        "   app.run(debug=True)"
      ],
      "metadata": {
        "id": "cCURVxFZAoC5"
      },
      "execution_count": null,
      "outputs": []
    },
    {
      "cell_type": "markdown",
      "source": [
        "# **Q2. How do you serve static files like images or CSS in Flask?**"
      ],
      "metadata": {
        "id": "F5M2KoC8Br5U"
      }
    },
    {
      "cell_type": "code",
      "source": [
        "from flask import Flask, render_template\n",
        "\n",
        "app = Flask(__name__)\n",
        "\n",
        "@app.route('/')\n",
        "def home():\n",
        "    return render_template('index.html')\n",
        "\n",
        "if __name__ == '__main__':\n",
        "    app.run(debug=True)\n",
        "\n",
        "#templates/index.html\n",
        "\n",
        "\n",
        "\n",
        "\n",
        "    Welcome to Flask!\n",
        "\n",
        "\n",
        "\n",
        "#static/style.css\n",
        "body {\n",
        "    background-color: #f0f0f0;\n",
        "    text-align: center;\n",
        "    font-family: Arial;\n",
        "}\n",
        "\n",
        "python app.py    #Run in terminal\n"
      ],
      "metadata": {
        "id": "Bg92p9mvBzd7"
      },
      "execution_count": null,
      "outputs": []
    },
    {
      "cell_type": "markdown",
      "source": [
        "# **Q3. How do you define different routes with different HTTP methods in Flask?**"
      ],
      "metadata": {
        "id": "epevx_x5DcPn"
      }
    },
    {
      "cell_type": "code",
      "source": [
        "from flask import Flask, request\n",
        "\n",
        "app = Flask(__name__)\n",
        "\n",
        "# Route for GET request\n",
        "@app.route('/example', methods=['GET'])\n",
        "def get_example():\n",
        "    return \"This is a GET request\"\n",
        "\n",
        "# Route for POST request\n",
        "@app.route('/example', methods=['POST'])\n",
        "def post_example():\n",
        "    data = request.form.get('data')\n",
        "    return f\"You sent: {data}\"\n",
        "\n",
        "# Route for both GET and POST\n",
        "@app.route('/example2', methods=['GET', 'POST'])\n",
        "def example2():\n",
        "    if request.method == 'POST':\n",
        "        return \"POST request on /example2\"\n",
        "    else:\n",
        "        return \"GET request on /example2\"\n",
        "\n",
        "if __name__ == '__main__':\n",
        "    app.run(debug=True)"
      ],
      "metadata": {
        "id": "apn6kuH6DlBl"
      },
      "execution_count": null,
      "outputs": []
    },
    {
      "cell_type": "markdown",
      "source": [
        "# **Q4. How do you render HTML templates in Flask?**"
      ],
      "metadata": {
        "id": "5p4o4pmhEMGy"
      }
    },
    {
      "cell_type": "code",
      "source": [
        "from flask import Flask, render_template\n",
        "\n",
        "app = Flask(__name__)\n",
        "\n",
        "@app.route('/')\n",
        "def home():\n",
        "    return render_template('index.html', name=\"Himani\")\n",
        "\n",
        "if __name__ == '__main__':\n",
        "    app.run(debug=True)"
      ],
      "metadata": {
        "id": "KavPOURzEV8S"
      },
      "execution_count": null,
      "outputs": []
    },
    {
      "cell_type": "markdown",
      "source": [
        "# **Q5.How can you generate URLs for routes in Flask using url_for?**"
      ],
      "metadata": {
        "id": "JYe-SvUmE_0C"
      }
    },
    {
      "cell_type": "code",
      "source": [
        "from flask import Flask, url_for, redirect\n",
        "\n",
        "app = Flask(__name__)\n",
        "\n",
        "@app.route('/')\n",
        "def home():\n",
        "    return 'Home Page'\n",
        "\n",
        "@app.route('/about')\n",
        "def about():\n",
        "    return 'About Page'\n",
        "\n",
        "@app.route('/user/<username>')\n",
        "def profile(username):\n",
        "    return f\"Profile: {username}\"\n",
        "\n",
        "@app.route('/go-to-about')\n",
        "def go_to_about():\n",
        "    return redirect(url_for('about'))\n",
        "\n",
        "if __name__ == '__main__':\n",
        "    app.run(debug=True)"
      ],
      "metadata": {
        "id": "45cm6hQbFJi0"
      },
      "execution_count": null,
      "outputs": []
    },
    {
      "cell_type": "markdown",
      "source": [
        "# **Q6. How do you handle forms in Flask?**"
      ],
      "metadata": {
        "id": "AOhuqeoFFhsq"
      }
    },
    {
      "cell_type": "code",
      "source": [
        "from flask import Flask, request, render_template\n",
        "\n",
        "app = Flask(__name__)\n",
        "\n",
        "@app.route('/')\n",
        "def index():\n",
        "    return render_template('form.html')\n",
        "\n",
        "@app.route('/submit', methods=['POST'])\n",
        "def submit():\n",
        "    name = request.form['name']\n",
        "    age = request.form['age']\n",
        "    return f\"Received: Name = {name}, Age = {age}\"\n",
        "\n",
        "if __name__ == '__main__':\n",
        "    app.run(debug=True)"
      ],
      "metadata": {
        "id": "21sG_zrQFqLr"
      },
      "execution_count": null,
      "outputs": []
    },
    {
      "cell_type": "markdown",
      "source": [
        "# **Q7.How can you validate form data in Flask?**"
      ],
      "metadata": {
        "id": "UZKlsOmKGG0z"
      }
    },
    {
      "cell_type": "code",
      "source": [
        "from flask import Flask, render_template, redirect, url_for\n",
        "from flask_wtf import FlaskForm\n",
        "from wtforms import StringField, SubmitField\n",
        "from wtforms.validators import DataRequired, Length\n",
        "\n",
        "app = Flask(__name__)\n",
        "app.secret_key = 'secret-key'  # Required for CSRF protection\n",
        "\n",
        "class NameForm(FlaskForm):\n",
        "    name = StringField('Name', validators=[DataRequired(), Length(min=3)])\n",
        "    submit = SubmitField('Submit')\n",
        "\n",
        "@app.route('/', methods=['GET', 'POST'])\n",
        "def index():\n",
        "    form = NameForm()\n",
        "    if form.validate_on_submit():\n",
        "        return f\"Hello, {form.name.data}!\"\n",
        "    return render_template('form_wtf.html', form=form)\n",
        "\n",
        "if __name__ == '__main__':\n",
        "    app.run(debug=True)"
      ],
      "metadata": {
        "id": "s8YBqJ0wGPs4"
      },
      "execution_count": null,
      "outputs": []
    },
    {
      "cell_type": "markdown",
      "source": [
        "# **Q8. How do you manage sessions in Flask?**"
      ],
      "metadata": {
        "id": "s1LKLDwCGxxv"
      }
    },
    {
      "cell_type": "code",
      "source": [
        "from flask import Flask, session, redirect, url_for, request\n",
        "\n",
        "app = Flask(__name__)\n",
        "app.secret_key = 'your_secret_key_here'  # Required for sessions\n",
        "\n",
        "@app.route('/')\n",
        "def home():\n",
        "    if 'username' in session:\n",
        "        return f\"Logged in as {session['username']}\"\n",
        "    return \"You are not logged in\"\n",
        "\n",
        "@app.route('/login', methods=['GET', 'POST'])\n",
        "def login():\n",
        "    if request.method == 'POST':\n",
        "        session['username'] = request.form['username']\n",
        "        return redirect(url_for('home'))\n",
        "    return '''\n",
        "        <form method=\"post\">\n",
        "            <input type=\"text\" name=\"username\" placeholder=\"Enter your name\">\n",
        "            <input type=\"submit\" value=\"Login\">\n",
        "        </form>\n",
        "    '''\n",
        "\n",
        "@app.route('/logout')\n",
        "def logout():\n",
        "    session.pop('username', None)  # Remove 'username' from session\n",
        "    return redirect(url_for('home'))\n",
        "\n",
        "if __name__ == '__main__':\n",
        "    app.run(debug=True)"
      ],
      "metadata": {
        "id": "83uMerFpG7U5"
      },
      "execution_count": null,
      "outputs": []
    },
    {
      "cell_type": "markdown",
      "source": [
        "# **Q9.How do you redirect to a different route in Flask?**"
      ],
      "metadata": {
        "id": "AaPlm_bmHRAg"
      }
    },
    {
      "cell_type": "code",
      "source": [
        "from flask import Flask, redirect, url_for\n",
        "\n",
        "app = Flask(__name__)\n",
        "\n",
        "@app.route('/')\n",
        "def home():\n",
        "    return \"Welcome to the homepage!\"\n",
        "\n",
        "@app.route('/login')\n",
        "def login():\n",
        "    return \"Please log in.\"\n",
        "\n",
        "@app.route('/go-to-login')\n",
        "def go_to_login():\n",
        "    return redirect(url_for('login'))  # Redirects to the /login route\n",
        "\n",
        "if __name__ == '__main__':\n",
        "    app.run(debug=True)"
      ],
      "metadata": {
        "id": "wrL-NAweHZdI"
      },
      "execution_count": null,
      "outputs": []
    },
    {
      "cell_type": "markdown",
      "source": [
        "# **Q10.How do you handle errors in Flask (e.g., 404)?**"
      ],
      "metadata": {
        "id": "PYH9NTqXHpCZ"
      }
    },
    {
      "cell_type": "code",
      "source": [
        "from flask import Flask, render_template\n",
        "\n",
        "app = Flask(__name__)\n",
        "\n",
        "@app.route('/')\n",
        "def home():\n",
        "    return 'Welcome to the Home Page'\n",
        "\n",
        "# Custom 404 Error Page\n",
        "@app.errorhandler(404)\n",
        "def page_not_found(error):\n",
        "    return render_template('404.html'), 404\n",
        "\n",
        "if __name__ == '__main__':\n",
        "    app.run(debug=True)"
      ],
      "metadata": {
        "id": "BkpAlmqDHwbE"
      },
      "execution_count": null,
      "outputs": []
    },
    {
      "cell_type": "markdown",
      "source": [
        "# **Q11. How do you structure a Flask app using Blueprints?**"
      ],
      "metadata": {
        "id": "6Z_8A9NtIGcT"
      }
    },
    {
      "cell_type": "code",
      "source": [
        "from flask import Blueprint, render_template\n",
        "\n",
        "home_bp = Blueprint('home', __name__, template_folder='../templates')\n",
        "\n",
        "@home_bp.route('/')\n",
        "def home():\n",
        "    return render_template('home.html')"
      ],
      "metadata": {
        "id": "CR8d6REmINOo"
      },
      "execution_count": null,
      "outputs": []
    },
    {
      "cell_type": "markdown",
      "source": [
        "# **Q12. How do you define a custom Jinja filter in Flask?**"
      ],
      "metadata": {
        "id": "bBcgviagIldv"
      }
    },
    {
      "cell_type": "code",
      "source": [
        "from flask import Flask, render_template\n",
        "\n",
        "app = Flask(__name__)\n",
        "\n",
        "@app.template_filter('reverse')\n",
        "def reverse_filter(s):\n",
        "    return s[::-1]\n",
        "\n",
        "@app.route('/')\n",
        "def index():\n",
        "    return render_template('index.html', name=\"Himani\")\n",
        "\n",
        "if __name__ == '__main__':\n",
        "    app.run(debug=True)"
      ],
      "metadata": {
        "id": "vYdp4X9CIwVO"
      },
      "execution_count": null,
      "outputs": []
    },
    {
      "cell_type": "markdown",
      "source": [
        "# **Q13. How can you redirect with query parameters in Flask?**"
      ],
      "metadata": {
        "id": "8ZwnTxzWKJOz"
      }
    },
    {
      "cell_type": "code",
      "source": [
        "from flask import Flask, redirect, url_for, request\n",
        "\n",
        "app = Flask(__name__)\n",
        "\n",
        "@app.route('/')\n",
        "def home():\n",
        "    return 'Welcome to the Home Page!'\n",
        "\n",
        "@app.route('/redirect-example')\n",
        "def redirect_example():\n",
        "    return redirect(url_for('greet_user', name='Himani', age=25))\n",
        "\n",
        "@app.route('/greet')\n",
        "def greet_user():\n",
        "    name = request.args.get('name')\n",
        "    age = request.args.get('age')\n",
        "    return f\"Hello, {name}! You are {age} years old.\"\n",
        "\n",
        "if __name__ == '__main__':\n",
        "    app.run(debug=True)"
      ],
      "metadata": {
        "id": "THDQImojKOer"
      },
      "execution_count": null,
      "outputs": []
    },
    {
      "cell_type": "markdown",
      "source": [
        "# **Q14. How do you return JSON responses in Flask?**"
      ],
      "metadata": {
        "id": "2lqeV_iYKcGN"
      }
    },
    {
      "cell_type": "code",
      "source": [
        "from flask import Flask, jsonify\n",
        "\n",
        "app = Flask(__name__)\n",
        "\n",
        "@app.route('/api/data')\n",
        "def get_data():\n",
        "    data = {\n",
        "        'name': 'Himani',\n",
        "        'age': 25,\n",
        "        'country': 'India'\n",
        "    }\n",
        "    return jsonify(data)\n",
        "\n",
        "if __name__ == '__main__':\n",
        "    app.run(debug=True)"
      ],
      "metadata": {
        "id": "EtGYTicjLFvY"
      },
      "execution_count": null,
      "outputs": []
    },
    {
      "cell_type": "markdown",
      "source": [
        "# **Q15. How do you capture URL parameters in Flask?**"
      ],
      "metadata": {
        "id": "e9GtsDpGK8xK"
      }
    },
    {
      "cell_type": "code",
      "source": [
        "@app.route('/user/<username>')\n",
        "def show_user(username):\n",
        "    return f\"Hello, {username}!\""
      ],
      "metadata": {
        "id": "Wi-Jp8s1LO2_"
      },
      "execution_count": null,
      "outputs": []
    }
  ]
}