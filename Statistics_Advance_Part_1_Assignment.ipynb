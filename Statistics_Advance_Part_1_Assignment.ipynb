{
  "nbformat": 4,
  "nbformat_minor": 0,
  "metadata": {
    "colab": {
      "provenance": [],
      "authorship_tag": "ABX9TyNcoRbN3sndluXNQPoKrb1J",
      "include_colab_link": true
    },
    "kernelspec": {
      "name": "python3",
      "display_name": "Python 3"
    },
    "language_info": {
      "name": "python"
    }
  },
  "cells": [
    {
      "cell_type": "markdown",
      "metadata": {
        "id": "view-in-github",
        "colab_type": "text"
      },
      "source": [
        "<a href=\"https://colab.research.google.com/github/Himani954/Data-types-and-structure/blob/main/Statistics_Advance_Part_1_Assignment.ipynb\" target=\"_parent\"><img src=\"https://colab.research.google.com/assets/colab-badge.svg\" alt=\"Open In Colab\"/></a>"
      ]
    },
    {
      "cell_type": "markdown",
      "source": [
        "# **Q1. What is a random variable in probability theory?**"
      ],
      "metadata": {
        "id": "_NcV_gDaFutY"
      }
    },
    {
      "cell_type": "markdown",
      "source": [
        "# **Ans 1.**\n",
        "# Random Variable in Probability Theory\n",
        "A random variable is a mathematical concept in probability theory that represents a variable whose possible values are determined by chance events. It is a function that assigns a numerical value to each outcome of a random experiment.\n",
        "\n",
        "Characteristics of a Random Variable\n",
        "A random variable has the following characteristics:\n",
        "\n",
        "- Uncertainty : The value of a random variable is uncertain and can take on different values based on chance.\n",
        "- *Probability Distribution*: A random variable has a probability distribution that describes the likelihood of each possible value.\n",
        "- Numerical Values : A random variable takes on numerical values, which can be discrete or continuous.\n",
        "\n",
        "Types of Random Variables\n",
        "There are two main types of random variables:\n",
        "\n",
        "- Discrete Random Variable : A discrete random variable takes on a countable number of distinct values. Examples include the number of heads in a coin toss or the number of defects in a manufacturing process.\n",
        "- Continuous Random Variable : A continuous random variable takes on any value within a given interval or range. Examples include the height of a person or the temperature of a substance.\n",
        "\n",
        "Importance of Random Variables\n",
        "Random variables are essential in probability theory because they:\n",
        "\n",
        "- Model Uncertainty : Random variables model uncertainty and chance events in various fields, such as finance, engineering, and medicine.\n",
        "- Enable Probability Calculations : Random variables enable the calculation of probabilities and expectations, which are crucial in decision-making and risk analysis.\n",
        "\n",
        "By understanding random variables, you can better model and analyze complex systems and phenomena that involve uncertainty and chance."
      ],
      "metadata": {
        "id": "yv76d9BrGg4a"
      }
    },
    {
      "cell_type": "markdown",
      "source": [
        "# **Q2. What are the types of random variables?**"
      ],
      "metadata": {
        "id": "UJMj6w5-qbmu"
      }
    },
    {
      "cell_type": "markdown",
      "source": [
        "# **Ans2.**\n",
        "# Types of Random Variables\n",
        "There are two main types of random variables:\n",
        "\n",
        "1. Discrete Random Variable\n",
        "A discrete random variable takes on a countable number of distinct values. Examples include:\n",
        "\n",
        "- Number of Heads in a Coin Toss : The number of heads in a coin toss can be 0, 1, or 2.\n",
        "- Number of Defects in a Manufacturing Process : The number of defects in a manufacturing process can be 0, 1, 2, and so on.\n",
        "\n",
        "2. Continuous Random Variable\n",
        "A continuous random variable takes on any value within a given interval or range. Examples include:\n",
        "\n",
        "- Height of a Person : The height of a person can be any value within a certain range, such as 150-200 cm.\n",
        "- Temperature of a Substance : The temperature of a substance can be any value within a certain range, such as 0-100°C.\n",
        "\n",
        "These two types of random variables are used to model different types of uncertainty and chance events in various fields."
      ],
      "metadata": {
        "id": "CrfquHI5qhwJ"
      }
    },
    {
      "cell_type": "markdown",
      "source": [
        "# **Q3. What is the difference between discrete and continuous distributions?**"
      ],
      "metadata": {
        "id": "aaFyAmK1sqc3"
      }
    },
    {
      "cell_type": "markdown",
      "source": [
        "# **Ans3.**\n",
        "# Discrete vs Continuous Distribution\n",
        "The main difference between discrete and continuous distributions is the type of values the random variable can take:\n",
        "\n",
        "- Discrete Distribution : A discrete distribution describes a random variable that can only take on specific, distinct values. Examples include the number of heads in a coin toss or the number of defects in a product.\n",
        "- Continuous Distribution : A continuous distribution describes a random variable that can take on any value within a given interval or range. Examples include height, weight, or temperature.\n",
        "\n",
        "In summary, discrete distributions deal with countable values, while continuous distributions deal with uncountable values within a range."
      ],
      "metadata": {
        "id": "aoDKCXKNtBWK"
      }
    },
    {
      "cell_type": "markdown",
      "source": [
        "# **Q4. What are probability distribution functions?**"
      ],
      "metadata": {
        "id": "tV41RTI5wnbL"
      }
    },
    {
      "cell_type": "markdown",
      "source": [
        "# **Ans4.**\n",
        "# Probability Distribution Functions\n",
        "Probability distribution functions are mathematical functions that describe the probability distribution of a random variable. They provide a way to calculate the probability of different values or ranges of values for the random variable.\n",
        "\n",
        "Types of Probability Distribution Functions\n",
        "There are two main types of probability distribution functions:\n",
        "\n",
        "- Probability Mass Function (PMF) : A PMF is used for discrete random variables and assigns a probability to each possible value.\n",
        "- Probability Density Function (PDF) : A PDF is used for continuous random variables and describes the relative likelihood of each possible value.\n",
        "\n",
        "Properties of Probability Distribution Functions\n",
        "Probability distribution functions have the following properties:\n",
        "\n",
        "- *Non-Negativity*: The function is non-negative for all values of the random variable.\n",
        "- *Normalization*: The sum of the probabilities (for discrete distributions) or the integral of the PDF (for continuous distributions) is equal to 1.\n",
        "\n",
        "Importance of Probability Distribution Functions\n",
        "Probability distribution functions are essential in statistics and probability theory because they:\n",
        "\n",
        "- Describe Random Variables : They provide a mathematical description of the behavior of random variables.\n",
        "- Enable Probability Calculations : They enable the calculation of probabilities and expectations, which are crucial in decision-making and risk analysis.\n",
        "\n",
        "By understanding probability distribution functions, you can better model and analyze complex systems and phenomena that involve uncertainty and chance."
      ],
      "metadata": {
        "id": "Xbj-sHcJwxDV"
      }
    },
    {
      "cell_type": "markdown",
      "source": [
        "# **Q5. How do cumulative distribution functions (CDF) differ from probability distribution functions (PDF) ?**"
      ],
      "metadata": {
        "id": "d87TTyFizlTn"
      }
    },
    {
      "cell_type": "markdown",
      "source": [
        "# **Ans5.**\n",
        "# Cumulative Distribution Functions (CDF) vs Probability Density Functions (PDF)\n",
        "Cumulative distribution functions (CDF) and probability density functions (PDF) are two related but distinct concepts in probability theory.\n",
        "\n",
        "Probability Density Function (PDF)\n",
        "- Describes Relative Likelihood : A PDF describes the relative likelihood of each possible value of a continuous random variable.\n",
        "- Non-Negative : The PDF is non-negative for all values of the random variable.\n",
        "- Integral Equals 1 : The integral of the PDF over the entire range of the random variable is equal to 1.\n",
        "\n",
        "Cumulative Distribution Function (CDF)\n",
        "- Describes Cumulative Probability : A CDF describes the cumulative probability that a random variable takes on a value less than or equal to a given value.\n",
        "- Non-Decreasing : The CDF is a non-decreasing function, meaning that the cumulative probability increases as the value of the random variable increases.\n",
        "- Ranges from 0 to 1 : The CDF ranges from 0 to 1, where 0 represents the minimum possible value and 1 represents the maximum possible value.\n",
        "\n",
        "Key Differences\n",
        "The key differences between CDF and PDF are:\n",
        "\n",
        "- Purpose : A PDF describes the relative likelihood of each value, while a CDF describes the cumulative probability.\n",
        "- Interpretation : A PDF is used to calculate probabilities of specific ranges, while a CDF is used to calculate probabilities of values less than or equal to a given value.\n",
        "\n",
        "By understanding both CDF and PDF, you can gain insights into the behavior of random variables and make more informed decisions.\n"
      ],
      "metadata": {
        "id": "CPKM38bAzwUF"
      }
    },
    {
      "cell_type": "markdown",
      "source": [
        "# **Q6. What is a discrete uniform distribution?**"
      ],
      "metadata": {
        "id": "aqE0wvQT1dqq"
      }
    },
    {
      "cell_type": "markdown",
      "source": [
        "# **Ans6.**\n",
        "# Discrete Uniform Distribution\n",
        "A discrete uniform distribution is a type of probability distribution where a random variable takes on a finite number of distinct values, each with equal probability.\n",
        "\n",
        "Characteristics\n",
        "The discrete uniform distribution has the following characteristics:\n",
        "\n",
        "- Equal Probabilities : Each possible value has an equal probability of occurring.\n",
        "- Finite Number of Values : The distribution has a finite number of distinct values.\n",
        "- Discrete Values : The random variable takes on discrete values.\n",
        "\n",
        "Example\n",
        "A classic example of a discrete uniform distribution is rolling a fair six-sided die. Each face of the die has a number from 1 to 6, and each number has an equal probability of 1/6 of being rolled.\n",
        "\n",
        "Probability Mass Function\n",
        "The probability mass function (PMF) of a discrete uniform distribution is given by:\n",
        "\n",
        "P(X = x) = 1/n\n",
        "\n",
        "where n is the number of distinct values, and x is one of the possible values.\n",
        "\n",
        "The discrete uniform distribution is used in various applications, such as modeling random events, simulations, and statistical analysis."
      ],
      "metadata": {
        "id": "IiomvE6w1mJ6"
      }
    },
    {
      "cell_type": "markdown",
      "source": [
        "# **Q7. What are the key properties of a Bernoulli distribution?**"
      ],
      "metadata": {
        "id": "RZgTj8RN2X5W"
      }
    },
    {
      "cell_type": "markdown",
      "source": [
        "# **Ans7.**\n",
        "# Bernoulli Distribution\n",
        "The Bernoulli distribution is a discrete probability distribution that models a single trial with two possible outcomes: success (1) and failure (0).\n",
        "\n",
        "Key Properties\n",
        "The key properties of a Bernoulli distribution are:\n",
        "\n",
        "- Two Possible Outcomes : The Bernoulli distribution has two possible outcomes: success (1) and failure (0).\n",
        "- Probability of Success : The probability of success is denoted by p, and the probability of failure is denoted by q = 1 - p.\n",
        "- Probability Mass Function : The probability mass function (PMF) is given by P(X = 1) = p and P(X = 0) = q.\n",
        "- Mean : The mean of a Bernoulli distribution is p.\n",
        "- Variance : The variance of a Bernoulli distribution is pq.\n",
        "\n",
        "Applications\n",
        "The Bernoulli distribution is used in various applications, such as:\n",
        "\n",
        "- Modeling Binary Outcomes : The Bernoulli distribution is used to model binary outcomes, such as success or failure, yes or no, and 0 or 1.\n",
        "- Clinical Trials : The Bernoulli distribution is used in clinical trials to model the probability of success or failure of a treatment.\n",
        "- Quality Control : The Bernoulli distribution is used in quality control to model the probability of defective or non-defective products.\n",
        "\n",
        "The Bernoulli distribution is a fundamental distribution in statistics and probability theory, and it serves as a building block for more complex distributions, such as the binomial distribution."
      ],
      "metadata": {
        "id": "4nT1ZKjA2hCH"
      }
    },
    {
      "cell_type": "markdown",
      "source": [
        "# **Q8. What is the binomial distribution, and how is it used in probability?**"
      ],
      "metadata": {
        "id": "uTRwLGKV3dBs"
      }
    },
    {
      "cell_type": "markdown",
      "source": [
        "# **Ans8.**\n",
        "# Binomial Distribution\n",
        "The binomial distribution is a discrete probability distribution that models the number of successes in a fixed number of independent trials, where each trial has two possible outcomes: success and failure.\n",
        "\n",
        "Characteristics\n",
        "The binomial distribution has the following characteristics:\n",
        "\n",
        "- Fixed Number of Trials : The number of trials is fixed and denoted by n.\n",
        "- Independent Trials : Each trial is independent of the others.\n",
        "- Two Possible Outcomes : Each trial has two possible outcomes: success and failure.\n",
        "- Constant Probability of Success : The probability of success remains constant for each trial and is denoted by p.\n",
        "\n",
        "Probability Mass Function\n",
        "The probability mass function (PMF) of a binomial distribution is given by:\n",
        "\n",
        "P(X = k) = (nCk) * p^k * (1-p)^(n-k)\n",
        "\n",
        "where n is the number of trials, k is the number of successes, and p is the probability of success.\n",
        "\n",
        "Applications\n",
        "The binomial distribution is used in various applications, such as:\n",
        "\n",
        "- Modeling Count Data : The binomial distribution is used to model count data, such as the number of successes in a fixed number of trials.\n",
        "- Quality Control : The binomial distribution is used in quality control to model the number of defective products in a sample.\n",
        "- Clinical Trials : The binomial distribution is used in clinical trials to model the number of patients who respond to a treatment.\n",
        "\n",
        "The binomial distribution is a widely used distribution in statistics and probability theory, and it has numerous applications in various fields."
      ],
      "metadata": {
        "id": "ahhFPZA43lRU"
      }
    },
    {
      "cell_type": "markdown",
      "source": [
        "# **Q9. What is the Poisson distribution and where is it applied?**"
      ],
      "metadata": {
        "id": "BdCe4LQj4aVP"
      }
    },
    {
      "cell_type": "markdown",
      "source": [
        "# **Ans9.**\n",
        "# Poisson Distribution\n",
        "The Poisson distribution is a discrete probability distribution that models the number of events occurring in a fixed interval of time or space, where these events occur with a known constant average rate and independently of the time since the last event.\n",
        "\n",
        "Characteristics\n",
        "The Poisson distribution has the following characteristics:\n",
        "\n",
        "- Modeling Count Data : The Poisson distribution models count data, such as the number of events occurring in a fixed interval.\n",
        "- Constant Average Rate : The events occur with a known constant average rate, denoted by λ (lambda).\n",
        "- Independence : The events occur independently of each other.\n",
        "\n",
        "Probability Mass Function\n",
        "The probability mass function (PMF) of a Poisson distribution is given by:\n",
        "\n",
        "P(X = k) = (e^(-λ) * (λ^k)) / k!\n",
        "\n",
        "where k is the number of events, λ is the average rate, and e is the base of the natural logarithm.\n",
        "\n",
        "Applications\n",
        "The Poisson distribution is applied in various fields, such as:\n",
        "\n",
        "- Modeling Rare Events : The Poisson distribution is used to model rare events, such as the number of accidents in a given area.\n",
        "- Queueing Theory : The Poisson distribution is used in queueing theory to model the arrival of customers or requests.\n",
        "- Insurance : The Poisson distribution is used in insurance to model the number of claims occurring in a given period.\n",
        "- Telecommunications : The Poisson distribution is used in telecommunications to model the number of phone calls or messages.\n",
        "\n",
        "The Poisson distribution is a powerful tool for modeling and analyzing count data, and it has numerous applications in various fields."
      ],
      "metadata": {
        "id": "_f9vZkP74iRr"
      }
    },
    {
      "cell_type": "markdown",
      "source": [
        "# **Q10. What is a continuous uniform distribution?**"
      ],
      "metadata": {
        "id": "LH--T02x5VpF"
      }
    },
    {
      "cell_type": "markdown",
      "source": [
        "# **Ans10.**\n",
        "# Continuous Uniform Distribution\n",
        "A continuous uniform distribution is a type of probability distribution where a random variable takes on any value within a given interval or range, and each value has an equal probability density.\n",
        "\n",
        "Characteristics\n",
        "The continuous uniform distribution has the following characteristics:\n",
        "\n",
        "- Equal Probability Density : Each value within the interval has an equal probability density.\n",
        "- Continuous Values : The random variable takes on continuous values within the given interval.\n",
        "- Interval : The distribution is defined over a specific interval [a, b], where a and b are the minimum and maximum values.\n",
        "\n",
        "Probability Density Function\n",
        "The probability density function (PDF) of a continuous uniform distribution is given by:\n",
        "\n",
        "f(x) = 1 / (b - a)\n",
        "\n",
        "for a ≤ x ≤ b, and 0 otherwise.\n",
        "\n",
        "Applications\n",
        "The continuous uniform distribution is used in various applications, such as:\n",
        "\n",
        "- Modeling Random Variables : The continuous uniform distribution is used to model random variables that are equally likely to take on any value within a given interval.\n",
        "- Simulations : The continuous uniform distribution is used in simulations to generate random numbers within a specific range.\n",
        "- Statistical Analysis : The continuous uniform distribution is used in statistical analysis to model variables that have a uniform distribution.\n",
        "\n",
        "The continuous uniform distribution is a fundamental distribution in statistics and probability theory, and it has numerous applications in various fields."
      ],
      "metadata": {
        "id": "iVTe-QsP5f7t"
      }
    },
    {
      "cell_type": "markdown",
      "source": [
        "# **Q11. What are the characteristics of a normal distribution?**"
      ],
      "metadata": {
        "id": "xhyDZiOl7p0X"
      }
    },
    {
      "cell_type": "markdown",
      "source": [
        "## **Ans11.**\n",
        "# Normal Distribution\n",
        "A normal distribution, also known as the Gaussian distribution, is a continuous probability distribution that is commonly observed in many natural and social phenomena.\n",
        "\n",
        "Characteristics\n",
        "The normal distribution has the following characteristics:\n",
        "\n",
        "- Symmetry : The normal distribution is symmetric about its mean, indicating that the data is evenly distributed around the central value.\n",
        "- Bell-Shaped Curve : The normal distribution has a bell-shaped curve, with the majority of the data points clustering around the mean and tapering off gradually towards the extremes.\n",
        "- Mean, Median, and Mode : The mean, median, and mode of a normal distribution are equal, indicating that the distribution is symmetric and centered around the mean.\n",
        "- Standard Deviation : The standard deviation of a normal distribution determines the spread or dispersion of the data, with about 68% of the data points falling within one standard deviation of the mean.\n",
        "\n",
        "Properties\n",
        "The normal distribution has several important properties, including:\n",
        "\n",
        "- 68-95-99.7 Rule: About 68% of the data points fall within one standard deviation of the mean, about 95% fall within two standard deviations, and about 99.7% fall within three standard deviations.\n",
        "- Additivity : The sum of independent normal random variables is also normally distributed.\n",
        "\n",
        "Applications\n",
        "The normal distribution is widely used in various fields, including:\n",
        "\n",
        "- Statistics : The normal distribution is used in statistical analysis, hypothesis testing, and confidence intervals.\n",
        "- Data Analysis : The normal distribution is used to model and analyze continuous data that is normally distributed.\n",
        "- Finance : The normal distribution is used in finance to model stock prices, returns, and risks.\n",
        "\n",
        "The normal distribution is a fundamental distribution in statistics and probability theory, and it has numerous applications in various fields."
      ],
      "metadata": {
        "id": "WUTM9hYgUCFi"
      }
    },
    {
      "cell_type": "markdown",
      "source": [
        "# **Q12. What is the standard normal distribution, and why is it important?**"
      ],
      "metadata": {
        "id": "Nn9XJc4lU77N"
      }
    },
    {
      "cell_type": "markdown",
      "source": [
        "# **Ans12.**\n",
        "# Standard Normal Distribution\n",
        "The standard normal distribution, also known as the z-distribution, is a special case of the normal distribution with a mean of 0 and a standard deviation of 1.\n",
        "\n",
        "Characteristics\n",
        "The standard normal distribution has the following characteristics:\n",
        "\n",
        "- Mean 0 : The mean of the standard normal distribution is 0.\n",
        "- Standard Deviation 1 : The standard deviation of the standard normal distribution is 1.\n",
        "- Symmetry : The standard normal distribution is symmetric about its mean, indicating that the data is evenly distributed around 0.\n",
        "\n",
        "Importance\n",
        "The standard normal distribution is important because:\n",
        "\n",
        "- Standardization : It allows for standardization of normal distributions, enabling comparison and analysis of different datasets.\n",
        "- Z-Scores : The standard normal distribution is used to calculate z-scores, which measure the number of standard deviations an observation is away from the mean.\n",
        "- Statistical Inference : The standard normal distribution is used in statistical inference, hypothesis testing, and confidence intervals.\n",
        "\n",
        "Applications\n",
        "The standard normal distribution is widely used in various fields, including:\n",
        "\n",
        "- Statistics : The standard normal distribution is used in statistical analysis, hypothesis testing, and confidence intervals.\n",
        "- Data Analysis : The standard normal distribution is used to standardize and compare different datasets.\n",
        "- Research : The standard normal distribution is used in research to analyze and interpret results.\n",
        "\n",
        "The standard normal distribution is a fundamental concept in statistics and probability theory, and it has numerous applications in various fields."
      ],
      "metadata": {
        "id": "7AOU9qn5VHXz"
      }
    },
    {
      "cell_type": "markdown",
      "source": [
        "# **Q13. What is the Central Limit Theorem (CLT), and why is it critical in statistics?**"
      ],
      "metadata": {
        "id": "K6mr3u9cWKnx"
      }
    },
    {
      "cell_type": "markdown",
      "source": [
        "# **Ans13.**\n",
        "# Central Limit Theorem (CLT)\n",
        "The Central Limit Theorem (CLT) is a fundamental concept in statistics that describes the behavior of the sampling distribution of the mean.\n",
        "\n",
        "Key Points\n",
        "The CLT states that:\n",
        "\n",
        "- Sampling Distribution : The sampling distribution of the mean will be approximately normally distributed, regardless of the shape of the population distribution.\n",
        "- Large Sample Size : This approximation holds true as the sample size becomes sufficiently large (usually n ≥ 30).\n",
        "- Mean and Standard Deviation : The mean of the sampling distribution will be equal to the population mean, and the standard deviation will be equal to the population standard deviation divided by the square root of the sample size.\n",
        "\n",
        "Importance\n",
        "The CLT is critical in statistics because:\n",
        "\n",
        "- Statistical Inference : It provides the foundation for statistical inference, hypothesis testing, and confidence intervals.\n",
        "- Normality Assumption : Many statistical tests and procedures assume normality, and the CLT provides a justification for this assumption, even when the population distribution is not normal.\n",
        "- Large Sample Sizes : The CLT highlights the importance of large sample sizes in statistical analysis, as it ensures that the sampling distribution of the mean will be approximately normal.\n",
        "\n",
        "Applications\n",
        "The CLT has numerous applications in various fields, including:\n",
        "\n",
        "- Statistics : The CLT is used in statistical analysis, hypothesis testing, and confidence intervals.\n",
        "- Data Analysis : The CLT is used to analyze and interpret data, especially when working with large datasets.\n",
        "- Research : The CLT is used in research to make inferences about populations based on sample data.\n",
        "\n",
        "The CLT is a fundamental concept in statistics, and it has far-reaching implications for statistical analysis and inference."
      ],
      "metadata": {
        "id": "B2zexzPiWSea"
      }
    },
    {
      "cell_type": "markdown",
      "source": [
        "# **Q14. How does the Central Limit Theorem relate to the normal distribution?**"
      ],
      "metadata": {
        "id": "WZmud8loXfMk"
      }
    },
    {
      "cell_type": "markdown",
      "source": [
        "# **Ans14.**\n",
        "# Central Limit Theorem and Normal Distribution\n",
        "The Central Limit Theorem (CLT) is closely related to the normal distribution.\n",
        "\n",
        "Key Relationship\n",
        "The CLT states that the sampling distribution of the mean will be approximately normally distributed, regardless of the shape of the population distribution, as the sample size becomes sufficiently large.\n",
        "\n",
        "Implications\n",
        "This relationship has several implications:\n",
        "\n",
        "- Normal Approximation : The CLT allows us to use the normal distribution as an approximation for the sampling distribution of the mean, even if the population distribution is not normal.\n",
        "- Universality of Normal Distribution : The CLT explains why the normal distribution is commonly observed in many natural and social phenomena, as it is the limiting distribution of the mean of many independent random variables.\n",
        "- Statistical Analysis : The CLT enables us to use statistical methods that assume normality, such as hypothesis testing and confidence intervals, even when the population distribution is not normal.\n",
        "\n",
        "Importance\n",
        "The relationship between the CLT and the normal distribution is important because:\n",
        "\n",
        "- Wide Applicability : The normal distribution can be used to model and analyze a wide range of phenomena, thanks to the CLT.\n",
        "- Robustness : The CLT provides a robust foundation for statistical analysis, as it allows us to make inferences about populations based on sample data, even when the population distribution is not normal.\n",
        "\n",
        "The CLT and the normal distribution are fundamental concepts in statistics, and their relationship is crucial for understanding many statistical methods and techniques."
      ],
      "metadata": {
        "id": "D4KademkXnPo"
      }
    },
    {
      "cell_type": "markdown",
      "source": [
        "# **Q15. What is the application of Z statistics in hypothesis testing?**"
      ],
      "metadata": {
        "id": "KtBD_f4QYM0t"
      }
    },
    {
      "cell_type": "markdown",
      "source": [
        "# **Ans15.**\n",
        "# Z Statistics in Hypothesis Testing\n",
        "The Z statistic is a widely used statistical measure in hypothesis testing.\n",
        "\n",
        "Application\n",
        "The Z statistic is used to:\n",
        "\n",
        "- Test Hypotheses : The Z statistic is used to test hypotheses about population means, proportions, and other parameters.\n",
        "- Compare Sample Means : The Z statistic can be used to compare the mean of a sample to a known population mean or to compare the means of two samples.\n",
        "- Calculate P-Values : The Z statistic is used to calculate p-values, which determine the significance of the results.\n",
        "\n",
        "Formula\n",
        "The Z statistic formula is:\n",
        "\n",
        "Z = (x̄ - μ) / (σ / √n)\n",
        "\n",
        "where x̄ is the sample mean, μ is the population mean, σ is the population standard deviation, and n is the sample size.\n",
        "\n",
        "Interpretation\n",
        "The Z statistic is interpreted as follows:\n",
        "\n",
        "- Reject or Fail to Reject : If the calculated Z statistic falls within the rejection region, the null hypothesis is rejected. Otherwise, the null hypothesis is failed to be rejected.\n",
        "- P-Value : The p-value associated with the Z statistic determines the significance of the results.\n",
        "\n",
        "Importance\n",
        "The Z statistic is important in hypothesis testing because:\n",
        "\n",
        "- Statistical Significance : It helps determine the statistical significance of the results.\n",
        "- Informed Decisions : The Z statistic enables researchers to make informed decisions based on data analysis.\n",
        "\n",
        "The Z statistic is a powerful tool in hypothesis testing, and its application is widespread in various fields, including medicine, social sciences, and business."
      ],
      "metadata": {
        "id": "XDVbAEVOYVHi"
      }
    },
    {
      "cell_type": "markdown",
      "source": [
        "# **Q16. How do you calculate a Z-score, and what does it represent?**"
      ],
      "metadata": {
        "id": "4fpZ3YjGZARc"
      }
    },
    {
      "cell_type": "markdown",
      "source": [
        "# **Ans16.**\n",
        "# Calculating a Z-Score\n",
        "A Z-score is calculated using the following formula:\n",
        "\n",
        "Z = (X - μ) / σ\n",
        "\n",
        "where:\n",
        "\n",
        "- X is the individual data point\n",
        "- μ is the population mean\n",
        "- σ is the population standard deviation\n",
        "\n",
        "Interpretation\n",
        "A Z-score represents:\n",
        "\n",
        "- Number of Standard Deviations : The number of standard deviations an individual data point is away from the population mean.\n",
        "- Relative Position : The relative position of a data point within a distribution.\n",
        "\n",
        "What Z-Scores Represent\n",
        "Z-scores can be interpreted as follows:\n",
        "\n",
        "- Positive Z-Score : A positive Z-score indicates that the data point is above the population mean.\n",
        "- Negative Z-Score : A negative Z-score indicates that the data point is below the population mean.\n",
        "- Z-Score of 0 : A Z-score of 0 indicates that the data point is equal to the population mean.\n",
        "\n",
        "Importance\n",
        "Z-scores are important because:\n",
        "\n",
        "- Standardization : Z-scores standardize data, enabling comparison and analysis of different datasets.\n",
        "- Outlier Detection : Z-scores can be used to detect outliers and anomalies in a dataset.\n",
        "\n",
        "Z-scores are widely used in statistics, data analysis, and various fields to understand and interpret data."
      ],
      "metadata": {
        "id": "aqZG-xfjZIMK"
      }
    },
    {
      "cell_type": "markdown",
      "source": [
        "# **Q17. What are point estimates and interval estimates in statistics?**"
      ],
      "metadata": {
        "id": "wFgxBvG0Z4sT"
      }
    },
    {
      "cell_type": "markdown",
      "source": [
        "# **Ans17.**\n",
        "Point Estimates and Interval Estimates\n",
        "In statistics, estimates are used to approximate population parameters based on sample data.\n",
        "\n",
        "Point Estimates\n",
        "A point estimate is a single value used to estimate a population parameter. It is a statistic that is used to approximate the value of an unknown population parameter.\n",
        "\n",
        "- Example : The sample mean is a point estimate of the population mean.\n",
        "\n",
        "Interval Estimates\n",
        "An interval estimate, also known as a confidence interval, is a range of values used to estimate a population parameter. It provides a margin of error and a level of confidence associated with the estimate.\n",
        "\n",
        "- Example : A 95% confidence interval for the population mean might be (20, 30), indicating that we are 95% confident that the true population mean lies between 20 and 30.\n",
        "\n",
        "Key Differences\n",
        "The key differences between point estimates and interval estimates are:\n",
        "\n",
        "- Precision : Point estimates provide a single value, while interval estimates provide a range of values.\n",
        "- Uncertainty : Interval estimates account for uncertainty and provide a margin of error, while point estimates do not.\n",
        "\n",
        "Importance\n",
        "Both point estimates and interval estimates are important in statistics because:\n",
        "\n",
        "- Informed Decisions : They enable researchers to make informed decisions based on data analysis.\n",
        "- Population Parameters : They help estimate population parameters, which is crucial in many fields, including medicine, social sciences, and business.\n",
        "\n",
        "Point estimates and interval estimates are fundamental concepts in statistics, and they are widely used in data analysis and interpretation."
      ],
      "metadata": {
        "id": "7T-el2oWaAQL"
      }
    },
    {
      "cell_type": "markdown",
      "source": [
        "# **Q18. What is the significance of confidence intervals in statistical analysis?**"
      ],
      "metadata": {
        "id": "8N7sRVJuauRd"
      }
    },
    {
      "cell_type": "markdown",
      "source": [
        "# **Ans18.**\n",
        "# Confidence Intervals in Statistical Analysis\n",
        "Confidence intervals are a crucial concept in statistical analysis.\n",
        "\n",
        "Significance\n",
        "The significance of confidence intervals lies in:\n",
        "\n",
        "- Quantifying Uncertainty : Confidence intervals provide a range of values within which the true population parameter is likely to lie, allowing researchers to quantify uncertainty.\n",
        "- Margin of Error : Confidence intervals provide a margin of error, which indicates the maximum amount by which the estimate may differ from the true population parameter.\n",
        "- Level of Confidence : Confidence intervals are associated with a level of confidence, which indicates the probability that the interval contains the true population parameter.\n",
        "\n",
        "Importance\n",
        "Confidence intervals are important because:\n",
        "\n",
        "- Informed Decisions : They enable researchers to make informed decisions based on data analysis, taking into account the uncertainty associated with the estimates.\n",
        "- Interpretation of Results : Confidence intervals provide a more nuanced interpretation of results, allowing researchers to understand the range of possible values for the population parameter.\n",
        "- Comparison of Estimates : Confidence intervals can be used to compare estimates across different groups or studies, providing a more comprehensive understanding of the results.\n",
        "\n",
        "Applications\n",
        "Confidence intervals have numerous applications in various fields, including:\n",
        "\n",
        "- Medicine : Confidence intervals are used to estimate the effectiveness of treatments and interventions.\n",
        "- Social Sciences : Confidence intervals are used to estimate population parameters, such as means and proportions.\n",
        "- Business : Confidence intervals are used to estimate market trends and customer behavior.\n",
        "\n",
        "Confidence intervals are a fundamental concept in statistical analysis, and their significance lies in providing a more comprehensive understanding of the results, taking into account uncertainty and margin of error."
      ],
      "metadata": {
        "id": "FuyZtdzFa4al"
      }
    },
    {
      "cell_type": "markdown",
      "source": [
        "# **Q19. What is the relationship between a Z-score and a confidence interval?**"
      ],
      "metadata": {
        "id": "emZVSjRDcAGM"
      }
    },
    {
      "cell_type": "markdown",
      "source": [
        "# **Ans19.**\n",
        "# Z-Score and Confidence Intervals\n",
        "The Z-score and confidence intervals are related concepts in statistics.\n",
        "\n",
        "Relationship\n",
        "The relationship between Z-scores and confidence intervals is as follows:\n",
        "\n",
        "- Z-Score Calculation : Z-scores are used to calculate confidence intervals for normally distributed data.\n",
        "- Critical Values : The Z-score corresponding to a specific confidence level (e.g., 95%) is used as a critical value to construct the confidence interval.\n",
        "- Margin of Error : The Z-score is used to calculate the margin of error, which is the maximum amount by which the estimate may differ from the true population parameter.\n",
        "\n",
        "Confidence Interval Formula\n",
        "The formula for a confidence interval using Z-scores is:\n",
        "\n",
        "CI = x̄ ± (Z * (σ / √n))\n",
        "\n",
        "where:\n",
        "\n",
        "- x̄ is the sample mean\n",
        "- Z is the Z-score corresponding to the desired confidence level\n",
        "- σ is the population standard deviation\n",
        "- n is the sample size\n",
        "\n",
        "Importance\n",
        "The relationship between Z-scores and confidence intervals is important because:\n",
        "\n",
        "- Constructing Intervals : Z-scores enable researchers to construct confidence intervals for normally distributed data.\n",
        "- Quantifying Uncertainty : Confidence intervals provide a range of values within which the true population parameter is likely to lie, allowing researchers to quantify uncertainty.\n",
        "\n",
        "The relationship between Z-scores and confidence intervals is fundamental in statistical analysis, and it is widely used in various fields to estimate population parameters and quantify uncertainty."
      ],
      "metadata": {
        "id": "Ll0dQNlIcHAU"
      }
    },
    {
      "cell_type": "markdown",
      "source": [
        "# **Q20. How are Z-scores used to compare different distributions?**"
      ],
      "metadata": {
        "id": "OnJHsdSxcvqn"
      }
    },
    {
      "cell_type": "markdown",
      "source": [
        "# **Ans20.**\n",
        "# Using Z-Scores to Compare Different Distributions\n",
        "Z-scores can be used to compare different distributions by standardizing the values.\n",
        "\n",
        "Standardization\n",
        "Z-scores standardize values from different distributions, allowing for comparison.\n",
        "\n",
        "- Common Scale : Z-scores put values from different distributions on a common scale, enabling comparison and analysis.\n",
        "- Relative Position : Z-scores indicate the relative position of a value within its own distribution.\n",
        "\n",
        "Comparison\n",
        "Z-scores can be used to compare:\n",
        "\n",
        "- Values from Different Distributions : Z-scores enable comparison of values from different distributions, taking into account the mean and standard deviation of each distribution.\n",
        "- Relative Standing : Z-scores can be used to determine the relative standing of a value within its own distribution, compared to other distributions.\n",
        "\n",
        "Importance\n",
        "Using Z-scores to compare different distributions is important because:\n",
        "\n",
        "- Meaningful Comparisons : Z-scores enable meaningful comparisons between values from different distributions.\n",
        "- Contextual Understanding : Z-scores provide a contextual understanding of values, taking into account the distribution's mean and standard deviation.\n",
        "\n",
        "Applications\n",
        "Z-scores are widely used in various fields to compare different distributions, including:\n",
        "\n",
        "- Education : Comparing student scores from different tests or classes.\n",
        "- Business : Comparing performance metrics across different departments or companies.\n",
        "- Healthcare : Comparing patient outcomes across different treatments or studies.\n",
        "\n",
        "By standardizing values, Z-scores enable comparison and analysis of different distributions, providing a more nuanced understanding of the data."
      ],
      "metadata": {
        "id": "qaOPM6S6c2e0"
      }
    },
    {
      "cell_type": "markdown",
      "source": [
        "# **Q21. What are the assumptions for applying the Central Limit Theorem?**"
      ],
      "metadata": {
        "id": "vFRYbPFqdd7X"
      }
    },
    {
      "cell_type": "markdown",
      "source": [
        "# **Ans21.**\n",
        "# Assumptions for Applying the Central Limit Theorem\n",
        "The Central Limit Theorem (CLT) is a fundamental concept in statistics, and its application relies on certain assumptions.\n",
        "\n",
        "Key Assumptions\n",
        "The key assumptions for applying the CLT are:\n",
        "\n",
        "- Independence : The random variables must be independent, meaning that the occurrence of one variable does not affect the occurrence of another.\n",
        "- Identical Distribution : The random variables must be identically distributed, meaning that they have the same probability distribution.\n",
        "- Finite Variance : The random variables must have a finite variance, meaning that the variance is not infinite.\n",
        "- Sufficiently Large Sample Size : The sample size must be sufficiently large, typically n ≥ 30.\n",
        "\n",
        "Importance\n",
        "These assumptions are important because:\n",
        "\n",
        "- Validity of Results : The assumptions ensure the validity of the results obtained using the CLT.\n",
        "- Approximation : The CLT provides an approximation of the sampling distribution, and the assumptions ensure that the approximation is reasonable.\n",
        "\n",
        "Consequences of Violating Assumptions\n",
        "Violating the assumptions can lead to:\n",
        "\n",
        "- Inaccurate Results : If the assumptions are not met, the results obtained using the CLT may be inaccurate or misleading.\n",
        "- Alternative Methods : In such cases, alternative methods or techniques may be necessary to analyze the data.\n",
        "\n",
        "The CLT is a powerful tool in statistics, and understanding its assumptions is crucial for applying it correctly and interpreting the results accurately."
      ],
      "metadata": {
        "id": "ciy9YaAsdk9I"
      }
    },
    {
      "cell_type": "markdown",
      "source": [
        "# **Q22. What is the concept of expected value in a probability distribution?**"
      ],
      "metadata": {
        "id": "QyBN9EQieKZH"
      }
    },
    {
      "cell_type": "markdown",
      "source": [
        "# **Ans22.**\n",
        "# Expected Value in a Probability Distribution\n",
        "The expected value, also known as the expectation or mean, is a fundamental concept in probability theory.\n",
        "\n",
        "Definition\n",
        "The expected value of a random variable is the sum of each possible outcome multiplied by its probability.\n",
        "\n",
        "Formula\n",
        "The formula for the expected value is:\n",
        "\n",
        "E(X) = ∑xP(x)\n",
        "\n",
        "where:\n",
        "\n",
        "- E(X) is the expected value\n",
        "- x is the outcome\n",
        "- P(x) is the probability of the outcome\n",
        "\n",
        "Interpretation\n",
        "The expected value can be interpreted as:\n",
        "\n",
        "- Long-term Average : The expected value represents the long-term average of the random variable if the experiment is repeated many times.\n",
        "- Center of the Distribution : The expected value is a measure of the center of the probability distribution.\n",
        "\n",
        "Importance\n",
        "The expected value is important because:\n",
        "\n",
        "- Decision Making : It helps in decision making under uncertainty by providing a measure of the average outcome.\n",
        "- Risk Analysis : It is used in risk analysis to calculate the expected return or loss.\n",
        "\n",
        "Applications\n",
        "The expected value has numerous applications in various fields, including:\n",
        "\n",
        "- Insurance : Calculating premiums and payouts.\n",
        "- Finance : Evaluating investment opportunities.\n",
        "- Engineering : Designing systems and optimizing performance.\n",
        "\n",
        "The expected value is a fundamental concept in probability theory, and it provides a powerful tool for analyzing and interpreting random phenomena."
      ],
      "metadata": {
        "id": "BaUkHMCXeRf5"
      }
    },
    {
      "cell_type": "markdown",
      "source": [
        "# **Q23. How does a probability distribution relate to the expected outcome of a random variable?**"
      ],
      "metadata": {
        "id": "YKissqwfe3gn"
      }
    },
    {
      "cell_type": "markdown",
      "source": [
        "# **Ans23.**\n",
        "# Probability Distribution and Expected Outcome\n",
        "A probability distribution describes the probability of each possible outcome of a random variable.\n",
        "\n",
        "Relationship\n",
        "The probability distribution is related to the expected outcome in the following way:\n",
        "\n",
        "- Weighted Average : The expected outcome is calculated by taking a weighted average of each possible outcome, where the weights are the probabilities of each outcome.\n",
        "- Probability-weighted Outcomes : The probability distribution provides the weights for each outcome, allowing us to calculate the expected outcome.\n",
        "\n",
        "Calculation\n",
        "The expected outcome is calculated using the formula:\n",
        "\n",
        "E(X) = ∑xP(x)\n",
        "\n",
        "where:\n",
        "\n",
        "- E(X) is the expected outcome\n",
        "- x is the outcome\n",
        "- P(x) is the probability of the outcome\n",
        "\n",
        "Importance\n",
        "The relationship between the probability distribution and the expected outcome is important because:\n",
        "\n",
        "- Predicting Outcomes : It allows us to predict the average outcome of a random variable over many trials.\n",
        "- Informed Decisions : It enables us to make informed decisions based on the expected outcome.\n",
        "\n",
        "Applications\n",
        "The relationship between probability distributions and expected outcomes has numerous applications in various fields, including:\n",
        "\n",
        "- Finance : Evaluating investment opportunities and predicting returns.\n",
        "- Insurance : Calculating premiums and payouts.\n",
        "- Engineering : Designing systems and optimizing performance.\n",
        "\n",
        "The probability distribution and expected outcome are fundamental concepts in probability theory, and their relationship is crucial for understanding and analyzing random phenomena."
      ],
      "metadata": {
        "id": "GW27KwGOe_Ri"
      }
    },
    {
      "cell_type": "markdown",
      "source": [
        "# **Practical**"
      ],
      "metadata": {
        "id": "f-NaoMigR8qb"
      }
    },
    {
      "cell_type": "markdown",
      "source": [
        "# **Q1. Write a Python program to generate a random variable and display its value.**"
      ],
      "metadata": {
        "id": "bySn1LC6SCMw"
      }
    },
    {
      "cell_type": "code",
      "source": [
        "import random\n",
        "\n",
        "# Generate a random number between 1 and 100\n",
        "random_variable = random.randint(1, 100)\n",
        "\n",
        "# Display the value\n",
        "print(\"Random variable value:\", random_variable)"
      ],
      "metadata": {
        "id": "--S4RCeXSLFC"
      },
      "execution_count": null,
      "outputs": []
    },
    {
      "cell_type": "markdown",
      "source": [
        "# **Q2. Generate a discrete uniform distribution using Python and plot the probability mass function (PMF).**"
      ],
      "metadata": {
        "id": "eIy94vzOSYCC"
      }
    },
    {
      "cell_type": "code",
      "source": [
        "import numpy as np\n",
        "import matplotlib.pyplot as plt\n",
        "from scipy.stats import randint\n",
        "\n",
        "# Parameters for the discrete uniform distribution\n",
        "low = 1   # inclusive lower bound\n",
        "high = 7  # exclusive upper bound (like a fair dice: 1 to 6)\n",
        "\n",
        "# Generate a discrete uniform distribution\n",
        "x = np.arange(low, high)\n",
        "pmf = randint.pmf(x, low, high)\n",
        "\n",
        "# Plotting the PMF\n",
        "plt.stem(x, pmf, use_line_collection=True)\n",
        "plt.title(\"PMF of Discrete Uniform Distribution (Dice Roll)\")\n",
        "plt.xlabel(\"Value\")\n",
        "plt.ylabel(\"Probability\")\n",
        "plt.xticks(x)\n",
        "plt.grid(True)\n",
        "plt.show()"
      ],
      "metadata": {
        "id": "oNbPAI_oSgmv"
      },
      "execution_count": null,
      "outputs": []
    },
    {
      "cell_type": "markdown",
      "source": [
        "# **Q3.  Write a Python function to calculate the probability distribution function (PDF) of a Bernoulli distribution.**"
      ],
      "metadata": {
        "id": "kKu3JCWYSqEQ"
      }
    },
    {
      "cell_type": "code",
      "source": [
        "def bernoulli_pdf(x, p):\n",
        "    \"\"\"\n",
        "    Calculates the PDF of a Bernoulli distribution.\n",
        "\n",
        "    Parameters:\n",
        "    x (int): Value of the random variable (should be 0 or 1)\n",
        "    p (float): Probability of success (0 <= p <= 1)\n",
        "\n",
        "    Returns:\n",
        "    float: Probability P(X = x)\n",
        "    \"\"\"\n",
        "    if x == 1:\n",
        "        return p\n",
        "    elif x == 0:\n",
        "        return 1 - p\n",
        "    else:\n",
        "        return 0.0  # Invalid input for Bernoulli distribution\n",
        "\n",
        "# Example usage\n",
        "p = 0.6\n",
        "print(\"P(X=0):\", bernoulli_pdf(0, p))\n",
        "print(\"P(X=1):\", bernoulli_pdf(1, p))\n",
        "print(\"P(X=2):\", bernoulli_pdf(2, p))  # Invalid input"
      ],
      "metadata": {
        "colab": {
          "base_uri": "https://localhost:8080/"
        },
        "id": "3KiXFjWlSwsu",
        "outputId": "2f12a279-021e-4ead-c72d-4306118c9fff"
      },
      "execution_count": null,
      "outputs": [
        {
          "output_type": "stream",
          "name": "stdout",
          "text": [
            "P(X=0): 0.4\n",
            "P(X=1): 0.6\n",
            "P(X=2): 0.0\n"
          ]
        }
      ]
    },
    {
      "cell_type": "markdown",
      "source": [
        "# **Q4. Write a Python script to simulate a binomial distribution with n=10 and p=0.5, then plot its histogram.**"
      ],
      "metadata": {
        "id": "dn-PPM90TAkL"
      }
    },
    {
      "cell_type": "code",
      "source": [
        "import numpy as np\n",
        "import matplotlib.pyplot as plt\n",
        "\n",
        "# Parameters\n",
        "n = 10       # number of trials\n",
        "p = 0.5      # probability of success\n",
        "size = 1000  # number of samples to simulate\n",
        "\n",
        "# Simulate the binomial distribution\n",
        "data = np.random.binomial(n, p, size)\n",
        "\n",
        "# Plot the histogram\n",
        "plt.hist(data, bins=np.arange(n+2)-0.5, density=True, edgecolor='black', alpha=0.7)\n",
        "plt.title('Binomial Distribution Histogram (n=10, p=0.5)')\n",
        "plt.xlabel('Number of Successes')\n",
        "plt.ylabel('Probability')\n",
        "plt.xticks(range(n+1))\n",
        "plt.grid(True)\n",
        "plt.show()"
      ],
      "metadata": {
        "id": "-5pmeQTeTHDF"
      },
      "execution_count": null,
      "outputs": []
    },
    {
      "cell_type": "markdown",
      "source": [
        "# **Q5. Create a Poisson distribution and visualize it using Python.**"
      ],
      "metadata": {
        "id": "QsLBNhVgTO0R"
      }
    },
    {
      "cell_type": "code",
      "source": [
        "import numpy as np\n",
        "import matplotlib.pyplot as plt\n",
        "from scipy.stats import poisson\n",
        "\n",
        "# Parameters\n",
        "lambda_ = 4  # average rate (λ)\n",
        "\n",
        "# Create a range of x values (0 to 15 is enough for λ = 4)\n",
        "x = np.arange(0, 15)\n",
        "pmf = poisson.pmf(x, mu=lambda_)\n",
        "\n",
        "# Plotting the PMF\n",
        "plt.stem(x, pmf, basefmt=\" \", use_line_collection=True)\n",
        "plt.title(\"Poisson Distribution (λ = 4)\")\n",
        "plt.xlabel(\"Number of Events (k)\")\n",
        "plt.ylabel(\"Probability P(X = k)\")\n",
        "plt.grid(True)\n",
        "plt.show()"
      ],
      "metadata": {
        "id": "bpmcnl9zTYX6"
      },
      "execution_count": null,
      "outputs": []
    },
    {
      "cell_type": "markdown",
      "source": [
        "# **Q6. Write a Python program to calculate and plot the cumulative distribution function (CDF) of a discrete uniform distribution.**\n"
      ],
      "metadata": {
        "id": "dZCEmtWFTlXt"
      }
    },
    {
      "cell_type": "code",
      "source": [
        "import numpy as np\n",
        "import matplotlib.pyplot as plt\n",
        "from scipy.stats import randint\n",
        "\n",
        "# Parameters for the discrete uniform distribution\n",
        "low = 1   # inclusive\n",
        "high = 7  # exclusive (so values will be 1 to 6)\n",
        "\n",
        "# Values for which to compute the CDF\n",
        "x = np.arange(low, high)\n",
        "cdf = randint.cdf(x, low, high)\n",
        "\n",
        "# Plotting the CDF\n",
        "plt.step(x, cdf, where='post', label=\"CDF\", color='blue')\n",
        "plt.title(\"CDF of Discrete Uniform Distribution (Dice: 1 to 6)\")\n",
        "plt.xlabel(\"Value\")\n",
        "plt.ylabel(\"Cumulative Probability\")\n",
        "plt.xticks(x)\n",
        "plt.ylim(0, 1.1)\n",
        "plt.grid(True)\n",
        "plt.legend()\n",
        "plt.show()"
      ],
      "metadata": {
        "id": "twzjaFd1T47n"
      },
      "execution_count": null,
      "outputs": []
    },
    {
      "cell_type": "markdown",
      "source": [
        "# **Q7. Generate a continuous uniform distribution using NumPy and visualize it.**"
      ],
      "metadata": {
        "id": "XrrxpYB7UIBS"
      }
    },
    {
      "cell_type": "code",
      "source": [
        "import numpy as np\n",
        "import matplotlib.pyplot as plt\n",
        "from scipy.stats import uniform\n",
        "\n",
        "# Parameters for the continuous uniform distribution\n",
        "a = 0     # lower bound\n",
        "b = 10    # upper bound\n",
        "size = 1000  # number of samples\n",
        "\n",
        "# Generate samples\n",
        "data = np.random.uniform(a, b, size)\n",
        "\n",
        "# Plot histogram of the samples\n",
        "plt.hist(data, bins=30, density=True, alpha=0.6, color='skyblue', edgecolor='black', label='Sampled Data')\n",
        "\n",
        "# Plot theoretical PDF\n",
        "x = np.linspace(a, b, 1000)\n",
        "pdf = uniform.pdf(x, loc=a, scale=b - a)\n",
        "plt.plot(x, pdf, 'r-', lw=2, label='PDF (Theoretical)')\n",
        "\n",
        "# Customize plot\n",
        "plt.title('Continuous Uniform Distribution')\n",
        "plt.xlabel('Value')\n",
        "plt.ylabel('Density')\n",
        "plt.legend()\n",
        "plt.grid(True)\n",
        "plt.show()"
      ],
      "metadata": {
        "id": "E6qqivUKUQJe"
      },
      "execution_count": null,
      "outputs": []
    },
    {
      "cell_type": "markdown",
      "source": [
        "# **Q8. Simulate data from a normal distribution and plot its histogram.**"
      ],
      "metadata": {
        "id": "K01DWdSwUdOJ"
      }
    },
    {
      "cell_type": "code",
      "source": [
        "import numpy as np\n",
        "import matplotlib.pyplot as plt\n",
        "\n",
        "# Parameters for the normal distribution\n",
        "mu = 0      # mean\n",
        "sigma = 1   # standard deviation\n",
        "size = 1000 # number of samples\n",
        "\n",
        "# Simulate data\n",
        "data = np.random.normal(mu, sigma, size)\n",
        "\n",
        "# Plot histogram\n",
        "plt.hist(data, bins=30, density=True, alpha=0.6, color='skyblue', edgecolor='black')\n",
        "plt.title('Histogram of Simulated Normal Distribution')\n",
        "plt.xlabel('Value')\n",
        "plt.ylabel('Density')\n",
        "plt.grid(True)\n",
        "plt.show()"
      ],
      "metadata": {
        "id": "ZHd4q7UTUj9J"
      },
      "execution_count": null,
      "outputs": []
    },
    {
      "cell_type": "markdown",
      "source": [
        "# **Q8. Write a Python function to calculate Z-scores from a dataset and plot them?**"
      ],
      "metadata": {
        "id": "GnfdqnB0UrzB"
      }
    },
    {
      "cell_type": "code",
      "source": [
        "import numpy as np\n",
        "import matplotlib.pyplot as plt\n",
        "\n",
        "def calculate_and_plot_z_scores(data):\n",
        "    \"\"\"\n",
        "    Calculate Z-scores and plot their histogram.\n",
        "\n",
        "    Parameters:\n",
        "    data (list or np.array): The input dataset.\n",
        "\n",
        "    Returns:\n",
        "    np.array: Array of Z-scores\n",
        "    \"\"\"\n",
        "    data = np.array(data)\n",
        "    mean = np.mean(data)\n",
        "    std = np.std(data)\n",
        "\n",
        "    # Calculate Z-scores\n",
        "    z_scores = (data - mean) / std\n",
        "\n",
        "    # Plot histogram of Z-scores\n",
        "    plt.hist(z_scores, bins=30, edgecolor='black', color='lightgreen', density=True)\n",
        "    plt.title('Histogram of Z-Scores')\n",
        "    plt.xlabel('Z-Score')\n",
        "    plt.ylabel('Density')\n",
        "    plt.grid(True)\n",
        "    plt.show()\n",
        "\n",
        "    return z_scores\n",
        "\n",
        "# Example usage\n",
        "sample_data = np.random.normal(50, 10, 1000)  # Sample dataset from N(50, 10)\n",
        "z_scores = calculate_and_plot_z_scores(sample_data)"
      ],
      "metadata": {
        "id": "ifrWtDqVUzm4"
      },
      "execution_count": null,
      "outputs": []
    },
    {
      "cell_type": "markdown",
      "source": [
        "# **Q10. Implement the Central Limit Theorem (CLT) using Python for a non-normal distribution.**"
      ],
      "metadata": {
        "id": "Q7HEvC9KU9LU"
      }
    },
    {
      "cell_type": "code",
      "source": [
        "import numpy as np\n",
        "import matplotlib.pyplot as plt\n",
        "\n",
        "def demonstrate_clt(sample_size=30, num_samples=1000):\n",
        "    \"\"\"\n",
        "    Demonstrate Central Limit Theorem using exponential distribution.\n",
        "\n",
        "    Parameters:\n",
        "    sample_size (int): Number of observations per sample\n",
        "    num_samples (int): Number of samples to draw\n",
        "    \"\"\"\n",
        "    # Storage for sample means\n",
        "    sample_means = []\n",
        "\n",
        "    # Loop to generate samples\n",
        "    for _ in range(num_samples):\n",
        "        sample = np.random.exponential(scale=2.0, size=sample_size)\n",
        "        sample_mean = np.mean(sample)\n",
        "        sample_means.append(sample_mean)\n",
        "\n",
        "    # Plot histogram of sample means\n",
        "    plt.hist(sample_means, bins=30, color='skyblue', edgecolor='black', density=True)\n",
        "    plt.title(f'Central Limit Theorem\\nSample Size = {sample_size}, Samples = {num_samples}')\n",
        "    plt.xlabel('Sample Mean')\n",
        "    plt.ylabel('Density')\n",
        "    plt.grid(True)\n",
        "    plt.show()\n",
        "\n",
        "# Run the CLT demonstration\n",
        "demonstrate_clt(sample_size=30, num_samples=1000)"
      ],
      "metadata": {
        "id": "ehIi3I6_VC73"
      },
      "execution_count": null,
      "outputs": []
    },
    {
      "cell_type": "markdown",
      "source": [
        "# **Q15. Simulate multiple samples from a normal distribution and verify the Central Limit Theorem.**\n"
      ],
      "metadata": {
        "id": "6q1gVlE_VLJn"
      }
    },
    {
      "cell_type": "code",
      "source": [
        "import numpy as np\n",
        "import matplotlib.pyplot as plt\n",
        "from scipy.stats import norm\n",
        "\n",
        "def verify_clt_with_normal_distribution(mu=50, sigma=10, sample_size=30, num_samples=1000):\n",
        "    \"\"\"\n",
        "    Simulates multiple samples from a normal distribution and verifies CLT.\n",
        "\n",
        "    Parameters:\n",
        "    mu (float): Mean of the population\n",
        "    sigma (float): Standard deviation of the population\n",
        "    sample_size (int): Number of values in each sample\n",
        "    num_samples (int): Number of samples to generate\n",
        "    \"\"\"\n",
        "    sample_means = []\n",
        "\n",
        "    for _ in range(num_samples):\n",
        "        sample = np.random.normal(mu, sigma, sample_size)\n",
        "        sample_means.append(np.mean(sample))\n",
        "\n",
        "    # Convert to numpy array for further calculations\n",
        "    sample_means = np.array(sample_means)\n",
        "\n",
        "    # Plot histogram of sample means\n",
        "    plt.hist(sample_means, bins=30, density=True, alpha=0.6, color='skyblue', edgecolor='black')\n",
        "\n",
        "    # Plot theoretical normal curve\n",
        "    x = np.linspace(min(sample_means), max(sample_means), 1000)\n",
        "    plt.plot(x, norm.pdf(x, loc=mu, scale=sigma/np.sqrt(sample_size)), 'r-', lw=2, label='Theoretical Normal')\n",
        "\n",
        "    plt.title('CLT Verification Using Normal Distribution')\n",
        "    plt.xlabel('Sample Mean')\n",
        "    plt.ylabel('Density')\n",
        "    plt.grid(True)\n",
        "    plt.legend()\n",
        "    plt.show()\n",
        "\n",
        "# Run the CLT verification\n",
        "verify_clt_with_normal_distribution()"
      ],
      "metadata": {
        "id": "CkVAipkQVXWv"
      },
      "execution_count": null,
      "outputs": []
    },
    {
      "cell_type": "markdown",
      "source": [
        "# **Q16. Write a Python function to calculate and plot the standard normal distribution (mean = 0, std = 1).**\n"
      ],
      "metadata": {
        "id": "Mq5vtLMgViQG"
      }
    },
    {
      "cell_type": "code",
      "source": [
        "import numpy as np\n",
        "import matplotlib.pyplot as plt\n",
        "from scipy.stats import norm\n",
        "\n",
        "def plot_standard_normal_distribution():\n",
        "    \"\"\"\n",
        "    Calculates and plots the standard normal distribution (mean=0, std=1).\n",
        "    \"\"\"\n",
        "    # Define the x values (covering most of the bell curve)\n",
        "    x = np.linspace(-4, 4, 1000)\n",
        "\n",
        "    # Calculate the standard normal PDF\n",
        "    pdf = norm.pdf(x, loc=0, scale=1)\n",
        "\n",
        "    # Plot the curve\n",
        "    plt.plot(x, pdf, color='blue', lw=2, label='Standard Normal PDF')\n",
        "    plt.title('Standard Normal Distribution (μ=0, σ=1)')\n",
        "    plt.xlabel('Z-Score')\n",
        "    plt.ylabel('Probability Density')\n",
        "    plt.grid(True)\n",
        "    plt.axvline(0, color='black', linestyle='--', lw=1)\n",
        "    plt.legend()\n",
        "    plt.show()\n",
        "\n",
        "# Call the function\n",
        "plot_standard_normal_distribution()"
      ],
      "metadata": {
        "id": "y-BIlTZRVpBh"
      },
      "execution_count": null,
      "outputs": []
    },
    {
      "cell_type": "markdown",
      "source": [
        "# **Q17. Generate random variables and calculate their corresponding probabilities using the binomial distribution.**"
      ],
      "metadata": {
        "id": "Y3Jvcb0CV0Fk"
      }
    },
    {
      "cell_type": "code",
      "source": [
        "import numpy as np\n",
        "from scipy.stats import binom\n",
        "import matplotlib.pyplot as plt\n",
        "\n",
        "# Parameters\n",
        "n = 10      # number of trials\n",
        "p = 0.5     # probability of success\n",
        "size = 10   # number of random variables to generate\n",
        "\n",
        "# Step 1: Generate random variables\n",
        "random_vars = np.random.binomial(n, p, size)\n",
        "print(\"Random variables from Binomial(n=10, p=0.5):\")\n",
        "print(random_vars)\n",
        "\n",
        "# Step 2: Calculate corresponding probabilities (PMF)\n",
        "unique_vals = np.unique(random_vars)\n",
        "probabilities = binom.pmf(unique_vals, n, p)\n",
        "\n",
        "print(\"\\nPMF values:\")\n",
        "for val, prob in zip(unique_vals, probabilities):\n",
        "    print(f\"P(X = {val}) = {prob:.4f}\")\n",
        "\n",
        "# Step 3: Optional - Plot the PMF\n",
        "x = np.arange(0, n+1)\n",
        "pmf = binom.pmf(x, n, p)\n",
        "\n",
        "plt.bar(x, pmf, color='skyblue', edgecolor='black')\n",
        "plt.title('Binomial Distribution PMF (n=10, p=0.5)')\n",
        "plt.xlabel('Number of Successes')\n",
        "plt.ylabel('Probability')\n",
        "plt.xticks(x)\n",
        "plt.grid(True)\n",
        "plt.show()"
      ],
      "metadata": {
        "colab": {
          "base_uri": "https://localhost:8080/",
          "height": 628
        },
        "id": "hHJRN59GV6t0",
        "outputId": "0d46a9ee-beb9-4eae-fc98-580dd34bfa3c"
      },
      "execution_count": null,
      "outputs": [
        {
          "output_type": "stream",
          "name": "stdout",
          "text": [
            "Random variables from Binomial(n=10, p=0.5):\n",
            "[ 4  6 10  5  5  4  6  5  8  4]\n",
            "\n",
            "PMF values:\n",
            "P(X = 4) = 0.2051\n",
            "P(X = 5) = 0.2461\n",
            "P(X = 6) = 0.2051\n",
            "P(X = 8) = 0.0439\n",
            "P(X = 10) = 0.0010\n"
          ]
        },
        {
          "output_type": "display_data",
          "data": {
            "text/plain": [
              "<Figure size 640x480 with 1 Axes>"
            ],
            "image/png": "[encoded data removed]"
          },
          "metadata": {}
        }
      ]
    },
    {
      "cell_type": "markdown",
      "source": [
        "# **Q18. Write a Python program to calculate the Z-score for a given data point and compare it to a standard normal distribution.**\n"
      ],
      "metadata": {
        "id": "V2F6JUfsWXT6"
      }
    },
    {
      "cell_type": "code",
      "source": [
        "import numpy as np\n",
        "import matplotlib.pyplot as plt\n",
        "from scipy.stats import norm\n",
        "\n",
        "def calculate_z_score(x, mean, std):\n",
        "    \"\"\"\n",
        "    Calculates the Z-score for a given data point.\n",
        "\n",
        "    Parameters:\n",
        "    x (float): Data point\n",
        "    mean (float): Mean of the dataset\n",
        "    std (float): Standard deviation of the dataset\n",
        "\n",
        "    Returns:\n",
        "    float: Z-score\n",
        "    \"\"\"\n",
        "    return (x - mean) / std\n",
        "\n",
        "def plot_z_score_on_standard_normal(z):\n",
        "    \"\"\"\n",
        "    Plots the Z-score on the standard normal distribution curve.\n",
        "\n",
        "    Parameters:\n",
        "    z (float): Z-score\n",
        "    \"\"\"\n",
        "    x = np.linspace(-4, 4, 1000)\n",
        "    y = norm.pdf(x, 0, 1)\n",
        "\n",
        "    plt.plot(x, y, label='Standard Normal Distribution', color='blue')\n",
        "    plt.fill_between(x, 0, y, where=(x <= z), color='orange', alpha=0.5, label=f'Area ≤ Z={z:.2f}')\n",
        "    plt.axvline(z, color='red', linestyle='--', label=f'Z = {z:.2f}')\n",
        "    plt.title('Z-score on Standard Normal Distribution')\n",
        "    plt.xlabel('Z')\n",
        "    plt.ylabel('Probability Density')\n",
        "    plt.legend()\n",
        "    plt.grid(True)\n",
        "    plt.show()\n",
        "\n",
        "# Example inputs\n",
        "x = 72           # data point\n",
        "mean = 70        # population mean\n",
        "std = 5          # population standard deviation\n",
        "\n",
        "# Calculate Z-score\n",
        "z = calculate_z_score(x, mean, std)\n",
        "print(f\"Z-score for x = {x}: {z:.2f}\")\n",
        "\n",
        "# Plot Z-score on standard normal distribution\n",
        "plot_z_score_on_standard_normal(z)"
      ],
      "metadata": {
        "id": "gW1JvimQWhr9"
      },
      "execution_count": null,
      "outputs": []
    },
    {
      "cell_type": "markdown",
      "source": [
        "# **Q19. Implement hypothesis testing using Z-statistics for a sample dataset.**"
      ],
      "metadata": {
        "id": "rYr_aZJMWvMH"
      }
    },
    {
      "cell_type": "code",
      "source": [
        "import numpy as np\n",
        "from scipy.stats import norm\n",
        "\n",
        "def z_test(sample_mean, population_mean, population_std, n, alpha=0.05):\n",
        "    \"\"\"\n",
        "    Perform a two-tailed Z-test.\n",
        "\n",
        "    Returns:\n",
        "    - Z-score\n",
        "    - p-value\n",
        "    - Conclusion (Reject or Fail to Reject H0)\n",
        "    \"\"\"\n",
        "    # Step 1: Calculate Z-statistic\n",
        "    z = (sample_mean - population_mean) / (population_std / np.sqrt(n))\n",
        "\n",
        "    # Step 2: Calculate p-value (two-tailed)\n",
        "    p_value = 2 * (1 - norm.cdf(abs(z)))\n",
        "\n",
        "    # Step 3: Make a decision\n",
        "    conclusion = \"Reject H0\" if p_value < alpha else \"Fail to Reject H0\"\n",
        "\n",
        "    # Print results\n",
        "    print(f\"Z-score: {z:.4f}\")\n",
        "    print(f\"p-value: {p_value:.4f}\")\n",
        "    print(f\"Conclusion at α = {alpha}: {conclusion}\")\n",
        "\n",
        "    return z, p_value, conclusion\n",
        "\n",
        "# Example values\n",
        "sample_mean = 172\n",
        "population_mean = 170\n",
        "population_std = 5\n",
        "n = 50\n",
        "alpha = 0.05\n",
        "\n",
        "# Run the test\n",
        "z_test(sample_mean, population_mean, population_std, n, alpha)"
      ],
      "metadata": {
        "colab": {
          "base_uri": "https://localhost:8080/"
        },
        "id": "KF7AC9g9W1bL",
        "outputId": "967020e2-c513-4a53-e0fc-b29a1d7fdcd0"
      },
      "execution_count": null,
      "outputs": [
        {
          "output_type": "stream",
          "name": "stdout",
          "text": [
            "Z-score: 2.8284\n",
            "p-value: 0.0047\n",
            "Conclusion at α = 0.05: Reject H0\n"
          ]
        },
        {
          "output_type": "execute_result",
          "data": {
            "text/plain": [
              "(np.float64(2.8284271247461903), np.float64(0.004677734981047177), 'Reject H0')"
            ]
          },
          "metadata": {},
          "execution_count": 3
        }
      ]
    },
    {
      "cell_type": "markdown",
      "source": [
        "# **Q20. Create a confidence interval for a dataset using Python and interpret the result.**"
      ],
      "metadata": {
        "id": "S0eoLpp5XDvV"
      }
    },
    {
      "cell_type": "code",
      "source": [
        "import numpy as np\n",
        "from scipy import stats\n",
        "\n",
        "def confidence_interval(data, confidence=0.95):\n",
        "    \"\"\"\n",
        "    Calculates a confidence interval for the mean of a dataset.\n",
        "\n",
        "    Parameters:\n",
        "    - data (list or np.array): Sample data\n",
        "    - confidence (float): Confidence level (default is 95%)\n",
        "\n",
        "    Returns:\n",
        "    - Tuple (lower bound, upper bound)\n",
        "    \"\"\"\n",
        "    data = np.array(data)\n",
        "    n = len(data)\n",
        "    mean = np.mean(data)\n",
        "    sem = stats.sem(data)  # Standard Error of the Mean\n",
        "    margin = sem * stats.t.ppf((1 + confidence) / 2., n-1)\n",
        "\n",
        "    lower = mean - margin\n",
        "    upper = mean + margin\n",
        "\n",
        "    print(f\"{int(confidence*100)}% Confidence Interval for the mean: ({lower:.2f}, {upper:.2f})\")\n",
        "    return lower, upper\n",
        "\n",
        "# Example dataset\n",
        "sample_data = [12, 15, 14, 10, 13, 14, 13, 16, 12, 15]\n",
        "\n",
        "# Calculate 95% confidence interval\n",
        "confidence_interval(sample_data)"
      ],
      "metadata": {
        "colab": {
          "base_uri": "https://localhost:8080/"
        },
        "id": "zLx20YyzXJ8d",
        "outputId": "148ba615-5ef8-4fe2-d614-65f5772f12b5"
      },
      "execution_count": null,
      "outputs": [
        {
          "output_type": "stream",
          "name": "stdout",
          "text": [
            "95% Confidence Interval for the mean: (12.13, 14.67)\n"
          ]
        },
        {
          "output_type": "execute_result",
          "data": {
            "text/plain": [
              "(np.float64(12.129248329021845), np.float64(14.670751670978156))"
            ]
          },
          "metadata": {},
          "execution_count": 4
        }
      ]
    },
    {
      "cell_type": "markdown",
      "source": [
        "# **Q21. Generate data from a normal distribution, then calculate and interpret the confidence interval for its mean?**"
      ],
      "metadata": {
        "id": "WWLLMIz9XV3M"
      }
    },
    {
      "cell_type": "code",
      "source": [
        "import numpy as np\n",
        "from scipy import stats\n",
        "\n",
        "# Step 1: Generate data from a normal distribution\n",
        "np.random.seed(42)  # For reproducibility\n",
        "mu = 100           # True mean\n",
        "sigma = 15         # True standard deviation\n",
        "n = 50             # Sample size\n",
        "\n",
        "data = np.random.normal(mu, sigma, n)\n",
        "\n",
        "# Step 2: Calculate 95% confidence interval for the mean\n",
        "def confidence_interval(data, confidence=0.95):\n",
        "    n = len(data)\n",
        "    mean = np.mean(data)\n",
        "    sem = stats.sem(data)  # Standard Error of the Mean\n",
        "    margin = sem * stats.t.ppf((1 + confidence) / 2., n-1)\n",
        "    lower = mean - margin\n",
        "    upper = mean + margin\n",
        "    return mean, (lower, upper)\n",
        "\n",
        "sample_mean, (ci_lower, ci_upper) = confidence_interval(data)\n",
        "\n",
        "# Step 3: Print results\n",
        "print(f\"Sample Mean: {sample_mean:.2f}\")\n",
        "print(f\"95% Confidence Interval: ({ci_lower:.2f}, {ci_upper:.2f})\")"
      ],
      "metadata": {
        "colab": {
          "base_uri": "https://localhost:8080/"
        },
        "id": "MyOZSrtZXd_4",
        "outputId": "dcddcd64-37a3-44ff-e449-6db951b5d9cb"
      },
      "execution_count": null,
      "outputs": [
        {
          "output_type": "stream",
          "name": "stdout",
          "text": [
            "Sample Mean: 96.62\n",
            "95% Confidence Interval: (92.64, 100.60)\n"
          ]
        }
      ]
    },
    {
      "cell_type": "markdown",
      "source": [
        "# **Q22. Write a Python script to calculate and visualize the probability density function (PDF) of a normal distribution.**"
      ],
      "metadata": {
        "id": "VVjJ6LFvXqBX"
      }
    },
    {
      "cell_type": "code",
      "source": [
        "import numpy as np\n",
        "import matplotlib.pyplot as plt\n",
        "from scipy.stats import norm\n",
        "\n",
        "# Parameters of the normal distribution\n",
        "mu = 0      # mean\n",
        "sigma = 1   # standard deviation\n",
        "\n",
        "# Generate x values (range for the curve)\n",
        "x = np.linspace(mu - 4*sigma, mu + 4*sigma, 1000)\n",
        "\n",
        "# Calculate the PDF\n",
        "pdf = norm.pdf(x, mu, sigma)\n",
        "\n",
        "# Plot the PDF\n",
        "plt.plot(x, pdf, color='blue', label=f'N({mu}, {sigma}²)')\n",
        "plt.fill_between(x, pdf, alpha=0.3, color='skyblue')\n",
        "plt.title('Probability Density Function of a Normal Distribution')\n",
        "plt.xlabel('x')\n",
        "plt.ylabel('Density')\n",
        "plt.grid(True)\n",
        "plt.legend()\n",
        "plt.show()"
      ],
      "metadata": {
        "id": "d2neYBBJX0uq"
      },
      "execution_count": null,
      "outputs": []
    },
    {
      "cell_type": "markdown",
      "source": [
        "# **Q23. Use Python to calculate and interpret the cumulative distribution function (CDF) of a Poisson distribution.**"
      ],
      "metadata": {
        "id": "Egz9tGIQX_bA"
      }
    },
    {
      "cell_type": "code",
      "source": [
        "import numpy as np\n",
        "from scipy.stats import poisson\n",
        "import matplotlib.pyplot as plt\n",
        "\n",
        "# Define parameters\n",
        "lambda_ = 3   # average rate of occurrence (λ)\n",
        "x_values = np.arange(0, 11)  # Discrete values from 0 to 10\n",
        "\n",
        "# Calculate the CDF for each x\n",
        "cdf_values = poisson.cdf(x_values, mu=lambda_)\n",
        "\n",
        "# Display results\n",
        "print(\"Poisson CDF values (λ = 3):\")\n",
        "for x, cdf in zip(x_values, cdf_values):\n",
        "    print(f\"P(X ≤ {x}) = {cdf:.4f}\")\n",
        "\n",
        "# Plot the CDF\n",
        "plt.step(x_values, cdf_values, where='post', label=\"CDF\", color='blue')\n",
        "plt.title('CDF of Poisson Distribution (λ = 3)')\n",
        "plt.xlabel('x')\n",
        "plt.ylabel('P(X ≤ x)')\n",
        "plt.xticks(x_values)\n",
        "plt.grid(True)\n",
        "plt.legend()\n",
        "plt.show()"
      ],
      "metadata": {
        "colab": {
          "base_uri": "https://localhost:8080/",
          "height": 680
        },
        "id": "mh_GOKLBYHPi",
        "outputId": "5bc7e25d-1342-41be-dcc6-1784c6d6aee6"
      },
      "execution_count": null,
      "outputs": [
        {
          "output_type": "stream",
          "name": "stdout",
          "text": [
            "Poisson CDF values (λ = 3):\n",
            "P(X ≤ 0) = 0.0498\n",
            "P(X ≤ 1) = 0.1991\n",
            "P(X ≤ 2) = 0.4232\n",
            "P(X ≤ 3) = 0.6472\n",
            "P(X ≤ 4) = 0.8153\n",
            "P(X ≤ 5) = 0.9161\n",
            "P(X ≤ 6) = 0.9665\n",
            "P(X ≤ 7) = 0.9881\n",
            "P(X ≤ 8) = 0.9962\n",
            "P(X ≤ 9) = 0.9989\n",
            "P(X ≤ 10) = 0.9997\n"
          ]
        },
        {
          "output_type": "display_data",
          "data": {
            "text/plain": [
              "<Figure size 640x480 with 1 Axes>"
            ],
            "image/png": "[encoded data removed]"
          },
          "metadata": {}
        }
      ]
    },
    {
      "cell_type": "markdown",
      "source": [
        "# **Q24. Simulate a random variable using a continuous uniform distribution and calculate its expected value?**"
      ],
      "metadata": {
        "id": "ewSqDUZzYUtZ"
      }
    },
    {
      "cell_type": "code",
      "source": [
        "import numpy as np\n",
        "\n",
        "# Define bounds for the uniform distribution\n",
        "a = 5   # lower bound\n",
        "b = 15  # upper bound\n",
        "n = 1000  # number of samples\n",
        "\n",
        "# Step 1: Simulate the random variable\n",
        "samples = np.random.uniform(a, b, n)\n",
        "\n",
        "# Step 2: Calculate expected value (theoretical and empirical)\n",
        "expected_theoretical = (a + b) / 2\n",
        "expected_empirical = np.mean(samples)\n",
        "\n",
        "# Display results\n",
        "print(f\"Theoretical Expected Value: {expected_theoretical:.2f}\")\n",
        "print(f\"Empirical Mean from Simulation: {expected_empirical:.2f}\")"
      ],
      "metadata": {
        "colab": {
          "base_uri": "https://localhost:8080/"
        },
        "id": "kT-CRaTdYcBY",
        "outputId": "a36ccd31-5974-44b1-e873-2a552c3013b9"
      },
      "execution_count": null,
      "outputs": [
        {
          "output_type": "stream",
          "name": "stdout",
          "text": [
            "Theoretical Expected Value: 10.00\n",
            "Empirical Mean from Simulation: 9.97\n"
          ]
        }
      ]
    },
    {
      "cell_type": "markdown",
      "source": [
        "# **Q25. Write a Python program to compare the standard deviations of two datasets and visualize the difference.**"
      ],
      "metadata": {
        "id": "rJzOP7MTYlb0"
      }
    },
    {
      "cell_type": "code",
      "source": [
        "import numpy as np\n",
        "import matplotlib.pyplot as plt\n",
        "\n",
        "# Step 1: Create two datasets (or replace with your own)\n",
        "np.random.seed(42)  # For reproducibility\n",
        "data1 = np.random.normal(loc=50, scale=5, size=1000)   # Smaller spread\n",
        "data2 = np.random.normal(loc=50, scale=15, size=1000)  # Larger spread\n",
        "\n",
        "# Step 2: Calculate standard deviations\n",
        "std1 = np.std(data1)\n",
        "std2 = np.std(data2)\n",
        "\n",
        "print(f\"Standard Deviation of Dataset 1: {std1:.2f}\")\n",
        "print(f\"Standard Deviation of Dataset 2: {std2:.2f}\")\n",
        "\n",
        "# Step 3: Visualize with histograms\n",
        "plt.figure(figsize=(10, 5))\n",
        "plt.hist(data1, bins=30, alpha=0.6, label=f'Dataset 1 (σ ≈ {std1:.2f})', color='skyblue', edgecolor='black')\n",
        "plt.hist(data2, bins=30, alpha=0.6, label=f'Dataset 2 (σ ≈ {std2:.2f})', color='salmon', edgecolor='black')\n",
        "plt.title('Comparison of Two Datasets by Spread (Standard Deviation)')\n",
        "plt.xlabel('Value')\n",
        "plt.ylabel('Frequency')\n",
        "plt.legend()\n",
        "plt.grid(True)\n",
        "plt.show()"
      ],
      "metadata": {
        "colab": {
          "base_uri": "https://localhost:8080/",
          "height": 522
        },
        "id": "LIRL8Le4Yx-m",
        "outputId": "52afbe69-3c12-4d79-d986-4b428828a533"
      },
      "execution_count": null,
      "outputs": [
        {
          "output_type": "stream",
          "name": "stdout",
          "text": [
            "Standard Deviation of Dataset 1: 4.89\n",
            "Standard Deviation of Dataset 2: 14.95\n"
          ]
        },
        {
          "output_type": "display_data",
          "data": {
            "text/plain": [
              "<Figure size 1000x500 with 1 Axes>"
            ],
            "image/png": "[encoded data removed]"
          },
          "metadata": {}
        }
      ]
    },
    {
      "cell_type": "markdown",
      "source": [
        "# **Q26. Calculate the range and interquartile range (IQR) of a dataset generated from a normal distribution?**"
      ],
      "metadata": {
        "id": "97gMU-cjY_D5"
      }
    },
    {
      "cell_type": "code",
      "source": [
        "import numpy as np\n",
        "\n",
        "# Step 1: Generate dataset from a normal distribution\n",
        "np.random.seed(42)\n",
        "mu = 50        # mean\n",
        "sigma = 10     # standard deviation\n",
        "n = 1000       # number of samples\n",
        "data = np.random.normal(mu, sigma, n)\n",
        "\n",
        "# Step 2: Calculate Range\n",
        "data_range = np.max(data) - np.min(data)\n",
        "\n",
        "# Step 3: Calculate IQR (Interquartile Range)\n",
        "q1 = np.percentile(data, 25)\n",
        "q3 = np.percentile(data, 75)\n",
        "iqr = q3 - q1\n",
        "\n",
        "# Step 4: Print results\n",
        "print(f\"Range of the dataset: {data_range:.2f}\")\n",
        "print(f\"Q1 (25th percentile): {q1:.2f}\")\n",
        "print(f\"Q3 (75th percentile): {q3:.2f}\")\n",
        "print(f\"Interquartile Range (IQR): {iqr:.2f}\")"
      ],
      "metadata": {
        "colab": {
          "base_uri": "https://localhost:8080/"
        },
        "id": "IwgCcxlmZEjT",
        "outputId": "85ca324e-7da1-4f71-f71d-31fa8d4fc235"
      },
      "execution_count": null,
      "outputs": [
        {
          "output_type": "stream",
          "name": "stdout",
          "text": [
            "Range of the dataset: 70.94\n",
            "Q1 (25th percentile): 43.52\n",
            "Q3 (75th percentile): 56.48\n",
            "Interquartile Range (IQR): 12.96\n"
          ]
        }
      ]
    },
    {
      "cell_type": "markdown",
      "source": [
        "# **Q27. Implement Z-score normalization on a dataset and visualize its transformation.**"
      ],
      "metadata": {
        "id": "wXyaypqHZPXv"
      }
    },
    {
      "cell_type": "code",
      "source": [
        "import numpy as np\n",
        "import matplotlib.pyplot as plt\n",
        "\n",
        "# Step 1: Generate a sample dataset\n",
        "np.random.seed(42)\n",
        "data = np.random.normal(loc=100, scale=15, size=1000)  # Mean = 100, Std = 15\n",
        "\n",
        "# Step 2: Z-score normalization\n",
        "mean = np.mean(data)\n",
        "std = np.std(data)\n",
        "z_scores = (data - mean) / std\n",
        "\n",
        "# Step 3: Plot original vs normalized data\n",
        "plt.figure(figsize=(12, 5))\n",
        "\n",
        "# Original data\n",
        "plt.subplot(1, 2, 1)\n",
        "plt.hist(data, bins=30, color='skyblue', edgecolor='black')\n",
        "plt.title('Original Data Distribution')\n",
        "plt.xlabel('Value')\n",
        "plt.ylabel('Frequency')\n",
        "plt.grid(True)\n",
        "\n",
        "# Z-score normalized data\n",
        "plt.subplot(1, 2, 2)\n",
        "plt.hist(z_scores, bins=30, color='lightgreen', edgecolor='black')\n",
        "plt.title('Z-score Normalized Distribution')\n",
        "plt.xlabel('Z-score')\n",
        "plt.ylabel('Frequency')\n",
        "plt.grid(True)\n",
        "\n",
        "plt.tight_layout()\n",
        "plt.show()\n",
        "\n",
        "# Print summary\n",
        "print(f\"Original Mean: {mean:.2f}, Std Dev: {std:.2f}\")\n",
        "print(f\"Normalized Mean: {np.mean(z_scores):.2f}, Std Dev: {np.std(z_scores):.2f}\")"
      ],
      "metadata": {
        "id": "QZlYKTNAZZvG"
      },
      "execution_count": null,
      "outputs": []
    },
    {
      "cell_type": "markdown",
      "source": [
        "# **Q28. Write a Python function to calculate the skewness and kurtosis of a dataset generated from a normal distribution.**"
      ],
      "metadata": {
        "id": "dUfOgA8RZlgk"
      }
    },
    {
      "cell_type": "code",
      "source": [
        "import numpy as np\n",
        "from scipy.stats import skew, kurtosis\n",
        "\n",
        "def analyze_normal_distribution(mu=0, sigma=1, size=1000):\n",
        "    \"\"\"\n",
        "    Generates data from a normal distribution and calculates skewness and kurtosis.\n",
        "\n",
        "    Parameters:\n",
        "    - mu (float): Mean of the normal distribution\n",
        "    - sigma (float): Standard deviation\n",
        "    - size (int): Number of data points\n",
        "\n",
        "    Returns:\n",
        "    - Tuple: (skewness, kurtosis)\n",
        "    \"\"\"\n",
        "    # Generate data\n",
        "    data = np.random.normal(loc=mu, scale=sigma, size=size)\n",
        "\n",
        "    # Calculate skewness and kurtosis\n",
        "    skewness = skew(data)\n",
        "    kurt = kurtosis(data, fisher=True)  # Use Fisher's definition (normal = 0)\n",
        "\n",
        "    # Print results\n",
        "    print(f\"Skewness: {skewness:.4f} (≈ 0 for normal)\")\n",
        "    print(f\"Kurtosis: {kurt:.4f} (≈ 0 for normal)\")\n",
        "\n",
        "    return skewness, kurt\n",
        "\n",
        "# Example usage\n",
        "analyze_normal_distribution()"
      ],
      "metadata": {
        "colab": {
          "base_uri": "https://localhost:8080/"
        },
        "id": "5o4umz3fZsgA",
        "outputId": "86173b8d-6e8e-4c1c-c9d6-8ba658733901"
      },
      "execution_count": null,
      "outputs": [
        {
          "output_type": "stream",
          "name": "stdout",
          "text": [
            "Skewness: -0.0493 (≈ 0 for normal)\n",
            "Kurtosis: 0.0521 (≈ 0 for normal)\n"
          ]
        },
        {
          "output_type": "execute_result",
          "data": {
            "text/plain": [
              "(np.float64(-0.049321773965299257), np.float64(0.05211754569784022))"
            ]
          },
          "metadata": {},
          "execution_count": 10
        }
      ]
    }
  ]
}