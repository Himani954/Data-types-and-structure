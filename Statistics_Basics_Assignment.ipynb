{
  "nbformat": 4,
  "nbformat_minor": 0,
  "metadata": {
    "colab": {
      "provenance": [],
      "authorship_tag": "ABX9TyMX3zP4/DayG0yhzqh/XZD4",
      "include_colab_link": true
    },
    "kernelspec": {
      "name": "python3",
      "display_name": "Python 3"
    },
    "language_info": {
      "name": "python"
    }
  },
  "cells": [
    {
      "cell_type": "markdown",
      "metadata": {
        "id": "view-in-github",
        "colab_type": "text"
      },
      "source": [
        "<a href=\"https://colab.research.google.com/github/Himani954/Data-types-and-structure/blob/main/Statistics_Basics_Assignment.ipynb\" target=\"_parent\"><img src=\"https://colab.research.google.com/assets/colab-badge.svg\" alt=\"Open In Colab\"/></a>"
      ]
    },
    {
      "cell_type": "markdown",
      "source": [
        "# **Q1. What is statistics, and why is it important?**"
      ],
      "metadata": {
        "id": "iY_ZQ2pbds7G"
      }
    },
    {
      "cell_type": "markdown",
      "source": [
        "# **Ans1.**\n",
        "\n",
        "Statistics is the study of the collection, analysis, interpretation, presentation, and organization of data. It involves using mathematical techniques to summarize and describe data, as well as to draw conclusions and make predictions based on that data. Statistics is a field that combines mathematics, computer science, and domain-specific knowledge to extract insights and knowledge from data.\n",
        "\n",
        "Why is Statistics Important?\n",
        "\n",
        "Statistics is important for several reasons:\n",
        "\n",
        "1. Informed Decision-Making : Statistics provides a way to make informed decisions based on data, rather than relying on intuition or anecdotal evidence. By analyzing data, we can identify patterns, trends, and correlations that can inform our decisions.\n",
        "2. Understanding Variability : Statistics helps us understand and quantify variability in data, which is essential in many fields, such as medicine, finance, and engineering.\n",
        "3. Predictive Modeling : Statistical models can be used to predict future outcomes based on past data, which is useful in fields like finance, marketing, and healthcare.\n",
        "4. Identifying Relationships : Statistics can help identify relationships between variables, which can be useful in understanding complex systems and making predictions.\n",
        "5. Evaluating Evidence : Statistics provides a framework for evaluating evidence and testing hypotheses, which is essential in scientific research and decision-making.\n",
        "\n",
        "Applications of Statistics\n",
        "\n",
        "Statistics has numerous applications in various fields, including:\n",
        "\n",
        "- Business and Finance : Statistics is used to analyze market trends, predict stock prices, and understand customer behavior.\n",
        "- Medicine and Healthcare : Statistics is used to understand the efficacy of treatments, identify risk factors for diseases, and develop predictive models for patient outcomes.\n",
        "- Social Sciences : Statistics is used to understand social phenomena, such as poverty, education, and crime.\n",
        "- Engineering : Statistics is used to design and optimize systems, predict failures, and understand complex systems.\n",
        "\n",
        "In summary, statistics is a powerful tool for extracting insights and knowledge from data, and its importance cannot be overstated. It has numerous applications in various fields and is essential for informed decision-making, predictive modeling, and understanding complex systems.\n",
        "\n"
      ],
      "metadata": {
        "id": "xVerQAAReCLh"
      }
    },
    {
      "cell_type": "markdown",
      "source": [
        "# **Q2. What are the two main types of statistics?**"
      ],
      "metadata": {
        "id": "Hhx3Ke7cfre0"
      }
    },
    {
      "cell_type": "markdown",
      "source": [
        "# Ans2. The two main types of statistics are:\n",
        "\n",
        "1. Descriptive Statistics : This type of statistics involves summarizing and describing the basic features of a dataset, such as the mean, median, mode, and standard deviation. Descriptive statistics provides a summary of the data, helping to understand the distribution and central tendency of the data.\n",
        "\n",
        "2. Inferential Statistics : This type of statistics involves using sample data to make inferences or conclusions about a larger population. Inferential statistics uses statistical methods, such as hypothesis testing and confidence intervals, to draw conclusions about a population based on a sample of data.\n",
        "\n",
        "These two types of statistics are essential in data analysis and are used in various fields, including business, medicine, social sciences, and engineering."
      ],
      "metadata": {
        "id": "ktBpJQSTf2xO"
      }
    },
    {
      "cell_type": "markdown",
      "source": [
        "# **Q3. What are descriptive statistics?**"
      ],
      "metadata": {
        "id": "uQWnM8eDghop"
      }
    },
    {
      "cell_type": "markdown",
      "source": [
        "# **Ans3.**\n",
        "Descriptive statistics is a branch of statistics that deals with summarizing and describing the basic features of a dataset. It provides a summary of the data, helping to understand the distribution and central tendency of the data. The main types of descriptive statistics include:\n",
        "\n",
        "- Measures of central tendency (mean, median, mode)\n",
        "- Measures of variability (range, variance, standard deviation)\n",
        "- Measures of frequency (count, proportion, percentage)\n",
        "\n",
        "Descriptive statistics is used to:\n",
        "\n",
        "- Summarize and describe the data\n",
        "- Identify patterns and trends\n",
        "- Understand the distribution of the data\n",
        "- Provide a basis for further analysis and inference\n",
        "\n",
        "It is an essential tool in data analysis, allowing researchers and analysts to extract insights and meaning from data."
      ],
      "metadata": {
        "id": "z-B9tUu0grcM"
      }
    },
    {
      "cell_type": "markdown",
      "source": [
        "# **Q4. What is inferential statistics?**"
      ],
      "metadata": {
        "id": "39qS_bWdhaT5"
      }
    },
    {
      "cell_type": "markdown",
      "source": [
        "# **Ans4.**\n",
        "\n",
        "Inferential statistics is a branch of statistics that deals with making inferences or conclusions about a population based on a sample of data. It involves using statistical methods to draw conclusions about a larger population, beyond the sample data.\n",
        "\n",
        "Inferential statistics is used to:\n",
        "\n",
        "1. Test Hypotheses : Inferential statistics allows researchers to test hypotheses about a population based on a sample of data.\n",
        "2. Make Predictions : Inferential statistics can be used to make predictions about future outcomes or events based on past data.\n",
        "3. Estimate Population Parameters : Inferential statistics can be used to estimate population parameters, such as the mean or proportion, based on a sample of data.\n",
        "\n",
        "Some common techniques used in inferential statistics include:\n",
        "\n",
        "- Hypothesis Testing : This involves testing a hypothesis about a population based on a sample of data.\n",
        "- Confidence Intervals : This involves estimating a population parameter, such as the mean or proportion, based on a sample of data.\n",
        "- Regression Analysis : This involves modeling the relationship between variables in a dataset.\n",
        "\n",
        "Inferential statistics is widely used in various fields, including medicine, social sciences, business, and engineering, to make informed decisions and draw conclusions about a population based on a sample of data."
      ],
      "metadata": {
        "id": "l9BPp_oRhiZV"
      }
    },
    {
      "cell_type": "markdown",
      "source": [
        "# **Q5. What is sampling in statistics?**"
      ],
      "metadata": {
        "id": "NTcjENL2i9Oa"
      }
    },
    {
      "cell_type": "markdown",
      "source": [
        "# **Ans5.**\n",
        "# Sampling in Statistics\n",
        "\n",
        "Sampling is a statistical technique used to select a subset of individuals or observations from a larger population. The goal of sampling is to create a representative sample that accurately reflects the characteristics of the population, allowing researchers to make inferences about the population based on the sample data.\n",
        "\n",
        "Why Sampling is Used\n",
        "\n",
        "Sampling is used for several reasons:\n",
        "\n",
        "1. Cost and Time : Collecting data from an entire population can be expensive and time-consuming. Sampling allows researchers to gather data more efficiently.\n",
        "2. Practicality : In some cases, it may be impossible to collect data from an entire population. Sampling provides a feasible alternative.\n",
        "3. Accuracy : A well-designed sample can provide accurate estimates of population parameters, allowing researchers to make informed decisions.\n",
        "\n",
        "Types of Sampling\n",
        "\n",
        "There are several types of sampling techniques, including:\n",
        "\n",
        "- Random Sampling : Every individual in the population has an equal chance of being selected.\n",
        "- Stratified Sampling : The population is divided into subgroups, and a random sample is taken from each subgroup.\n",
        "- Systematic Sampling : Every nth individual is selected from a list of the population.\n",
        "- Cluster Sampling : The population is divided into clusters, and a random sample of clusters is selected.\n",
        "\n",
        "Importance of Sampling\n",
        "\n",
        "Sampling is a crucial aspect of statistical research, as it allows researchers to:\n",
        "\n",
        "- Make Inferences : Sampling enables researchers to make inferences about a population based on a sample of data.\n",
        "- Estimate Population Parameters : Sampling allows researchers to estimate population parameters, such as the mean or proportion.\n",
        "- Test Hypotheses : Sampling is used to test hypotheses about a population based on a sample of data.\n",
        "\n",
        "By using sampling techniques, researchers can gather data efficiently and make informed decisions about a population."
      ],
      "metadata": {
        "id": "NcJf8MxpjNXH"
      }
    },
    {
      "cell_type": "markdown",
      "source": [
        "# **Q6. What are the different types of sampling methods?**"
      ],
      "metadata": {
        "id": "WZaXzVeKj9bD"
      }
    },
    {
      "cell_type": "markdown",
      "source": [
        "# **Ans6.**There are several types of sampling methods, including:\n",
        "\n",
        "1. Probability Sampling Methods\n",
        "- Simple Random Sampling : Every individual in the population has an equal chance of being selected.\n",
        "- Stratified Sampling : The population is divided into subgroups (strata), and a random sample is taken from each subgroup.\n",
        "- Systematic Sampling : Every nth individual is selected from a list of the population.\n",
        "- Cluster Sampling : The population is divided into clusters, and a random sample of clusters is selected.\n",
        "\n",
        "2. Non-Probability Sampling Methods\n",
        "- Convenience Sampling : Individuals are selected based on their availability and convenience.\n",
        "- Quota Sampling : A sample is selected to match the population's characteristics, such as age, sex, or occupation.\n",
        "- Purposive Sampling : Individuals are selected based on their expertise or specific characteristics.\n",
        "- Snowball Sampling : Existing participants recruit future participants from among their acquaintances.\n",
        "\n",
        "3. Other Sampling Methods\n",
        "- Random Sampling with Replacement : Individuals can be selected more than once.\n",
        "- Random Sampling without Replacement : Individuals can be selected only once.\n",
        "\n",
        "Each sampling method has its strengths and weaknesses, and the choice of method depends on the research question, population, and study design."
      ],
      "metadata": {
        "id": "NWU2rdJRkFTN"
      }
    },
    {
      "cell_type": "markdown",
      "source": [
        "# **Q7. What is the difference between random and non-random sampling?**"
      ],
      "metadata": {
        "id": "2DaXNTQklnmr"
      }
    },
    {
      "cell_type": "markdown",
      "source": [
        "# **Ans7.**\n",
        "The main difference between random and non-random sampling is the way participants are selected for the sample.\n",
        "\n",
        "Random Sampling\n",
        "\n",
        "In random sampling, participants are selected randomly from the population, and every individual has an equal chance of being selected. This approach helps to:\n",
        "\n",
        "- Reduce bias and ensure representativeness\n",
        "- Increase the generalizability of findings\n",
        "- Allow for the calculation of sampling errors\n",
        "\n",
        "Non-Random Sampling\n",
        "\n",
        "In non-random sampling, participants are selected based on non-random criteria, such as convenience, quota, or purposive sampling. This approach is often used when:\n",
        "\n",
        "- Random sampling is not feasible or practical\n",
        "- The research question requires specific types of participants\n",
        "- Time and resources are limited\n",
        "\n",
        "The key differences between random and non-random sampling are:\n",
        "\n",
        "- Representativeness : Random sampling is more likely to produce a representative sample, while non-random sampling may lead to biases.\n",
        "- Generalizability : Random sampling allows for greater generalizability of findings, while non-random sampling may limit the applicability of results.\n",
        "- Sampling Error : Random sampling enables the calculation of sampling errors, while non-random sampling does not.\n",
        "\n",
        "The choice between random and non-random sampling depends on the research question, study design, and resources available."
      ],
      "metadata": {
        "id": "ERmlAReZlviW"
      }
    },
    {
      "cell_type": "markdown",
      "source": [
        "# **Q8. Define and give examples of qualitative and quantitative data.**"
      ],
      "metadata": {
        "id": "-HorckBpoEwR"
      }
    },
    {
      "cell_type": "markdown",
      "source": [
        "# **Ans8.**\n",
        "# Quantitative Data\n",
        "\n",
        "Quantitative data refers to numerical data that can be measured and quantified. It represents amounts or quantities of something. Quantitative data can be analyzed using statistical methods and is often used to:\n",
        "\n",
        "- Measure variables\n",
        "- Identify patterns and trends\n",
        "- Test hypotheses\n",
        "- Make predictions\n",
        "\n",
        "Examples of Quantitative Data\n",
        "\n",
        "- Age\n",
        "- Height\n",
        "- Weight\n",
        "- Temperature\n",
        "- Income\n",
        "- Number of hours worked\n",
        "\n",
        "Qualitative Data\n",
        "\n",
        "Qualitative data, on the other hand, refers to non-numerical data that describes qualities or characteristics. It represents attributes or properties of something. Qualitative data is often used to:\n",
        "\n",
        "- Explore concepts and themes\n",
        "- Understand experiences and perceptions\n",
        "- Gather insights and opinions\n",
        "- Develop hypotheses\n",
        "\n",
        "Examples of Qualitative Data\n",
        "\n",
        "- Colors\n",
        "- Textures\n",
        "- Smells\n",
        "- Opinions\n",
        "- Attitudes\n",
        "- Descriptions of experiences\n",
        "\n",
        "The key differences between quantitative and qualitative data are:\n",
        "\n",
        "- Numerical vs. Non-Numerical : Quantitative data is numerical, while qualitative data is non-numerical.\n",
        "- Measurement vs. Description : Quantitative data measures variables, while qualitative data describes qualities and characteristics.\n",
        "- Analysis Methods : Quantitative data is analyzed using statistical methods, while qualitative data is analyzed using thematic or content analysis.\n",
        "\n",
        "Both types of data are essential in research and can be used together to provide a more comprehensive understanding of a topic or phenomenon."
      ],
      "metadata": {
        "id": "aJxaax6uoQZd"
      }
    },
    {
      "cell_type": "markdown",
      "source": [
        "# **Q9. What are the different types of data in statistics?**"
      ],
      "metadata": {
        "id": "iVYIkdhlpH_u"
      }
    },
    {
      "cell_type": "markdown",
      "source": [
        "# Ans9.\n",
        "In statistics, data can be classified into several types based on their characteristics and properties. Here are some common types of data:\n",
        "\n",
        "1. Quantitative Data\n",
        "Quantitative data is numerical data that can be measured and quantified. It represents amounts or quantities of something.\n",
        "\n",
        "- Discrete Data : Discrete data is countable and can take on specific values. Examples include the number of students in a class or the number of books on a shelf.\n",
        "- Continuous Data : Continuous data can take on any value within a range. Examples include height, weight, or temperature.\n",
        "\n",
        "2. Qualitative Data\n",
        "Qualitative data is non-numerical data that describes qualities or characteristics. It represents attributes or properties of something.\n",
        "\n",
        "- Nominal Data : Nominal data is categorical data with no inherent order. Examples include colors, names, or categories.\n",
        "- Ordinal Data : Ordinal data is categorical data with a natural order or ranking. Examples include ratings (e.g., 1-5), education level, or income level.\n",
        "\n",
        "3. Other Types of Data\n",
        "- Binary Data : Binary data is a type of discrete data that can take on only two values, such as 0/1, yes/no, or true/false.\n",
        "- Interval Data : Interval data is continuous data with equal intervals between consecutive values. Examples include temperature in Celsius or Fahrenheit.\n",
        "- Ratio Data : Ratio data is continuous data with a true zero point and equal intervals between consecutive values. Examples include weight, height, or age.\n",
        "\n",
        "Understanding the type of data is crucial in selecting the appropriate statistical methods and techniques for analysis."
      ],
      "metadata": {
        "id": "X0eU4CNUpO9O"
      }
    },
    {
      "cell_type": "markdown",
      "source": [
        "# **Q10. Explain nominal, ordinal, interval, and ratio levels of measurment.**"
      ],
      "metadata": {
        "id": "owaDNvstp8gf"
      }
    },
    {
      "cell_type": "markdown",
      "source": [
        "# **Ans10.**\n",
        "Levels of Measurement\n",
        "In statistics, there are four levels of measurement that describe the properties of data. Understanding these levels is crucial for selecting the right statistical methods and interpreting results accurately.\n",
        "\n",
        "1. Nominal Level of Measurement\n",
        "- Definition : Nominal data is categorical data with no inherent order or ranking.\n",
        "- Examples : Colors, names, categories, or labels.\n",
        "- Properties :\n",
        "    - No natural order or ranking.\n",
        "    - Categories are mutually exclusive.\n",
        "    - No mathematical operations can be performed.\n",
        "\n",
        "2. Ordinal Level of Measurement\n",
        "- Definition : Ordinal data is categorical data with a natural order or ranking.\n",
        "- Examples : Ratings (e.g., 1-5), education level, or income level.\n",
        "- Properties :\n",
        "    - Categories have a natural order or ranking.\n",
        "    - Differences between categories are not equal.\n",
        "    - Limited mathematical operations can be performed.\n",
        "\n",
        "3. Interval Level of Measurement\n",
        "- Definition : Interval data is continuous data with equal intervals between consecutive values.\n",
        "- Examples : Temperature in Celsius or Fahrenheit.\n",
        "- Properties :\n",
        "    - Equal intervals between consecutive values.\n",
        "    - No true zero point.\n",
        "    - Mathematical operations like addition and subtraction can be performed.\n",
        "\n",
        "4. Ratio Level of Measurement\n",
        "- Definition : Ratio data is continuous data with a true zero point and equal intervals between consecutive values.\n",
        "- Examples : Weight, height, age, or income.\n",
        "- Properties :\n",
        "    - True zero point.\n",
        "    - Equal intervals between consecutive values.\n",
        "    - Mathematical operations like multiplication and division can be performed.\n",
        "\n",
        "Understanding the level of measurement is essential for:\n",
        "\n",
        "- Selecting Statistical Methods : Different statistical methods are suitable for different levels of measurement.\n",
        "- Interpreting Results : Accurate interpretation of results depends on understanding the properties of the data.\n",
        "\n",
        "Each level of measurement has its unique properties, and recognizing these differences is vital for working with data effectively."
      ],
      "metadata": {
        "id": "A_rb62U5qJdj"
      }
    },
    {
      "cell_type": "markdown",
      "source": [
        "# **Q 11. What is the measure of central tendency?**"
      ],
      "metadata": {
        "id": "L7o7Hx52rGoV"
      }
    },
    {
      "cell_type": "markdown",
      "source": [
        "# **Ans11.**\n",
        "# Measure of Central Tendency\n",
        "A measure of central tendency is a statistical measure that describes the middle or typical value of a dataset. It provides a single value that represents the entire dataset, giving an idea of the central position of the data.\n",
        "\n",
        "Types of Measures of Central Tendency\n",
        "There are three main types of measures of central tendency:\n",
        "\n",
        "1. Mean : The mean is the average value of a dataset, calculated by summing all the values and dividing by the number of observations.\n",
        "2. Median : The median is the middle value of a dataset when it is arranged in order. If there are an even number of observations, the median is the average of the two middle values.\n",
        "3. Mode : The mode is the most frequently occurring value in a dataset. A dataset may have one mode (unimodal), more than one mode (bimodal or multimodal), or no mode at all.\n",
        "\n",
        "Characteristics of Measures of Central Tendency\n",
        "Each measure of central tendency has its own characteristics and is suitable for different types of data:\n",
        "\n",
        "- Mean : The mean is sensitive to extreme values (outliers) and is suitable for symmetric distributions.\n",
        "- Median : The median is more robust to outliers and is suitable for skewed distributions.\n",
        "- Mode : The mode is suitable for categorical data or data with multiple peaks.\n",
        "\n",
        "Importance of Measures of Central Tendency\n",
        "Measures of central tendency are essential in statistics because they:\n",
        "\n",
        "- Summarize Data : Measures of central tendency provide a single value that summarizes the entire dataset.\n",
        "- Compare Datasets : Measures of central tendency enable comparison between different datasets.\n",
        "- Inform Decision-Making : Measures of central tendency inform decision-making by providing insights into the typical value of a dataset.\n",
        "\n",
        "By understanding measures of central tendency, you can gain insights into the characteristics of a dataset and make informed decisions."
      ],
      "metadata": {
        "id": "9Y3SW-M4rOes"
      }
    },
    {
      "cell_type": "markdown",
      "source": [
        "# **Q12. Define mean, median, and mode.**"
      ],
      "metadata": {
        "id": "BIVO7D-tsEUt"
      }
    },
    {
      "cell_type": "markdown",
      "source": [
        "# **Ans12.**\n",
        "Mean, Median, and Mode\n",
        "Mean, median, and mode are three fundamental measures of central tendency in statistics.\n",
        "\n",
        "1. Mean\n",
        "- Definition : The mean is the average value of a dataset, calculated by summing all the values and dividing by the number of observations.\n",
        "- Calculation : Mean = (Sum of all values) / (Number of observations)\n",
        "- Example : If the values are 2, 4, 6, 8, 10, the mean is (2 + 4 + 6 + 8 + 10) / 5 = 30 / 5 = 6.\n",
        "\n",
        "2. Median\n",
        "- Definition : The median is the middle value of a dataset when it is arranged in order. If there are an even number of observations, the median is the average of the two middle values.\n",
        "- Calculation : Arrange the values in order and find the middle value.\n",
        "- Example : If the values are 2, 4, 6, 8, 10, the median is 6. If the values are 2, 4, 6, 8, the median is (4 + 6) / 2 = 5.\n",
        "\n",
        "3. Mode\n",
        "- Definition : The mode is the most frequently occurring value in a dataset. A dataset may have one mode (unimodal), more than one mode (bimodal or multimodal), or no mode at all.\n",
        "- Example : If the values are 2, 4, 4, 6, 4, the mode is 4.\n",
        "\n",
        "These measures of central tendency provide insights into the characteristics of a dataset and are used in various statistical applications.\n"
      ],
      "metadata": {
        "id": "QCOSfxDysyIJ"
      }
    },
    {
      "cell_type": "markdown",
      "source": [
        "# **Q13. What is the significance of the measure of central tendency?**"
      ],
      "metadata": {
        "id": "DpEeL27pubpq"
      }
    },
    {
      "cell_type": "markdown",
      "source": [
        "# **Ans13**.\n",
        "# Significance of Measure of Central Tendency\n",
        "Measures of central tendency, including mean, median, and mode, are essential in statistics and data analysis. Their significance lies in their ability to:\n",
        "\n",
        "1. Summarize Data : Measures of central tendency provide a single value that summarizes the entire dataset, giving an idea of the central position of the data.\n",
        "2. Compare Datasets : Measures of central tendency enable comparison between different datasets, allowing for insights into similarities and differences.\n",
        "3. Inform Decision-Making : Measures of central tendency inform decision-making by providing insights into the typical value of a dataset, which can guide predictions and forecasts.\n",
        "4. Identify Patterns : Measures of central tendency help identify patterns in data, such as trends or correlations, which can be useful in understanding relationships between variables.\n",
        "5. Provide a Basis for Further Analysis : Measures of central tendency provide a foundation for further statistical analysis, such as calculating measures of variability or performing hypothesis tests.\n",
        "\n",
        "By understanding measures of central tendency, you can:\n",
        "\n",
        "- Gain Insights into Data : Measures of central tendency provide valuable insights into the characteristics of a dataset.\n",
        "- Make Informed Decisions : Measures of central tendency inform decision-making by providing a summary of the data.\n",
        "- Compare and Contrast : Measures of central tendency enable comparison between different datasets, allowing for a deeper understanding of the data.\n",
        "\n",
        "Overall, measures of central tendency are a crucial aspect of statistical analysis, providing a foundation for understanding and working with data."
      ],
      "metadata": {
        "id": "zFgJc0CBumT9"
      }
    },
    {
      "cell_type": "markdown",
      "source": [
        "# **Q14. What is variance, and how is it calculated?**"
      ],
      "metadata": {
        "id": "Ru2uw3OcvPuI"
      }
    },
    {
      "cell_type": "markdown",
      "source": [
        "# **Ans14.**\n",
        "Variance\n",
        "Variance is a measure of the spread or dispersion of a dataset from its mean value. It calculates the average of the squared differences between each data point and the mean.\n",
        "\n",
        "Calculation of Variance\n",
        "The variance is calculated using the following formula:\n",
        "\n",
        "Variance (σ²) = Σ(xi - μ)² / N\n",
        "\n",
        "Where:\n",
        "\n",
        "- σ² = variance\n",
        "- xi = individual data points\n",
        "- μ = mean of the dataset\n",
        "- N = number of data points\n",
        "- Σ = summation symbol, indicating the sum of the squared differences\n",
        "\n",
        "Steps to Calculate Variance\n",
        "1. Calculate the mean (μ) of the dataset.\n",
        "2. Subtract the mean from each data point (xi - μ) to find the deviation.\n",
        "3. Square each deviation (xi - μ)².\n",
        "4. Calculate the sum of the squared deviations Σ(xi - μ)².\n",
        "5. Divide the sum of squared deviations by the number of data points (N).\n",
        "\n",
        "Example\n",
        "Suppose we have a dataset: 2, 4, 6, 8, 10\n",
        "\n",
        "1. Calculate the mean: μ = (2 + 4 + 6 + 8 + 10) / 5 = 6\n",
        "2. Calculate the deviations and squared deviations:\n",
        "\n",
        "    - (2 - 6)² = (-4)² = 16\n",
        "    - (4 - 6)² = (-2)² = 4\n",
        "    - (6 - 6)² = 0² = 0\n",
        "    - (8 - 6)² = 2² = 4\n",
        "    - (10 - 6)² = 4² = 16\n",
        "3. Calculate the sum of squared deviations: 16 + 4 + 0 + 4 + 16 = 40\n",
        "4. Calculate the variance: σ² = 40 / 5 = 8\n",
        "\n",
        "The variance of the dataset is 8.\n",
        "\n",
        "Importance of Variance\n",
        "Variance is essential in statistics because it:\n",
        "\n",
        "- Measures Spread : Variance measures the spread or dispersion of a dataset.\n",
        "- Informs Risk Assessment : Variance is used to assess risk in finance and other fields.\n",
        "- Guides Decision-Making : Variance informs decision-making by providing insights into the variability of a dataset.\n",
        "\n",
        "By understanding variance, you can gain insights into the characteristics of a dataset and make informed decisions."
      ],
      "metadata": {
        "id": "8OZ8EDqqvYIz"
      }
    },
    {
      "cell_type": "markdown",
      "source": [
        "# **Q15.What is standard deviation, and why is it important?**"
      ],
      "metadata": {
        "id": "mNvA1bygwGZm"
      }
    },
    {
      "cell_type": "markdown",
      "source": [
        "# **Ans15.**\n",
        "# Standard Deviation\n",
        "Standard deviation is a measure of the amount of variation or dispersion of a set of values. It represents how spread out the values are from the mean value. A low standard deviation indicates that the values tend to be close to the mean, while a high standard deviation indicates that the values are spread out over a wider range.\n",
        "\n",
        "Calculation of Standard Deviation\n",
        "The standard deviation is calculated as the square root of the variance.\n",
        "\n",
        "Standard Deviation (σ) = √Variance\n",
        "\n",
        "Importance of Standard Deviation\n",
        "Standard deviation is important in statistics and data analysis because it:\n",
        "\n",
        "1. Measures Volatility : Standard deviation measures the volatility or risk of an investment or a dataset.\n",
        "2. Compares Datasets : Standard deviation enables comparison between different datasets, allowing for insights into their relative stability or variability.\n",
        "3. Informs Decision-Making : Standard deviation informs decision-making by providing insights into the variability of a dataset, which can guide predictions and forecasts.\n",
        "4. Identifies Outliers : Standard deviation helps identify outliers or data points that are significantly different from the mean.\n",
        "\n",
        "Applications of Standard Deviation\n",
        "Standard deviation has numerous applications in various fields, including:\n",
        "\n",
        "- Finance : Standard deviation is used to measure the risk of an investment or a portfolio.\n",
        "- Quality Control : Standard deviation is used to monitor the variability of a manufacturing process.\n",
        "- Research : Standard deviation is used to analyze the results of experiments and studies.\n",
        "\n",
        "By understanding standard deviation, you can gain insights into the characteristics of a dataset and make informed decisions."
      ],
      "metadata": {
        "id": "ayQ6KbKqwRXY"
      }
    },
    {
      "cell_type": "markdown",
      "source": [
        "# **Q16. Define and explain the term range in statistics?**"
      ],
      "metadata": {
        "id": "085hBCAux-T0"
      }
    },
    {
      "cell_type": "markdown",
      "source": [
        "# **Ans16.**\n",
        "# Range in Statistics\n",
        "In statistics, the range is a measure of the spread or dispersion of a dataset. It is calculated as the difference between the largest and smallest values in the dataset.\n",
        "\n",
        "Calculation of Range\n",
        "Range = Maximum Value - Minimum Value\n",
        "\n",
        "Example\n",
        "Suppose we have a dataset: 2, 4, 6, 8, 10\n",
        "\n",
        "- Maximum Value: 10\n",
        "- Minimum Value: 2\n",
        "- Range: 10 - 2 = 8\n",
        "\n",
        "The range of the dataset is 8.\n",
        "\n",
        "Importance of Range\n",
        "The range is important in statistics because it:\n",
        "\n",
        "- Measures Spread : The range measures the spread or dispersion of a dataset.\n",
        "- Provides a Quick Overview : The range provides a quick overview of the dataset's variability.\n",
        "- Helps Identify Outliers : The range can help identify outliers or data points that are significantly different from the rest of the dataset.\n",
        "\n",
        "Limitations of Range\n",
        "While the range is a useful measure of spread, it has some limitations:\n",
        "\n",
        "- Sensitive to Outliers : The range is sensitive to outliers, which can greatly affect its value.\n",
        "- Does Not Account for Distribution : The range does not account for the distribution of values within the dataset.\n",
        "\n",
        "By understanding the range, you can gain insights into the characteristics of a dataset and make informed decisions."
      ],
      "metadata": {
        "id": "-4fxNEcsyK5H"
      }
    },
    {
      "cell_type": "markdown",
      "source": [
        "# **Q17. What is the difference between variance and standard deviation?**"
      ],
      "metadata": {
        "id": "zb0g8UtA2pRX"
      }
    },
    {
      "cell_type": "markdown",
      "source": [
        "# **Ans17.**\n",
        "Variance and Standard Deviation\n",
        "Variance and standard deviation are two related measures of dispersion in statistics. While they both describe the spread of a dataset, they differ in their units and interpretation.\n",
        "\n",
        "Variance\n",
        "- Definition : Variance measures the average of the squared differences between each data point and the mean.\n",
        "- Units : Variance is expressed in squared units of the original data.\n",
        "- Calculation : Variance = Σ(xi - μ)² / N\n",
        "\n",
        "Standard Deviation\n",
        "- Definition : Standard deviation is the square root of the variance, measuring the spread of a dataset in the same units as the original data.\n",
        "- Units : Standard deviation is expressed in the same units as the original data.\n",
        "- Calculation : Standard Deviation = √Variance\n",
        "\n",
        "Key Differences\n",
        "The key differences between variance and standard deviation are:\n",
        "\n",
        "- Units : Variance is in squared units, while standard deviation is in the same units as the original data.\n",
        "- Interpretation : Variance is more difficult to interpret directly, while standard deviation provides a more intuitive understanding of the data's spread.\n",
        "\n",
        "Importance of Both Measures\n",
        "Both variance and standard deviation are essential in statistics because they:\n",
        "\n",
        "- Measure Spread : Both measures describe the spread or dispersion of a dataset.\n",
        "- Inform Decision-Making : Both measures inform decision-making by providing insights into the variability of a dataset.\n",
        "\n",
        "By understanding both variance and standard deviation, you can gain a deeper understanding of a dataset's characteristics and make more informed decisions."
      ],
      "metadata": {
        "id": "F4qxXcw_3Q57"
      }
    },
    {
      "cell_type": "markdown",
      "source": [
        "# **Q18. What is skewness in a dataset?**"
      ],
      "metadata": {
        "id": "y_CIoXa04Wex"
      }
    },
    {
      "cell_type": "markdown",
      "source": [
        "# **Ans18.**\n",
        "# Skewness in a Dataset\n",
        "Skewness is a measure of the asymmetry of the probability distribution of a dataset. It describes the extent to which the data deviates from symmetry, with a symmetrical distribution having a skewness of zero.\n",
        "\n",
        "Types of Skewness\n",
        "There are two main types of skewness:\n",
        "\n",
        "- Positive Skewness : A positively skewed distribution has a longer tail on the right side, indicating that the majority of the data points are concentrated on the left side of the distribution. This type of skewness is also known as right-skewed.\n",
        "- Negative Skewness : A negatively skewed distribution has a longer tail on the left side, indicating that the majority of the data points are concentrated on the right side of the distribution. This type of skewness is also known as left-skewed.\n",
        "\n",
        "Causes of Skewness\n",
        "Skewness can be caused by various factors, including:\n",
        "\n",
        "- Outliers : Extreme values in the dataset can cause skewness.\n",
        "- Non-Normal Distribution : Some datasets may naturally follow a non-normal distribution, leading to skewness.\n",
        "- Data Transformation : Data transformation techniques, such as logarithmic or exponential transformations, can introduce skewness.\n",
        "\n",
        "Importance of Skewness\n",
        "Skewness is important in statistics because it:\n",
        "\n",
        "- Affects Statistical Analysis : Skewness can affect the accuracy of statistical analysis, particularly when using methods that assume normality.\n",
        "- Informs Data Transformation : Understanding skewness can inform data transformation techniques to normalize the data.\n",
        "- Provides Insights into Data : Skewness provides insights into the characteristics of the data, which can guide further analysis and decision-making.\n",
        "\n",
        "By understanding skewness, you can gain a deeper understanding of a dataset's characteristics and make more informed decisions."
      ],
      "metadata": {
        "id": "k58MGYgd4dtj"
      }
    },
    {
      "cell_type": "markdown",
      "source": [
        "# **Q19. What does it mean if a dataset is positively or negatively skewed?**"
      ],
      "metadata": {
        "id": "sNmNzEt355Y_"
      }
    },
    {
      "cell_type": "markdown",
      "source": [
        "# **Ans19.**\n",
        "# Skewness in Datasets\n",
        "When a dataset is skewed, it means that the distribution of values is not symmetrical. Here's what it means if a dataset is positively or negatively skewed:\n",
        "\n",
        "Positively Skewed Dataset\n",
        "A positively skewed dataset, also known as right-skewed, has the following characteristics:\n",
        "\n",
        "- Longer Tail on the Right : The majority of the data points are concentrated on the left side of the distribution, with a longer tail on the right side.\n",
        "- Mean > Median : The mean is typically greater than the median, as the extreme values on the right side pull the mean upwards.\n",
        "- Examples : Income distribution, where most people earn lower incomes, but a few individuals earn extremely high incomes.\n",
        "\n",
        "Negatively Skewed Dataset\n",
        "A negatively skewed dataset, also known as left-skewed, has the following characteristics:\n",
        "\n",
        "- Longer Tail on the Left : The majority of the data points are concentrated on the right side of the distribution, with a longer tail on the left side.\n",
        "- Mean < Median : The mean is typically less than the median, as the extreme values on the left side pull the mean downwards.\n",
        "- Examples : Exam scores, where most students score high marks, but a few students score very low marks.\n",
        "\n",
        "Implications of Skewness\n",
        "Understanding skewness is important because it:\n",
        "\n",
        "- Affects Statistical Analysis : Skewness can affect the accuracy of statistical analysis, particularly when using methods that assume normality.\n",
        "- Informs Data Interpretation : Skewness provides insights into the characteristics of the data, which can guide further analysis and decision-making.\n",
        "\n",
        "By recognizing skewness in a dataset, you can better understand the distribution of values and make more informed decisions."
      ],
      "metadata": {
        "id": "butbefyt6XkW"
      }
    },
    {
      "cell_type": "markdown",
      "source": [
        "# **Q20. Define and explain kurtosis?**"
      ],
      "metadata": {
        "id": "VPyfMyPt7Aim"
      }
    },
    {
      "cell_type": "markdown",
      "source": [
        "# **Ans20.**\n",
        "Kurtosis\n",
        "Kurtosis is a measure of the \"tailedness\" or \"peakedness\" of a probability distribution. It describes the extent to which a distribution has heavy tails or outliers, compared to a normal distribution.\n",
        "\n",
        "Types of Kurtosis\n",
        "There are three main types of kurtosis:\n",
        "\n",
        "- Platykurtic : A platykurtic distribution has shorter tails and a flatter peak than a normal distribution. This type of distribution has fewer outliers.\n",
        "- Mesokurtic : A mesokurtic distribution has tails and a peak similar to a normal distribution. This type of distribution is considered \"normal\" in terms of kurtosis.\n",
        "- Leptokurtic : A leptokurtic distribution has longer tails and a more peaked shape than a normal distribution. This type of distribution has more outliers.\n",
        "\n",
        "Importance of Kurtosis\n",
        "Kurtosis is important in statistics because it:\n",
        "\n",
        "- Measures Tail Risk : Kurtosis measures the risk of extreme values or outliers in a distribution.\n",
        "- Affects Statistical Analysis : Kurtosis can affect the accuracy of statistical analysis, particularly when using methods that assume normality.\n",
        "- Informs Risk Assessment : Kurtosis provides insights into the potential for extreme values, which can inform risk assessment and decision-making.\n",
        "\n",
        "Calculation of Kurtosis\n",
        "Kurtosis is typically calculated using the following formula:\n",
        "\n",
        "Kurtosis = (Σ(xi - μ)⁴ / N) / σ⁴\n",
        "\n",
        "Where:\n",
        "\n",
        "- xi = individual data points\n",
        "- μ = mean of the dataset\n",
        "- σ = standard deviation of the dataset\n",
        "- N = number of data points\n",
        "\n",
        "By understanding kurtosis, you can gain insights into the characteristics of a distribution and make more informed decisions.\n",
        "\n"
      ],
      "metadata": {
        "id": "AWMfuaic7IMB"
      }
    },
    {
      "cell_type": "markdown",
      "source": [
        "# **Q21. What is the purpose of covariance?**"
      ],
      "metadata": {
        "id": "GIu70xG37_dc"
      }
    },
    {
      "cell_type": "markdown",
      "source": [
        "# **Ans21.**\n",
        "# Covariance\n",
        "Covariance is a statistical measure that describes the relationship between two variables. It measures how much the variables tend to change together.\n",
        "\n",
        "Purpose of Covariance\n",
        "The purpose of covariance is to:\n",
        "\n",
        "- Measure Linear Relationship : Covariance measures the strength and direction of the linear relationship between two variables.\n",
        "- Understand Variable Relationships : Covariance helps understand how changes in one variable are associated with changes in another variable.\n",
        "- Inform Predictive Models : Covariance is used in predictive models, such as regression analysis, to understand the relationships between variables.\n",
        "\n",
        "Interpretation of Covariance\n",
        "Covariance can be interpreted in the following ways:\n",
        "\n",
        "- Positive Covariance : A positive covariance indicates that the variables tend to increase or decrease together.\n",
        "- Negative Covariance : A negative covariance indicates that as one variable increases, the other variable tends to decrease.\n",
        "- Zero Covariance : A covariance of zero indicates that the variables do not tend to change together in a linear way.\n",
        "\n",
        "Applications of Covariance\n",
        "Covariance has numerous applications in various fields, including:\n",
        "\n",
        "- Finance : Covariance is used to measure the risk of a portfolio by understanding the relationships between different assets.\n",
        "- Data Analysis : Covariance is used to understand the relationships between variables in a dataset.\n",
        "- Machine Learning : Covariance is used in machine learning algorithms, such as principal component analysis (PCA), to understand the relationships between variables.\n",
        "\n",
        "By understanding covariance, you can gain insights into the relationships between variables and make more informed decisions."
      ],
      "metadata": {
        "id": "LwJcCrZi8IYW"
      }
    },
    {
      "cell_type": "markdown",
      "source": [
        "# **Q22. What does correlation measure in statistics?**"
      ],
      "metadata": {
        "id": "1VmLCKRR9k4Q"
      }
    },
    {
      "cell_type": "markdown",
      "source": [
        "# **Ans22.**\n",
        "# **Correlation in Statistics**\n",
        "Correlation is a statistical measure that describes the strength and direction of the linear relationship between two variables. It measures how closely the variables tend to move together.\n",
        "\n",
        "What Correlation Measures\n",
        "Correlation measures:\n",
        "\n",
        "- Strength of Relationship : Correlation measures the strength of the linear relationship between two variables, ranging from -1 (perfect negative correlation) to 1 (perfect positive correlation).\n",
        "- Direction of Relationship : Correlation measures the direction of the relationship, indicating whether the variables tend to increase or decrease together (positive correlation) or move in opposite directions (negative correlation).\n",
        "\n",
        "Types of Correlation\n",
        "There are several types of correlation, including:\n",
        "\n",
        "- Positive Correlation : A positive correlation indicates that as one variable increases, the other variable tends to increase.\n",
        "- Negative Correlation : A negative correlation indicates that as one variable increases, the other variable tends to decrease.\n",
        "- Zero Correlation : A correlation of zero indicates that the variables do not tend to move together in a linear way.\n",
        "\n",
        "Importance of Correlation\n",
        "Correlation is important in statistics because it:\n",
        "\n",
        "- Informs Predictive Models : Correlation is used in predictive models, such as regression analysis, to understand the relationships between variables.\n",
        "- Helps Understand Relationships : Correlation helps understand the relationships between variables, which can inform decision-making.\n",
        "- Identifies Patterns : Correlation can identify patterns in data, which can be useful in understanding relationships between variables.\n",
        "\n",
        "Common Correlation Coefficients\n",
        "Common correlation coefficients include:\n",
        "\n",
        "- Pearson's r : A widely used correlation coefficient that measures the strength and direction of the linear relationship between two continuous variables.\n",
        "\n",
        "By understanding correlation, you can gain insights into the relationships between variables and make more informed decisions."
      ],
      "metadata": {
        "id": "g-Q9H4Lw9rdB"
      }
    },
    {
      "cell_type": "markdown",
      "source": [
        "# **Q23. What is the difference between covariance and correlation?**"
      ],
      "metadata": {
        "id": "IXK0j3Ec928D"
      }
    },
    {
      "cell_type": "markdown",
      "source": [
        "# **Ans23.**\n",
        "#Covariance and Correlation\n",
        "Covariance and correlation are two related statistical measures that describe the relationship between two variables. While they both measure the relationship between variables, they differ in their interpretation and scale.\n",
        "\n",
        "Covariance\n",
        "- Measures Linear Relationship : Covariance measures the strength and direction of the linear relationship between two variables.\n",
        "- Scale-Dependent : Covariance is scale-dependent, meaning that its value depends on the units of the variables.\n",
        "- Units : Covariance has units that are the product of the units of the two variables.\n",
        "\n",
        "Correlation\n",
        "- Measures Standardized Linear Relationship : Correlation measures the strength and direction of the linear relationship between two variables, standardized to a value between -1 and 1.\n",
        "- Scale-Independent : Correlation is scale-independent, meaning that its value does not depend on the units of the variables.\n",
        "- Unitless : Correlation is a unitless measure, making it easier to compare relationships between different pairs of variables.\n",
        "\n",
        "Key Differences\n",
        "The key differences between covariance and correlation are:\n",
        "\n",
        "- Scale : Covariance is scale-dependent, while correlation is scale-independent.\n",
        "- Interpretation : Covariance measures the linear relationship between variables in the original units, while correlation measures the strength and direction of the linear relationship on a standardized scale.\n",
        "\n",
        "Relationship Between Covariance and Correlation\n",
        "The correlation coefficient can be calculated from the covariance using the following formula:\n",
        "\n",
        "Correlation = Covariance / (σ1 * σ2)\n",
        "\n",
        "Where σ1 and σ2 are the standard deviations of the two variables.\n",
        "\n",
        "By understanding both covariance and correlation, you can gain insights into the relationships between variables and make more informed decisions."
      ],
      "metadata": {
        "id": "gQPyyKru-gtI"
      }
    },
    {
      "cell_type": "markdown",
      "source": [
        "# **Q24. What are some real-world applications of statistics?**"
      ],
      "metadata": {
        "id": "vXTcZ5UQ_F00"
      }
    },
    {
      "cell_type": "markdown",
      "source": [
        "# **Ans24.**\n",
        "Real-World Applications of Statistics\n",
        "Statistics has numerous real-world applications across various fields, including:\n",
        "\n",
        "1. Medicine and Healthcare\n",
        "- Clinical Trials : Statistics is used to design and analyze clinical trials, evaluating the effectiveness of new treatments and medications.\n",
        "- Epidemiology : Statistics is used to study the distribution and determinants of diseases, identifying risk factors and trends.\n",
        "- Public Health : Statistics is used to monitor and control disease outbreaks, develop health policies, and evaluate the effectiveness of interventions.\n",
        "\n",
        "2. Business and Finance\n",
        "- Market Research : Statistics is used to understand customer behavior, preferences, and trends, informing marketing strategies and product development.\n",
        "- Risk Management : Statistics is used to assess and manage financial risk, predicting stock prices, and optimizing investment portfolios.\n",
        "- Quality Control : Statistics is used to monitor and improve the quality of products and services, reducing defects and improving customer satisfaction.\n",
        "\n",
        "3. Social Sciences\n",
        "- Survey Research : Statistics is used to design and analyze surveys, understanding public opinion, attitudes, and behaviors.\n",
        "- Demography : Statistics is used to study population trends, migration patterns, and demographic changes.\n",
        "- Education : Statistics is used to evaluate the effectiveness of educational programs, identify areas for improvement, and inform policy decisions.\n",
        "\n",
        "4. Environmental Science\n",
        "-  Climate Modeling : Statistics is used to analyze and predict climate patterns, understanding the impacts of climate change.\n",
        "- Ecological Research : Statistics is used to study ecosystems, understanding the relationships between species, habitats, and environmental factors.\n",
        "- Conservation Biology : Statistics is used to inform conservation efforts, identifying areas of high conservation value and evaluating the effectiveness of conservation strategies.\n",
        "\n",
        "5. Sports and Entertainment\n",
        "- Player Performance Analysis : Statistics is used to evaluate player performance, identifying strengths and weaknesses, and informing coaching decisions.\n",
        "- Game Strategy : Statistics is used to develop game strategies, predicting opponent behavior, and optimizing team performance.\n",
        "- Fan Engagement : Statistics is used to understand fan behavior, preferences, and demographics, informing marketing and engagement strategies.\n",
        "\n",
        "These are just a few examples of the many real-world applications of statistics. By applying statistical methods and techniques, professionals in various fields can make informed decisions, drive business outcomes, and improve people's lives."
      ],
      "metadata": {
        "id": "yvG954BE_RiU"
      }
    },
    {
      "cell_type": "markdown",
      "source": [
        "# **Practical**"
      ],
      "metadata": {
        "id": "66DJtji3AlN0"
      }
    },
    {
      "cell_type": "markdown",
      "source": [
        "# **Q1. How do you calculate the mean, median, and mode of a dataset?**"
      ],
      "metadata": {
        "id": "AKLMcXP1Ao2o"
      }
    },
    {
      "cell_type": "code",
      "source": [
        "import statistics\n",
        "\n",
        "# Sample dataset\n",
        "data = [5, 10, 15, 20, 25]\n",
        "\n",
        "# Calculate Mean\n",
        "mean = statistics.mean(data)\n",
        "\n",
        "# Calculate Median\n",
        "median = statistics.median(data)\n",
        "\n",
        "# Calculate Mode\n",
        "try:\n",
        "    mode = statistics.mode(data)\n",
        "except statistics.StatisticsError:\n",
        "    mode = \"No unique mode\"\n",
        "\n",
        "# Print the results\n",
        "print(f\"Mean: {mean}\")\n",
        "print(f\"Median: {median}\")\n",
        "print(f\"Mode: {mode}\")"
      ],
      "metadata": {
        "colab": {
          "base_uri": "https://localhost:8080/"
        },
        "id": "AbhdnSDLV7vY",
        "outputId": "fc8f24c8-0aea-4a74-f77a-2952f8086b2c"
      },
      "execution_count": 1,
      "outputs": [
        {
          "output_type": "stream",
          "name": "stdout",
          "text": [
            "Mean: 15\n",
            "Median: 15\n",
            "Mode: 5\n"
          ]
        }
      ]
    },
    {
      "cell_type": "markdown",
      "source": [
        "# **Q2. Write a Python program to compute the variance and standard deviation of a dataset?**"
      ],
      "metadata": {
        "id": "6oT6nlWKWdMx"
      }
    },
    {
      "cell_type": "code",
      "source": [
        "import statistics\n",
        "\n",
        "# Sample dataset\n",
        "data = [5, 10, 15, 20, 25]\n",
        "\n",
        "# Calculate Variance\n",
        "variance = statistics.variance(data)\n",
        "\n",
        "# Calculate Standard Deviation\n",
        "std_deviation = statistics.stdev(data)\n",
        "\n",
        "# Print results\n",
        "print(f\"Dataset: {data}\")\n",
        "print(f\"Variance: {variance}\")\n",
        "print(f\"Standard Deviation: {std_deviation}\")"
      ],
      "metadata": {
        "colab": {
          "base_uri": "https://localhost:8080/"
        },
        "id": "6sIx1xE2WjuT",
        "outputId": "8ca58d7f-5656-48c2-d179-4bd41ddaeb6d"
      },
      "execution_count": 2,
      "outputs": [
        {
          "output_type": "stream",
          "name": "stdout",
          "text": [
            "Dataset: [5, 10, 15, 20, 25]\n",
            "Variance: 62.5\n",
            "Standard Deviation: 7.905694150420948\n"
          ]
        }
      ]
    },
    {
      "cell_type": "markdown",
      "source": [
        "# **Q3. Create a dataset and classify it into nominal, ordinal, interval, and ratio types?**"
      ],
      "metadata": {
        "id": "E3hPAYt5Wsj5"
      }
    },
    {
      "cell_type": "markdown",
      "source": [
        "Dataset\n",
        "\n",
        "| ID | Name  | Gender | Education Level | Temperature (°C) | Height (cm) | Age |\n",
        "| -- | ----- | ------ | --------------- | ---------------- | ----------- | --- |\n",
        "| 1  | Riya  | Female | Bachelor        | 37               | 160         | 22  |\n",
        "| 2  | Aryan | Male   | Master          | 36               | 175         | 25  |\n",
        "| 3  | Sneha | Female | High School     | 38               | 155         | 20  |\n",
        "| 4  | Rahul | Male   | PhD             | 39               | 180         | 30  |\n"
      ],
      "metadata": {
        "id": "cpCL-unpXTq2"
      }
    },
    {
      "cell_type": "markdown",
      "source": [
        "Classification of Data Types:\n",
        "\n",
        "| Column               | Type of Data             | Explanation                                                                  |\n",
        "| -------------------- | ------------------------ | ---------------------------------------------------------------------------- |\n",
        "| **ID**               | Nominal (or Categorical) | Just identifiers, no order or value relationships                            |\n",
        "| **Name**             | Nominal                  | Names are labels, no mathematical meaning                                    |\n",
        "| **Gender**           | Nominal                  | Categories without order (Male/Female)                                       |\n",
        "| **Education Level**  | **Ordinal**              | Ordered categories (High School < Bachelor < Master < PhD)                   |\n",
        "| **Temperature (°C)** | **Interval**             | Has order and meaningful difference, but no true zero (0°C ≠ no temperature) |\n",
        "| **Height (cm)**      | **Ratio**                | Has true zero and allows for comparisons like \"twice as tall\"                |\n",
        "| **Age**              | **Ratio**                | True zero exists and meaningful ratios can be made                           |\n"
      ],
      "metadata": {
        "id": "x19AU0RaYwbd"
      }
    },
    {
      "cell_type": "markdown",
      "source": [
        "# **Q4.Implement sampling techniques like random sampling and stratified sampling?**"
      ],
      "metadata": {
        "id": "1E5Hh8BtZHl1"
      }
    },
    {
      "cell_type": "code",
      "source": [
        "import pandas as pd\n",
        "\n",
        "# Dataset creation\n",
        "data = {\n",
        "    'ID': [1, 2, 3, 4],\n",
        "    'Name': ['Riya', 'Aryan', 'Sneha', 'Rahul'],\n",
        "    'Gender': ['Female', 'Male', 'Female', 'Male'],\n",
        "    'Education Level': ['Bachelor', 'Master', 'High School', 'PhD'],\n",
        "    'Temperature (°C)': [37, 38, 38, 39],\n",
        "    'Height (cm)': [160, 175, 155, 180],\n",
        "    'Age': [22, 25, 20, 30]\n",
        "}\n",
        "\n",
        "df = pd.DataFrame(data)\n",
        "\n",
        "# Random Sampling: Select 2 random rows\n",
        "random_sample = df.sample(n=2, random_state=1)\n",
        "\n",
        "# Stratified Sampling: Select 1 row per Gender group\n",
        "stratified_sample = df.groupby('Gender', group_keys=False).apply(lambda x: x.sample(n=1, random_state=1))\n",
        "\n",
        "# Display both samples\n",
        "print(\"Random Sample:\\n\", random_sample)\n",
        "print(\"\\nStratified Sample (by Gender):\\n\", stratified_sample)\n"
      ],
      "metadata": {
        "colab": {
          "base_uri": "https://localhost:8080/"
        },
        "id": "dzjKyqEGZS6s",
        "outputId": "47a0d360-a338-44ba-8825-480ebae1dcaf"
      },
      "execution_count": 3,
      "outputs": [
        {
          "output_type": "stream",
          "name": "stdout",
          "text": [
            "Random Sample:\n",
            "    ID   Name  Gender Education Level  Temperature (°C)  Height (cm)  Age\n",
            "3   4  Rahul    Male             PhD                39          180   30\n",
            "2   3  Sneha  Female     High School                38          155   20\n",
            "\n",
            "Stratified Sample (by Gender):\n",
            "    ID   Name  Gender Education Level  Temperature (°C)  Height (cm)  Age\n",
            "0   1   Riya  Female        Bachelor                37          160   22\n",
            "1   2  Aryan    Male          Master                38          175   25\n"
          ]
        },
        {
          "output_type": "stream",
          "name": "stderr",
          "text": [
            "/tmp/ipython-input-3-1560551239.py:20: DeprecationWarning: DataFrameGroupBy.apply operated on the grouping columns. This behavior is deprecated, and in a future version of pandas the grouping columns will be excluded from the operation. Either pass `include_groups=False` to exclude the groupings or explicitly select the grouping columns after groupby to silence this warning.\n",
            "  stratified_sample = df.groupby('Gender', group_keys=False).apply(lambda x: x.sample(n=1, random_state=1))\n"
          ]
        }
      ]
    },
    {
      "cell_type": "markdown",
      "source": [
        "# **Q5. Write a Python function to calculate the range of a dataset?**"
      ],
      "metadata": {
        "id": "MWyTt6BUZ2Jw"
      }
    },
    {
      "cell_type": "code",
      "source": [
        "def calculate_range(data):\n",
        "    if not data:\n",
        "        return None  # Handle empty list\n",
        "    return max(data) - min(data)\n",
        "\n",
        "# Example usage:\n",
        "dataset = [5, 10, 15, 20, 25]\n",
        "range_value = calculate_range(dataset)\n",
        "print(\"Range of the dataset:\", range_value)"
      ],
      "metadata": {
        "colab": {
          "base_uri": "https://localhost:8080/"
        },
        "id": "yVbxg2tQZ--C",
        "outputId": "6f31934a-18dd-4160-c56c-1e380c24fe93"
      },
      "execution_count": 4,
      "outputs": [
        {
          "output_type": "stream",
          "name": "stdout",
          "text": [
            "Range of the dataset: 20\n"
          ]
        }
      ]
    },
    {
      "cell_type": "markdown",
      "source": [
        "# **Q6. Create a dataset and plot its histogram to visualize skewness?**"
      ],
      "metadata": {
        "id": "X6JFRogWaRCZ"
      }
    },
    {
      "cell_type": "code",
      "source": [
        "import numpy as np\n",
        "import pandas as pd\n",
        "import matplotlib.pyplot as plt\n",
        "import seaborn as sns\n",
        "\n",
        "# Create a right-skewed dataset using exponential distribution\n",
        "data = np.random.exponential(scale=2, size=1000)\n",
        "\n",
        "# Convert to DataFrame (optional, for better display)\n",
        "df = pd.DataFrame(data, columns=['Values'])\n",
        "\n",
        "# Plot histogram\n",
        "plt.figure(figsize=(8, 5))\n",
        "sns.histplot(df['Values'], bins=30, kde=True, color='skyblue')\n",
        "plt.title('Histogram to Visualize Skewness')\n",
        "plt.xlabel('Values')\n",
        "plt.ylabel('Frequency')\n",
        "plt.grid(True)\n",
        "plt.show()"
      ],
      "metadata": {
        "colab": {
          "base_uri": "https://localhost:8080/",
          "height": 487
        },
        "id": "Al9KhpbCaXkZ",
        "outputId": "a6622882-2766-4ba5-d1ca-4d354bb0bc4e"
      },
      "execution_count": 5,
      "outputs": [
        {
          "output_type": "display_data",
          "data": {
            "text/plain": [
              "<Figure size 800x500 with 1 Axes>"
            ],
            "image/png": "[encoded data removed]"
          },
          "metadata": {}
        }
      ]
    },
    {
      "cell_type": "markdown",
      "source": [
        "# **Q7.Calculate skewness and kurtosis of a dataset using Python libraries?**"
      ],
      "metadata": {
        "id": "h_mabe_rajG6"
      }
    },
    {
      "cell_type": "code",
      "source": [
        "import numpy as np\n",
        "import pandas as pd\n",
        "from scipy.stats import skew, kurtosis\n",
        "\n",
        "# Create a sample dataset (you can use your own list of values too)\n",
        "data = np.random.exponential(scale=2, size=1000)\n",
        "\n",
        "# Convert to pandas Series (optional but useful)\n",
        "series = pd.Series(data)\n",
        "\n",
        "# Calculate skewness\n",
        "skewness_value = skew(series)\n",
        "\n",
        "# Calculate kurtosis\n",
        "kurtosis_value = kurtosis(series)  # By default, Fisher’s definition (normal = 0)\n",
        "\n",
        "# Display the results\n",
        "print(\"Skewness:\", skewness_value)\n",
        "print(\"Kurtosis:\", kurtosis_value)"
      ],
      "metadata": {
        "colab": {
          "base_uri": "https://localhost:8080/"
        },
        "id": "MUDaJ-a1aq96",
        "outputId": "a4586640-f58e-4941-dc3b-cb4f21956884"
      },
      "execution_count": 6,
      "outputs": [
        {
          "output_type": "stream",
          "name": "stdout",
          "text": [
            "Skewness: 2.1747286856698422\n",
            "Kurtosis: 7.365764071915107\n"
          ]
        }
      ]
    },
    {
      "cell_type": "markdown",
      "source": [
        "# **Q8.Generate a dataset and demonstrate positive and negative skewness?**"
      ],
      "metadata": {
        "id": "AGgv-7Rda2JA"
      }
    },
    {
      "cell_type": "code",
      "source": [
        "import numpy as np\n",
        "import pandas as pd\n",
        "import matplotlib.pyplot as plt\n",
        "import seaborn as sns\n",
        "from scipy.stats import skew\n",
        "\n",
        "# Create datasets\n",
        "positive_skew_data = np.random.exponential(scale=2, size=1000)  # Right-skewed\n",
        "negative_skew_data = -np.random.exponential(scale=2, size=1000) + 10  # Left-skewed\n",
        "\n",
        "# Convert to pandas DataFrame\n",
        "df = pd.DataFrame({\n",
        "    'Positive Skew': positive_skew_data,\n",
        "    'Negative Skew': negative_skew_data\n",
        "})\n",
        "\n",
        "# Plot histograms side by side\n",
        "plt.figure(figsize=(14, 5))\n",
        "\n",
        "# Plot Positive Skewness\n",
        "plt.subplot(1, 2, 1)\n",
        "sns.histplot(df['Positive Skew'], bins=30, kde=True, color='skyblue')\n",
        "plt.title(f'Positive Skewness (Skew = {df[\"Positive Skew\"].skew():.2f})')\n",
        "\n",
        "# Plot Negative Skewness\n",
        "plt.subplot(1, 2, 2)\n",
        "sns.histplot(df['Negative Skew'], bins=30, kde=True, color='salmon')\n",
        "plt.title(f'Negative Skewness (Skew = {df[\"Negative Skew\"].skew():.2f})')\n",
        "\n",
        "plt.tight_layout()\n",
        "plt.show()"
      ],
      "metadata": {
        "colab": {
          "base_uri": "https://localhost:8080/",
          "height": 466
        },
        "id": "Wl1RR_NYa9T1",
        "outputId": "96c15f09-c758-4803-9043-feba66e36ba4"
      },
      "execution_count": 7,
      "outputs": [
        {
          "output_type": "display_data",
          "data": {
            "text/plain": [
              "<Figure size 1400x500 with 2 Axes>"
            ],
            "image/png": "[encoded data removed]"
          },
          "metadata": {}
        }
      ]
    },
    {
      "cell_type": "markdown",
      "source": [
        "# **Q9. Write a Python script to calculate covariance between two datasets?**"
      ],
      "metadata": {
        "id": "j60nQc_AbGwX"
      }
    },
    {
      "cell_type": "code",
      "source": [
        "import numpy as np\n",
        "import pandas as pd\n",
        "\n",
        "# Sample datasets\n",
        "x = [2, 4, 6, 8, 10]\n",
        "y = [1, 3, 5, 7, 9]\n",
        "\n",
        "# Method 1: Manual calculation of covariance\n",
        "def calculate_covariance(x, y):\n",
        "    n = len(x)\n",
        "    mean_x = sum(x) / n\n",
        "    mean_y = sum(y) / n\n",
        "    cov = sum((xi - mean_x) * (yi - mean_y) for xi, yi in zip(x, y)) / (n - 1)\n",
        "    return cov\n",
        "\n",
        "manual_cov = calculate_covariance(x, y)\n",
        "print(\"Manual Covariance:\", manual_cov)\n",
        "\n",
        "# Method 2: Using NumPy\n",
        "numpy_cov = np.cov(x, y, bias=False)[0][1]\n",
        "print(\"NumPy Covariance:\", numpy_cov)\n",
        "\n",
        "# Method 3: Using Pandas\n",
        "df = pd.DataFrame({'X': x, 'Y': y})\n",
        "pandas_cov = df.cov().iloc[0, 1]\n",
        "print(\"Pandas Covariance:\", pandas_cov)"
      ],
      "metadata": {
        "colab": {
          "base_uri": "https://localhost:8080/"
        },
        "id": "V4fu1zG8bPbB",
        "outputId": "aa91664b-1d27-4cd2-86e2-9a7cc1cca515"
      },
      "execution_count": 8,
      "outputs": [
        {
          "output_type": "stream",
          "name": "stdout",
          "text": [
            "Manual Covariance: 10.0\n",
            "NumPy Covariance: 10.0\n",
            "Pandas Covariance: 10.0\n"
          ]
        }
      ]
    },
    {
      "cell_type": "markdown",
      "source": [
        "# **Q10. Write a Python script to calculate the correlation coefficient between two datasets?**"
      ],
      "metadata": {
        "id": "xHnACuzabaSL"
      }
    },
    {
      "cell_type": "code",
      "source": [
        "import numpy as np\n",
        "import pandas as pd\n",
        "\n",
        "# Sample datasets\n",
        "x = [2, 4, 6, 8, 10]\n",
        "y = [1, 3, 5, 7, 9]\n",
        "\n",
        "# Method 1: Manual calculation (Pearson correlation coefficient)\n",
        "def calculate_correlation(x, y):\n",
        "    n = len(x)\n",
        "    mean_x = sum(x) / n\n",
        "    mean_y = sum(y) / n\n",
        "\n",
        "    numerator = sum((xi - mean_x) * (yi - mean_y) for xi, yi in zip(x, y))\n",
        "    denominator = (\n",
        "        sum((xi - mean_x) ** 2 for xi in x) *\n",
        "        sum((yi - mean_y) ** 2 for yi in y)\n",
        "    ) ** 0.5\n",
        "\n",
        "    return numerator / denominator\n",
        "\n",
        "manual_corr = calculate_correlation(x, y)\n",
        "print(\"Manual Correlation Coefficient:\", manual_corr)\n",
        "\n",
        "# Method 2: Using NumPy\n",
        "numpy_corr = np.corrcoef(x, y)[0][1]\n",
        "print(\"NumPy Correlation Coefficient:\", numpy_corr)\n",
        "\n",
        "# Method 3: Using Pandas\n",
        "df = pd.DataFrame({'X': x, 'Y': y})\n",
        "pandas_corr = df.corr().iloc[0, 1]\n",
        "print(\"Pandas Correlation Coefficient:\", pandas_corr)"
      ],
      "metadata": {
        "colab": {
          "base_uri": "https://localhost:8080/"
        },
        "id": "7UEeLpZ2bjJF",
        "outputId": "03a26add-0492-430e-efed-5017d541ccc9"
      },
      "execution_count": 9,
      "outputs": [
        {
          "output_type": "stream",
          "name": "stdout",
          "text": [
            "Manual Correlation Coefficient: 1.0\n",
            "NumPy Correlation Coefficient: 0.9999999999999999\n",
            "Pandas Correlation Coefficient: 1.0\n"
          ]
        }
      ]
    },
    {
      "cell_type": "markdown",
      "source": [
        "# **Q11. Create a scatter plot to visualize the relationship between two variables?**"
      ],
      "metadata": {
        "id": "EnwpowgPbv8p"
      }
    },
    {
      "cell_type": "code",
      "source": [
        "import matplotlib.pyplot as plt\n",
        "import seaborn as sns\n",
        "import pandas as pd\n",
        "\n",
        "# Sample datasets\n",
        "x = [2, 4, 6, 8, 10]\n",
        "y = [1, 3, 5, 7, 9]\n",
        "\n",
        "# Create DataFrame\n",
        "df = pd.DataFrame({'X': x, 'Y': y})\n",
        "\n",
        "# Create scatter plot\n",
        "plt.figure(figsize=(6, 5))\n",
        "sns.scatterplot(x='X', y='Y', data=df, color='blue', s=100)\n",
        "\n",
        "plt.title(\"Scatter Plot of X vs Y\")\n",
        "plt.xlabel(\"X Values\")\n",
        "plt.ylabel(\"Y Values\")\n",
        "plt.grid(True)\n",
        "plt.show()"
      ],
      "metadata": {
        "colab": {
          "base_uri": "https://localhost:8080/",
          "height": 487
        },
        "id": "HdIyRMz2cB2z",
        "outputId": "9b3d2bc8-e09c-4f27-d560-b235d6f6e2b3"
      },
      "execution_count": 10,
      "outputs": [
        {
          "output_type": "display_data",
          "data": {
            "text/plain": [
              "<Figure size 600x500 with 1 Axes>"
            ],
            "image/png": "[encoded data removed]"
          },
          "metadata": {}
        }
      ]
    },
    {
      "cell_type": "markdown",
      "source": [
        "# **Q12. Implement and compare simple random sampling and systematic sampling?**"
      ],
      "metadata": {
        "id": "1mAbHmDYcF_R"
      }
    },
    {
      "cell_type": "code",
      "source": [
        "import pandas as pd\n",
        "import numpy as np\n",
        "\n",
        "# Create a sample dataset (population of 100 values)\n",
        "population = pd.DataFrame({'ID': range(1, 101), 'Value': np.random.randint(10, 100, 100)})\n",
        "\n",
        "# 1. Simple Random Sampling (SRS)\n",
        "srs_sample = population.sample(n=10, random_state=1)  # random 10 values\n",
        "\n",
        "# 2. Systematic Sampling\n",
        "def systematic_sampling(df, sample_size):\n",
        "    step = len(df) // sample_size\n",
        "    start = np.random.randint(0, step)\n",
        "    indices = np.arange(start, start + step * sample_size, step)\n",
        "    return df.iloc[indices]\n",
        "\n",
        "systematic_sample = systematic_sampling(population, 10)\n",
        "\n",
        "# Display results\n",
        "print(\"Simple Random Sample:\\n\", srs_sample)\n",
        "print(\"\\nSystematic Sample:\\n\", systematic_sample)"
      ],
      "metadata": {
        "colab": {
          "base_uri": "https://localhost:8080/"
        },
        "id": "TsV_nXGGcMhP",
        "outputId": "f873b653-0a97-4ac6-b6c7-9cdcf37afded"
      },
      "execution_count": 11,
      "outputs": [
        {
          "output_type": "stream",
          "name": "stdout",
          "text": [
            "Simple Random Sample:\n",
            "     ID  Value\n",
            "80  81     94\n",
            "84  85     10\n",
            "33  34     69\n",
            "81  82     24\n",
            "93  94     72\n",
            "17  18     44\n",
            "36  37     43\n",
            "82  83     67\n",
            "69  70     73\n",
            "65  66     89\n",
            "\n",
            "Systematic Sample:\n",
            "      ID  Value\n",
            "9    10     23\n",
            "19   20     74\n",
            "29   30     13\n",
            "39   40     31\n",
            "49   50     26\n",
            "59   60     11\n",
            "69   70     73\n",
            "79   80     12\n",
            "89   90     75\n",
            "99  100     80\n"
          ]
        }
      ]
    },
    {
      "cell_type": "markdown",
      "source": [
        "# **Q13. Calculate the mean, median, and mode of grouped data?**"
      ],
      "metadata": {
        "id": "O93sXMRYcbn3"
      }
    },
    {
      "cell_type": "code",
      "source": [
        "import pandas as pd\n",
        "\n",
        "# Create grouped data\n",
        "data = {\n",
        "    'Class Interval': ['0-10', '10-20', '20-30', '30-40', '40-50'],\n",
        "    'Frequency': [5, 8, 15, 16, 6]\n",
        "}\n",
        "\n",
        "df = pd.DataFrame(data)\n",
        "\n",
        "# Calculate class midpoints\n",
        "def get_midpoint(interval):\n",
        "    lower, upper = map(int, interval.split('-'))\n",
        "    return (lower + upper) / 2\n",
        "\n",
        "df['Midpoint'] = df['Class Interval'].apply(get_midpoint)\n",
        "\n",
        "# Mean of grouped data\n",
        "mean = (df['Midpoint'] * df['Frequency']).sum() / df['Frequency'].sum()\n",
        "\n",
        "# Median of grouped data\n",
        "cumulative_freq = df['Frequency'].cumsum()\n",
        "n = df['Frequency'].sum()\n",
        "median_class_index = cumulative_freq.searchsorted(n/2)\n",
        "L = int(df.iloc[median_class_index]['Class Interval'].split('-')[0])\n",
        "f = df.iloc[median_class_index]['Frequency']\n",
        "F = cumulative_freq.iloc[median_class_index - 1] if median_class_index > 0 else 0\n",
        "h = 10  # Class width\n",
        "\n",
        "median = L + ((n/2 - F) / f) * h\n",
        "\n",
        "# Mode of grouped data\n",
        "modal_class_index = df['Frequency'].idxmax()\n",
        "L = int(df.iloc[modal_class_index]['Class Interval'].split('-')[0])\n",
        "f1 = df.iloc[modal_class_index]['Frequency']\n",
        "f0 = df.iloc[modal_class_index - 1]['Frequency'] if modal_class_index > 0 else 0\n",
        "f2 = df.iloc[modal_class_index + 1]['Frequency'] if modal_class_index + 1 < len(df) else 0\n",
        "mode = L + ((f1 - f0) / ((2 * f1) - f0 - f2)) * h"
      ],
      "metadata": {
        "id": "mla08bXFciIn"
      },
      "execution_count": 13,
      "outputs": []
    },
    {
      "cell_type": "markdown",
      "source": [
        "# **Q14. Simulate data using Python and calculate its central tendency and dispersion.**"
      ],
      "metadata": {
        "id": "dY2sjPStc_i8"
      }
    },
    {
      "cell_type": "code",
      "source": [
        "import numpy as np\n",
        "import pandas as pd\n",
        "from scipy import stats\n",
        "\n",
        "# Step 1: Simulate Data (e.g., normal distribution with 100 values)\n",
        "np.random.seed(42)\n",
        "data = np.random.normal(loc=50, scale=10, size=100)  # mean=50, std=10\n",
        "\n",
        "# Convert to pandas Series for easier stats\n",
        "series = pd.Series(data)\n",
        "\n",
        "# Step 2: Central Tendency\n",
        "mean = series.mean()\n",
        "median = series.median()\n",
        "mode = series.mode().iloc[0]  # Take first mode in case of multiple\n",
        "\n",
        "# Step 3: Dispersion\n",
        "data_range = series.max() - series.min()\n",
        "variance = series.var()\n",
        "std_dev = series.std()\n",
        "\n",
        "# Step 4: Display Results\n",
        "print(\"Central Tendency:\")\n",
        "print(\"Mean:\", round(mean, 2))\n",
        "print(\"Median:\", round(median, 2))\n",
        "print(\"Mode:\", round(mode, 2))\n",
        "\n",
        "print(\"\\nDispersion:\")\n",
        "print(\"Range:\", round(data_range, 2))\n",
        "print(\"Variance:\", round(variance, 2))\n",
        "print(\"Standard Deviation:\", round(std_dev, 2))"
      ],
      "metadata": {
        "colab": {
          "base_uri": "https://localhost:8080/"
        },
        "id": "wiVeUkiUdO8P",
        "outputId": "b583f239-ed53-410b-9a9d-74bcb739fbf4"
      },
      "execution_count": 19,
      "outputs": [
        {
          "output_type": "stream",
          "name": "stdout",
          "text": [
            "Central Tendency:\n",
            "Mean: 48.96\n",
            "Median: 48.73\n",
            "Mode: 23.8\n",
            "\n",
            "Dispersion:\n",
            "Range: 44.72\n",
            "Variance: 82.48\n",
            "Standard Deviation: 9.08\n"
          ]
        }
      ]
    },
    {
      "cell_type": "markdown",
      "source": [
        "# **Q15. Use NumPy or pandas to summarize a dataset’s descriptive statistics.**"
      ],
      "metadata": {
        "id": "jbhA6PpAdY73"
      }
    },
    {
      "cell_type": "code",
      "source": [
        "import pandas as pd\n",
        "import numpy as np\n",
        "\n",
        "# Simulate a dataset\n",
        "np.random.seed(0)\n",
        "data = {\n",
        "    'Age': np.random.randint(18, 60, 100),\n",
        "    'Salary': np.random.normal(50000, 8000, 100)\n",
        "}\n",
        "\n",
        "df = pd.DataFrame(data)\n",
        "\n",
        "# Get descriptive statistics\n",
        "summary = df.describe()\n",
        "print(\"Descriptive Statistics Summary:\")\n",
        "print(summary)"
      ],
      "metadata": {
        "colab": {
          "base_uri": "https://localhost:8080/"
        },
        "id": "TZjV15UwdkDB",
        "outputId": "91f82ba1-a3e9-4fe4-8edb-a67604df5f30"
      },
      "execution_count": 15,
      "outputs": [
        {
          "output_type": "stream",
          "name": "stdout",
          "text": [
            "Descriptive Statistics Summary:\n",
            "              Age        Salary\n",
            "count  100.000000    100.000000\n",
            "mean    37.890000  49457.868192\n",
            "std     13.222948   7738.274067\n",
            "min     18.000000  31295.630792\n",
            "25%     27.000000  44643.717868\n",
            "50%     37.000000  49530.816671\n",
            "75%     50.500000  53694.179009\n",
            "max     59.000000  68621.904873\n"
          ]
        }
      ]
    },
    {
      "cell_type": "markdown",
      "source": [
        "# **Q16.Plot a boxplot to understand the spread and identify outliers.**"
      ],
      "metadata": {
        "id": "cHXS41b3eAFO"
      }
    },
    {
      "cell_type": "code",
      "source": [
        "import pandas as pd\n",
        "import numpy as np\n",
        "import seaborn as sns\n",
        "import matplotlib.pyplot as plt\n",
        "\n",
        "# Simulate dataset\n",
        "np.random.seed(42)\n",
        "data = {\n",
        "    'Marks': np.random.normal(70, 10, 100).tolist() + [30, 100]  # Adding outliers\n",
        "}\n",
        "\n",
        "df = pd.DataFrame(data)\n",
        "\n",
        "# Plot boxplot\n",
        "plt.figure(figsize=(6, 4))\n",
        "sns.boxplot(x=df['Marks'], color='skyblue')\n",
        "\n",
        "plt.title('Boxplot of Marks')\n",
        "plt.xlabel('Marks')\n",
        "plt.grid(True)\n",
        "plt.show()"
      ],
      "metadata": {
        "colab": {
          "base_uri": "https://localhost:8080/",
          "height": 410
        },
        "id": "IG5xGggFeGxy",
        "outputId": "1ee1873e-c92f-431f-9df5-f98d14aeac5c"
      },
      "execution_count": 20,
      "outputs": [
        {
          "output_type": "display_data",
          "data": {
            "text/plain": [
              "<Figure size 600x400 with 1 Axes>"
            ],
            "image/png": "[encoded data removed]"
          },
          "metadata": {}
        }
      ]
    },
    {
      "cell_type": "markdown",
      "source": [
        "# **Q17.Calculate the interquartile range (IQR) of a dataset.**"
      ],
      "metadata": {
        "id": "-D3KmQNYeWjj"
      }
    },
    {
      "cell_type": "code",
      "source": [
        "import numpy as np\n",
        "import pandas as pd\n",
        "\n",
        "# Simulate dataset\n",
        "np.random.seed(42)\n",
        "data = np.random.normal(loc=50, scale=10, size=100)  # 100 values\n",
        "\n",
        "# Convert to pandas Series\n",
        "series = pd.Series(data)\n",
        "\n",
        "# Calculate Q1 and Q3\n",
        "Q1 = series.quantile(0.25)\n",
        "Q3 = series.quantile(0.75)\n",
        "\n",
        "# Calculate IQR\n",
        "IQR = Q3 - Q1\n",
        "\n",
        "# Display results\n",
        "print(\"Q1 (25th percentile):\", round(Q1, 2))\n",
        "print(\"Q3 (75th percentile):\", round(Q3, 2))\n",
        "print(\"Interquartile Range (IQR):\", round(IQR, 2))"
      ],
      "metadata": {
        "colab": {
          "base_uri": "https://localhost:8080/"
        },
        "id": "OsXcrEf-edix",
        "outputId": "57c276fe-5d20-4588-acb9-60cc3f7a0c81"
      },
      "execution_count": 21,
      "outputs": [
        {
          "output_type": "stream",
          "name": "stdout",
          "text": [
            "Q1 (25th percentile): 43.99\n",
            "Q3 (75th percentile): 54.06\n",
            "Interquartile Range (IQR): 10.07\n"
          ]
        }
      ]
    },
    {
      "cell_type": "markdown",
      "source": [
        "# **Q18.Implement Z-score normalization and explain its significance.**"
      ],
      "metadata": {
        "id": "CSqGyvpqepLe"
      }
    },
    {
      "cell_type": "code",
      "source": [
        "import numpy as np\n",
        "import pandas as pd\n",
        "from scipy.stats import zscore\n",
        "\n",
        "# Simulate dataset\n",
        "np.random.seed(42)\n",
        "data = np.random.normal(60, 15, 10)  # mean=60, std=15\n",
        "\n",
        "# Convert to pandas Series\n",
        "df = pd.DataFrame({'Original': data})\n",
        "\n",
        "# Apply Z-score normalization\n",
        "df['Z-score'] = zscore(df['Original'])\n",
        "\n",
        "# Show result\n",
        "print(df)"
      ],
      "metadata": {
        "colab": {
          "base_uri": "https://localhost:8080/"
        },
        "id": "pT6U_4qOexEz",
        "outputId": "a1395d0e-4d59-4540-8b6b-802673bb01bf"
      },
      "execution_count": 22,
      "outputs": [
        {
          "output_type": "stream",
          "name": "stdout",
          "text": [
            "    Original   Z-score\n",
            "0  67.450712  0.070933\n",
            "1  57.926035 -0.854819\n",
            "2  69.715328  0.291042\n",
            "3  82.845448  1.567225\n",
            "4  56.487699 -0.994618\n",
            "5  56.487946 -0.994594\n",
            "6  83.688192  1.649135\n",
            "7  71.511521  0.465623\n",
            "8  52.957884 -1.337699\n",
            "9  68.138401  0.137772\n"
          ]
        }
      ]
    },
    {
      "cell_type": "markdown",
      "source": [
        "# **Q19. Compare two datasets using their standard deviations.**"
      ],
      "metadata": {
        "id": "tN55P2p_e52d"
      }
    },
    {
      "cell_type": "code",
      "source": [
        "import numpy as np\n",
        "import pandas as pd\n",
        "\n",
        "# Simulate two datasets\n",
        "np.random.seed(1)\n",
        "data1 = np.random.normal(loc=50, scale=5, size=100)   # Dataset A: low variability\n",
        "data2 = np.random.normal(loc=50, scale=15, size=100)  # Dataset B: high variability\n",
        "\n",
        "# Create DataFrame\n",
        "df = pd.DataFrame({\n",
        "    'Dataset A': data1,\n",
        "    'Dataset B': data2\n",
        "})\n",
        "\n",
        "# Calculate standard deviation\n",
        "std_A = df['Dataset A'].std()\n",
        "std_B = df['Dataset B'].std()\n",
        "\n",
        "# Display the results\n",
        "print(\"Standard Deviation of Dataset A:\", round(std_A, 2))\n",
        "print(\"Standard Deviation of Dataset B:\", round(std_B, 2))\n",
        "\n",
        "# Compare\n",
        "if std_A > std_B:\n",
        "    print(\"\\nDataset A has more variability.\")\n",
        "elif std_B > std_A:\n",
        "    print(\"\\nDataset B has more variability.\")\n",
        "else:\n",
        "    print(\"\\nBoth datasets have equal variability.\")"
      ],
      "metadata": {
        "colab": {
          "base_uri": "https://localhost:8080/"
        },
        "id": "loRxei3RfJOY",
        "outputId": "ceb8035d-3970-45d0-8767-98e242ef0ca3"
      },
      "execution_count": 23,
      "outputs": [
        {
          "output_type": "stream",
          "name": "stdout",
          "text": [
            "Standard Deviation of Dataset A: 4.45\n",
            "Standard Deviation of Dataset B: 14.05\n",
            "\n",
            "Dataset B has more variability.\n"
          ]
        }
      ]
    },
    {
      "cell_type": "markdown",
      "source": [
        "# **Q20. Write a Python program to visualize covariance using a heatmap.**"
      ],
      "metadata": {
        "id": "9-fEulDLfdnA"
      }
    },
    {
      "cell_type": "code",
      "source": [
        "import numpy as np\n",
        "import pandas as pd\n",
        "import seaborn as sns\n",
        "import matplotlib.pyplot as plt\n",
        "\n",
        "# Simulate dataset with 3 numerical variables\n",
        "np.random.seed(42)\n",
        "data = {\n",
        "    'Math': np.random.normal(70, 10, 100),\n",
        "    'Science': np.random.normal(75, 12, 100),\n",
        "    'English': np.random.normal(65, 8, 100)\n",
        "}\n",
        "\n",
        "# Create DataFrame\n",
        "df = pd.DataFrame(data)\n",
        "\n",
        "# Calculate covariance matrix\n",
        "cov_matrix = df.cov()\n",
        "\n",
        "# Plot heatmap\n",
        "plt.figure(figsize=(6, 4))\n",
        "sns.heatmap(cov_matrix, annot=True, cmap='coolwarm', fmt=\".2f\")\n",
        "plt.title(\"Covariance Heatmap\")\n",
        "plt.show()"
      ],
      "metadata": {
        "colab": {
          "base_uri": "https://localhost:8080/",
          "height": 391
        },
        "id": "URLO7Blefj15",
        "outputId": "918878a8-640f-46b6-eaf7-d927156c8553"
      },
      "execution_count": 24,
      "outputs": [
        {
          "output_type": "display_data",
          "data": {
            "text/plain": [
              "<Figure size 600x400 with 2 Axes>"
            ],
            "image/png": "[encoded data removed]"
          },
          "metadata": {}
        }
      ]
    },
    {
      "cell_type": "markdown",
      "source": [
        "# **Q21. Use seaborn to create a correlation matrix for a dataset.**"
      ],
      "metadata": {
        "id": "R4iEeVPdfvYi"
      }
    },
    {
      "cell_type": "code",
      "source": [
        "import numpy as np\n",
        "import pandas as pd\n",
        "import seaborn as sns\n",
        "import matplotlib.pyplot as plt\n",
        "\n",
        "# Simulate dataset with 4 numerical variables\n",
        "np.random.seed(42)\n",
        "data = {\n",
        "    'Math': np.random.normal(70, 10, 100),\n",
        "    'Science': np.random.normal(75, 12, 100),\n",
        "    'English': np.random.normal(65, 8, 100),\n",
        "    'History': np.random.normal(60, 15, 100)\n",
        "}\n",
        "\n",
        "# Create DataFrame\n",
        "df = pd.DataFrame(data)\n",
        "\n",
        "# Calculate correlation matrix\n",
        "corr_matrix = df.corr()\n",
        "\n",
        "# Plot heatmap\n",
        "plt.figure(figsize=(7, 5))\n",
        "sns.heatmap(corr_matrix, annot=True, cmap='coolwarm', center=0, fmt=\".2f\", linewidths=0.5)\n",
        "plt.title(\"Correlation Matrix Heatmap\")\n",
        "plt.show()\n"
      ],
      "metadata": {
        "colab": {
          "base_uri": "https://localhost:8080/",
          "height": 468
        },
        "id": "mq3g0vD-f0lR",
        "outputId": "9f87e847-f816-4c3f-d114-750c543fc1af"
      },
      "execution_count": 25,
      "outputs": [
        {
          "output_type": "display_data",
          "data": {
            "text/plain": [
              "<Figure size 700x500 with 2 Axes>"
            ],
            "image/png": "[encoded data removed]"
          },
          "metadata": {}
        }
      ]
    },
    {
      "cell_type": "markdown",
      "source": [
        "# **Q22. Generate a dataset and implement both variance and standard deviation computations.**"
      ],
      "metadata": {
        "id": "tgIORjU8gCAg"
      }
    },
    {
      "cell_type": "code",
      "source": [
        "import numpy as np\n",
        "import pandas as pd\n",
        "\n",
        "# Step 1: Generate a dataset (e.g., 100 exam scores)\n",
        "np.random.seed(42)\n",
        "data = np.random.randint(50, 100, size=100)  # Random integers from 50 to 99\n",
        "\n",
        "# Convert to pandas Series\n",
        "scores = pd.Series(data)\n",
        "\n",
        "# Step 2: Manual calculation\n",
        "mean = scores.mean()\n",
        "variance_manual = sum((x - mean) ** 2 for x in scores) / (len(scores) - 1)  # sample variance\n",
        "std_dev_manual = variance_manual ** 0.5\n",
        "\n",
        "# Step 3: Using built-in functions\n",
        "variance_builtin = scores.var()       # sample variance by default\n",
        "std_dev_builtin = scores.std()\n",
        "\n",
        "# Step 4: Print results\n",
        "print(\"Dataset (first 10 values):\", scores.head(10).tolist())\n",
        "print(\"\\nManual Calculation:\")\n",
        "print(\"Variance:\", round(variance_manual, 2))\n",
        "print(\"Standard Deviation:\", round(std_dev_manual, 2))\n",
        "\n",
        "print(\"\\nBuilt-in Functions:\")\n",
        "print(\"Variance:\", round(variance_builtin, 2))\n",
        "print(\"Standard Deviation:\", round(std_dev_builtin, 2))"
      ],
      "metadata": {
        "colab": {
          "base_uri": "https://localhost:8080/"
        },
        "id": "tKCzXg3ugKiS",
        "outputId": "aff0f755-7d07-44af-8567-b479282bcb02"
      },
      "execution_count": 26,
      "outputs": [
        {
          "output_type": "stream",
          "name": "stdout",
          "text": [
            "Dataset (first 10 values): [88, 78, 64, 92, 57, 70, 88, 68, 72, 60]\n",
            "\n",
            "Manual Calculation:\n",
            "Variance: 208.73\n",
            "Standard Deviation: 14.45\n",
            "\n",
            "Built-in Functions:\n",
            "Variance: 208.73\n",
            "Standard Deviation: 14.45\n"
          ]
        }
      ]
    },
    {
      "cell_type": "markdown",
      "source": [
        "# **Q23.Visualize skewness and kurtosis using Python libraries like matplotlib or seaborn.**"
      ],
      "metadata": {
        "id": "ZSCtaF1kggTW"
      }
    },
    {
      "cell_type": "code",
      "source": [
        "import numpy as np\n",
        "import pandas as pd\n",
        "import seaborn as sns\n",
        "import matplotlib.pyplot as plt\n",
        "from scipy.stats import skew, kurtosis\n",
        "\n",
        "# Step 1: Simulate a dataset\n",
        "np.random.seed(42)\n",
        "data = np.random.normal(loc=50, scale=10, size=1000)  # Normal distribution\n",
        "\n",
        "# Convert to pandas Series\n",
        "series = pd.Series(data)\n",
        "\n",
        "# Step 2: Calculate skewness and kurtosis\n",
        "skew_val = skew(series)\n",
        "kurt_val = kurtosis(series)  # Fisher definition (normal = 0)\n",
        "\n",
        "# Step 3: Plot\n",
        "plt.figure(figsize=(8, 5))\n",
        "sns.histplot(series, bins=30, kde=True, color='skyblue')\n",
        "plt.title(f\"Distribution (Skewness = {skew_val:.2f}, Kurtosis = {kurt_val:.2f})\")\n",
        "plt.xlabel(\"Value\")\n",
        "plt.ylabel(\"Frequency\")\n",
        "plt.grid(True)\n",
        "plt.show()"
      ],
      "metadata": {
        "colab": {
          "base_uri": "https://localhost:8080/",
          "height": 487
        },
        "id": "WhTjfg1egl__",
        "outputId": "724515ae-a13d-42ae-eb93-18f2999216f9"
      },
      "execution_count": 27,
      "outputs": [
        {
          "output_type": "display_data",
          "data": {
            "text/plain": [
              "<Figure size 800x500 with 1 Axes>"
            ],
            "image/png": "[encoded data removed]"
          },
          "metadata": {}
        }
      ]
    },
    {
      "cell_type": "markdown",
      "source": [
        "# **Q24.Implement the Pearson and Spearman correlation coefficients for a dataset.**"
      ],
      "metadata": {
        "id": "gVVA6gx8hKmQ"
      }
    },
    {
      "cell_type": "code",
      "source": [
        "import numpy as np\n",
        "import pandas as pd\n",
        "from scipy.stats import pearsonr, spearmanr\n",
        "\n",
        "# Step 1: Create a sample dataset\n",
        "np.random.seed(42)\n",
        "\n",
        "# Create X with random values\n",
        "x = np.random.randint(10, 100, 50)\n",
        "\n",
        "# Create Y for comparison:\n",
        "# - Pearson: linear relation\n",
        "# - Spearman: monotonic (but non-linear) relation\n",
        "y_linear = 2 * x + 5 + np.random.normal(0, 10, 50)   # Strong linear\n",
        "y_monotonic = np.log(x) * 10 + np.random.normal(0, 3, 50)  # Strong monotonic\n",
        "\n",
        "df = pd.DataFrame({\n",
        "    'X': x,\n",
        "    'Y_linear': y_linear,\n",
        "    'Y_monotonic': y_monotonic\n",
        "})\n",
        "\n",
        "# Step 2: Pearson Correlation\n",
        "pearson_corr_linear, _ = pearsonr(df['X'], df['Y_linear'])\n",
        "pearson_corr_mono, _ = pearsonr(df['X'], df['Y_monotonic'])\n",
        "\n",
        "# Step 3: Spearman Correlation\n",
        "spearman_corr_linear, _ = spearmanr(df['X'], df['Y_linear'])\n",
        "spearman_corr_mono, _ = spearmanr(df['X'], df['Y_monotonic'])\n",
        "\n",
        "# Step 4: Print Results\n",
        "print(\"Pearson Correlation:\")\n",
        "print(\"X vs Y_linear:\", round(pearson_corr_linear, 3))\n",
        "print(\"X vs Y_monotonic:\", round(pearson_corr_mono, 3))\n",
        "\n",
        "print(\"\\nSpearman Correlation:\")\n",
        "print(\"X vs Y_linear:\", round(spearman_corr_linear, 3))\n",
        "print(\"X vs Y_monotonic:\", round(spearman_corr_mono, 3))\n"
      ],
      "metadata": {
        "colab": {
          "base_uri": "https://localhost:8080/"
        },
        "id": "uXDiAsKmhP80",
        "outputId": "9e9c6692-bd43-4363-b219-52f99a6db151"
      },
      "execution_count": 28,
      "outputs": [
        {
          "output_type": "stream",
          "name": "stdout",
          "text": [
            "Pearson Correlation:\n",
            "X vs Y_linear: 0.983\n",
            "X vs Y_monotonic: 0.899\n",
            "\n",
            "Spearman Correlation:\n",
            "X vs Y_linear: 0.979\n",
            "X vs Y_monotonic: 0.902\n"
          ]
        }
      ]
    }
  ]
}